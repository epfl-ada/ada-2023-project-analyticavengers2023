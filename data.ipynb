{
 "cells": [
  {
   "cell_type": "code",
   "execution_count": 1,
   "metadata": {},
   "outputs": [],
   "source": [
    "import pandas as pd\n",
    "import matplotlib.pyplot as plt\n",
    "from implem import *\n",
    "import gzip\n",
    "import feather\n",
    "from tqdm import tqdm"
   ]
  },
  {
   "cell_type": "code",
   "execution_count": 2,
   "metadata": {},
   "outputs": [],
   "source": [
    "df_channels = pd.read_csv('DATA/df_channels_en.tsv', sep='\\t')\n",
    "df_timeseries = pd.read_csv('DATA/df_timeseries_en.tsv', sep='\\t')"
   ]
  },
  {
   "cell_type": "code",
   "execution_count": 3,
   "metadata": {},
   "outputs": [],
   "source": [
    "df = feather.read_dataframe(\"DATA/yt_metadata_helper.feather\")"
   ]
  },
  {
   "cell_type": "code",
   "execution_count": null,
   "metadata": {},
   "outputs": [
    {
     "data": {
      "text/html": [
       "<div>\n",
       "<style scoped>\n",
       "    .dataframe tbody tr th:only-of-type {\n",
       "        vertical-align: middle;\n",
       "    }\n",
       "\n",
       "    .dataframe tbody tr th {\n",
       "        vertical-align: top;\n",
       "    }\n",
       "\n",
       "    .dataframe thead th {\n",
       "        text-align: right;\n",
       "    }\n",
       "</style>\n",
       "<table border=\"1\" class=\"dataframe\">\n",
       "  <thead>\n",
       "    <tr style=\"text-align: right;\">\n",
       "      <th></th>\n",
       "      <th>categories</th>\n",
       "      <th>channel_id</th>\n",
       "      <th>dislike_count</th>\n",
       "      <th>display_id</th>\n",
       "      <th>duration</th>\n",
       "      <th>like_count</th>\n",
       "      <th>upload_date</th>\n",
       "      <th>view_count</th>\n",
       "    </tr>\n",
       "  </thead>\n",
       "  <tbody>\n",
       "    <tr>\n",
       "      <th>0</th>\n",
       "      <td>Film &amp; Animation</td>\n",
       "      <td>UCzWrhkg9eK5I8Bm3HfV-unA</td>\n",
       "      <td>1.0</td>\n",
       "      <td>SBqSc91Hn9g</td>\n",
       "      <td>1159</td>\n",
       "      <td>8.0</td>\n",
       "      <td>2016-09-28</td>\n",
       "      <td>1057.0</td>\n",
       "    </tr>\n",
       "    <tr>\n",
       "      <th>1</th>\n",
       "      <td>Film &amp; Animation</td>\n",
       "      <td>UCzWrhkg9eK5I8Bm3HfV-unA</td>\n",
       "      <td>1.0</td>\n",
       "      <td>UuugEl86ESY</td>\n",
       "      <td>2681</td>\n",
       "      <td>23.0</td>\n",
       "      <td>2016-09-28</td>\n",
       "      <td>12894.0</td>\n",
       "    </tr>\n",
       "    <tr>\n",
       "      <th>2</th>\n",
       "      <td>Film &amp; Animation</td>\n",
       "      <td>UCzWrhkg9eK5I8Bm3HfV-unA</td>\n",
       "      <td>779.0</td>\n",
       "      <td>oB4c-yvnbjs</td>\n",
       "      <td>1394</td>\n",
       "      <td>1607.0</td>\n",
       "      <td>2016-09-28</td>\n",
       "      <td>1800602.0</td>\n",
       "    </tr>\n",
       "    <tr>\n",
       "      <th>3</th>\n",
       "      <td>Film &amp; Animation</td>\n",
       "      <td>UCzWrhkg9eK5I8Bm3HfV-unA</td>\n",
       "      <td>24.0</td>\n",
       "      <td>ZaV-gTCMV8E</td>\n",
       "      <td>5064</td>\n",
       "      <td>227.0</td>\n",
       "      <td>2016-09-28</td>\n",
       "      <td>57640.0</td>\n",
       "    </tr>\n",
       "    <tr>\n",
       "      <th>4</th>\n",
       "      <td>Film &amp; Animation</td>\n",
       "      <td>UCzWrhkg9eK5I8Bm3HfV-unA</td>\n",
       "      <td>13.0</td>\n",
       "      <td>cGvL7AvMfM0</td>\n",
       "      <td>3554</td>\n",
       "      <td>105.0</td>\n",
       "      <td>2016-09-28</td>\n",
       "      <td>86368.0</td>\n",
       "    </tr>\n",
       "  </tbody>\n",
       "</table>\n",
       "</div>"
      ],
      "text/plain": [
       "         categories                channel_id  dislike_count   display_id  \\\n",
       "0  Film & Animation  UCzWrhkg9eK5I8Bm3HfV-unA            1.0  SBqSc91Hn9g   \n",
       "1  Film & Animation  UCzWrhkg9eK5I8Bm3HfV-unA            1.0  UuugEl86ESY   \n",
       "2  Film & Animation  UCzWrhkg9eK5I8Bm3HfV-unA          779.0  oB4c-yvnbjs   \n",
       "3  Film & Animation  UCzWrhkg9eK5I8Bm3HfV-unA           24.0  ZaV-gTCMV8E   \n",
       "4  Film & Animation  UCzWrhkg9eK5I8Bm3HfV-unA           13.0  cGvL7AvMfM0   \n",
       "\n",
       "   duration  like_count upload_date  view_count  \n",
       "0      1159         8.0  2016-09-28      1057.0  \n",
       "1      2681        23.0  2016-09-28     12894.0  \n",
       "2      1394      1607.0  2016-09-28   1800602.0  \n",
       "3      5064       227.0  2016-09-28     57640.0  \n",
       "4      3554       105.0  2016-09-28     86368.0  "
      ]
     },
     "execution_count": 5,
     "metadata": {},
     "output_type": "execute_result"
    }
   ],
   "source": [
    "df.head()\n"
   ]
  },
  {
   "cell_type": "code",
   "execution_count": 4,
   "metadata": {},
   "outputs": [
    {
     "name": "stdout",
     "output_type": "stream",
     "text": [
      "i\n",
      "           author     video_id  likes  replies\n",
      "0               1  Gkb1QMHrGvA      2        0\n",
      "1               1  CNtp0xqoods      0        0\n",
      "2               1  249EEzQmVmQ      1        0\n",
      "3               1  _U443T2K_Bs      0        0\n",
      "4               1  rJbjhm0weYc      0        0\n",
      "...           ...          ...    ...      ...\n",
      "99999995  6695123  YlTNoJwRQak      3        0\n",
      "99999996  6695123  ESKmRiLjNpg      0        0\n",
      "99999997  6695123  DkdadDbyRZ4      1        0\n",
      "99999998  6695123  g6OacoeIizk     86        0\n",
      "99999999  6695123  g6OacoeIizk     35        0\n",
      "\n",
      "[100000000 rows x 4 columns]\n"
     ]
    }
   ],
   "source": [
    "\n",
    "import pandas as pd\n",
    "import gzip\n",
    "\n",
    "fichier_gz = 'DATA/youtube_comments.tsv.gz'\n",
    "\n",
    "nombre_lignes_a_extraire = 100000000\n",
    "\n",
    "# Utilisez gzip pour décompresser le fichier\n",
    "with gzip.open(fichier_gz, 'rt', encoding='utf-8') as f:\n",
    "    # Utilisez pandas pour charger le fichier TSV dans un DataFrame\n",
    "    df_comm = pd.read_csv(f, sep='\\t', nrows=nombre_lignes_a_extraire)\n",
    "\n",
    "# Affichez les premières lignes du DataFrame pour vérifier\n",
    "print(df_comm)\n"
   ]
  },
  {
   "cell_type": "code",
   "execution_count": 6,
   "metadata": {},
   "outputs": [
    {
     "name": "stdout",
     "output_type": "stream",
     "text": [
      "Index(['author', 'video_id', 'likes', 'replies'], dtype='object')\n"
     ]
    }
   ],
   "source": [
    "print(df_comm.columns)\n"
   ]
  },
  {
   "cell_type": "code",
   "execution_count": 7,
   "metadata": {},
   "outputs": [],
   "source": [
    "df_comm = df_comm.rename(columns={'video_id': 'display_id'})\n"
   ]
  },
  {
   "cell_type": "code",
   "execution_count": 8,
   "metadata": {},
   "outputs": [
    {
     "name": "stdout",
     "output_type": "stream",
     "text": [
      "           author   display_id  likes  replies       categories  \\\n",
      "0               1  Gkb1QMHrGvA      2        0   People & Blogs   \n",
      "1               1  CNtp0xqoods      0        0    Entertainment   \n",
      "2               1  249EEzQmVmQ      1        0    Entertainment   \n",
      "3               1  _U443T2K_Bs      0        0           Comedy   \n",
      "4               1  rJbjhm0weYc      0        0   People & Blogs   \n",
      "...           ...          ...    ...      ...              ...   \n",
      "99999995  6695123  YlTNoJwRQak      3        0    Entertainment   \n",
      "99999996  6695123  ESKmRiLjNpg      0        0  News & Politics   \n",
      "99999997  6695123  DkdadDbyRZ4      1        0            Music   \n",
      "99999998  6695123  g6OacoeIizk     86        0    Entertainment   \n",
      "99999999  6695123  g6OacoeIizk     35        0    Entertainment   \n",
      "\n",
      "                        channel_id  dislike_count  duration  like_count  \\\n",
      "0         UCBXNpF6k2n8dsI6nBH8q4sQ         7708.0       478     85133.0   \n",
      "1         UCpB959t8iPrxQWj7G6n0ctQ         1859.0       815    111451.0   \n",
      "2         UCpB959t8iPrxQWj7G6n0ctQ         1643.0       697     84571.0   \n",
      "3         UCM2ERkgV3P1_6MAyxa51rxA         3287.0       990     41195.0   \n",
      "4         UCtwD0AlYSlAYv7eXu8UxtEg         1740.0       603     18827.0   \n",
      "...                            ...            ...       ...         ...   \n",
      "99999995  UCqISR0F9-nCth-V2r4Qy75Q          573.0     11420     11663.0   \n",
      "99999996  UC8Su5vZCXWRag13H53zWVwA         7293.0        91     21996.0   \n",
      "99999997  UCqISR0F9-nCth-V2r4Qy75Q          649.0      3971     10451.0   \n",
      "99999998  UC778KagX3d7gl1vzUGAmN1g          560.0       175      3516.0   \n",
      "99999999  UC778KagX3d7gl1vzUGAmN1g          560.0       175      3516.0   \n",
      "\n",
      "         upload_date  view_count  \n",
      "0         2019-06-01  11659189.0  \n",
      "1         2019-04-06   3807677.0  \n",
      "2         2019-09-15   2679538.0  \n",
      "3         2019-08-03   1235364.0  \n",
      "4         2019-09-11    914335.0  \n",
      "...              ...         ...  \n",
      "99999995  2017-12-27   1091091.0  \n",
      "99999996  2018-05-08   2275956.0  \n",
      "99999997  2019-02-11    543731.0  \n",
      "99999998  2018-04-03    965892.0  \n",
      "99999999  2018-04-03    965892.0  \n",
      "\n",
      "[100000000 rows x 11 columns]\n"
     ]
    }
   ],
   "source": [
    "df_comm = df_comm.rename(columns={'video_id': 'display_id'})\n",
    "df_merged = pd.merge(df_comm, df, on='display_id', how='left')\n",
    "print(df_merged)\n"
   ]
  },
  {
   "cell_type": "code",
   "execution_count": 9,
   "metadata": {},
   "outputs": [],
   "source": [
    "df_merged.to_csv('mergedmetadatacomments.csv', index=False)\n"
   ]
  },
  {
   "cell_type": "code",
   "execution_count": 10,
   "metadata": {},
   "outputs": [
    {
     "name": "stdout",
     "output_type": "stream",
     "text": [
      "   author   display_id  likes  replies      categories  \\\n",
      "0       1  Gkb1QMHrGvA      2        0  People & Blogs   \n",
      "1       1  CNtp0xqoods      0        0   Entertainment   \n",
      "2       1  249EEzQmVmQ      1        0   Entertainment   \n",
      "3       1  _U443T2K_Bs      0        0          Comedy   \n",
      "4       1  rJbjhm0weYc      0        0  People & Blogs   \n",
      "\n",
      "                 channel_id  dislike_count  duration  like_count upload_date  \\\n",
      "0  UCBXNpF6k2n8dsI6nBH8q4sQ         7708.0       478     85133.0  2019-06-01   \n",
      "1  UCpB959t8iPrxQWj7G6n0ctQ         1859.0       815    111451.0  2019-04-06   \n",
      "2  UCpB959t8iPrxQWj7G6n0ctQ         1643.0       697     84571.0  2019-09-15   \n",
      "3  UCM2ERkgV3P1_6MAyxa51rxA         3287.0       990     41195.0  2019-08-03   \n",
      "4  UCtwD0AlYSlAYv7eXu8UxtEg         1740.0       603     18827.0  2019-09-11   \n",
      "\n",
      "   view_count  \n",
      "0  11659189.0  \n",
      "1   3807677.0  \n",
      "2   2679538.0  \n",
      "3   1235364.0  \n",
      "4    914335.0  \n"
     ]
    }
   ],
   "source": [
    "df_mergedmin = df_merged.loc[:, ['display_id', 'author', 'replies','likes','categories']]\n",
    "print(df_merged.head())\n"
   ]
  },
  {
   "cell_type": "code",
   "execution_count": 1,
   "metadata": {},
   "outputs": [
    {
     "ename": "NameError",
     "evalue": "name 'df_mergedmin' is not defined",
     "output_type": "error",
     "traceback": [
      "\u001b[0;31m---------------------------------------------------------------------------\u001b[0m",
      "\u001b[0;31mNameError\u001b[0m                                 Traceback (most recent call last)",
      "\u001b[1;32m/Users/adamzinebi/Documents/EPFL/ADA/ADAtemp/data.ipynb Cellule 11\u001b[0m line \u001b[0;36m3\n\u001b[1;32m      <a href='vscode-notebook-cell:/Users/adamzinebi/Documents/EPFL/ADA/ADAtemp/data.ipynb#X13sZmlsZQ%3D%3D?line=0'>1</a>\u001b[0m \u001b[39mimport\u001b[39;00m \u001b[39mmatplotlib\u001b[39;00m\u001b[39m.\u001b[39;00m\u001b[39mpyplot\u001b[39;00m \u001b[39mas\u001b[39;00m \u001b[39mplt\u001b[39;00m\n\u001b[0;32m----> <a href='vscode-notebook-cell:/Users/adamzinebi/Documents/EPFL/ADA/ADAtemp/data.ipynb#X13sZmlsZQ%3D%3D?line=2'>3</a>\u001b[0m df_mergedmin\u001b[39m.\u001b[39mgroupby(\u001b[39m'\u001b[39m\u001b[39mcategories\u001b[39m\u001b[39m'\u001b[39m)[\u001b[39m'\u001b[39m\u001b[39mreplies\u001b[39m\u001b[39m'\u001b[39m]\u001b[39m.\u001b[39msum()\u001b[39m.\u001b[39mplot(kind\u001b[39m=\u001b[39m\u001b[39m'\u001b[39m\u001b[39mbar\u001b[39m\u001b[39m'\u001b[39m)\n\u001b[1;32m      <a href='vscode-notebook-cell:/Users/adamzinebi/Documents/EPFL/ADA/ADAtemp/data.ipynb#X13sZmlsZQ%3D%3D?line=3'>4</a>\u001b[0m plt\u001b[39m.\u001b[39mtitle(\u001b[39m'\u001b[39m\u001b[39mNumber of Replies by Category\u001b[39m\u001b[39m'\u001b[39m)\n\u001b[1;32m      <a href='vscode-notebook-cell:/Users/adamzinebi/Documents/EPFL/ADA/ADAtemp/data.ipynb#X13sZmlsZQ%3D%3D?line=4'>5</a>\u001b[0m plt\u001b[39m.\u001b[39mxlabel(\u001b[39m'\u001b[39m\u001b[39mCategory\u001b[39m\u001b[39m'\u001b[39m)\n",
      "\u001b[0;31mNameError\u001b[0m: name 'df_mergedmin' is not defined"
     ]
    }
   ],
   "source": [
    "import matplotlib.pyplot as plt\n",
    "\n",
    "df_mergedmin.groupby('categories')['replies'].sum().plot(kind='bar')\n",
    "plt.title('Number of Replies by Category')\n",
    "plt.xlabel('Category')\n",
    "plt.ylabel('Number of Replies')\n",
    "plt.show()\n"
   ]
  },
  {
   "cell_type": "code",
   "execution_count": null,
   "metadata": {},
   "outputs": [],
   "source": [
    "df_yt = df"
   ]
  },
  {
   "cell_type": "code",
   "execution_count": null,
   "metadata": {},
   "outputs": [
    {
     "data": {
      "text/html": [
       "<div>\n",
       "<style scoped>\n",
       "    .dataframe tbody tr th:only-of-type {\n",
       "        vertical-align: middle;\n",
       "    }\n",
       "\n",
       "    .dataframe tbody tr th {\n",
       "        vertical-align: top;\n",
       "    }\n",
       "\n",
       "    .dataframe thead th {\n",
       "        text-align: right;\n",
       "    }\n",
       "</style>\n",
       "<table border=\"1\" class=\"dataframe\">\n",
       "  <thead>\n",
       "    <tr style=\"text-align: right;\">\n",
       "      <th></th>\n",
       "      <th>category_cc</th>\n",
       "      <th>join_date</th>\n",
       "      <th>channel</th>\n",
       "      <th>name_cc</th>\n",
       "      <th>subscribers_cc</th>\n",
       "      <th>videos_cc</th>\n",
       "      <th>subscriber_rank_sb</th>\n",
       "      <th>weights</th>\n",
       "    </tr>\n",
       "  </thead>\n",
       "  <tbody>\n",
       "    <tr>\n",
       "      <th>0</th>\n",
       "      <td>Gaming</td>\n",
       "      <td>2010-04-29</td>\n",
       "      <td>UC-lHJZR3Gqxm24_Vd_AJ5Yw</td>\n",
       "      <td>PewDiePie</td>\n",
       "      <td>101000000</td>\n",
       "      <td>3956</td>\n",
       "      <td>3.0</td>\n",
       "      <td>2.087</td>\n",
       "    </tr>\n",
       "    <tr>\n",
       "      <th>1</th>\n",
       "      <td>Education</td>\n",
       "      <td>2006-09-01</td>\n",
       "      <td>UCbCmjCuTUZos6Inko4u57UQ</td>\n",
       "      <td>Cocomelon - Nursery ...</td>\n",
       "      <td>60100000</td>\n",
       "      <td>458</td>\n",
       "      <td>7.0</td>\n",
       "      <td>2.087</td>\n",
       "    </tr>\n",
       "    <tr>\n",
       "      <th>2</th>\n",
       "      <td>Entertainment</td>\n",
       "      <td>2006-09-20</td>\n",
       "      <td>UCpEhnqL0y41EpW2TvWAHD7Q</td>\n",
       "      <td>SET India</td>\n",
       "      <td>56018869</td>\n",
       "      <td>32661</td>\n",
       "      <td>8.0</td>\n",
       "      <td>2.087</td>\n",
       "    </tr>\n",
       "    <tr>\n",
       "      <th>3</th>\n",
       "      <td>Howto &amp; Style</td>\n",
       "      <td>2016-11-15</td>\n",
       "      <td>UC295-Dw_tDNtZXFeAPAW6Aw</td>\n",
       "      <td>5-Minute Crafts</td>\n",
       "      <td>60600000</td>\n",
       "      <td>3591</td>\n",
       "      <td>9.0</td>\n",
       "      <td>2.087</td>\n",
       "    </tr>\n",
       "    <tr>\n",
       "      <th>4</th>\n",
       "      <td>Sports</td>\n",
       "      <td>2007-05-11</td>\n",
       "      <td>UCJ5v_MCY6GNUBTO8-D3XoAg</td>\n",
       "      <td>WWE</td>\n",
       "      <td>48400000</td>\n",
       "      <td>43421</td>\n",
       "      <td>11.0</td>\n",
       "      <td>2.087</td>\n",
       "    </tr>\n",
       "  </tbody>\n",
       "</table>\n",
       "</div>"
      ],
      "text/plain": [
       "     category_cc   join_date                   channel  \\\n",
       "0         Gaming  2010-04-29  UC-lHJZR3Gqxm24_Vd_AJ5Yw   \n",
       "1      Education  2006-09-01  UCbCmjCuTUZos6Inko4u57UQ   \n",
       "2  Entertainment  2006-09-20  UCpEhnqL0y41EpW2TvWAHD7Q   \n",
       "3  Howto & Style  2016-11-15  UC295-Dw_tDNtZXFeAPAW6Aw   \n",
       "4         Sports  2007-05-11  UCJ5v_MCY6GNUBTO8-D3XoAg   \n",
       "\n",
       "                   name_cc  subscribers_cc  videos_cc  subscriber_rank_sb  \\\n",
       "0                PewDiePie       101000000       3956                 3.0   \n",
       "1  Cocomelon - Nursery ...        60100000        458                 7.0   \n",
       "2                SET India        56018869      32661                 8.0   \n",
       "3          5-Minute Crafts        60600000       3591                 9.0   \n",
       "4                      WWE        48400000      43421                11.0   \n",
       "\n",
       "   weights  \n",
       "0    2.087  \n",
       "1    2.087  \n",
       "2    2.087  \n",
       "3    2.087  \n",
       "4    2.087  "
      ]
     },
     "execution_count": 3,
     "metadata": {},
     "output_type": "execute_result"
    }
   ],
   "source": [
    "df_channels.head()"
   ]
  },
  {
   "cell_type": "code",
   "execution_count": null,
   "metadata": {},
   "outputs": [
    {
     "name": "stdout",
     "output_type": "stream",
     "text": [
      "                categories                channel_id  dislike_count  \\\n",
      "0         Film & Animation  UCzWrhkg9eK5I8Bm3HfV-unA            1.0   \n",
      "1         Film & Animation  UCzWrhkg9eK5I8Bm3HfV-unA            1.0   \n",
      "2         Film & Animation  UCzWrhkg9eK5I8Bm3HfV-unA          779.0   \n",
      "3         Film & Animation  UCzWrhkg9eK5I8Bm3HfV-unA           24.0   \n",
      "4         Film & Animation  UCzWrhkg9eK5I8Bm3HfV-unA           13.0   \n",
      "...                    ...                       ...            ...   \n",
      "72924789   News & Politics  UCrwE8kVqtIUVUzKui2WVpuQ            3.0   \n",
      "72924790   News & Politics  UCrwE8kVqtIUVUzKui2WVpuQ            0.0   \n",
      "72924791   News & Politics  UCrwE8kVqtIUVUzKui2WVpuQ            2.0   \n",
      "72924792   News & Politics  UCrwE8kVqtIUVUzKui2WVpuQ            0.0   \n",
      "72924793   News & Politics  UCrwE8kVqtIUVUzKui2WVpuQ           31.0   \n",
      "\n",
      "           display_id  duration  like_count upload_date  view_count  \n",
      "0         SBqSc91Hn9g      1159         8.0  2016-09-28      1057.0  \n",
      "1         UuugEl86ESY      2681        23.0  2016-09-28     12894.0  \n",
      "2         oB4c-yvnbjs      1394      1607.0  2016-09-28   1800602.0  \n",
      "3         ZaV-gTCMV8E      5064       227.0  2016-09-28     57640.0  \n",
      "4         cGvL7AvMfM0      3554       105.0  2016-09-28     86368.0  \n",
      "...               ...       ...         ...         ...         ...  \n",
      "72924789  YQLoxwLpjSU       270        67.0  2017-02-06      4409.0  \n",
      "72924790  mINQHg1QBcg       878        21.0  2017-02-06      1172.0  \n",
      "72924791  x20aNOWh1yI      1003        35.0  2017-02-06      1898.0  \n",
      "72924792  -Nn6FL2gqEw       755        27.0  2017-02-06       726.0  \n",
      "72924793  7gxEjSoRVgA      1771       327.0  2017-02-06     37572.0  \n",
      "\n",
      "[72924794 rows x 8 columns]\n"
     ]
    }
   ],
   "source": [
    "print(df_yt)"
   ]
  },
  {
   "cell_type": "code",
   "execution_count": null,
   "metadata": {},
   "outputs": [
    {
     "data": {
      "text/html": [
       "<div>\n",
       "<style scoped>\n",
       "    .dataframe tbody tr th:only-of-type {\n",
       "        vertical-align: middle;\n",
       "    }\n",
       "\n",
       "    .dataframe tbody tr th {\n",
       "        vertical-align: top;\n",
       "    }\n",
       "\n",
       "    .dataframe thead th {\n",
       "        text-align: right;\n",
       "    }\n",
       "</style>\n",
       "<table border=\"1\" class=\"dataframe\">\n",
       "  <thead>\n",
       "    <tr style=\"text-align: right;\">\n",
       "      <th></th>\n",
       "      <th>channel</th>\n",
       "      <th>category</th>\n",
       "      <th>datetime</th>\n",
       "      <th>views</th>\n",
       "      <th>delta_views</th>\n",
       "      <th>subs</th>\n",
       "      <th>delta_subs</th>\n",
       "      <th>videos</th>\n",
       "      <th>delta_videos</th>\n",
       "      <th>activity</th>\n",
       "    </tr>\n",
       "  </thead>\n",
       "  <tbody>\n",
       "    <tr>\n",
       "      <th>0</th>\n",
       "      <td>UCBJuEqXfXTdcPSbGO9qqn1g</td>\n",
       "      <td>Film and Animation</td>\n",
       "      <td>2017-07-03 00:00:00</td>\n",
       "      <td>2.024946e+05</td>\n",
       "      <td>0.000000</td>\n",
       "      <td>650.222222</td>\n",
       "      <td>0.000000</td>\n",
       "      <td>5</td>\n",
       "      <td>0</td>\n",
       "      <td>3</td>\n",
       "    </tr>\n",
       "    <tr>\n",
       "      <th>1</th>\n",
       "      <td>UCBJuEqXfXTdcPSbGO9qqn1g</td>\n",
       "      <td>Film and Animation</td>\n",
       "      <td>2017-07-10 00:00:00</td>\n",
       "      <td>3.940857e+05</td>\n",
       "      <td>191591.111111</td>\n",
       "      <td>1046.000000</td>\n",
       "      <td>395.777778</td>\n",
       "      <td>6</td>\n",
       "      <td>1</td>\n",
       "      <td>1</td>\n",
       "    </tr>\n",
       "    <tr>\n",
       "      <th>2</th>\n",
       "      <td>UCBJuEqXfXTdcPSbGO9qqn1g</td>\n",
       "      <td>Film and Animation</td>\n",
       "      <td>2017-07-17 00:00:00</td>\n",
       "      <td>8.353938e+05</td>\n",
       "      <td>441308.083333</td>\n",
       "      <td>1501.500000</td>\n",
       "      <td>455.500000</td>\n",
       "      <td>6</td>\n",
       "      <td>0</td>\n",
       "      <td>1</td>\n",
       "    </tr>\n",
       "    <tr>\n",
       "      <th>3</th>\n",
       "      <td>UCBJuEqXfXTdcPSbGO9qqn1g</td>\n",
       "      <td>Film and Animation</td>\n",
       "      <td>2017-07-24 00:00:00</td>\n",
       "      <td>1.104577e+06</td>\n",
       "      <td>269183.250000</td>\n",
       "      <td>1750.000000</td>\n",
       "      <td>248.500000</td>\n",
       "      <td>6</td>\n",
       "      <td>0</td>\n",
       "      <td>0</td>\n",
       "    </tr>\n",
       "    <tr>\n",
       "      <th>4</th>\n",
       "      <td>UCBJuEqXfXTdcPSbGO9qqn1g</td>\n",
       "      <td>Film and Animation</td>\n",
       "      <td>2017-07-31 00:00:00</td>\n",
       "      <td>1.284406e+06</td>\n",
       "      <td>179828.600000</td>\n",
       "      <td>2008.300000</td>\n",
       "      <td>258.300000</td>\n",
       "      <td>6</td>\n",
       "      <td>0</td>\n",
       "      <td>0</td>\n",
       "    </tr>\n",
       "  </tbody>\n",
       "</table>\n",
       "</div>"
      ],
      "text/plain": [
       "                    channel            category             datetime  \\\n",
       "0  UCBJuEqXfXTdcPSbGO9qqn1g  Film and Animation  2017-07-03 00:00:00   \n",
       "1  UCBJuEqXfXTdcPSbGO9qqn1g  Film and Animation  2017-07-10 00:00:00   \n",
       "2  UCBJuEqXfXTdcPSbGO9qqn1g  Film and Animation  2017-07-17 00:00:00   \n",
       "3  UCBJuEqXfXTdcPSbGO9qqn1g  Film and Animation  2017-07-24 00:00:00   \n",
       "4  UCBJuEqXfXTdcPSbGO9qqn1g  Film and Animation  2017-07-31 00:00:00   \n",
       "\n",
       "          views    delta_views         subs  delta_subs  videos  delta_videos  \\\n",
       "0  2.024946e+05       0.000000   650.222222    0.000000       5             0   \n",
       "1  3.940857e+05  191591.111111  1046.000000  395.777778       6             1   \n",
       "2  8.353938e+05  441308.083333  1501.500000  455.500000       6             0   \n",
       "3  1.104577e+06  269183.250000  1750.000000  248.500000       6             0   \n",
       "4  1.284406e+06  179828.600000  2008.300000  258.300000       6             0   \n",
       "\n",
       "   activity  \n",
       "0         3  \n",
       "1         1  \n",
       "2         1  \n",
       "3         0  \n",
       "4         0  "
      ]
     },
     "execution_count": 5,
     "metadata": {},
     "output_type": "execute_result"
    }
   ],
   "source": [
    "df_timeseries.head()"
   ]
  },
  {
   "cell_type": "code",
   "execution_count": null,
   "metadata": {},
   "outputs": [
    {
     "name": "stdout",
     "output_type": "stream",
     "text": [
      "The number of channels in df_channels is 136470\n"
     ]
    },
    {
     "data": {
      "text/plain": [
       "(22622,)"
      ]
     },
     "execution_count": 7,
     "metadata": {},
     "output_type": "execute_result"
    }
   ],
   "source": [
    "num_channels = df_channels.shape[0]\n",
    "print(f\"The number of channels in df_channels is {num_channels}\")\n",
    "last_datetimes = df_timeseries.groupby('channel')['datetime'].max()\n",
    "datatotreat = last_datetimes[last_datetimes==last_datetimes.max()]\n",
    "datatotreat.shape\n"
   ]
  },
  {
   "cell_type": "code",
   "execution_count": null,
   "metadata": {},
   "outputs": [
    {
     "name": "stderr",
     "output_type": "stream",
     "text": [
      "100%|██████████| 50/50 [02:15<00:00,  2.72s/it]\n",
      "100%|██████████| 50/50 [02:15<00:00,  2.71s/it]\n",
      "100%|██████████| 50/50 [02:14<00:00,  2.70s/it]\n",
      "100%|██████████| 50/50 [02:14<00:00,  2.70s/it]\n",
      "100%|██████████| 50/50 [02:15<00:00,  2.70s/it]\n",
      "100%|██████████| 50/50 [02:16<00:00,  2.72s/it]\n",
      "100%|██████████| 50/50 [02:14<00:00,  2.70s/it]\n",
      "100%|██████████| 50/50 [02:15<00:00,  2.70s/it]\n",
      "100%|██████████| 50/50 [02:15<00:00,  2.71s/it]\n",
      "100%|██████████| 50/50 [02:15<00:00,  2.72s/it]\n",
      "100%|██████████| 50/50 [02:16<00:00,  2.72s/it]\n",
      "100%|██████████| 50/50 [02:16<00:00,  2.72s/it]\n",
      "100%|██████████| 50/50 [02:15<00:00,  2.72s/it]\n",
      "100%|██████████| 50/50 [02:15<00:00,  2.71s/it]\n",
      "100%|██████████| 50/50 [02:16<00:00,  2.72s/it]\n",
      "0it [00:00, ?it/s]"
     ]
    },
    {
     "name": "stdout",
     "output_type": "stream",
     "text": [
      "                      channel      category_cc       ratio\n",
      "0    UCZmiunWACQomHiwsY3Mj18g           Gaming   51.357554\n",
      "1    UCGkoUWS076mYTKENlzoeemQ           Gaming   66.305163\n",
      "2    UCfH51_x32-6Z-dVPf0VXiIA           Gaming  596.185634\n",
      "3    UCNEi0_jIHwws4aAroPmg9Ug           Gaming   42.184669\n",
      "4    UCa69zLgwJXtdVWlb-e9g76g           Gaming  159.824167\n",
      "..                        ...              ...         ...\n",
      "745  UCCzZCAUdaaVCAnEBThIuzLQ  Travel & Events  387.880394\n",
      "746  UC7b72jc4v1oDtRJFofrXT4g  Travel & Events  154.115128\n",
      "747  UCJHPYNnaqZftejFxADEqhbA  Travel & Events  101.380309\n",
      "748  UCqO0nULThTlC83l5OFHlEOg  Travel & Events  675.136060\n",
      "749  UCO7OYEkCf_OV-EiBesZt-Tw  Travel & Events  197.207137\n",
      "\n",
      "[750 rows x 3 columns]\n"
     ]
    },
    {
     "name": "stderr",
     "output_type": "stream",
     "text": [
      "\n"
     ]
    }
   ],
   "source": [
    "import random\n",
    "import tqdm\n",
    "\n",
    "ratios = []\n",
    "for category in df_channels['category_cc'].unique():\n",
    "    channels = df_channels[df_channels['category_cc'] == category]['channel'].tolist()\n",
    "    random.shuffle(channels)\n",
    "    channels = channels[:50]\n",
    "    for channel_id in tqdm.tqdm(channels):\n",
    "        channel_views = df_yt[df_yt['channel_id'] == channel_id]['view_count'].sum()\n",
    "        subscribers_cc = df_channels[df_channels['channel'] == channel_id]['subscribers_cc'].iloc[0]\n",
    "        ratio = channel_views / subscribers_cc\n",
    "        ratios.append({'channel': channel_id, 'category_cc': category, 'ratio': ratio})\n",
    "\n",
    "df_ratios = pd.DataFrame(ratios)\n",
    "print(df_ratios)\n"
   ]
  },
  {
   "cell_type": "code",
   "execution_count": null,
   "metadata": {},
   "outputs": [
    {
     "data": {
      "image/png": "[encoded data removed]",
      "text/plain": [
       "<Figure size 2000x600 with 1 Axes>"
      ]
     },
     "metadata": {},
     "output_type": "display_data"
    }
   ],
   "source": [
    "import matplotlib.pyplot as plt\n",
    "\n",
    "df_ratios.boxplot(column='ratio', by='category_cc', figsize=(20, 6))\n",
    "plt.title('Boxplot of Ratios by Category')\n",
    "plt.xlabel('Category')\n",
    "plt.ylabel('Ratio')\n",
    "plt.show()\n"
   ]
  },
  {
   "cell_type": "code",
   "execution_count": null,
   "metadata": {},
   "outputs": [],
   "source": [
    "channel_id = 'UC--3c8RqSfAqYBdDjIG3UNA'\n"
   ]
  },
  {
   "cell_type": "code",
   "execution_count": null,
   "metadata": {},
   "outputs": [
    {
     "name": "stdout",
     "output_type": "stream",
     "text": [
      "         categories                channel_id  dislike_count   display_id  \\\n",
      "70429342     Sports  UC--3c8RqSfAqYBdDjIG3UNA           12.0  adE-IgADBAs   \n",
      "70429343     Sports  UC--3c8RqSfAqYBdDjIG3UNA          283.0  tB8TkfwLxrY   \n",
      "70429344     Sports  UC--3c8RqSfAqYBdDjIG3UNA           17.0  Xp3u-bAmowE   \n",
      "70429345     Sports  UC--3c8RqSfAqYBdDjIG3UNA           10.0  NM5ZDS_6GXs   \n",
      "70429346     Sports  UC--3c8RqSfAqYBdDjIG3UNA           56.0  TLR9mMS41A8   \n",
      "...             ...                       ...            ...          ...   \n",
      "70429670     Sports  UC--3c8RqSfAqYBdDjIG3UNA            5.0  xQDy_DKWObY   \n",
      "70429671     Sports  UC--3c8RqSfAqYBdDjIG3UNA            5.0  vvYtjAGQqKw   \n",
      "70429672     Sports  UC--3c8RqSfAqYBdDjIG3UNA            5.0  pieax12_-iQ   \n",
      "70429673     Sports  UC--3c8RqSfAqYBdDjIG3UNA           36.0  zMOyWqIcIfU   \n",
      "70429674     Sports  UC--3c8RqSfAqYBdDjIG3UNA            2.0  TColWGMLaoE   \n",
      "\n",
      "          duration  like_count upload_date  view_count  \n",
      "70429342       434       195.0  2019-09-30     18420.0  \n",
      "70429343      1091       974.0  2019-09-22    345840.0  \n",
      "70429344       288       265.0  2019-09-18     16570.0  \n",
      "70429345      1043       235.0  2019-09-14     20611.0  \n",
      "70429346       700       711.0  2019-09-12    260416.0  \n",
      "...            ...         ...         ...         ...  \n",
      "70429670       169       298.0  2008-07-08    130407.0  \n",
      "70429671       225       106.0  2008-07-08    132523.0  \n",
      "70429672       204        88.0  2008-07-08     70257.0  \n",
      "70429673       283       785.0  2008-07-07    200390.0  \n",
      "70429674       243        35.0  2008-07-07     22708.0  \n",
      "\n",
      "[333 rows x 8 columns]\n"
     ]
    }
   ],
   "source": [
    "channel_videos = get_channel_video_timeseries(channel_id, df_yt)\n",
    "print(channel_videos)"
   ]
  },
  {
   "cell_type": "code",
   "execution_count": null,
   "metadata": {},
   "outputs": [
    {
     "ename": "TypeError",
     "evalue": "unsupported operand type(s) for -: 'str' and 'pandas._libs.tslibs.offsets.Day'",
     "output_type": "error",
     "traceback": [
      "\u001b[0;31m---------------------------------------------------------------------------\u001b[0m",
      "\u001b[0;31mTypeError\u001b[0m                                 Traceback (most recent call last)",
      "\u001b[1;32m/Users/adamzinebi/Documents/EPFL/ADA/ADAtemp/data.ipynb Cellule 11\u001b[0m line \u001b[0;36m6\n\u001b[1;32m      <a href='vscode-notebook-cell:/Users/adamzinebi/Documents/EPFL/ADA/ADAtemp/data.ipynb#X12sZmlsZQ%3D%3D?line=3'>4</a>\u001b[0m \u001b[39mfor\u001b[39;00m currentdate \u001b[39min\u001b[39;00m channel_data[\u001b[39m'\u001b[39m\u001b[39mdatetime\u001b[39m\u001b[39m'\u001b[39m]:\n\u001b[1;32m      <a href='vscode-notebook-cell:/Users/adamzinebi/Documents/EPFL/ADA/ADAtemp/data.ipynb#X12sZmlsZQ%3D%3D?line=4'>5</a>\u001b[0m     date_int \u001b[39m=\u001b[39m intdate(currentdate)\n\u001b[0;32m----> <a href='vscode-notebook-cell:/Users/adamzinebi/Documents/EPFL/ADA/ADAtemp/data.ipynb#X12sZmlsZQ%3D%3D?line=5'>6</a>\u001b[0m     \u001b[39mprint\u001b[39m(currentdate \u001b[39m-\u001b[39;49m pd\u001b[39m.\u001b[39;49moffsets\u001b[39m.\u001b[39;49mDay(\u001b[39m1\u001b[39;49m))\n\u001b[1;32m      <a href='vscode-notebook-cell:/Users/adamzinebi/Documents/EPFL/ADA/ADAtemp/data.ipynb#X12sZmlsZQ%3D%3D?line=6'>7</a>\u001b[0m     \u001b[39mprint\u001b[39m(currentdate, \u001b[39mstr\u001b[39m(nextdate))\n\u001b[1;32m      <a href='vscode-notebook-cell:/Users/adamzinebi/Documents/EPFL/ADA/ADAtemp/data.ipynb#X12sZmlsZQ%3D%3D?line=7'>8</a>\u001b[0m     videos \u001b[39m=\u001b[39m channel_videos[(channel_videos[\u001b[39m'\u001b[39m\u001b[39mupload_date\u001b[39m\u001b[39m'\u001b[39m] \u001b[39m>\u001b[39m\u001b[39m=\u001b[39m currentdate) \u001b[39m&\u001b[39m (channel_videos[\u001b[39m'\u001b[39m\u001b[39mupload_date\u001b[39m\u001b[39m'\u001b[39m] \u001b[39m<\u001b[39m nextdate)]\n",
      "\u001b[0;31mTypeError\u001b[0m: unsupported operand type(s) for -: 'str' and 'pandas._libs.tslibs.offsets.Day'"
     ]
    }
   ],
   "source": [
    "from datetime import datetime\n",
    "channel_data = df_timeseries.loc[df_timeseries['channel'] == channel_id]\n",
    "channel_data = channel_data.sort_values('datetime', ascending=False)\n",
    "for currentdate in channel_data['datetime']:\n",
    "    date_int = intdate(currentdate)\n",
    "    print(currentdate - pd.offsets.Day(1))\n",
    "    print(currentdate, str(nextdate))\n",
    "    videos = channel_videos[(channel_videos['upload_date'] >= currentdate) & (channel_videos['upload_date'] < nextdate)]\n"
   ]
  },
  {
   "cell_type": "code",
   "execution_count": null,
   "metadata": {},
   "outputs": [
    {
     "name": "stdout",
     "output_type": "stream",
     "text": [
      "[['UC--3c8RqSfAqYBdDjIG3UNA' 'Sports' '2019-09-30 01:00:00'\n",
      "  57987117.29166666 468101.5486111121 75220.23809523809\n",
      "  1079.2658730158728 333 1 3]\n",
      " ['UC--3c8RqSfAqYBdDjIG3UNA' 'Sports' '2019-09-23 01:00:00'\n",
      "  57519015.74305555 674420.8333333285 74140.97222222223\n",
      "  1283.3333333333285 332 2 5]\n",
      " ['UC--3c8RqSfAqYBdDjIG3UNA' 'Sports' '2019-09-16 01:00:00'\n",
      "  56844594.90972222 801905.6719771251 72857.63888888889 2262.749183006541\n",
      "  330 3 4]\n",
      " ['UC--3c8RqSfAqYBdDjIG3UNA' 'Sports' '2019-09-09 01:00:00'\n",
      "  56042689.23774511 899867.7058823556 70594.88970588235 3015.352941176461\n",
      "  327 1 3]\n",
      " ['UC--3c8RqSfAqYBdDjIG3UNA' 'Sports' '2019-09-02 01:00:00'\n",
      "  55142821.53186274 892801.6806722656 67579.53676470589 3012.498074229697\n",
      "  326 2 5]\n",
      " ['UC--3c8RqSfAqYBdDjIG3UNA' 'Sports' '2019-08-26 01:00:00'\n",
      "  54250019.85119048 848255.0 64567.03869047619 2994.5 324 3 5]\n",
      " ['UC--3c8RqSfAqYBdDjIG3UNA' 'Sports' '2019-08-19 01:00:00'\n",
      "  53401764.85119048 803831.252976194 61572.53869047619 2840.208333333336\n",
      "  321 2 3]\n",
      " ['UC--3c8RqSfAqYBdDjIG3UNA' 'Sports' '2019-08-12 01:00:00'\n",
      "  52597933.59821428 523768.5 58732.330357142855 1867.5 319 1 3]\n",
      " ['UC--3c8RqSfAqYBdDjIG3UNA' 'Sports' '2019-08-05 01:00:00'\n",
      "  52074165.09821428 586856.366732806 56864.830357142855\n",
      "  1903.8025793650736 318 2 3]\n",
      " ['UC--3c8RqSfAqYBdDjIG3UNA' 'Sports' '2019-07-29 01:00:00'\n",
      "  51487308.73148148 984584.2222222164 54961.02777777778\n",
      "  2132.6666666666715 316 1 2]\n",
      " ['UC--3c8RqSfAqYBdDjIG3UNA' 'Sports' '2019-07-22 01:00:00'\n",
      "  50502724.50925926 709248.3148148134 52828.36111111112\n",
      "  1865.8657407407368 315 1 2]\n",
      " ['UC--3c8RqSfAqYBdDjIG3UNA' 'Sports' '2019-07-15 01:00:00'\n",
      "  49793476.19444445 517017.45833333576 50962.49537037037\n",
      "  1779.1990740740728 314 1 4]\n",
      " ['UC--3c8RqSfAqYBdDjIG3UNA' 'Sports' '2019-07-08 01:00:00'\n",
      "  49276458.73611111 427516.2020202056 49183.2962962963 1628.1750841750836\n",
      "  313 3 5]\n",
      " ['UC--3c8RqSfAqYBdDjIG3UNA' 'Sports' '2019-07-01 01:00:00'\n",
      "  48848942.53409091 482158.09090908617 47555.12121212122\n",
      "  1318.545454545456 310 2 3]\n",
      " ['UC--3c8RqSfAqYBdDjIG3UNA' 'Sports' '2019-06-24 01:00:00'\n",
      "  48366784.44318182 487319.7159090936 46236.57575757576 1556.545454545456\n",
      "  308 1 3]\n",
      " ['UC--3c8RqSfAqYBdDjIG3UNA' 'Sports' '2019-06-17 01:00:00'\n",
      "  47879464.72727273 471976.1553030312 44680.030303030304\n",
      "  1605.757575757576 307 2 6]\n",
      " ['UC--3c8RqSfAqYBdDjIG3UNA' 'Sports' '2019-06-10 01:00:00'\n",
      "  47407488.5719697 361845.9090909064 43074.27272727273 1298.1818181818162\n",
      "  305 4 6]\n",
      " ['UC--3c8RqSfAqYBdDjIG3UNA' 'Sports' '2019-06-03 01:00:00'\n",
      "  47045642.66287879 464812.2348484844 41776.09090909091 2239.185606060608\n",
      "  301 2 4]\n",
      " ['UC--3c8RqSfAqYBdDjIG3UNA' 'Sports' '2019-05-27 01:00:00'\n",
      "  46580830.42803031 543933.7272727266 39536.905303030304\n",
      "  2962.2727272727284 299 1 5]\n",
      " ['UC--3c8RqSfAqYBdDjIG3UNA' 'Sports' '2019-05-20 01:00:00'\n",
      "  46036896.70075758 1047916.638257578 36574.632575757576\n",
      "  4034.081980519481 298 4 4]\n",
      " ['UC--3c8RqSfAqYBdDjIG3UNA' 'Sports' '2019-05-13 01:00:00' 44988980.0625\n",
      "  1050934.5 32540.550595238084 4040.5 294 0 2]\n",
      " ['UC--3c8RqSfAqYBdDjIG3UNA' 'Sports' '2019-05-06 01:00:00' 43938045.5625\n",
      "  908213.284722224 28500.050595238084 4175.85615079365 294 2 5]\n",
      " ['UC--3c8RqSfAqYBdDjIG3UNA' 'Sports' '2019-04-29 01:00:00'\n",
      "  43029832.277777776 1160526.2083333284 24324.19444444444\n",
      "  6494.274305555556 292 3 6]\n",
      " ['UC--3c8RqSfAqYBdDjIG3UNA' 'Sports' '2019-04-22 01:00:00'\n",
      "  41869306.06944445 1264771.6666666716 17829.92013888889\n",
      "  7448.583333333336 289 3 8]\n",
      " ['UC--3c8RqSfAqYBdDjIG3UNA' 'Sports' '2019-04-15 01:00:00'\n",
      "  40604534.402777776 1952232.965277776 10381.336805555557\n",
      "  2229.2534722222213 286 5 7]\n",
      " ['UC--3c8RqSfAqYBdDjIG3UNA' 'Sports' '2019-04-08 01:00:00' 38652301.4375\n",
      "  657168.9977094233 8152.083333333332 2247.476003490401 281 2 5]\n",
      " ['UC--3c8RqSfAqYBdDjIG3UNA' 'Sports' '2019-04-01 01:00:00'\n",
      "  37995132.43979058 438870.3147905767 5904.607329842932 1841.482329842932\n",
      "  279 3 5]\n",
      " ['UC--3c8RqSfAqYBdDjIG3UNA' 'Sports' '2019-03-25 00:00:00' 37556262.125\n",
      "  284513.125 4063.125 1311.625 276 2 4]\n",
      " ['UC--3c8RqSfAqYBdDjIG3UNA' 'Sports' '2019-03-18 00:00:00' 37271749.0\n",
      "  120152.125 2751.5 832.75 274 2 3]\n",
      " ['UC--3c8RqSfAqYBdDjIG3UNA' 'Sports' '2019-03-11 00:00:00' 37151596.875\n",
      "  57544.875 1918.75 686.5277777777778 272 1 1]\n",
      " ['UC--3c8RqSfAqYBdDjIG3UNA' 'Sports' '2019-03-04 00:00:00' 37094052.0\n",
      "  54173.0 1232.2222222222224 1007.2222222222224 271 0 0]\n",
      " ['UC--3c8RqSfAqYBdDjIG3UNA' 'Sports' '2019-02-25 00:00:00' 37039879.0\n",
      "  0.0 225.0 0.0 271 0 0]]\n"
     ]
    }
   ],
   "source": [
    "channel_data = df_timeseries.loc[df_timeseries['channel'] == channel_id]\n",
    "channel_data = channel_data.sort_values('datetime', ascending=False)\n",
    "print(channel_data.values)"
   ]
  }
 ],
 "metadata": {
  "kernelspec": {
   "display_name": "Python 3",
   "language": "python",
   "name": "python3"
  },
  "language_info": {
   "codemirror_mode": {
    "name": "ipython",
    "version": 3
   },
   "file_extension": ".py",
   "mimetype": "text/x-python",
   "name": "python",
   "nbconvert_exporter": "python",
   "pygments_lexer": "ipython3",
   "version": "3.9.0"
  }
 },
 "nbformat": 4,
 "nbformat_minor": 2
}
