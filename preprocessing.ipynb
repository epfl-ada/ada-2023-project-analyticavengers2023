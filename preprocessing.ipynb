{
 "cells": [
  {
   "cell_type": "code",
   "execution_count": 1,
   "metadata": {},
   "outputs": [],
   "source": [
    "import numpy as np\n",
    "import pandas as pd\n",
    "\n",
    "import statsmodels.formula.api as smf\n",
    "import statsmodels.api as sm\n",
    "from statsmodels.stats import diagnostic\n",
    "\n",
    "from scipy import stats\n",
    "import scipy.fft as sf\n",
    "\n",
    "import matplotlib.pyplot as plt\n",
    "import plotly.express as px\n",
    "import plotly.graph_objs as go\n",
    "from plotly.subplots import make_subplots\n",
    "\n",
    "pd.options.plotting.backend = \"plotly\""
   ]
  },
  {
   "cell_type": "code",
   "execution_count": 2,
   "metadata": {},
   "outputs": [
    {
     "data": {
      "text/html": [
       "<div>\n",
       "<style scoped>\n",
       "    .dataframe tbody tr th:only-of-type {\n",
       "        vertical-align: middle;\n",
       "    }\n",
       "\n",
       "    .dataframe tbody tr th {\n",
       "        vertical-align: top;\n",
       "    }\n",
       "\n",
       "    .dataframe thead th {\n",
       "        text-align: right;\n",
       "    }\n",
       "</style>\n",
       "<table border=\"1\" class=\"dataframe\">\n",
       "  <thead>\n",
       "    <tr style=\"text-align: right;\">\n",
       "      <th></th>\n",
       "      <th>category_cc</th>\n",
       "      <th>join_date</th>\n",
       "      <th>channel</th>\n",
       "      <th>name_cc</th>\n",
       "      <th>subscribers_cc</th>\n",
       "      <th>videos_cc</th>\n",
       "      <th>subscriber_rank_sb</th>\n",
       "      <th>weights</th>\n",
       "    </tr>\n",
       "  </thead>\n",
       "  <tbody>\n",
       "    <tr>\n",
       "      <th>82043</th>\n",
       "      <td>Sports</td>\n",
       "      <td>2017-11-03</td>\n",
       "      <td>UCOoibxKsToPLr58kHzVhnDA</td>\n",
       "      <td>Barça World</td>\n",
       "      <td>27354</td>\n",
       "      <td>116</td>\n",
       "      <td>401130.0</td>\n",
       "      <td>6.9785</td>\n",
       "    </tr>\n",
       "    <tr>\n",
       "      <th>135393</th>\n",
       "      <td>Entertainment</td>\n",
       "      <td>2013-12-14</td>\n",
       "      <td>UCC-jLLbBcBY7wqb1G6-E5tg</td>\n",
       "      <td>Sisi Gaga</td>\n",
       "      <td>10700</td>\n",
       "      <td>224</td>\n",
       "      <td>939683.0</td>\n",
       "      <td>33.1330</td>\n",
       "    </tr>\n",
       "    <tr>\n",
       "      <th>14640</th>\n",
       "      <td>Howto &amp; Style</td>\n",
       "      <td>2008-09-27</td>\n",
       "      <td>UC0Cc-m348L1pyb1rlsCKf8Q</td>\n",
       "      <td>Evelina Forsell</td>\n",
       "      <td>453464</td>\n",
       "      <td>371</td>\n",
       "      <td>40723.0</td>\n",
       "      <td>3.3615</td>\n",
       "    </tr>\n",
       "    <tr>\n",
       "      <th>94568</th>\n",
       "      <td>Science &amp; Technology</td>\n",
       "      <td>2018-02-26</td>\n",
       "      <td>UCZp2qyycTugXM9v4GRMv3hQ</td>\n",
       "      <td>Ubex AI</td>\n",
       "      <td>24700</td>\n",
       "      <td>44</td>\n",
       "      <td>501045.0</td>\n",
       "      <td>6.1375</td>\n",
       "    </tr>\n",
       "    <tr>\n",
       "      <th>117161</th>\n",
       "      <td>Gaming</td>\n",
       "      <td>2015-06-08</td>\n",
       "      <td>UC_G4uW-U0LcCsWis37D6xHg</td>\n",
       "      <td>Hi,Its Vivian!</td>\n",
       "      <td>15200</td>\n",
       "      <td>73</td>\n",
       "      <td>710939.0</td>\n",
       "      <td>11.4745</td>\n",
       "    </tr>\n",
       "  </tbody>\n",
       "</table>\n",
       "</div>"
      ],
      "text/plain": [
       "                 category_cc   join_date                   channel  \\\n",
       "82043                 Sports  2017-11-03  UCOoibxKsToPLr58kHzVhnDA   \n",
       "135393         Entertainment  2013-12-14  UCC-jLLbBcBY7wqb1G6-E5tg   \n",
       "14640          Howto & Style  2008-09-27  UC0Cc-m348L1pyb1rlsCKf8Q   \n",
       "94568   Science & Technology  2018-02-26  UCZp2qyycTugXM9v4GRMv3hQ   \n",
       "117161                Gaming  2015-06-08  UC_G4uW-U0LcCsWis37D6xHg   \n",
       "\n",
       "                name_cc  subscribers_cc  videos_cc  subscriber_rank_sb  \\\n",
       "82043       Barça World           27354        116            401130.0   \n",
       "135393        Sisi Gaga           10700        224            939683.0   \n",
       "14640   Evelina Forsell          453464        371             40723.0   \n",
       "94568           Ubex AI           24700         44            501045.0   \n",
       "117161   Hi,Its Vivian!           15200         73            710939.0   \n",
       "\n",
       "        weights  \n",
       "82043    6.9785  \n",
       "135393  33.1330  \n",
       "14640    3.3615  \n",
       "94568    6.1375  \n",
       "117161  11.4745  "
      ]
     },
     "execution_count": 2,
     "metadata": {},
     "output_type": "execute_result"
    }
   ],
   "source": [
    "channels_df = pd.read_csv('data/df_channels_en.tsv.gz', sep='\\t', compression='infer')\n",
    "channels_df.sample(5)"
   ]
  },
  {
   "cell_type": "code",
   "execution_count": 3,
   "metadata": {},
   "outputs": [
    {
     "data": {
      "text/html": [
       "<div>\n",
       "<style scoped>\n",
       "    .dataframe tbody tr th:only-of-type {\n",
       "        vertical-align: middle;\n",
       "    }\n",
       "\n",
       "    .dataframe tbody tr th {\n",
       "        vertical-align: top;\n",
       "    }\n",
       "\n",
       "    .dataframe thead th {\n",
       "        text-align: right;\n",
       "    }\n",
       "</style>\n",
       "<table border=\"1\" class=\"dataframe\">\n",
       "  <thead>\n",
       "    <tr style=\"text-align: right;\">\n",
       "      <th></th>\n",
       "      <th>channel</th>\n",
       "      <th>category</th>\n",
       "      <th>datetime</th>\n",
       "      <th>views</th>\n",
       "      <th>delta_views</th>\n",
       "      <th>subs</th>\n",
       "      <th>delta_subs</th>\n",
       "      <th>videos</th>\n",
       "      <th>delta_videos</th>\n",
       "      <th>activity</th>\n",
       "    </tr>\n",
       "  </thead>\n",
       "  <tbody>\n",
       "    <tr>\n",
       "      <th>0</th>\n",
       "      <td>UCBJuEqXfXTdcPSbGO9qqn1g</td>\n",
       "      <td>Film and Animation</td>\n",
       "      <td>2017-07-03</td>\n",
       "      <td>2.024946e+05</td>\n",
       "      <td>0.000000</td>\n",
       "      <td>650.222222</td>\n",
       "      <td>0.000000</td>\n",
       "      <td>5</td>\n",
       "      <td>0</td>\n",
       "      <td>3</td>\n",
       "    </tr>\n",
       "    <tr>\n",
       "      <th>1</th>\n",
       "      <td>UCBJuEqXfXTdcPSbGO9qqn1g</td>\n",
       "      <td>Film and Animation</td>\n",
       "      <td>2017-07-10</td>\n",
       "      <td>3.940857e+05</td>\n",
       "      <td>191591.111111</td>\n",
       "      <td>1046.000000</td>\n",
       "      <td>395.777778</td>\n",
       "      <td>6</td>\n",
       "      <td>1</td>\n",
       "      <td>1</td>\n",
       "    </tr>\n",
       "    <tr>\n",
       "      <th>2</th>\n",
       "      <td>UCBJuEqXfXTdcPSbGO9qqn1g</td>\n",
       "      <td>Film and Animation</td>\n",
       "      <td>2017-07-17</td>\n",
       "      <td>8.353938e+05</td>\n",
       "      <td>441308.083333</td>\n",
       "      <td>1501.500000</td>\n",
       "      <td>455.500000</td>\n",
       "      <td>6</td>\n",
       "      <td>0</td>\n",
       "      <td>1</td>\n",
       "    </tr>\n",
       "    <tr>\n",
       "      <th>3</th>\n",
       "      <td>UCBJuEqXfXTdcPSbGO9qqn1g</td>\n",
       "      <td>Film and Animation</td>\n",
       "      <td>2017-07-24</td>\n",
       "      <td>1.104577e+06</td>\n",
       "      <td>269183.250000</td>\n",
       "      <td>1750.000000</td>\n",
       "      <td>248.500000</td>\n",
       "      <td>6</td>\n",
       "      <td>0</td>\n",
       "      <td>0</td>\n",
       "    </tr>\n",
       "    <tr>\n",
       "      <th>4</th>\n",
       "      <td>UCBJuEqXfXTdcPSbGO9qqn1g</td>\n",
       "      <td>Film and Animation</td>\n",
       "      <td>2017-07-31</td>\n",
       "      <td>1.284406e+06</td>\n",
       "      <td>179828.600000</td>\n",
       "      <td>2008.300000</td>\n",
       "      <td>258.300000</td>\n",
       "      <td>6</td>\n",
       "      <td>0</td>\n",
       "      <td>0</td>\n",
       "    </tr>\n",
       "  </tbody>\n",
       "</table>\n",
       "</div>"
      ],
      "text/plain": [
       "                    channel            category   datetime         views  \\\n",
       "0  UCBJuEqXfXTdcPSbGO9qqn1g  Film and Animation 2017-07-03  2.024946e+05   \n",
       "1  UCBJuEqXfXTdcPSbGO9qqn1g  Film and Animation 2017-07-10  3.940857e+05   \n",
       "2  UCBJuEqXfXTdcPSbGO9qqn1g  Film and Animation 2017-07-17  8.353938e+05   \n",
       "3  UCBJuEqXfXTdcPSbGO9qqn1g  Film and Animation 2017-07-24  1.104577e+06   \n",
       "4  UCBJuEqXfXTdcPSbGO9qqn1g  Film and Animation 2017-07-31  1.284406e+06   \n",
       "\n",
       "     delta_views         subs  delta_subs  videos  delta_videos  activity  \n",
       "0       0.000000   650.222222    0.000000       5             0         3  \n",
       "1  191591.111111  1046.000000  395.777778       6             1         1  \n",
       "2  441308.083333  1501.500000  455.500000       6             0         1  \n",
       "3  269183.250000  1750.000000  248.500000       6             0         0  \n",
       "4  179828.600000  2008.300000  258.300000       6             0         0  "
      ]
     },
     "execution_count": 3,
     "metadata": {},
     "output_type": "execute_result"
    }
   ],
   "source": [
    "timeseries_df = pd.read_csv('data/df_timeseries_en.tsv.gz', sep='\\t', compression='infer')\n",
    "timeseries_df['datetime'] = pd.to_datetime(timeseries_df['datetime'])\n",
    "timeseries_df.head()"
   ]
  },
  {
   "cell_type": "code",
   "execution_count": 4,
   "metadata": {},
   "outputs": [],
   "source": [
    "def get_timeseries(channels, labels=None):\n",
    "    sample_channels_df = channels_df[channels_df.name_cc.isin(channels)]\n",
    "    if labels is not None:\n",
    "        sample_channels_df['game_category'] = sample_channels_df['name_cc'].apply(lambda row: labels[row])\n",
    "    sample_timeseries_df = pd.merge(left=timeseries_df, right=sample_channels_df)\n",
    "    sample_timeseries_df = sample_timeseries_df.rename(columns={'name_cc': 'channel_name'})\n",
    "    \n",
    "    N = sample_channels_df.shape[0]\n",
    "    dt = sample_timeseries_df.datetime.value_counts()\n",
    "    valid_dt = dt[dt == N].index\n",
    "    sample_timeseries_df = sample_timeseries_df[sample_timeseries_df.datetime.isin(valid_dt)]\n",
    "\n",
    "    return sample_timeseries_df.sort_values(by='datetime')\n"
   ]
  },
  {
   "cell_type": "code",
   "execution_count": 10,
   "metadata": {},
   "outputs": [
    {
     "name": "stderr",
     "output_type": "stream",
     "text": [
      "/var/folders/l_/w0_rm7rs22s9tndfbqxjw40m0000gn/T/ipykernel_66697/1333332562.py:4: SettingWithCopyWarning: \n",
      "A value is trying to be set on a copy of a slice from a DataFrame.\n",
      "Try using .loc[row_indexer,col_indexer] = value instead\n",
      "\n",
      "See the caveats in the documentation: https://pandas.pydata.org/pandas-docs/stable/user_guide/indexing.html#returning-a-view-versus-a-copy\n",
      "  sample_channels_df['game_category'] = sample_channels_df['name_cc'].apply(lambda row: labels[row])\n"
     ]
    }
   ],
   "source": [
    "mg = ['Klaus Gaming', 'Past Amazing', 'I JACK SPARROW COC', 'Galadon Gaming', 'Orange Juice Gaming']\n",
    "gta = ['LispyJimmy', 'speedyw03', 'KjraGaming', 'XpertThief', 'DarkViperAU']\n",
    "lol = ['Pianta', 'SkinSpotlights', 'KingStix', 'Trick2G', 'MagikarpUsedFly']\n",
    "fifa = ['Miniminter', 'Castro1021', 'NepentheZ', 'AA9skillz', 'ZwebackHD']\n",
    "cod = ['MrDalekJD', 'FaZe Clan', 'RaidAway', 'TheXclusiveAce', 'TheGamingRevolution']\n",
    "fortnite = ['Ninja', 'Ali-A', 'Lachlan', 'LazarBeam', 'Tfue']\n",
    "minecraft = ['DanTDM', 'PopularMMOs', 'SSundee', 'Logdotzip', 'Sky Does Everything']\n",
    "\n",
    "channels = mg + gta + lol + fifa + cod + fortnite + minecraft\n",
    "labels = np.array([['Mobile Games'] * 5 +\n",
    "        ['GTA'] * 5 +\n",
    "        ['LOL'] * 5 +\n",
    "        ['FIFA'] * 5 +\n",
    "        ['COD'] * 5 +\n",
    "        ['Fortnite'] * 5 +\n",
    "        ['Minecraft'] * 5]).flatten()\n",
    "\n",
    "sample_df = get_timeseries(channels, dict(zip(channels,labels)))\n",
    "sample_df.to_parquet('data/df_sample_timeseries.parquet')"
   ]
  },
  {
   "cell_type": "code",
   "execution_count": 11,
   "metadata": {},
   "outputs": [
    {
     "name": "stderr",
     "output_type": "stream",
     "text": [
      "/var/folders/l_/w0_rm7rs22s9tndfbqxjw40m0000gn/T/ipykernel_66697/1333332562.py:4: SettingWithCopyWarning: \n",
      "A value is trying to be set on a copy of a slice from a DataFrame.\n",
      "Try using .loc[row_indexer,col_indexer] = value instead\n",
      "\n",
      "See the caveats in the documentation: https://pandas.pydata.org/pandas-docs/stable/user_guide/indexing.html#returning-a-view-versus-a-copy\n",
      "  sample_channels_df['game_category'] = sample_channels_df['name_cc'].apply(lambda row: labels[row])\n"
     ]
    }
   ],
   "source": [
    "mf_df = get_timeseries(['Marshmello', 'Fortnite'], labels={'Marshmello': 'Marshmello', 'Fortnite': 'Fortnite Official Channel'})\n",
    "mf_df.to_parquet('data/mf_timeseries.parquet')"
   ]
  },
  {
   "cell_type": "code",
   "execution_count": 12,
   "metadata": {},
   "outputs": [
    {
     "name": "stderr",
     "output_type": "stream",
     "text": [
      "/var/folders/l_/w0_rm7rs22s9tndfbqxjw40m0000gn/T/ipykernel_66697/1333332562.py:4: SettingWithCopyWarning: \n",
      "A value is trying to be set on a copy of a slice from a DataFrame.\n",
      "Try using .loc[row_indexer,col_indexer] = value instead\n",
      "\n",
      "See the caveats in the documentation: https://pandas.pydata.org/pandas-docs/stable/user_guide/indexing.html#returning-a-view-versus-a-copy\n",
      "  sample_channels_df['game_category'] = sample_channels_df['name_cc'].apply(lambda row: labels[row])\n"
     ]
    }
   ],
   "source": [
    "pubg_df = get_timeseries(['Ninja', 'Dynamo'], labels={'Ninja': 'Fortnite', 'Dynamo': 'PUBG'})\n",
    "pubg_df.to_parquet('data/pubg_timeseries.parquet')"
   ]
  },
  {
   "cell_type": "code",
   "execution_count": 13,
   "metadata": {},
   "outputs": [
    {
     "name": "stderr",
     "output_type": "stream",
     "text": [
      "/var/folders/l_/w0_rm7rs22s9tndfbqxjw40m0000gn/T/ipykernel_66697/1333332562.py:4: SettingWithCopyWarning: \n",
      "A value is trying to be set on a copy of a slice from a DataFrame.\n",
      "Try using .loc[row_indexer,col_indexer] = value instead\n",
      "\n",
      "See the caveats in the documentation: https://pandas.pydata.org/pandas-docs/stable/user_guide/indexing.html#returning-a-view-versus-a-copy\n",
      "  sample_channels_df['game_category'] = sample_channels_df['name_cc'].apply(lambda row: labels[row])\n"
     ]
    }
   ],
   "source": [
    "fortnite_df = get_timeseries(fortnite, {f: f for f in fortnite})\n",
    "fortnite_df.to_parquet('data/fortnite_timeseries.parquet')"
   ]
  },
  {
   "cell_type": "code",
   "execution_count": null,
   "metadata": {},
   "outputs": [],
   "source": []
  },
  {
   "cell_type": "code",
   "execution_count": null,
   "metadata": {},
   "outputs": [],
   "source": []
  },
  {
   "cell_type": "code",
   "execution_count": null,
   "metadata": {},
   "outputs": [],
   "source": []
  },
  {
   "cell_type": "code",
   "execution_count": null,
   "metadata": {},
   "outputs": [],
   "source": []
  },
  {
   "cell_type": "code",
   "execution_count": null,
   "metadata": {},
   "outputs": [],
   "source": []
  },
  {
   "cell_type": "code",
   "execution_count": null,
   "metadata": {},
   "outputs": [],
   "source": []
  },
  {
   "cell_type": "code",
   "execution_count": null,
   "metadata": {},
   "outputs": [],
   "source": []
  }
 ],
 "metadata": {
  "kernelspec": {
   "display_name": "ds",
   "language": "python",
   "name": "python3"
  },
  "language_info": {
   "codemirror_mode": {
    "name": "ipython",
    "version": 3
   },
   "file_extension": ".py",
   "mimetype": "text/x-python",
   "name": "python",
   "nbconvert_exporter": "python",
   "pygments_lexer": "ipython3",
   "version": "3.10.6"
  }
 },
 "nbformat": 4,
 "nbformat_minor": 2
}
