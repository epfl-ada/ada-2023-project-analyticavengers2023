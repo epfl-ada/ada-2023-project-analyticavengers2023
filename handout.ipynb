{
 "cells": [
  {
   "cell_type": "code",
   "execution_count": 208,
   "metadata": {},
   "outputs": [],
   "source": [
    "import numpy as np\n",
    "import pandas as pd\n",
    "\n",
    "import statsmodels.formula.api as smf\n",
    "import statsmodels.api as sm\n",
    "from statsmodels.stats import diagnostic\n",
    "\n",
    "from scipy import stats\n",
    "import scipy.fft as sf\n",
    "\n",
    "import matplotlib.pyplot as plt\n",
    "import plotly.express as px\n",
    "import plotly.graph_objs as go\n",
    "from plotly.subplots import make_subplots\n",
    "\n",
    "pd.options.plotting.backend = \"plotly\" "
   ]
  },
  {
   "cell_type": "code",
   "execution_count": 209,
   "metadata": {},
   "outputs": [],
   "source": [
    "def ft(df, metric):\n",
    "    N = df.shape[0]\n",
    "\n",
    "    # Fourier transform\n",
    "    fft = np.abs(sf.rfft(df[metric].to_numpy()))/N\n",
    "    freqs = sf.rfftfreq(N, d=0.1)[::-1]\n",
    "\n",
    "    return freqs, fft"
   ]
  },
  {
   "cell_type": "markdown",
   "metadata": {},
   "source": [
    "# ***Timeseries***"
   ]
  },
  {
   "cell_type": "markdown",
   "metadata": {},
   "source": [
    "### *Sample Analysis*"
   ]
  },
  {
   "cell_type": "code",
   "execution_count": 210,
   "metadata": {},
   "outputs": [
    {
     "data": {
      "text/plain": [
       "(5390, 18)"
      ]
     },
     "execution_count": 210,
     "metadata": {},
     "output_type": "execute_result"
    }
   ],
   "source": [
    "sample_df = pd.read_parquet('data/df_sample_timeseries.parquet')\n",
    "sample_df.shape"
   ]
  },
  {
   "cell_type": "code",
   "execution_count": 211,
   "metadata": {},
   "outputs": [],
   "source": [
    "def group_by_game(df):\n",
    "    grouped_df = df.groupby(['game_category', 'datetime']).mean().reset_index().groupby(['game_category'])\n",
    "    games = list(grouped_df.groups.keys())\n",
    "    return games, grouped_df\n",
    "\n",
    "\n",
    "def timeseries_correlations(df, groups, feature, verbose=False):\n",
    "    corrs = np.zeros(shape=(len(groups),len(groups)))\n",
    "    for i, (category_a, category_a_df) in enumerate(df):\n",
    "        for j, (category_b, category_b_df) in enumerate(df):   \n",
    "            corr = stats.pearsonr(category_a_df[feature], category_b_df[feature])\n",
    "            corrs[i,j] = round(corr[0], 2)\n",
    "            if verbose:\n",
    "                print('-'*30)\n",
    "                print(f\"{category_a}-{category_b}\")\n",
    "                print(f\"Delta subs Corr. : {corr}\")\n",
    "    return corrs"
   ]
  },
  {
   "cell_type": "code",
   "execution_count": 212,
   "metadata": {},
   "outputs": [],
   "source": [
    "def remove_games(df, games):\n",
    "    if type(games) == str:\n",
    "        games = [games]\n",
    "    return df[~df.game_category.isin(games)]\n",
    "\n",
    "def select_channels(df, channels):\n",
    "    if type(channels) == str:\n",
    "        channels = [channels]\n",
    "    return df[df.channel_name.isin(channels)]"
   ]
  },
  {
   "cell_type": "code",
   "execution_count": 213,
   "metadata": {},
   "outputs": [
    {
     "name": "stderr",
     "output_type": "stream",
     "text": [
      "/var/folders/l_/w0_rm7rs22s9tndfbqxjw40m0000gn/T/ipykernel_59997/758640926.py:7: UserWarning:\n",
      "\n",
      "Boolean Series key will be reindexed to match DataFrame index.\n",
      "\n"
     ]
    }
   ],
   "source": [
    "# Fortnite Release Date\n",
    "F_date = '2017-07-21'\n",
    "\n",
    "sample_df = remove_games(sample_df, 'Gaming News')\n",
    "\n",
    "# Samples\n",
    "sample_beforeF = remove_games(sample_df, 'Fortnite')[sample_df.datetime < F_date]\n",
    "sample_withF = sample_df[sample_df.datetime >= F_date]\n",
    "\n",
    "games_beforeF, sample_beforeF = group_by_game(sample_beforeF)\n",
    "games_withF, sample_withF = group_by_game(sample_withF)"
   ]
  },
  {
   "cell_type": "markdown",
   "metadata": {},
   "source": [
    "##### ***Before Fortnite***"
   ]
  },
  {
   "cell_type": "code",
   "execution_count": 214,
   "metadata": {},
   "outputs": [],
   "source": [
    "# Create a color palette for each category\n",
    "colors = dict(zip(games_withF, px.colors.qualitative.Plotly[:len(games_withF)]))"
   ]
  },
  {
   "cell_type": "code",
   "execution_count": 215,
   "metadata": {},
   "outputs": [],
   "source": [
    "metric = 'delta_views'\n",
    "metric_txt = 'Delta Subscriptions' if metric == 'delta_subs' else 'Delta Views'"
   ]
  },
  {
   "cell_type": "code",
   "execution_count": 216,
   "metadata": {},
   "outputs": [
    {
     "data": {
      "application/vnd.plotly.v1+json": {
       "config": {
        "plotlyServerURL": "https://plot.ly"
       },
       "data": [
        {
         "line": {
          "color": "#636EFA"
         },
         "mode": "lines",
         "name": "COD",
         "type": "scatter",
         "x": [
          "2016-10-17T00:00:00",
          "2016-10-24T00:00:00",
          "2016-10-30T23:00:00",
          "2016-11-06T23:00:00",
          "2016-11-13T23:00:00",
          "2016-11-20T23:00:00",
          "2016-11-27T23:00:00",
          "2016-12-04T23:00:00",
          "2016-12-11T23:00:00",
          "2016-12-18T23:00:00",
          "2016-12-25T23:00:00",
          "2017-01-01T23:00:00",
          "2017-01-08T23:00:00",
          "2017-01-15T23:00:00",
          "2017-01-22T23:00:00",
          "2017-01-29T23:00:00",
          "2017-02-05T23:00:00",
          "2017-02-12T23:00:00",
          "2017-02-19T23:00:00",
          "2017-02-26T23:00:00",
          "2017-03-05T23:00:00",
          "2017-03-12T23:00:00",
          "2017-03-19T23:00:00",
          "2017-03-27T00:00:00",
          "2017-04-03T00:00:00",
          "2017-04-10T00:00:00",
          "2017-04-17T00:00:00",
          "2017-04-24T00:00:00",
          "2017-05-01T00:00:00",
          "2017-05-08T00:00:00",
          "2017-05-15T00:00:00",
          "2017-05-22T00:00:00",
          "2017-05-29T00:00:00",
          "2017-06-05T00:00:00",
          "2017-06-12T00:00:00",
          "2017-06-19T00:00:00",
          "2017-06-26T00:00:00",
          "2017-07-03T00:00:00",
          "2017-07-10T00:00:00",
          "2017-07-17T00:00:00"
         ],
         "y": [
          697659.6,
          669425.8672279856,
          619873.037435219,
          984030.4984617876,
          828265.0322916701,
          669649.7052083377,
          525229.0416666698,
          497341.7937500045,
          578061.4708333254,
          579713.6270833372,
          1003496.4916666665,
          641140.51875,
          721782.3718750038,
          1770688.153124988,
          390295.922916675,
          0,
          858760.0833333291,
          627932.9270833328,
          538256.6156250003,
          629505.5687500078,
          609135.1906249955,
          566114.6791666716,
          560713.3104166619,
          569522.7770233434,
          578200.5115183234,
          667703.65,
          602594.6,
          1039300.275,
          992294.25,
          1377966.95,
          1545392.675,
          1371540.725,
          1091570.675,
          958544.1,
          1015267.95,
          1022150.225,
          829144.5,
          740579.775,
          979613.625,
          1026363.575
         ]
        },
        {
         "line": {
          "color": "#EF553B"
         },
         "mode": "lines",
         "name": "FIFA",
         "type": "scatter",
         "x": [
          "2016-10-17T00:00:00",
          "2016-10-24T00:00:00",
          "2016-10-30T23:00:00",
          "2016-11-06T23:00:00",
          "2016-11-13T23:00:00",
          "2016-11-20T23:00:00",
          "2016-11-27T23:00:00",
          "2016-12-04T23:00:00",
          "2016-12-11T23:00:00",
          "2016-12-18T23:00:00",
          "2016-12-25T23:00:00",
          "2017-01-01T23:00:00",
          "2017-01-08T23:00:00",
          "2017-01-15T23:00:00",
          "2017-01-22T23:00:00",
          "2017-01-29T23:00:00",
          "2017-02-05T23:00:00",
          "2017-02-12T23:00:00",
          "2017-02-19T23:00:00",
          "2017-02-26T23:00:00",
          "2017-03-05T23:00:00",
          "2017-03-12T23:00:00",
          "2017-03-19T23:00:00",
          "2017-03-27T00:00:00",
          "2017-04-03T00:00:00",
          "2017-04-10T00:00:00",
          "2017-04-17T00:00:00",
          "2017-04-24T00:00:00",
          "2017-05-01T00:00:00",
          "2017-05-08T00:00:00",
          "2017-05-15T00:00:00",
          "2017-05-22T00:00:00",
          "2017-05-29T00:00:00",
          "2017-06-05T00:00:00",
          "2017-06-12T00:00:00",
          "2017-06-19T00:00:00",
          "2017-06-26T00:00:00",
          "2017-07-03T00:00:00",
          "2017-07-10T00:00:00",
          "2017-07-17T00:00:00"
         ],
         "y": [
          3791293.35,
          3999572.1668393733,
          4052239.2093264414,
          3934577.9905008688,
          3830340.696874976,
          3955740.877083359,
          3920203.5541666513,
          3312992.659374992,
          4881346.75,
          2688250.7322916863,
          3194557.114583294,
          3694048.187500006,
          5134492.45208335,
          9187305.55937502,
          8596295.838541638,
          0,
          3173742.2708333656,
          3500360.947916679,
          3576363.1822916567,
          3392288.6812499776,
          3387051.898958333,
          3216720.209375036,
          2979789.1909085573,
          4074557.1199880214,
          3271274.7578533962,
          3506419.975,
          3755304.8,
          3657681.925,
          3451669.025,
          3018801.55,
          3213658.35,
          3571813.925,
          3062021.675,
          3773307.475,
          3524513.75,
          3403326.15,
          3411147.45,
          3306248.7,
          3209778.8,
          2780317.05
         ]
        },
        {
         "line": {
          "color": "#AB63FA"
         },
         "mode": "lines",
         "name": "GTA",
         "type": "scatter",
         "x": [
          "2016-10-17T00:00:00",
          "2016-10-24T00:00:00",
          "2016-10-30T23:00:00",
          "2016-11-06T23:00:00",
          "2016-11-13T23:00:00",
          "2016-11-20T23:00:00",
          "2016-11-27T23:00:00",
          "2016-12-04T23:00:00",
          "2016-12-11T23:00:00",
          "2016-12-18T23:00:00",
          "2016-12-25T23:00:00",
          "2017-01-01T23:00:00",
          "2017-01-08T23:00:00",
          "2017-01-15T23:00:00",
          "2017-01-22T23:00:00",
          "2017-01-29T23:00:00",
          "2017-02-05T23:00:00",
          "2017-02-12T23:00:00",
          "2017-02-19T23:00:00",
          "2017-02-26T23:00:00",
          "2017-03-05T23:00:00",
          "2017-03-12T23:00:00",
          "2017-03-19T23:00:00",
          "2017-03-27T00:00:00",
          "2017-04-03T00:00:00",
          "2017-04-10T00:00:00",
          "2017-04-17T00:00:00",
          "2017-04-24T00:00:00",
          "2017-05-01T00:00:00",
          "2017-05-08T00:00:00",
          "2017-05-15T00:00:00",
          "2017-05-22T00:00:00",
          "2017-05-29T00:00:00",
          "2017-06-05T00:00:00",
          "2017-06-12T00:00:00",
          "2017-06-19T00:00:00",
          "2017-06-26T00:00:00",
          "2017-07-03T00:00:00",
          "2017-07-10T00:00:00",
          "2017-07-17T00:00:00"
         ],
         "y": [
          2294122.3,
          2461876.1404145,
          2815277.7756476775,
          3209750.2193545066,
          3119256.7018518164,
          3142022.860763917,
          2372093.1440971824,
          1686844.8222222303,
          2257551.636689837,
          2460123.1563657387,
          2672975.9253472104,
          3649967.2839120603,
          5572315.131249976,
          9143788.343749983,
          3812313.573958365,
          878483.9322916666,
          3656950.8750000335,
          3797486.8166666194,
          3390289.3333333493,
          3309038.695833349,
          3319472.3468749523,
          2701637.9010416865,
          3457284.313279883,
          4055287.955999124,
          4505298.498429334,
          4283986.3,
          3459426.225,
          3585508.9,
          3750619.175,
          3283216.5,
          3638273.125,
          5063693.775,
          4475030.797222222,
          3827623.2055555554,
          4035928.4122222224,
          4658231.5600000005,
          4691569.675,
          3738770.425,
          4914962.4,
          4161338.5583333336
         ]
        },
        {
         "line": {
          "color": "#FFA15A"
         },
         "mode": "lines",
         "name": "LOL",
         "type": "scatter",
         "x": [
          "2016-10-17T00:00:00",
          "2016-10-24T00:00:00",
          "2016-10-30T23:00:00",
          "2016-11-06T23:00:00",
          "2016-11-13T23:00:00",
          "2016-11-20T23:00:00",
          "2016-11-27T23:00:00",
          "2016-12-04T23:00:00",
          "2016-12-11T23:00:00",
          "2016-12-18T23:00:00",
          "2016-12-25T23:00:00",
          "2017-01-01T23:00:00",
          "2017-01-08T23:00:00",
          "2017-01-15T23:00:00",
          "2017-01-22T23:00:00",
          "2017-01-29T23:00:00",
          "2017-02-05T23:00:00",
          "2017-02-12T23:00:00",
          "2017-02-19T23:00:00",
          "2017-02-26T23:00:00",
          "2017-03-05T23:00:00",
          "2017-03-12T23:00:00",
          "2017-03-19T23:00:00",
          "2017-03-27T00:00:00",
          "2017-04-03T00:00:00",
          "2017-04-10T00:00:00",
          "2017-04-17T00:00:00",
          "2017-04-24T00:00:00",
          "2017-05-01T00:00:00",
          "2017-05-08T00:00:00",
          "2017-05-15T00:00:00",
          "2017-05-22T00:00:00",
          "2017-05-29T00:00:00",
          "2017-06-05T00:00:00",
          "2017-06-12T00:00:00",
          "2017-06-19T00:00:00",
          "2017-06-26T00:00:00",
          "2017-07-03T00:00:00",
          "2017-07-10T00:00:00",
          "2017-07-17T00:00:00"
         ],
         "y": [
          755987,
          2180768.4,
          1615088.4870466213,
          1103211.4575561504,
          1532822.0928972207,
          1538404.8284027898,
          1543626.8110416667,
          1082327.2701388951,
          1485761.8670833134,
          1108162.5431250157,
          1014729.2313657429,
          1023271.0998842511,
          1575525.2468749923,
          3077700.8635416827,
          2162055.1197916665,
          14134.505208325387,
          760549.8750000038,
          1157554.4270833174,
          1103768.4614583333,
          975742.7437500022,
          1151194.271874998,
          1704712.8000000059,
          904840.9190554101,
          1747692.3676101845,
          1656694.7157649633,
          1308841.8944444444,
          1688880.4,
          1712404.325,
          1386037.575,
          1638863.75,
          876091.95,
          1070713.35,
          653802.3,
          1240095.5333333334,
          1549931.15,
          1355554.2805555556,
          1164342.5472222222,
          1401319.0638888888,
          975230.775,
          1438340.675
         ]
        },
        {
         "line": {
          "color": "#19D3F3"
         },
         "mode": "lines",
         "name": "Minecraft",
         "type": "scatter",
         "x": [
          "2016-10-17T00:00:00",
          "2016-10-24T00:00:00",
          "2016-10-30T23:00:00",
          "2016-11-06T23:00:00",
          "2016-11-13T23:00:00",
          "2016-11-20T23:00:00",
          "2016-11-27T23:00:00",
          "2016-12-04T23:00:00",
          "2016-12-11T23:00:00",
          "2016-12-18T23:00:00",
          "2016-12-25T23:00:00",
          "2017-01-01T23:00:00",
          "2017-01-08T23:00:00",
          "2017-01-15T23:00:00",
          "2017-01-22T23:00:00",
          "2017-01-29T23:00:00",
          "2017-02-05T23:00:00",
          "2017-02-12T23:00:00",
          "2017-02-19T23:00:00",
          "2017-02-26T23:00:00",
          "2017-03-05T23:00:00",
          "2017-03-12T23:00:00",
          "2017-03-19T23:00:00",
          "2017-03-27T00:00:00",
          "2017-04-03T00:00:00",
          "2017-04-10T00:00:00",
          "2017-04-17T00:00:00",
          "2017-04-24T00:00:00",
          "2017-05-01T00:00:00",
          "2017-05-08T00:00:00",
          "2017-05-15T00:00:00",
          "2017-05-22T00:00:00",
          "2017-05-29T00:00:00",
          "2017-06-05T00:00:00",
          "2017-06-12T00:00:00",
          "2017-06-19T00:00:00",
          "2017-06-26T00:00:00",
          "2017-07-03T00:00:00",
          "2017-07-10T00:00:00",
          "2017-07-17T00:00:00"
         ],
         "y": [
          22971950.175,
          23405811.225,
          23454752.597150166,
          21254884.08501727,
          21486694.393874295,
          20571270.0802084,
          20602607.753124844,
          21770465.64166669,
          25735933.71562494,
          25124412.792708434,
          32382604.307291698,
          31399664.23020842,
          38025938.040624715,
          86916496.2781252,
          25331973.323958207,
          513942.0406250597,
          26335693.319791794,
          28999749.207291733,
          30269382.525000155,
          28978796.23229164,
          29255663.23229147,
          26741060.805208493,
          28038609.59062513,
          26001516.6297608,
          23861895.01086397,
          26446044.05,
          29218164.6,
          22698789.95,
          23126452.5,
          24157327.625,
          24032121.475,
          28007405.125,
          30235723.875,
          29216459.575,
          31391734.025,
          30650285.575,
          28701971.95,
          29002812.975,
          31249287.375,
          33002382.7
         ]
        },
        {
         "line": {
          "color": "#FF6692"
         },
         "mode": "lines",
         "name": "Mobile Games",
         "type": "scatter",
         "x": [
          "2016-10-17T00:00:00",
          "2016-10-24T00:00:00",
          "2016-10-30T23:00:00",
          "2016-11-06T23:00:00",
          "2016-11-13T23:00:00",
          "2016-11-20T23:00:00",
          "2016-11-27T23:00:00",
          "2016-12-04T23:00:00",
          "2016-12-11T23:00:00",
          "2016-12-18T23:00:00",
          "2016-12-25T23:00:00",
          "2017-01-01T23:00:00",
          "2017-01-08T23:00:00",
          "2017-01-15T23:00:00",
          "2017-01-22T23:00:00",
          "2017-01-29T23:00:00",
          "2017-02-05T23:00:00",
          "2017-02-12T23:00:00",
          "2017-02-19T23:00:00",
          "2017-02-26T23:00:00",
          "2017-03-05T23:00:00",
          "2017-03-12T23:00:00",
          "2017-03-19T23:00:00",
          "2017-03-27T00:00:00",
          "2017-04-03T00:00:00",
          "2017-04-10T00:00:00",
          "2017-04-17T00:00:00",
          "2017-04-24T00:00:00",
          "2017-05-01T00:00:00",
          "2017-05-08T00:00:00",
          "2017-05-15T00:00:00",
          "2017-05-22T00:00:00",
          "2017-05-29T00:00:00",
          "2017-06-05T00:00:00",
          "2017-06-12T00:00:00",
          "2017-06-19T00:00:00",
          "2017-06-26T00:00:00",
          "2017-07-03T00:00:00",
          "2017-07-10T00:00:00",
          "2017-07-17T00:00:00"
         ],
         "y": [
          696200.35,
          625135.225,
          754462.1659326388,
          581367.3924006909,
          577859.4916666709,
          677481.6687499993,
          635136.9649305589,
          449082.95208333374,
          857677.3506944403,
          1039384.6750000052,
          866210.7045833289,
          717173.9228472183,
          853205.9197916746,
          1646287.2996527702,
          1439822.6177083328,
          53933.88854166666,
          559380.978819445,
          598972.724305564,
          561329.6364583253,
          854641.6833333361,
          567094.8375000005,
          826156.8500000011,
          2890451.108595117,
          964681.7754635641,
          1188758.5857329848,
          727153.725,
          909074.475,
          822789.9,
          759558.775,
          780220.875,
          737372.7361111111,
          953992.4388888888,
          1086775.25,
          805431.425,
          1065109.95,
          836271.2,
          946870.025,
          842878.8138888888,
          608507.8111111111,
          420312.325
         ]
        }
       ],
       "layout": {
        "showlegend": true,
        "template": {
         "data": {
          "bar": [
           {
            "error_x": {
             "color": "#2a3f5f"
            },
            "error_y": {
             "color": "#2a3f5f"
            },
            "marker": {
             "line": {
              "color": "#E5ECF6",
              "width": 0.5
             },
             "pattern": {
              "fillmode": "overlay",
              "size": 10,
              "solidity": 0.2
             }
            },
            "type": "bar"
           }
          ],
          "barpolar": [
           {
            "marker": {
             "line": {
              "color": "#E5ECF6",
              "width": 0.5
             },
             "pattern": {
              "fillmode": "overlay",
              "size": 10,
              "solidity": 0.2
             }
            },
            "type": "barpolar"
           }
          ],
          "carpet": [
           {
            "aaxis": {
             "endlinecolor": "#2a3f5f",
             "gridcolor": "white",
             "linecolor": "white",
             "minorgridcolor": "white",
             "startlinecolor": "#2a3f5f"
            },
            "baxis": {
             "endlinecolor": "#2a3f5f",
             "gridcolor": "white",
             "linecolor": "white",
             "minorgridcolor": "white",
             "startlinecolor": "#2a3f5f"
            },
            "type": "carpet"
           }
          ],
          "choropleth": [
           {
            "colorbar": {
             "outlinewidth": 0,
             "ticks": ""
            },
            "type": "choropleth"
           }
          ],
          "contour": [
           {
            "colorbar": {
             "outlinewidth": 0,
             "ticks": ""
            },
            "colorscale": [
             [
              0,
              "#0d0887"
             ],
             [
              0.1111111111111111,
              "#46039f"
             ],
             [
              0.2222222222222222,
              "#7201a8"
             ],
             [
              0.3333333333333333,
              "#9c179e"
             ],
             [
              0.4444444444444444,
              "#bd3786"
             ],
             [
              0.5555555555555556,
              "#d8576b"
             ],
             [
              0.6666666666666666,
              "#ed7953"
             ],
             [
              0.7777777777777778,
              "#fb9f3a"
             ],
             [
              0.8888888888888888,
              "#fdca26"
             ],
             [
              1,
              "#f0f921"
             ]
            ],
            "type": "contour"
           }
          ],
          "contourcarpet": [
           {
            "colorbar": {
             "outlinewidth": 0,
             "ticks": ""
            },
            "type": "contourcarpet"
           }
          ],
          "heatmap": [
           {
            "colorbar": {
             "outlinewidth": 0,
             "ticks": ""
            },
            "colorscale": [
             [
              0,
              "#0d0887"
             ],
             [
              0.1111111111111111,
              "#46039f"
             ],
             [
              0.2222222222222222,
              "#7201a8"
             ],
             [
              0.3333333333333333,
              "#9c179e"
             ],
             [
              0.4444444444444444,
              "#bd3786"
             ],
             [
              0.5555555555555556,
              "#d8576b"
             ],
             [
              0.6666666666666666,
              "#ed7953"
             ],
             [
              0.7777777777777778,
              "#fb9f3a"
             ],
             [
              0.8888888888888888,
              "#fdca26"
             ],
             [
              1,
              "#f0f921"
             ]
            ],
            "type": "heatmap"
           }
          ],
          "heatmapgl": [
           {
            "colorbar": {
             "outlinewidth": 0,
             "ticks": ""
            },
            "colorscale": [
             [
              0,
              "#0d0887"
             ],
             [
              0.1111111111111111,
              "#46039f"
             ],
             [
              0.2222222222222222,
              "#7201a8"
             ],
             [
              0.3333333333333333,
              "#9c179e"
             ],
             [
              0.4444444444444444,
              "#bd3786"
             ],
             [
              0.5555555555555556,
              "#d8576b"
             ],
             [
              0.6666666666666666,
              "#ed7953"
             ],
             [
              0.7777777777777778,
              "#fb9f3a"
             ],
             [
              0.8888888888888888,
              "#fdca26"
             ],
             [
              1,
              "#f0f921"
             ]
            ],
            "type": "heatmapgl"
           }
          ],
          "histogram": [
           {
            "marker": {
             "pattern": {
              "fillmode": "overlay",
              "size": 10,
              "solidity": 0.2
             }
            },
            "type": "histogram"
           }
          ],
          "histogram2d": [
           {
            "colorbar": {
             "outlinewidth": 0,
             "ticks": ""
            },
            "colorscale": [
             [
              0,
              "#0d0887"
             ],
             [
              0.1111111111111111,
              "#46039f"
             ],
             [
              0.2222222222222222,
              "#7201a8"
             ],
             [
              0.3333333333333333,
              "#9c179e"
             ],
             [
              0.4444444444444444,
              "#bd3786"
             ],
             [
              0.5555555555555556,
              "#d8576b"
             ],
             [
              0.6666666666666666,
              "#ed7953"
             ],
             [
              0.7777777777777778,
              "#fb9f3a"
             ],
             [
              0.8888888888888888,
              "#fdca26"
             ],
             [
              1,
              "#f0f921"
             ]
            ],
            "type": "histogram2d"
           }
          ],
          "histogram2dcontour": [
           {
            "colorbar": {
             "outlinewidth": 0,
             "ticks": ""
            },
            "colorscale": [
             [
              0,
              "#0d0887"
             ],
             [
              0.1111111111111111,
              "#46039f"
             ],
             [
              0.2222222222222222,
              "#7201a8"
             ],
             [
              0.3333333333333333,
              "#9c179e"
             ],
             [
              0.4444444444444444,
              "#bd3786"
             ],
             [
              0.5555555555555556,
              "#d8576b"
             ],
             [
              0.6666666666666666,
              "#ed7953"
             ],
             [
              0.7777777777777778,
              "#fb9f3a"
             ],
             [
              0.8888888888888888,
              "#fdca26"
             ],
             [
              1,
              "#f0f921"
             ]
            ],
            "type": "histogram2dcontour"
           }
          ],
          "mesh3d": [
           {
            "colorbar": {
             "outlinewidth": 0,
             "ticks": ""
            },
            "type": "mesh3d"
           }
          ],
          "parcoords": [
           {
            "line": {
             "colorbar": {
              "outlinewidth": 0,
              "ticks": ""
             }
            },
            "type": "parcoords"
           }
          ],
          "pie": [
           {
            "automargin": true,
            "type": "pie"
           }
          ],
          "scatter": [
           {
            "fillpattern": {
             "fillmode": "overlay",
             "size": 10,
             "solidity": 0.2
            },
            "type": "scatter"
           }
          ],
          "scatter3d": [
           {
            "line": {
             "colorbar": {
              "outlinewidth": 0,
              "ticks": ""
             }
            },
            "marker": {
             "colorbar": {
              "outlinewidth": 0,
              "ticks": ""
             }
            },
            "type": "scatter3d"
           }
          ],
          "scattercarpet": [
           {
            "marker": {
             "colorbar": {
              "outlinewidth": 0,
              "ticks": ""
             }
            },
            "type": "scattercarpet"
           }
          ],
          "scattergeo": [
           {
            "marker": {
             "colorbar": {
              "outlinewidth": 0,
              "ticks": ""
             }
            },
            "type": "scattergeo"
           }
          ],
          "scattergl": [
           {
            "marker": {
             "colorbar": {
              "outlinewidth": 0,
              "ticks": ""
             }
            },
            "type": "scattergl"
           }
          ],
          "scattermapbox": [
           {
            "marker": {
             "colorbar": {
              "outlinewidth": 0,
              "ticks": ""
             }
            },
            "type": "scattermapbox"
           }
          ],
          "scatterpolar": [
           {
            "marker": {
             "colorbar": {
              "outlinewidth": 0,
              "ticks": ""
             }
            },
            "type": "scatterpolar"
           }
          ],
          "scatterpolargl": [
           {
            "marker": {
             "colorbar": {
              "outlinewidth": 0,
              "ticks": ""
             }
            },
            "type": "scatterpolargl"
           }
          ],
          "scatterternary": [
           {
            "marker": {
             "colorbar": {
              "outlinewidth": 0,
              "ticks": ""
             }
            },
            "type": "scatterternary"
           }
          ],
          "surface": [
           {
            "colorbar": {
             "outlinewidth": 0,
             "ticks": ""
            },
            "colorscale": [
             [
              0,
              "#0d0887"
             ],
             [
              0.1111111111111111,
              "#46039f"
             ],
             [
              0.2222222222222222,
              "#7201a8"
             ],
             [
              0.3333333333333333,
              "#9c179e"
             ],
             [
              0.4444444444444444,
              "#bd3786"
             ],
             [
              0.5555555555555556,
              "#d8576b"
             ],
             [
              0.6666666666666666,
              "#ed7953"
             ],
             [
              0.7777777777777778,
              "#fb9f3a"
             ],
             [
              0.8888888888888888,
              "#fdca26"
             ],
             [
              1,
              "#f0f921"
             ]
            ],
            "type": "surface"
           }
          ],
          "table": [
           {
            "cells": {
             "fill": {
              "color": "#EBF0F8"
             },
             "line": {
              "color": "white"
             }
            },
            "header": {
             "fill": {
              "color": "#C8D4E3"
             },
             "line": {
              "color": "white"
             }
            },
            "type": "table"
           }
          ]
         },
         "layout": {
          "annotationdefaults": {
           "arrowcolor": "#2a3f5f",
           "arrowhead": 0,
           "arrowwidth": 1
          },
          "autotypenumbers": "strict",
          "coloraxis": {
           "colorbar": {
            "outlinewidth": 0,
            "ticks": ""
           }
          },
          "colorscale": {
           "diverging": [
            [
             0,
             "#8e0152"
            ],
            [
             0.1,
             "#c51b7d"
            ],
            [
             0.2,
             "#de77ae"
            ],
            [
             0.3,
             "#f1b6da"
            ],
            [
             0.4,
             "#fde0ef"
            ],
            [
             0.5,
             "#f7f7f7"
            ],
            [
             0.6,
             "#e6f5d0"
            ],
            [
             0.7,
             "#b8e186"
            ],
            [
             0.8,
             "#7fbc41"
            ],
            [
             0.9,
             "#4d9221"
            ],
            [
             1,
             "#276419"
            ]
           ],
           "sequential": [
            [
             0,
             "#0d0887"
            ],
            [
             0.1111111111111111,
             "#46039f"
            ],
            [
             0.2222222222222222,
             "#7201a8"
            ],
            [
             0.3333333333333333,
             "#9c179e"
            ],
            [
             0.4444444444444444,
             "#bd3786"
            ],
            [
             0.5555555555555556,
             "#d8576b"
            ],
            [
             0.6666666666666666,
             "#ed7953"
            ],
            [
             0.7777777777777778,
             "#fb9f3a"
            ],
            [
             0.8888888888888888,
             "#fdca26"
            ],
            [
             1,
             "#f0f921"
            ]
           ],
           "sequentialminus": [
            [
             0,
             "#0d0887"
            ],
            [
             0.1111111111111111,
             "#46039f"
            ],
            [
             0.2222222222222222,
             "#7201a8"
            ],
            [
             0.3333333333333333,
             "#9c179e"
            ],
            [
             0.4444444444444444,
             "#bd3786"
            ],
            [
             0.5555555555555556,
             "#d8576b"
            ],
            [
             0.6666666666666666,
             "#ed7953"
            ],
            [
             0.7777777777777778,
             "#fb9f3a"
            ],
            [
             0.8888888888888888,
             "#fdca26"
            ],
            [
             1,
             "#f0f921"
            ]
           ]
          },
          "colorway": [
           "#636efa",
           "#EF553B",
           "#00cc96",
           "#ab63fa",
           "#FFA15A",
           "#19d3f3",
           "#FF6692",
           "#B6E880",
           "#FF97FF",
           "#FECB52"
          ],
          "font": {
           "color": "#2a3f5f"
          },
          "geo": {
           "bgcolor": "white",
           "lakecolor": "white",
           "landcolor": "#E5ECF6",
           "showlakes": true,
           "showland": true,
           "subunitcolor": "white"
          },
          "hoverlabel": {
           "align": "left"
          },
          "hovermode": "closest",
          "mapbox": {
           "style": "light"
          },
          "paper_bgcolor": "white",
          "plot_bgcolor": "#E5ECF6",
          "polar": {
           "angularaxis": {
            "gridcolor": "white",
            "linecolor": "white",
            "ticks": ""
           },
           "bgcolor": "#E5ECF6",
           "radialaxis": {
            "gridcolor": "white",
            "linecolor": "white",
            "ticks": ""
           }
          },
          "scene": {
           "xaxis": {
            "backgroundcolor": "#E5ECF6",
            "gridcolor": "white",
            "gridwidth": 2,
            "linecolor": "white",
            "showbackground": true,
            "ticks": "",
            "zerolinecolor": "white"
           },
           "yaxis": {
            "backgroundcolor": "#E5ECF6",
            "gridcolor": "white",
            "gridwidth": 2,
            "linecolor": "white",
            "showbackground": true,
            "ticks": "",
            "zerolinecolor": "white"
           },
           "zaxis": {
            "backgroundcolor": "#E5ECF6",
            "gridcolor": "white",
            "gridwidth": 2,
            "linecolor": "white",
            "showbackground": true,
            "ticks": "",
            "zerolinecolor": "white"
           }
          },
          "shapedefaults": {
           "line": {
            "color": "#2a3f5f"
           }
          },
          "ternary": {
           "aaxis": {
            "gridcolor": "white",
            "linecolor": "white",
            "ticks": ""
           },
           "baxis": {
            "gridcolor": "white",
            "linecolor": "white",
            "ticks": ""
           },
           "bgcolor": "#E5ECF6",
           "caxis": {
            "gridcolor": "white",
            "linecolor": "white",
            "ticks": ""
           }
          },
          "title": {
           "x": 0.05
          },
          "xaxis": {
           "automargin": true,
           "gridcolor": "white",
           "linecolor": "white",
           "ticks": "",
           "title": {
            "standoff": 15
           },
           "zerolinecolor": "white",
           "zerolinewidth": 2
          },
          "yaxis": {
           "automargin": true,
           "gridcolor": "white",
           "linecolor": "white",
           "ticks": "",
           "title": {
            "standoff": 15
           },
           "zerolinecolor": "white",
           "zerolinewidth": 2
          }
         }
        },
        "title": {
         "text": "Main Games: Weekly Delta Views Timeseries"
        },
        "xaxis": {
         "title": {
          "text": "Date"
         }
        },
        "yaxis": {
         "title": {
          "text": "Delta Views"
         }
        }
       }
      }
     },
     "metadata": {},
     "output_type": "display_data"
    }
   ],
   "source": [
    "fig = go.Figure()\n",
    "\n",
    "for (game, game_df) in sample_beforeF:\n",
    "    fig.add_trace(go.Scatter(\n",
    "        x=game_df['datetime'],\n",
    "        y=game_df[metric],\n",
    "        mode='lines',\n",
    "        name=game,\n",
    "        line=dict(color=colors[game]),\n",
    "    ))\n",
    "\n",
    "fig.update_layout(\n",
    "        title=f\"Main Games: Weekly {metric_txt} Timeseries\",\n",
    "        xaxis_title='Date',\n",
    "        yaxis_title=metric_txt,\n",
    "        showlegend=True\n",
    "    )\n",
    "\n",
    "fig.write_html(f\"plots/dviews_beforeF.html\")\n",
    "\n",
    "fig.show()"
   ]
  },
  {
   "cell_type": "code",
   "execution_count": 217,
   "metadata": {},
   "outputs": [
    {
     "data": {
      "application/vnd.plotly.v1+json": {
       "config": {
        "plotlyServerURL": "https://plot.ly"
       },
       "data": [
        {
         "line": {
          "color": "#636EFA"
         },
         "mode": "lines",
         "name": "COD",
         "type": "scatter",
         "x": [
          "2017-07-24T00:00:00",
          "2017-07-31T00:00:00",
          "2017-08-07T00:00:00",
          "2017-08-14T00:00:00",
          "2017-08-21T00:00:00",
          "2017-08-28T00:00:00",
          "2017-09-04T00:00:00",
          "2017-09-11T00:00:00",
          "2017-09-18T00:00:00",
          "2017-09-25T00:00:00",
          "2017-10-02T00:00:00",
          "2017-10-09T00:00:00",
          "2017-10-16T00:00:00",
          "2017-10-23T00:00:00",
          "2017-10-29T23:00:00",
          "2017-11-05T23:00:00",
          "2017-11-12T23:00:00",
          "2017-11-19T23:00:00",
          "2017-11-26T23:00:00",
          "2017-12-03T23:00:00",
          "2017-12-10T23:00:00",
          "2017-12-17T23:00:00",
          "2017-12-24T23:00:00",
          "2017-12-31T23:00:00",
          "2018-01-07T23:00:00",
          "2018-01-14T23:00:00",
          "2018-01-21T23:00:00",
          "2018-01-28T23:00:00",
          "2018-02-04T23:00:00",
          "2018-02-11T23:00:00",
          "2018-02-18T23:00:00",
          "2018-02-25T23:00:00",
          "2018-03-04T23:00:00",
          "2018-03-11T23:00:00",
          "2018-03-18T23:00:00",
          "2018-03-26T00:00:00",
          "2018-04-02T00:00:00",
          "2018-04-09T00:00:00",
          "2018-04-16T00:00:00",
          "2018-04-23T00:00:00",
          "2018-04-30T00:00:00",
          "2018-05-07T00:00:00",
          "2018-05-14T00:00:00",
          "2018-05-21T00:00:00",
          "2018-05-28T00:00:00",
          "2018-06-04T00:00:00",
          "2018-06-11T00:00:00",
          "2018-06-18T00:00:00",
          "2018-06-25T00:00:00",
          "2018-07-02T00:00:00",
          "2018-07-09T00:00:00",
          "2018-07-16T00:00:00",
          "2018-07-23T00:00:00",
          "2018-07-30T00:00:00",
          "2018-08-06T00:00:00",
          "2018-08-13T00:00:00",
          "2018-08-20T00:00:00",
          "2018-08-27T00:00:00",
          "2018-09-03T00:00:00",
          "2018-09-10T00:00:00",
          "2018-09-17T00:00:00",
          "2018-09-24T00:00:00",
          "2018-10-01T00:00:00",
          "2018-10-08T00:00:00",
          "2018-10-15T00:00:00",
          "2018-10-22T00:00:00",
          "2018-10-28T23:00:00",
          "2018-11-04T23:00:00",
          "2018-11-11T23:00:00",
          "2018-11-18T23:00:00",
          "2018-11-25T23:00:00",
          "2018-12-02T23:00:00",
          "2018-12-09T23:00:00",
          "2018-12-16T23:00:00",
          "2018-12-23T23:00:00",
          "2018-12-30T23:00:00",
          "2019-01-06T23:00:00",
          "2019-01-13T23:00:00",
          "2019-01-20T23:00:00",
          "2019-01-27T23:00:00",
          "2019-02-03T23:00:00",
          "2019-02-10T23:00:00",
          "2019-02-17T23:00:00",
          "2019-02-24T23:00:00",
          "2019-03-03T23:00:00",
          "2019-03-10T23:00:00",
          "2019-03-17T23:00:00",
          "2019-03-24T23:00:00",
          "2019-04-01T00:00:00",
          "2019-04-08T00:00:00",
          "2019-04-15T00:00:00",
          "2019-04-22T00:00:00",
          "2019-04-29T00:00:00",
          "2019-05-06T00:00:00",
          "2019-05-13T00:00:00",
          "2019-05-20T00:00:00",
          "2019-05-27T00:00:00",
          "2019-06-03T00:00:00",
          "2019-06-10T00:00:00",
          "2019-06-17T00:00:00",
          "2019-06-24T00:00:00",
          "2019-07-01T00:00:00",
          "2019-07-08T00:00:00",
          "2019-07-15T00:00:00",
          "2019-07-22T00:00:00",
          "2019-07-29T00:00:00",
          "2019-08-05T00:00:00",
          "2019-08-12T00:00:00",
          "2019-08-19T00:00:00",
          "2019-08-26T00:00:00",
          "2019-09-02T00:00:00",
          "2019-09-09T00:00:00",
          "2019-09-16T00:00:00",
          "2019-09-23T00:00:00"
         ],
         "y": [
          791409.9,
          781937.925,
          680746.875,
          727238.9,
          547675,
          612808.975,
          628490.95,
          700774.575,
          715769.25,
          565142.1,
          431852.7,
          471619.875,
          514446.475,
          493158.9,
          656278.8215025909,
          1218035.4962057502,
          1777423.9718749963,
          1493890.4645833327,
          857086.7614583336,
          801947.8604166672,
          967358.1927083299,
          872916.484375,
          851051.3177083418,
          924295.96458332,
          936293.6072916717,
          765303.5625000037,
          804683.1895833329,
          882139.3958333306,
          1372347.8885416612,
          1114448.5208333298,
          832780.9510416745,
          694057.8364583373,
          673939.0635416583,
          888369.5052083343,
          1171123.1354166672,
          1011459.2800392732,
          930563.5074607298,
          896373.25,
          826045.6,
          827823.35,
          929371.175,
          943283.7,
          802962.975,
          1026507.8,
          790683.75,
          782218.35,
          1000891.225,
          1034146.85,
          894168.725,
          1045890.6,
          811807.15,
          955577.45,
          1242689.525,
          1216431.3,
          1293144.925,
          1297812.8,
          1207055.075,
          1214138.325,
          1474931.15,
          1224830.625,
          1039474.8,
          1356670.425,
          1383983.275,
          1651729.925,
          2275058.325,
          2493180.2475388767,
          1734964.4687823802,
          1706612.3034704118,
          1389301.2385416806,
          1093907.8822916448,
          921219.7093750208,
          873587.0916666433,
          991556.3395833329,
          1380531.6843750016,
          1109568.3489583314,
          1042329.2000000238,
          1107302.4281250015,
          1037017.4958333239,
          892557.7343749941,
          776264.2864583328,
          712334.5562500015,
          623111.0645833403,
          913477.659375,
          1778030.848958309,
          1733184.179166682,
          1674160.0489583344,
          1724803.6229166477,
          2342276.5100240246,
          2773787.4815445007,
          1893095.24384816,
          1917621.35,
          1279581.55,
          2057363.975,
          2376064.8,
          2182670.2,
          2062438.8,
          2530249.45,
          3346935.725,
          2489292.25,
          2643931.15,
          2315467.55,
          2048641.075,
          2307169.9,
          2483373.75,
          2308482.8,
          2290506.725,
          1805294.3,
          2435206.65,
          1951912.875,
          1715739.675,
          1617310.575,
          1629400.475,
          1737418.625,
          1891878.5714285611
         ]
        },
        {
         "line": {
          "color": "#EF553B"
         },
         "mode": "lines",
         "name": "FIFA",
         "type": "scatter",
         "x": [
          "2017-07-24T00:00:00",
          "2017-07-31T00:00:00",
          "2017-08-07T00:00:00",
          "2017-08-14T00:00:00",
          "2017-08-21T00:00:00",
          "2017-08-28T00:00:00",
          "2017-09-04T00:00:00",
          "2017-09-11T00:00:00",
          "2017-09-18T00:00:00",
          "2017-09-25T00:00:00",
          "2017-10-02T00:00:00",
          "2017-10-09T00:00:00",
          "2017-10-16T00:00:00",
          "2017-10-23T00:00:00",
          "2017-10-29T23:00:00",
          "2017-11-05T23:00:00",
          "2017-11-12T23:00:00",
          "2017-11-19T23:00:00",
          "2017-11-26T23:00:00",
          "2017-12-03T23:00:00",
          "2017-12-10T23:00:00",
          "2017-12-17T23:00:00",
          "2017-12-24T23:00:00",
          "2017-12-31T23:00:00",
          "2018-01-07T23:00:00",
          "2018-01-14T23:00:00",
          "2018-01-21T23:00:00",
          "2018-01-28T23:00:00",
          "2018-02-04T23:00:00",
          "2018-02-11T23:00:00",
          "2018-02-18T23:00:00",
          "2018-02-25T23:00:00",
          "2018-03-04T23:00:00",
          "2018-03-11T23:00:00",
          "2018-03-18T23:00:00",
          "2018-03-26T00:00:00",
          "2018-04-02T00:00:00",
          "2018-04-09T00:00:00",
          "2018-04-16T00:00:00",
          "2018-04-23T00:00:00",
          "2018-04-30T00:00:00",
          "2018-05-07T00:00:00",
          "2018-05-14T00:00:00",
          "2018-05-21T00:00:00",
          "2018-05-28T00:00:00",
          "2018-06-04T00:00:00",
          "2018-06-11T00:00:00",
          "2018-06-18T00:00:00",
          "2018-06-25T00:00:00",
          "2018-07-02T00:00:00",
          "2018-07-09T00:00:00",
          "2018-07-16T00:00:00",
          "2018-07-23T00:00:00",
          "2018-07-30T00:00:00",
          "2018-08-06T00:00:00",
          "2018-08-13T00:00:00",
          "2018-08-20T00:00:00",
          "2018-08-27T00:00:00",
          "2018-09-03T00:00:00",
          "2018-09-10T00:00:00",
          "2018-09-17T00:00:00",
          "2018-09-24T00:00:00",
          "2018-10-01T00:00:00",
          "2018-10-08T00:00:00",
          "2018-10-15T00:00:00",
          "2018-10-22T00:00:00",
          "2018-10-28T23:00:00",
          "2018-11-04T23:00:00",
          "2018-11-11T23:00:00",
          "2018-11-18T23:00:00",
          "2018-11-25T23:00:00",
          "2018-12-02T23:00:00",
          "2018-12-09T23:00:00",
          "2018-12-16T23:00:00",
          "2018-12-23T23:00:00",
          "2018-12-30T23:00:00",
          "2019-01-06T23:00:00",
          "2019-01-13T23:00:00",
          "2019-01-20T23:00:00",
          "2019-01-27T23:00:00",
          "2019-02-03T23:00:00",
          "2019-02-10T23:00:00",
          "2019-02-17T23:00:00",
          "2019-02-24T23:00:00",
          "2019-03-03T23:00:00",
          "2019-03-10T23:00:00",
          "2019-03-17T23:00:00",
          "2019-03-24T23:00:00",
          "2019-04-01T00:00:00",
          "2019-04-08T00:00:00",
          "2019-04-15T00:00:00",
          "2019-04-22T00:00:00",
          "2019-04-29T00:00:00",
          "2019-05-06T00:00:00",
          "2019-05-13T00:00:00",
          "2019-05-20T00:00:00",
          "2019-05-27T00:00:00",
          "2019-06-03T00:00:00",
          "2019-06-10T00:00:00",
          "2019-06-17T00:00:00",
          "2019-06-24T00:00:00",
          "2019-07-01T00:00:00",
          "2019-07-08T00:00:00",
          "2019-07-15T00:00:00",
          "2019-07-22T00:00:00",
          "2019-07-29T00:00:00",
          "2019-08-05T00:00:00",
          "2019-08-12T00:00:00",
          "2019-08-19T00:00:00",
          "2019-08-26T00:00:00",
          "2019-09-02T00:00:00",
          "2019-09-09T00:00:00",
          "2019-09-16T00:00:00",
          "2019-09-23T00:00:00"
         ],
         "y": [
          2937654.425,
          2966099.4,
          3261911.65,
          5304441.975,
          6698777.175,
          6218700.775,
          4747428.05,
          4640601.4,
          4090710.475,
          4136036.675,
          3985851.55,
          3687757.15,
          3469428.625,
          3535826.937564765,
          3663844.582772,
          3206042.6589108827,
          3233233.8103356794,
          3467703.12083333,
          3210612.7854166627,
          3298412.713541697,
          3186274.204166636,
          3260021.043750015,
          3631682.4802083657,
          3321206.487499997,
          3238027.2968749464,
          3120101.584374985,
          3100134.3989583375,
          2885086.1927084057,
          2893780.8864582926,
          3379570.612500009,
          3713125.791666663,
          3108059.344791663,
          3159883.253125024,
          2414720.4489583494,
          2628933.509374964,
          2497690.2006271807,
          2270980.4295811513,
          2376129.675,
          2344115.35,
          2131399.025,
          2266794.65,
          2487626.425,
          2457831.275,
          2521682.65,
          2679908.3,
          3100329.85,
          3072258,
          2259368.275,
          2259045.175,
          2631005.525,
          2562571.6,
          2952000.425,
          3338557.225,
          3409030.125,
          3424633.5,
          3409992.975,
          3639371.6,
          4439036.325,
          3426243.175,
          2861920.225,
          2842294.825,
          2916798.1,
          2560363.675,
          2468251.2,
          2729028.125,
          2878070.3518134714,
          2626357.168264243,
          2445521.624713975,
          2447217.635416633,
          3245307.2020833166,
          4286297.104166674,
          4021069.910416654,
          3544288.0718750088,
          3432912.702083358,
          2948469.9302083044,
          2816385.2458333583,
          3423720.9958333047,
          3903105.023958397,
          2981905.95624994,
          2903895.5416666507,
          2642631.8333333554,
          2615066.052083361,
          2938975.455208349,
          3252239.454166657,
          2864121.7322916565,
          2763032.515624964,
          2601876.223958397,
          2890069.2854166627,
          2659563.2253489853,
          2486865.5079843225,
          2782134.325,
          2823454,
          2566034.775,
          2414877.075,
          2457564.275,
          2610735.35,
          1961597.95,
          2437477.25,
          2798955.875,
          3100296.125,
          2883969.1,
          2507260.2,
          2259554.725,
          2493621.175,
          2840657.65,
          3008077.025,
          2817805.375,
          2674471.225,
          2593649.1,
          2497432.175,
          2220489.95,
          2181352.275,
          2454012.4,
          2108820.9964285614
         ]
        },
        {
         "line": {
          "color": "#00CC96"
         },
         "mode": "lines",
         "name": "Fortnite",
         "type": "scatter",
         "x": [
          "2017-07-24T00:00:00",
          "2017-07-31T00:00:00",
          "2017-08-07T00:00:00",
          "2017-08-14T00:00:00",
          "2017-08-21T00:00:00",
          "2017-08-28T00:00:00",
          "2017-09-04T00:00:00",
          "2017-09-11T00:00:00",
          "2017-09-18T00:00:00",
          "2017-09-25T00:00:00",
          "2017-10-02T00:00:00",
          "2017-10-09T00:00:00",
          "2017-10-16T00:00:00",
          "2017-10-23T00:00:00",
          "2017-10-29T23:00:00",
          "2017-11-05T23:00:00",
          "2017-11-12T23:00:00",
          "2017-11-19T23:00:00",
          "2017-11-26T23:00:00",
          "2017-12-03T23:00:00",
          "2017-12-10T23:00:00",
          "2017-12-17T23:00:00",
          "2017-12-24T23:00:00",
          "2017-12-31T23:00:00",
          "2018-01-07T23:00:00",
          "2018-01-14T23:00:00",
          "2018-01-21T23:00:00",
          "2018-01-28T23:00:00",
          "2018-02-04T23:00:00",
          "2018-02-11T23:00:00",
          "2018-02-18T23:00:00",
          "2018-02-25T23:00:00",
          "2018-03-04T23:00:00",
          "2018-03-11T23:00:00",
          "2018-03-18T23:00:00",
          "2018-03-26T00:00:00",
          "2018-04-02T00:00:00",
          "2018-04-09T00:00:00",
          "2018-04-16T00:00:00",
          "2018-04-23T00:00:00",
          "2018-04-30T00:00:00",
          "2018-05-07T00:00:00",
          "2018-05-14T00:00:00",
          "2018-05-21T00:00:00",
          "2018-05-28T00:00:00",
          "2018-06-04T00:00:00",
          "2018-06-11T00:00:00",
          "2018-06-18T00:00:00",
          "2018-06-25T00:00:00",
          "2018-07-02T00:00:00",
          "2018-07-09T00:00:00",
          "2018-07-16T00:00:00",
          "2018-07-23T00:00:00",
          "2018-07-30T00:00:00",
          "2018-08-06T00:00:00",
          "2018-08-13T00:00:00",
          "2018-08-20T00:00:00",
          "2018-08-27T00:00:00",
          "2018-09-03T00:00:00",
          "2018-09-10T00:00:00",
          "2018-09-17T00:00:00",
          "2018-09-24T00:00:00",
          "2018-10-01T00:00:00",
          "2018-10-08T00:00:00",
          "2018-10-15T00:00:00",
          "2018-10-22T00:00:00",
          "2018-10-28T23:00:00",
          "2018-11-04T23:00:00",
          "2018-11-11T23:00:00",
          "2018-11-18T23:00:00",
          "2018-11-25T23:00:00",
          "2018-12-02T23:00:00",
          "2018-12-09T23:00:00",
          "2018-12-16T23:00:00",
          "2018-12-23T23:00:00",
          "2018-12-30T23:00:00",
          "2019-01-06T23:00:00",
          "2019-01-13T23:00:00",
          "2019-01-20T23:00:00",
          "2019-01-27T23:00:00",
          "2019-02-03T23:00:00",
          "2019-02-10T23:00:00",
          "2019-02-17T23:00:00",
          "2019-02-24T23:00:00",
          "2019-03-03T23:00:00",
          "2019-03-10T23:00:00",
          "2019-03-17T23:00:00",
          "2019-03-24T23:00:00",
          "2019-04-01T00:00:00",
          "2019-04-08T00:00:00",
          "2019-04-15T00:00:00",
          "2019-04-22T00:00:00",
          "2019-04-29T00:00:00",
          "2019-05-06T00:00:00",
          "2019-05-13T00:00:00",
          "2019-05-20T00:00:00",
          "2019-05-27T00:00:00",
          "2019-06-03T00:00:00",
          "2019-06-10T00:00:00",
          "2019-06-17T00:00:00",
          "2019-06-24T00:00:00",
          "2019-07-01T00:00:00",
          "2019-07-08T00:00:00",
          "2019-07-15T00:00:00",
          "2019-07-22T00:00:00",
          "2019-07-29T00:00:00",
          "2019-08-05T00:00:00",
          "2019-08-12T00:00:00",
          "2019-08-19T00:00:00",
          "2019-08-26T00:00:00",
          "2019-09-02T00:00:00",
          "2019-09-09T00:00:00",
          "2019-09-16T00:00:00",
          "2019-09-23T00:00:00"
         ],
         "y": [
          2255240.05,
          2587848.8,
          2318598.3,
          2355770.85,
          2483790.05,
          2630906.125,
          2594935.625,
          1945637.15,
          1986642.75,
          1812777.775,
          1829334.225,
          1885242.15,
          1772966.55,
          1898660.9699482322,
          2668178.1642486127,
          4431840.576219845,
          4889941.1385416705,
          4070152.7666666666,
          3810434.8947915947,
          4113485.693750076,
          4469964.036458326,
          4776719.155208341,
          5762368.528125,
          7017233.803124996,
          8479428.731249962,
          9462770.037500046,
          10998752.731249988,
          12772750.881250001,
          13583420.195833314,
          14710774.270833367,
          16377635.959375,
          17387829.929166637,
          17123870.421874996,
          19795919.37604167,
          20844099.755208366,
          22611511.477050573,
          23646607.35628272,
          23275521.1,
          25537532.45,
          26228074.5,
          26193110.65,
          25533591.225,
          26421448.325,
          25199145.55,
          22437200.25,
          21498863.3,
          24510915.9,
          24237061.925,
          22874716.275,
          28271607.05,
          36266118.9,
          36946011.85,
          37302493.8,
          38091324.2,
          37011137,
          42411450.225,
          41179187.225,
          37625748.125,
          33648640.125,
          32968730.875,
          33510062.675,
          33232779.5,
          33785419.75,
          33302886.1416667,
          29558202.333333302,
          27959313.45,
          26838498.377361644,
          26837209.5021451,
          28092395.35278491,
          27715958.641666614,
          23955754.72291677,
          21449300.82499987,
          25152317.787500095,
          25322720.185416747,
          26246761.736458253,
          27720107.236458313,
          27682068.427083302,
          26697169.1416667,
          25539459.171875108,
          23500839.34479153,
          24969289.421875,
          25665627.008333422,
          27912601.552083276,
          32233088.582291674,
          31503916.792708397,
          27442583.64583323,
          30324114.783333372,
          28096887.165112328,
          27647470.758785915,
          24706322.786518432,
          23381889.775,
          22278105.125,
          20289875.05,
          20821214.825,
          24603503.25,
          19784627.925,
          21045137.9,
          20711043.225,
          20334884.625,
          18724458.2,
          17057927.225,
          17514498.8,
          17700925.775,
          20691560.75,
          21584201.25,
          20116213.25,
          14075054.675,
          12223872.375,
          17849467.3,
          18756269.25,
          19766653.725,
          16590592.975,
          14827585.15,
          12539164.15
         ]
        },
        {
         "line": {
          "color": "#AB63FA"
         },
         "mode": "lines",
         "name": "GTA",
         "type": "scatter",
         "x": [
          "2017-07-24T00:00:00",
          "2017-07-31T00:00:00",
          "2017-08-07T00:00:00",
          "2017-08-14T00:00:00",
          "2017-08-21T00:00:00",
          "2017-08-28T00:00:00",
          "2017-09-04T00:00:00",
          "2017-09-11T00:00:00",
          "2017-09-18T00:00:00",
          "2017-09-25T00:00:00",
          "2017-10-02T00:00:00",
          "2017-10-09T00:00:00",
          "2017-10-16T00:00:00",
          "2017-10-23T00:00:00",
          "2017-10-29T23:00:00",
          "2017-11-05T23:00:00",
          "2017-11-12T23:00:00",
          "2017-11-19T23:00:00",
          "2017-11-26T23:00:00",
          "2017-12-03T23:00:00",
          "2017-12-10T23:00:00",
          "2017-12-17T23:00:00",
          "2017-12-24T23:00:00",
          "2017-12-31T23:00:00",
          "2018-01-07T23:00:00",
          "2018-01-14T23:00:00",
          "2018-01-21T23:00:00",
          "2018-01-28T23:00:00",
          "2018-02-04T23:00:00",
          "2018-02-11T23:00:00",
          "2018-02-18T23:00:00",
          "2018-02-25T23:00:00",
          "2018-03-04T23:00:00",
          "2018-03-11T23:00:00",
          "2018-03-18T23:00:00",
          "2018-03-26T00:00:00",
          "2018-04-02T00:00:00",
          "2018-04-09T00:00:00",
          "2018-04-16T00:00:00",
          "2018-04-23T00:00:00",
          "2018-04-30T00:00:00",
          "2018-05-07T00:00:00",
          "2018-05-14T00:00:00",
          "2018-05-21T00:00:00",
          "2018-05-28T00:00:00",
          "2018-06-04T00:00:00",
          "2018-06-11T00:00:00",
          "2018-06-18T00:00:00",
          "2018-06-25T00:00:00",
          "2018-07-02T00:00:00",
          "2018-07-09T00:00:00",
          "2018-07-16T00:00:00",
          "2018-07-23T00:00:00",
          "2018-07-30T00:00:00",
          "2018-08-06T00:00:00",
          "2018-08-13T00:00:00",
          "2018-08-20T00:00:00",
          "2018-08-27T00:00:00",
          "2018-09-03T00:00:00",
          "2018-09-10T00:00:00",
          "2018-09-17T00:00:00",
          "2018-09-24T00:00:00",
          "2018-10-01T00:00:00",
          "2018-10-08T00:00:00",
          "2018-10-15T00:00:00",
          "2018-10-22T00:00:00",
          "2018-10-28T23:00:00",
          "2018-11-04T23:00:00",
          "2018-11-11T23:00:00",
          "2018-11-18T23:00:00",
          "2018-11-25T23:00:00",
          "2018-12-02T23:00:00",
          "2018-12-09T23:00:00",
          "2018-12-16T23:00:00",
          "2018-12-23T23:00:00",
          "2018-12-30T23:00:00",
          "2019-01-06T23:00:00",
          "2019-01-13T23:00:00",
          "2019-01-20T23:00:00",
          "2019-01-27T23:00:00",
          "2019-02-03T23:00:00",
          "2019-02-10T23:00:00",
          "2019-02-17T23:00:00",
          "2019-02-24T23:00:00",
          "2019-03-03T23:00:00",
          "2019-03-10T23:00:00",
          "2019-03-17T23:00:00",
          "2019-03-24T23:00:00",
          "2019-04-01T00:00:00",
          "2019-04-08T00:00:00",
          "2019-04-15T00:00:00",
          "2019-04-22T00:00:00",
          "2019-04-29T00:00:00",
          "2019-05-06T00:00:00",
          "2019-05-13T00:00:00",
          "2019-05-20T00:00:00",
          "2019-05-27T00:00:00",
          "2019-06-03T00:00:00",
          "2019-06-10T00:00:00",
          "2019-06-17T00:00:00",
          "2019-06-24T00:00:00",
          "2019-07-01T00:00:00",
          "2019-07-08T00:00:00",
          "2019-07-15T00:00:00",
          "2019-07-22T00:00:00",
          "2019-07-29T00:00:00",
          "2019-08-05T00:00:00",
          "2019-08-12T00:00:00",
          "2019-08-19T00:00:00",
          "2019-08-26T00:00:00",
          "2019-09-02T00:00:00",
          "2019-09-09T00:00:00",
          "2019-09-16T00:00:00",
          "2019-09-23T00:00:00"
         ],
         "y": [
          3810900.0833333335,
          3520261.2333333334,
          3711378.3333333335,
          3872023.5833333335,
          3685779.508333334,
          4173463.5,
          3212469.785714286,
          3736663,
          2544126.489285714,
          2678248.775,
          2717955.8,
          2837470.55,
          2956514.225,
          2483162.759455955,
          2357765.679663212,
          2699779.78002482,
          3011068.9110643426,
          2861091.139583349,
          2623403.1135416827,
          2652300.890624968,
          2896885.287500024,
          3016723.4642361114,
          3653394.0055555156,
          4118040.4517361224,
          5001778.164583322,
          4301223.38159727,
          4427820.433333302,
          4798841.862500004,
          4617048.088257579,
          4299614.841287859,
          4551535.075662887,
          4372130.775000031,
          4240658.214583281,
          4134413.9708333337,
          3798352.5562500074,
          4279786.153190447,
          4589224.637434562,
          3518059.375,
          3085114.658333333,
          3713738.7166666663,
          4364183.7,
          4612912.125,
          4062881.05,
          4015531.9,
          4564807.175,
          5034071.65,
          5096787.725,
          5033626.55,
          4167243.45,
          3891838.575,
          3724631.1,
          4391551.1,
          4856453.625,
          5284273.275,
          5121251.875,
          5459258.5,
          4357582.025,
          4909162.675,
          4437167.575,
          3698101.15,
          3549384.625,
          3856952.025,
          3717798.725,
          3403915.05,
          3569390.9,
          3620295.8404733883,
          3798127.6182053834,
          4197531.065626761,
          3926772.267708365,
          3021212.3913194602,
          3095596.2591435025,
          3415519.382407423,
          3777745.9265046096,
          3803765.2218749686,
          4228275.838194461,
          4786033.115740781,
          4402458.588425894,
          4110547.9180555716,
          4331133.5277777305,
          4353744.13229165,
          4603983.266666731,
          4046940.863541603,
          3655416.415625048,
          4042334.890625,
          4563947.604166666,
          4154304.6177083016,
          4105405.4656250626,
          3853216.262499952,
          4075215.592964626,
          3995282.125785397,
          3624665.625,
          3936876.4,
          4040794.0166666666,
          4255375.233333333,
          4790613.6,
          4685280.5,
          4642250,
          4602201.225,
          4160504.9027777775,
          4341343.072222223,
          4279536.85,
          4158058.1,
          4358168.4,
          4531197.975,
          5052678.225,
          5033272.7,
          4864064.95,
          4693460.025,
          5226745.35,
          4702029.925,
          5040869.975,
          5419222.25,
          5104585.775,
          4749911.0678571705
         ]
        },
        {
         "line": {
          "color": "#FFA15A"
         },
         "mode": "lines",
         "name": "LOL",
         "type": "scatter",
         "x": [
          "2017-07-24T00:00:00",
          "2017-07-31T00:00:00",
          "2017-08-07T00:00:00",
          "2017-08-14T00:00:00",
          "2017-08-21T00:00:00",
          "2017-08-28T00:00:00",
          "2017-09-04T00:00:00",
          "2017-09-11T00:00:00",
          "2017-09-18T00:00:00",
          "2017-09-25T00:00:00",
          "2017-10-02T00:00:00",
          "2017-10-09T00:00:00",
          "2017-10-16T00:00:00",
          "2017-10-23T00:00:00",
          "2017-10-29T23:00:00",
          "2017-11-05T23:00:00",
          "2017-11-12T23:00:00",
          "2017-11-19T23:00:00",
          "2017-11-26T23:00:00",
          "2017-12-03T23:00:00",
          "2017-12-10T23:00:00",
          "2017-12-17T23:00:00",
          "2017-12-24T23:00:00",
          "2017-12-31T23:00:00",
          "2018-01-07T23:00:00",
          "2018-01-14T23:00:00",
          "2018-01-21T23:00:00",
          "2018-01-28T23:00:00",
          "2018-02-04T23:00:00",
          "2018-02-11T23:00:00",
          "2018-02-18T23:00:00",
          "2018-02-25T23:00:00",
          "2018-03-04T23:00:00",
          "2018-03-11T23:00:00",
          "2018-03-18T23:00:00",
          "2018-03-26T00:00:00",
          "2018-04-02T00:00:00",
          "2018-04-09T00:00:00",
          "2018-04-16T00:00:00",
          "2018-04-23T00:00:00",
          "2018-04-30T00:00:00",
          "2018-05-07T00:00:00",
          "2018-05-14T00:00:00",
          "2018-05-21T00:00:00",
          "2018-05-28T00:00:00",
          "2018-06-04T00:00:00",
          "2018-06-11T00:00:00",
          "2018-06-18T00:00:00",
          "2018-06-25T00:00:00",
          "2018-07-02T00:00:00",
          "2018-07-09T00:00:00",
          "2018-07-16T00:00:00",
          "2018-07-23T00:00:00",
          "2018-07-30T00:00:00",
          "2018-08-06T00:00:00",
          "2018-08-13T00:00:00",
          "2018-08-20T00:00:00",
          "2018-08-27T00:00:00",
          "2018-09-03T00:00:00",
          "2018-09-10T00:00:00",
          "2018-09-17T00:00:00",
          "2018-09-24T00:00:00",
          "2018-10-01T00:00:00",
          "2018-10-08T00:00:00",
          "2018-10-15T00:00:00",
          "2018-10-22T00:00:00",
          "2018-10-28T23:00:00",
          "2018-11-04T23:00:00",
          "2018-11-11T23:00:00",
          "2018-11-18T23:00:00",
          "2018-11-25T23:00:00",
          "2018-12-02T23:00:00",
          "2018-12-09T23:00:00",
          "2018-12-16T23:00:00",
          "2018-12-23T23:00:00",
          "2018-12-30T23:00:00",
          "2019-01-06T23:00:00",
          "2019-01-13T23:00:00",
          "2019-01-20T23:00:00",
          "2019-01-27T23:00:00",
          "2019-02-03T23:00:00",
          "2019-02-10T23:00:00",
          "2019-02-17T23:00:00",
          "2019-02-24T23:00:00",
          "2019-03-03T23:00:00",
          "2019-03-10T23:00:00",
          "2019-03-17T23:00:00",
          "2019-03-24T23:00:00",
          "2019-04-01T00:00:00",
          "2019-04-08T00:00:00",
          "2019-04-15T00:00:00",
          "2019-04-22T00:00:00",
          "2019-04-29T00:00:00",
          "2019-05-06T00:00:00",
          "2019-05-13T00:00:00",
          "2019-05-20T00:00:00",
          "2019-05-27T00:00:00",
          "2019-06-03T00:00:00",
          "2019-06-10T00:00:00",
          "2019-06-17T00:00:00",
          "2019-06-24T00:00:00",
          "2019-07-01T00:00:00",
          "2019-07-08T00:00:00",
          "2019-07-15T00:00:00",
          "2019-07-22T00:00:00",
          "2019-07-29T00:00:00",
          "2019-08-05T00:00:00",
          "2019-08-12T00:00:00",
          "2019-08-19T00:00:00",
          "2019-08-26T00:00:00",
          "2019-09-02T00:00:00",
          "2019-09-09T00:00:00",
          "2019-09-16T00:00:00",
          "2019-09-23T00:00:00"
         ],
         "y": [
          801467.6416666666,
          1406721.1833333333,
          2019759.55,
          1837243.7899999998,
          1398275.51,
          1681700.25,
          1292104.1111111112,
          972386.6138888889,
          2036128.425,
          1872580.075,
          1612745.325,
          1583398.2,
          1636816.025,
          1467563.4038860141,
          1757712.7317357422,
          1606785.1001619298,
          3214657.9590079784,
          2213014.3625,
          1356604.6624999898,
          1147540.6791666844,
          1138216.272916659,
          1027762.6395833315,
          1014775.7479166664,
          1126814.0427083257,
          1695405.0062500122,
          1415737.1895833353,
          1566357.7031250095,
          1468791.1124999942,
          1295587.9614583314,
          1897373.7416666585,
          1144022.6572916668,
          1802002.206249992,
          1591314.6666666667,
          1496262.0833333314,
          1639168.9822916768,
          1420543.9452225175,
          1022363.8672774866,
          1149148.3,
          786062.3,
          959914.55,
          1418973.85,
          1004550.425,
          1224151.9,
          1176828.95,
          840915.95,
          1145440.625,
          873341.5,
          1990232.725,
          1244391.15,
          1271523.675,
          1191124.375,
          1300079.125,
          1447788.375,
          1021712.25,
          1463338.15,
          1448567.9,
          1853060.25,
          1254833.8,
          886673.775,
          1269647.675,
          1582374.55,
          1026471.625,
          1767476.9444444445,
          1168007.461111111,
          1692109.5444444444,
          1627179.9676165804,
          1371041.4746113978,
          1541771.6754803588,
          1879123.699999988,
          1593808.155208353,
          2322230.0364583335,
          1433386.0354166632,
          1485418.8093749923,
          1257322.5718750118,
          1211235.334374972,
          1279281.1427083644,
          1499070.3379629597,
          1915628.5093749794,
          1105899.114120371,
          1162187.590624988,
          1351654.9229166787,
          1472584.5208333333,
          2121229.286458325,
          1999937.3666666795,
          1381955.8072916865,
          1580726.308333309,
          1160955.2000000007,
          1251156.7241819203,
          1585051.9685809626,
          1535274.5395287909,
          1306235.15,
          1229867.3,
          1593245.5,
          2163465.840909091,
          1179048.3681818186,
          1275838.0659090907,
          1414586.475,
          1977938.7204545452,
          2445928.0977272727,
          2148907.0545454547,
          1395989.017272727,
          1193092.7899999998,
          1323386.1700000004,
          1293528.3113636367,
          1588557.793181818,
          1877775.8954545453,
          1610363.518181818,
          1546752.4022727273,
          1651245.4295454547,
          1410172.925,
          1880447.8450000002,
          1316123.7399999998,
          1451022.1763636365,
          1390127.1672077917
         ]
        },
        {
         "line": {
          "color": "#19D3F3"
         },
         "mode": "lines",
         "name": "Minecraft",
         "type": "scatter",
         "x": [
          "2017-07-24T00:00:00",
          "2017-07-31T00:00:00",
          "2017-08-07T00:00:00",
          "2017-08-14T00:00:00",
          "2017-08-21T00:00:00",
          "2017-08-28T00:00:00",
          "2017-09-04T00:00:00",
          "2017-09-11T00:00:00",
          "2017-09-18T00:00:00",
          "2017-09-25T00:00:00",
          "2017-10-02T00:00:00",
          "2017-10-09T00:00:00",
          "2017-10-16T00:00:00",
          "2017-10-23T00:00:00",
          "2017-10-29T23:00:00",
          "2017-11-05T23:00:00",
          "2017-11-12T23:00:00",
          "2017-11-19T23:00:00",
          "2017-11-26T23:00:00",
          "2017-12-03T23:00:00",
          "2017-12-10T23:00:00",
          "2017-12-17T23:00:00",
          "2017-12-24T23:00:00",
          "2017-12-31T23:00:00",
          "2018-01-07T23:00:00",
          "2018-01-14T23:00:00",
          "2018-01-21T23:00:00",
          "2018-01-28T23:00:00",
          "2018-02-04T23:00:00",
          "2018-02-11T23:00:00",
          "2018-02-18T23:00:00",
          "2018-02-25T23:00:00",
          "2018-03-04T23:00:00",
          "2018-03-11T23:00:00",
          "2018-03-18T23:00:00",
          "2018-03-26T00:00:00",
          "2018-04-02T00:00:00",
          "2018-04-09T00:00:00",
          "2018-04-16T00:00:00",
          "2018-04-23T00:00:00",
          "2018-04-30T00:00:00",
          "2018-05-07T00:00:00",
          "2018-05-14T00:00:00",
          "2018-05-21T00:00:00",
          "2018-05-28T00:00:00",
          "2018-06-04T00:00:00",
          "2018-06-11T00:00:00",
          "2018-06-18T00:00:00",
          "2018-06-25T00:00:00",
          "2018-07-02T00:00:00",
          "2018-07-09T00:00:00",
          "2018-07-16T00:00:00",
          "2018-07-23T00:00:00",
          "2018-07-30T00:00:00",
          "2018-08-06T00:00:00",
          "2018-08-13T00:00:00",
          "2018-08-20T00:00:00",
          "2018-08-27T00:00:00",
          "2018-09-03T00:00:00",
          "2018-09-10T00:00:00",
          "2018-09-17T00:00:00",
          "2018-09-24T00:00:00",
          "2018-10-01T00:00:00",
          "2018-10-08T00:00:00",
          "2018-10-15T00:00:00",
          "2018-10-22T00:00:00",
          "2018-10-28T23:00:00",
          "2018-11-04T23:00:00",
          "2018-11-11T23:00:00",
          "2018-11-18T23:00:00",
          "2018-11-25T23:00:00",
          "2018-12-02T23:00:00",
          "2018-12-09T23:00:00",
          "2018-12-16T23:00:00",
          "2018-12-23T23:00:00",
          "2018-12-30T23:00:00",
          "2019-01-06T23:00:00",
          "2019-01-13T23:00:00",
          "2019-01-20T23:00:00",
          "2019-01-27T23:00:00",
          "2019-02-03T23:00:00",
          "2019-02-10T23:00:00",
          "2019-02-17T23:00:00",
          "2019-02-24T23:00:00",
          "2019-03-03T23:00:00",
          "2019-03-10T23:00:00",
          "2019-03-17T23:00:00",
          "2019-03-24T23:00:00",
          "2019-04-01T00:00:00",
          "2019-04-08T00:00:00",
          "2019-04-15T00:00:00",
          "2019-04-22T00:00:00",
          "2019-04-29T00:00:00",
          "2019-05-06T00:00:00",
          "2019-05-13T00:00:00",
          "2019-05-20T00:00:00",
          "2019-05-27T00:00:00",
          "2019-06-03T00:00:00",
          "2019-06-10T00:00:00",
          "2019-06-17T00:00:00",
          "2019-06-24T00:00:00",
          "2019-07-01T00:00:00",
          "2019-07-08T00:00:00",
          "2019-07-15T00:00:00",
          "2019-07-22T00:00:00",
          "2019-07-29T00:00:00",
          "2019-08-05T00:00:00",
          "2019-08-12T00:00:00",
          "2019-08-19T00:00:00",
          "2019-08-26T00:00:00",
          "2019-09-02T00:00:00",
          "2019-09-09T00:00:00",
          "2019-09-16T00:00:00",
          "2019-09-23T00:00:00"
         ],
         "y": [
          32513089.35,
          33954945.175,
          33853410.375,
          31663749.875,
          30704329.9,
          27427128.95,
          25610202.75,
          23064860.3,
          21133466.075,
          21236539.5,
          19632734.3,
          18597603.8,
          20981407.8,
          21269307.78264246,
          21677250.78497406,
          21595726.554258347,
          22816153.446875,
          24772467.005208276,
          22897269.305208646,
          22591526.792708337,
          22847729.763541438,
          21690890.363541793,
          25804626.195833277,
          32785114.729999922,
          34672875.55916703,
          30561428.42895832,
          30414469.144583106,
          26997548.65500021,
          27089450.830207944,
          23475435.897916697,
          24631465.325000416,
          25074927.34166647,
          23905737.761458207,
          21333058.983333338,
          20666486.149945486,
          19152273.621269714,
          21494149.101701498,
          21570228.675,
          21047045.4,
          22339862.3,
          21875544.125,
          21402158.375,
          21292970.5,
          19945516.725,
          21855751.05,
          22725646.225,
          23082382.25,
          23449249.475,
          24813842.325,
          26263051.7,
          25743554.45,
          26859129.625,
          26834334.9,
          26437370.225,
          23489963.55,
          23676053.95,
          19487433.375,
          19842639,
          19680263.2,
          18424801.55,
          17154478.175,
          16441874.4,
          16795124.075,
          16884830.95,
          17307262.025,
          16238510.325,
          16780504.0839478,
          15263799.44144094,
          16372670.528287578,
          19114211.97261076,
          19566517.330078505,
          19488261.000926208,
          17250071.801041342,
          17516612.4395834,
          19026578.17083328,
          21538071.480208494,
          20862976.591666676,
          20560320.798958205,
          19945226.64791708,
          20626142.742708135,
          20250099.70104172,
          19096918.39375017,
          18764167.297916412,
          17831943.151041724,
          15639142.823958278,
          12892359.302083587,
          17795852.622916482,
          18523087.057269692,
          18797752.13650229,
          18715718.19581125,
          19308856.4,
          18638652.95,
          18080930.45,
          18926878.95,
          19817404.5,
          20359060.775,
          19750214.475,
          20484792.675,
          21483192.725,
          22468129.375,
          21949991.575,
          22678485.75,
          24028231.95,
          24580928.425,
          24881610.85,
          24052161.825,
          25162222.675,
          23697639.05,
          22812216.225,
          23060503.7,
          22030006.225,
          19421533.525,
          17224566.025,
          17843470.775
         ]
        },
        {
         "line": {
          "color": "#FF6692"
         },
         "mode": "lines",
         "name": "Mobile Games",
         "type": "scatter",
         "x": [
          "2017-07-24T00:00:00",
          "2017-07-31T00:00:00",
          "2017-08-07T00:00:00",
          "2017-08-14T00:00:00",
          "2017-08-21T00:00:00",
          "2017-08-28T00:00:00",
          "2017-09-04T00:00:00",
          "2017-09-11T00:00:00",
          "2017-09-18T00:00:00",
          "2017-09-25T00:00:00",
          "2017-10-02T00:00:00",
          "2017-10-09T00:00:00",
          "2017-10-16T00:00:00",
          "2017-10-23T00:00:00",
          "2017-10-29T23:00:00",
          "2017-11-05T23:00:00",
          "2017-11-12T23:00:00",
          "2017-11-19T23:00:00",
          "2017-11-26T23:00:00",
          "2017-12-03T23:00:00",
          "2017-12-10T23:00:00",
          "2017-12-17T23:00:00",
          "2017-12-24T23:00:00",
          "2017-12-31T23:00:00",
          "2018-01-07T23:00:00",
          "2018-01-14T23:00:00",
          "2018-01-21T23:00:00",
          "2018-01-28T23:00:00",
          "2018-02-04T23:00:00",
          "2018-02-11T23:00:00",
          "2018-02-18T23:00:00",
          "2018-02-25T23:00:00",
          "2018-03-04T23:00:00",
          "2018-03-11T23:00:00",
          "2018-03-18T23:00:00",
          "2018-03-26T00:00:00",
          "2018-04-02T00:00:00",
          "2018-04-09T00:00:00",
          "2018-04-16T00:00:00",
          "2018-04-23T00:00:00",
          "2018-04-30T00:00:00",
          "2018-05-07T00:00:00",
          "2018-05-14T00:00:00",
          "2018-05-21T00:00:00",
          "2018-05-28T00:00:00",
          "2018-06-04T00:00:00",
          "2018-06-11T00:00:00",
          "2018-06-18T00:00:00",
          "2018-06-25T00:00:00",
          "2018-07-02T00:00:00",
          "2018-07-09T00:00:00",
          "2018-07-16T00:00:00",
          "2018-07-23T00:00:00",
          "2018-07-30T00:00:00",
          "2018-08-06T00:00:00",
          "2018-08-13T00:00:00",
          "2018-08-20T00:00:00",
          "2018-08-27T00:00:00",
          "2018-09-03T00:00:00",
          "2018-09-10T00:00:00",
          "2018-09-17T00:00:00",
          "2018-09-24T00:00:00",
          "2018-10-01T00:00:00",
          "2018-10-08T00:00:00",
          "2018-10-15T00:00:00",
          "2018-10-22T00:00:00",
          "2018-10-28T23:00:00",
          "2018-11-04T23:00:00",
          "2018-11-11T23:00:00",
          "2018-11-18T23:00:00",
          "2018-11-25T23:00:00",
          "2018-12-02T23:00:00",
          "2018-12-09T23:00:00",
          "2018-12-16T23:00:00",
          "2018-12-23T23:00:00",
          "2018-12-30T23:00:00",
          "2019-01-06T23:00:00",
          "2019-01-13T23:00:00",
          "2019-01-20T23:00:00",
          "2019-01-27T23:00:00",
          "2019-02-03T23:00:00",
          "2019-02-10T23:00:00",
          "2019-02-17T23:00:00",
          "2019-02-24T23:00:00",
          "2019-03-03T23:00:00",
          "2019-03-10T23:00:00",
          "2019-03-17T23:00:00",
          "2019-03-24T23:00:00",
          "2019-04-01T00:00:00",
          "2019-04-08T00:00:00",
          "2019-04-15T00:00:00",
          "2019-04-22T00:00:00",
          "2019-04-29T00:00:00",
          "2019-05-06T00:00:00",
          "2019-05-13T00:00:00",
          "2019-05-20T00:00:00",
          "2019-05-27T00:00:00",
          "2019-06-03T00:00:00",
          "2019-06-10T00:00:00",
          "2019-06-17T00:00:00",
          "2019-06-24T00:00:00",
          "2019-07-01T00:00:00",
          "2019-07-08T00:00:00",
          "2019-07-15T00:00:00",
          "2019-07-22T00:00:00",
          "2019-07-29T00:00:00",
          "2019-08-05T00:00:00",
          "2019-08-12T00:00:00",
          "2019-08-19T00:00:00",
          "2019-08-26T00:00:00",
          "2019-09-02T00:00:00",
          "2019-09-09T00:00:00",
          "2019-09-16T00:00:00",
          "2019-09-23T00:00:00"
         ],
         "y": [
          775804.55,
          835784.575,
          1053218.25,
          1185931.55,
          1038170.25,
          1017118.575,
          1072840.85,
          776190.025,
          799197.175,
          877582.5,
          716825.2,
          986256.825,
          887808.65,
          639378.15,
          528154.5524611432,
          567905.1914129939,
          580750.5543069914,
          718845.9604166627,
          467018.0062500108,
          408106.8197916638,
          510159.22604166716,
          581237.3687499992,
          575266.493749997,
          620726.4916666625,
          604242.1916666739,
          439050.30416666344,
          408148.4333333388,
          452782.1114583254,
          453450.7843750015,
          551368.4572916754,
          660270.2385416605,
          550261.5520833351,
          582115.4041666634,
          424194.01250000746,
          427154.71354166267,
          498900.62048428727,
          501984.4420157112,
          462501.175,
          434028.25,
          433164.425,
          536896,
          349793.075,
          500852.6,
          507379.95,
          578909.6,
          897277.95,
          1255468.075,
          962143.475,
          994275.475,
          829495.5,
          644599.65,
          665515.4,
          698139.85,
          637337.75,
          612321.175,
          698527.675,
          594131.575,
          501507.325,
          620560.575,
          619676.175,
          642041.15,
          671664.675,
          683574.075,
          681485.55,
          610526.8303030313,
          802506.3530303016,
          874720.6233397394,
          714192.3110352665,
          680475.0708333255,
          855855.1989583299,
          981977.2968750044,
          824763.0854166611,
          1013085.73125,
          880585.8583333405,
          1107307.0281250062,
          1053761.524999991,
          960973.0062499971,
          890758.5187500045,
          863423.8864583373,
          921280.5791666657,
          1026773.2625,
          1083881.2010416642,
          1140522.7072916627,
          1088356.9114583419,
          995991.8395833299,
          966588.146875003,
          971690.5729166655,
          905119.1100676268,
          906395.2075752586,
          976391.4375654459,
          1046437.9,
          1149359.925,
          1220636.275,
          1233447.1,
          1268546.625,
          1484861.025,
          1513416.1,
          1738688.875,
          1963484.775,
          1854125.75,
          1777146.9,
          1897746.875,
          1972782.825,
          1546525.6,
          1362972.8,
          1309957.925,
          1388811.125,
          1304978.475,
          1212698.475,
          1186189.55,
          1157590.175,
          1022258.625,
          1036844.2,
          1041340.975
         ]
        }
       ],
       "layout": {
        "annotations": [
         {
          "font": {
           "color": "grey",
           "size": 10
          },
          "showarrow": false,
          "text": "Battle-Royale Mode Out",
          "textangle": -90,
          "x": "2017-09-26T00:00:00",
          "xshift": -10,
          "y": 20000000
         }
        ],
        "shapes": [
         {
          "line": {
           "color": "grey",
           "dash": "dash"
          },
          "type": "line",
          "x0": "2017-09-26T00:00:00",
          "x1": "2017-09-26T00:00:00",
          "xref": "x",
          "y0": 0,
          "y1": 1,
          "yref": "y domain"
         }
        ],
        "showlegend": true,
        "template": {
         "data": {
          "bar": [
           {
            "error_x": {
             "color": "#2a3f5f"
            },
            "error_y": {
             "color": "#2a3f5f"
            },
            "marker": {
             "line": {
              "color": "#E5ECF6",
              "width": 0.5
             },
             "pattern": {
              "fillmode": "overlay",
              "size": 10,
              "solidity": 0.2
             }
            },
            "type": "bar"
           }
          ],
          "barpolar": [
           {
            "marker": {
             "line": {
              "color": "#E5ECF6",
              "width": 0.5
             },
             "pattern": {
              "fillmode": "overlay",
              "size": 10,
              "solidity": 0.2
             }
            },
            "type": "barpolar"
           }
          ],
          "carpet": [
           {
            "aaxis": {
             "endlinecolor": "#2a3f5f",
             "gridcolor": "white",
             "linecolor": "white",
             "minorgridcolor": "white",
             "startlinecolor": "#2a3f5f"
            },
            "baxis": {
             "endlinecolor": "#2a3f5f",
             "gridcolor": "white",
             "linecolor": "white",
             "minorgridcolor": "white",
             "startlinecolor": "#2a3f5f"
            },
            "type": "carpet"
           }
          ],
          "choropleth": [
           {
            "colorbar": {
             "outlinewidth": 0,
             "ticks": ""
            },
            "type": "choropleth"
           }
          ],
          "contour": [
           {
            "colorbar": {
             "outlinewidth": 0,
             "ticks": ""
            },
            "colorscale": [
             [
              0,
              "#0d0887"
             ],
             [
              0.1111111111111111,
              "#46039f"
             ],
             [
              0.2222222222222222,
              "#7201a8"
             ],
             [
              0.3333333333333333,
              "#9c179e"
             ],
             [
              0.4444444444444444,
              "#bd3786"
             ],
             [
              0.5555555555555556,
              "#d8576b"
             ],
             [
              0.6666666666666666,
              "#ed7953"
             ],
             [
              0.7777777777777778,
              "#fb9f3a"
             ],
             [
              0.8888888888888888,
              "#fdca26"
             ],
             [
              1,
              "#f0f921"
             ]
            ],
            "type": "contour"
           }
          ],
          "contourcarpet": [
           {
            "colorbar": {
             "outlinewidth": 0,
             "ticks": ""
            },
            "type": "contourcarpet"
           }
          ],
          "heatmap": [
           {
            "colorbar": {
             "outlinewidth": 0,
             "ticks": ""
            },
            "colorscale": [
             [
              0,
              "#0d0887"
             ],
             [
              0.1111111111111111,
              "#46039f"
             ],
             [
              0.2222222222222222,
              "#7201a8"
             ],
             [
              0.3333333333333333,
              "#9c179e"
             ],
             [
              0.4444444444444444,
              "#bd3786"
             ],
             [
              0.5555555555555556,
              "#d8576b"
             ],
             [
              0.6666666666666666,
              "#ed7953"
             ],
             [
              0.7777777777777778,
              "#fb9f3a"
             ],
             [
              0.8888888888888888,
              "#fdca26"
             ],
             [
              1,
              "#f0f921"
             ]
            ],
            "type": "heatmap"
           }
          ],
          "heatmapgl": [
           {
            "colorbar": {
             "outlinewidth": 0,
             "ticks": ""
            },
            "colorscale": [
             [
              0,
              "#0d0887"
             ],
             [
              0.1111111111111111,
              "#46039f"
             ],
             [
              0.2222222222222222,
              "#7201a8"
             ],
             [
              0.3333333333333333,
              "#9c179e"
             ],
             [
              0.4444444444444444,
              "#bd3786"
             ],
             [
              0.5555555555555556,
              "#d8576b"
             ],
             [
              0.6666666666666666,
              "#ed7953"
             ],
             [
              0.7777777777777778,
              "#fb9f3a"
             ],
             [
              0.8888888888888888,
              "#fdca26"
             ],
             [
              1,
              "#f0f921"
             ]
            ],
            "type": "heatmapgl"
           }
          ],
          "histogram": [
           {
            "marker": {
             "pattern": {
              "fillmode": "overlay",
              "size": 10,
              "solidity": 0.2
             }
            },
            "type": "histogram"
           }
          ],
          "histogram2d": [
           {
            "colorbar": {
             "outlinewidth": 0,
             "ticks": ""
            },
            "colorscale": [
             [
              0,
              "#0d0887"
             ],
             [
              0.1111111111111111,
              "#46039f"
             ],
             [
              0.2222222222222222,
              "#7201a8"
             ],
             [
              0.3333333333333333,
              "#9c179e"
             ],
             [
              0.4444444444444444,
              "#bd3786"
             ],
             [
              0.5555555555555556,
              "#d8576b"
             ],
             [
              0.6666666666666666,
              "#ed7953"
             ],
             [
              0.7777777777777778,
              "#fb9f3a"
             ],
             [
              0.8888888888888888,
              "#fdca26"
             ],
             [
              1,
              "#f0f921"
             ]
            ],
            "type": "histogram2d"
           }
          ],
          "histogram2dcontour": [
           {
            "colorbar": {
             "outlinewidth": 0,
             "ticks": ""
            },
            "colorscale": [
             [
              0,
              "#0d0887"
             ],
             [
              0.1111111111111111,
              "#46039f"
             ],
             [
              0.2222222222222222,
              "#7201a8"
             ],
             [
              0.3333333333333333,
              "#9c179e"
             ],
             [
              0.4444444444444444,
              "#bd3786"
             ],
             [
              0.5555555555555556,
              "#d8576b"
             ],
             [
              0.6666666666666666,
              "#ed7953"
             ],
             [
              0.7777777777777778,
              "#fb9f3a"
             ],
             [
              0.8888888888888888,
              "#fdca26"
             ],
             [
              1,
              "#f0f921"
             ]
            ],
            "type": "histogram2dcontour"
           }
          ],
          "mesh3d": [
           {
            "colorbar": {
             "outlinewidth": 0,
             "ticks": ""
            },
            "type": "mesh3d"
           }
          ],
          "parcoords": [
           {
            "line": {
             "colorbar": {
              "outlinewidth": 0,
              "ticks": ""
             }
            },
            "type": "parcoords"
           }
          ],
          "pie": [
           {
            "automargin": true,
            "type": "pie"
           }
          ],
          "scatter": [
           {
            "fillpattern": {
             "fillmode": "overlay",
             "size": 10,
             "solidity": 0.2
            },
            "type": "scatter"
           }
          ],
          "scatter3d": [
           {
            "line": {
             "colorbar": {
              "outlinewidth": 0,
              "ticks": ""
             }
            },
            "marker": {
             "colorbar": {
              "outlinewidth": 0,
              "ticks": ""
             }
            },
            "type": "scatter3d"
           }
          ],
          "scattercarpet": [
           {
            "marker": {
             "colorbar": {
              "outlinewidth": 0,
              "ticks": ""
             }
            },
            "type": "scattercarpet"
           }
          ],
          "scattergeo": [
           {
            "marker": {
             "colorbar": {
              "outlinewidth": 0,
              "ticks": ""
             }
            },
            "type": "scattergeo"
           }
          ],
          "scattergl": [
           {
            "marker": {
             "colorbar": {
              "outlinewidth": 0,
              "ticks": ""
             }
            },
            "type": "scattergl"
           }
          ],
          "scattermapbox": [
           {
            "marker": {
             "colorbar": {
              "outlinewidth": 0,
              "ticks": ""
             }
            },
            "type": "scattermapbox"
           }
          ],
          "scatterpolar": [
           {
            "marker": {
             "colorbar": {
              "outlinewidth": 0,
              "ticks": ""
             }
            },
            "type": "scatterpolar"
           }
          ],
          "scatterpolargl": [
           {
            "marker": {
             "colorbar": {
              "outlinewidth": 0,
              "ticks": ""
             }
            },
            "type": "scatterpolargl"
           }
          ],
          "scatterternary": [
           {
            "marker": {
             "colorbar": {
              "outlinewidth": 0,
              "ticks": ""
             }
            },
            "type": "scatterternary"
           }
          ],
          "surface": [
           {
            "colorbar": {
             "outlinewidth": 0,
             "ticks": ""
            },
            "colorscale": [
             [
              0,
              "#0d0887"
             ],
             [
              0.1111111111111111,
              "#46039f"
             ],
             [
              0.2222222222222222,
              "#7201a8"
             ],
             [
              0.3333333333333333,
              "#9c179e"
             ],
             [
              0.4444444444444444,
              "#bd3786"
             ],
             [
              0.5555555555555556,
              "#d8576b"
             ],
             [
              0.6666666666666666,
              "#ed7953"
             ],
             [
              0.7777777777777778,
              "#fb9f3a"
             ],
             [
              0.8888888888888888,
              "#fdca26"
             ],
             [
              1,
              "#f0f921"
             ]
            ],
            "type": "surface"
           }
          ],
          "table": [
           {
            "cells": {
             "fill": {
              "color": "#EBF0F8"
             },
             "line": {
              "color": "white"
             }
            },
            "header": {
             "fill": {
              "color": "#C8D4E3"
             },
             "line": {
              "color": "white"
             }
            },
            "type": "table"
           }
          ]
         },
         "layout": {
          "annotationdefaults": {
           "arrowcolor": "#2a3f5f",
           "arrowhead": 0,
           "arrowwidth": 1
          },
          "autotypenumbers": "strict",
          "coloraxis": {
           "colorbar": {
            "outlinewidth": 0,
            "ticks": ""
           }
          },
          "colorscale": {
           "diverging": [
            [
             0,
             "#8e0152"
            ],
            [
             0.1,
             "#c51b7d"
            ],
            [
             0.2,
             "#de77ae"
            ],
            [
             0.3,
             "#f1b6da"
            ],
            [
             0.4,
             "#fde0ef"
            ],
            [
             0.5,
             "#f7f7f7"
            ],
            [
             0.6,
             "#e6f5d0"
            ],
            [
             0.7,
             "#b8e186"
            ],
            [
             0.8,
             "#7fbc41"
            ],
            [
             0.9,
             "#4d9221"
            ],
            [
             1,
             "#276419"
            ]
           ],
           "sequential": [
            [
             0,
             "#0d0887"
            ],
            [
             0.1111111111111111,
             "#46039f"
            ],
            [
             0.2222222222222222,
             "#7201a8"
            ],
            [
             0.3333333333333333,
             "#9c179e"
            ],
            [
             0.4444444444444444,
             "#bd3786"
            ],
            [
             0.5555555555555556,
             "#d8576b"
            ],
            [
             0.6666666666666666,
             "#ed7953"
            ],
            [
             0.7777777777777778,
             "#fb9f3a"
            ],
            [
             0.8888888888888888,
             "#fdca26"
            ],
            [
             1,
             "#f0f921"
            ]
           ],
           "sequentialminus": [
            [
             0,
             "#0d0887"
            ],
            [
             0.1111111111111111,
             "#46039f"
            ],
            [
             0.2222222222222222,
             "#7201a8"
            ],
            [
             0.3333333333333333,
             "#9c179e"
            ],
            [
             0.4444444444444444,
             "#bd3786"
            ],
            [
             0.5555555555555556,
             "#d8576b"
            ],
            [
             0.6666666666666666,
             "#ed7953"
            ],
            [
             0.7777777777777778,
             "#fb9f3a"
            ],
            [
             0.8888888888888888,
             "#fdca26"
            ],
            [
             1,
             "#f0f921"
            ]
           ]
          },
          "colorway": [
           "#636efa",
           "#EF553B",
           "#00cc96",
           "#ab63fa",
           "#FFA15A",
           "#19d3f3",
           "#FF6692",
           "#B6E880",
           "#FF97FF",
           "#FECB52"
          ],
          "font": {
           "color": "#2a3f5f"
          },
          "geo": {
           "bgcolor": "white",
           "lakecolor": "white",
           "landcolor": "#E5ECF6",
           "showlakes": true,
           "showland": true,
           "subunitcolor": "white"
          },
          "hoverlabel": {
           "align": "left"
          },
          "hovermode": "closest",
          "mapbox": {
           "style": "light"
          },
          "paper_bgcolor": "white",
          "plot_bgcolor": "#E5ECF6",
          "polar": {
           "angularaxis": {
            "gridcolor": "white",
            "linecolor": "white",
            "ticks": ""
           },
           "bgcolor": "#E5ECF6",
           "radialaxis": {
            "gridcolor": "white",
            "linecolor": "white",
            "ticks": ""
           }
          },
          "scene": {
           "xaxis": {
            "backgroundcolor": "#E5ECF6",
            "gridcolor": "white",
            "gridwidth": 2,
            "linecolor": "white",
            "showbackground": true,
            "ticks": "",
            "zerolinecolor": "white"
           },
           "yaxis": {
            "backgroundcolor": "#E5ECF6",
            "gridcolor": "white",
            "gridwidth": 2,
            "linecolor": "white",
            "showbackground": true,
            "ticks": "",
            "zerolinecolor": "white"
           },
           "zaxis": {
            "backgroundcolor": "#E5ECF6",
            "gridcolor": "white",
            "gridwidth": 2,
            "linecolor": "white",
            "showbackground": true,
            "ticks": "",
            "zerolinecolor": "white"
           }
          },
          "shapedefaults": {
           "line": {
            "color": "#2a3f5f"
           }
          },
          "ternary": {
           "aaxis": {
            "gridcolor": "white",
            "linecolor": "white",
            "ticks": ""
           },
           "baxis": {
            "gridcolor": "white",
            "linecolor": "white",
            "ticks": ""
           },
           "bgcolor": "#E5ECF6",
           "caxis": {
            "gridcolor": "white",
            "linecolor": "white",
            "ticks": ""
           }
          },
          "title": {
           "x": 0.05
          },
          "xaxis": {
           "automargin": true,
           "gridcolor": "white",
           "linecolor": "white",
           "ticks": "",
           "title": {
            "standoff": 15
           },
           "zerolinecolor": "white",
           "zerolinewidth": 2
          },
          "yaxis": {
           "automargin": true,
           "gridcolor": "white",
           "linecolor": "white",
           "ticks": "",
           "title": {
            "standoff": 15
           },
           "zerolinecolor": "white",
           "zerolinewidth": 2
          }
         }
        },
        "title": {
         "text": "Main Games: Weekly Delta Views Timeseries"
        },
        "xaxis": {
         "title": {
          "text": "Date"
         }
        },
        "yaxis": {
         "title": {
          "text": "Delta Views"
         }
        }
       }
      }
     },
     "metadata": {},
     "output_type": "display_data"
    }
   ],
   "source": [
    "fig = go.Figure()\n",
    "\n",
    "for (game, game_df) in sample_withF:\n",
    "    fig.add_trace(go.Scatter(\n",
    "        x=game_df['datetime'],\n",
    "        y=game_df[metric],\n",
    "        mode='lines',\n",
    "        name=game,\n",
    "        line=dict(color=colors[game]),\n",
    "    ))\n",
    "\n",
    "max_y = 25_000_000\n",
    "br_out = pd.to_datetime('2017-09-26')\n",
    "\n",
    "# Add a vertical line for Fortnite Battle-Royale Mode\n",
    "fig.add_vline(\n",
    "        x=br_out,\n",
    "        line_dash='dash',\n",
    "        line_color='grey',\n",
    "    )\n",
    "fig.add_annotation(\n",
    "        x=br_out, \n",
    "        y=max_y*0.8,\n",
    "        text=\"Battle-Royale Mode Out\",\n",
    "        font=dict(color='grey', size=10),\n",
    "        showarrow=False,\n",
    "        xshift=-10,\n",
    "        textangle=-90\n",
    "    )\n",
    "\n",
    "# Plot Titles & Axis Settings\n",
    "fig.update_layout(\n",
    "        title=f\"Main Games: Weekly {metric_txt} Timeseries\",\n",
    "        xaxis_title='Date',\n",
    "        yaxis_title=metric_txt,\n",
    "        showlegend=True\n",
    "    )\n",
    "\n",
    "fig.write_html(f\"plots/dviews_withF.html\")\n",
    "\n",
    "fig.show()"
   ]
  },
  {
   "cell_type": "code",
   "execution_count": 218,
   "metadata": {},
   "outputs": [
    {
     "data": {
      "application/vnd.plotly.v1+json": {
       "config": {
        "plotlyServerURL": "https://plot.ly"
       },
       "data": [
        {
         "line": {
          "color": "#636EFA"
         },
         "mode": "lines",
         "name": "COD",
         "type": "scatter",
         "x": [
          "2017-07-24T00:00:00",
          "2017-07-31T00:00:00",
          "2017-08-07T00:00:00",
          "2017-08-14T00:00:00",
          "2017-08-21T00:00:00",
          "2017-08-28T00:00:00",
          "2017-09-04T00:00:00",
          "2017-09-11T00:00:00",
          "2017-09-18T00:00:00",
          "2017-09-25T00:00:00",
          "2017-10-02T00:00:00",
          "2017-10-09T00:00:00",
          "2017-10-16T00:00:00",
          "2017-10-23T00:00:00",
          "2017-10-29T23:00:00",
          "2017-11-05T23:00:00",
          "2017-11-12T23:00:00",
          "2017-11-19T23:00:00",
          "2017-11-26T23:00:00",
          "2017-12-03T23:00:00",
          "2017-12-10T23:00:00",
          "2017-12-17T23:00:00",
          "2017-12-24T23:00:00",
          "2017-12-31T23:00:00",
          "2018-01-07T23:00:00",
          "2018-01-14T23:00:00",
          "2018-01-21T23:00:00",
          "2018-01-28T23:00:00",
          "2018-02-04T23:00:00",
          "2018-02-11T23:00:00",
          "2018-02-18T23:00:00",
          "2018-02-25T23:00:00",
          "2018-03-04T23:00:00",
          "2018-03-11T23:00:00",
          "2018-03-18T23:00:00",
          "2018-03-26T00:00:00",
          "2018-04-02T00:00:00",
          "2018-04-09T00:00:00",
          "2018-04-16T00:00:00",
          "2018-04-23T00:00:00",
          "2018-04-30T00:00:00",
          "2018-05-07T00:00:00",
          "2018-05-14T00:00:00",
          "2018-05-21T00:00:00",
          "2018-05-28T00:00:00",
          "2018-06-04T00:00:00",
          "2018-06-11T00:00:00",
          "2018-06-18T00:00:00",
          "2018-06-25T00:00:00",
          "2018-07-02T00:00:00",
          "2018-07-09T00:00:00",
          "2018-07-16T00:00:00",
          "2018-07-23T00:00:00",
          "2018-07-30T00:00:00",
          "2018-08-06T00:00:00",
          "2018-08-13T00:00:00",
          "2018-08-20T00:00:00",
          "2018-08-27T00:00:00",
          "2018-09-03T00:00:00",
          "2018-09-10T00:00:00",
          "2018-09-17T00:00:00",
          "2018-09-24T00:00:00",
          "2018-10-01T00:00:00",
          "2018-10-08T00:00:00",
          "2018-10-15T00:00:00",
          "2018-10-22T00:00:00",
          "2018-10-28T23:00:00",
          "2018-11-04T23:00:00",
          "2018-11-11T23:00:00",
          "2018-11-18T23:00:00",
          "2018-11-25T23:00:00",
          "2018-12-02T23:00:00",
          "2018-12-09T23:00:00",
          "2018-12-16T23:00:00",
          "2018-12-23T23:00:00",
          "2018-12-30T23:00:00",
          "2019-01-06T23:00:00",
          "2019-01-13T23:00:00",
          "2019-01-20T23:00:00",
          "2019-01-27T23:00:00",
          "2019-02-03T23:00:00",
          "2019-02-10T23:00:00",
          "2019-02-17T23:00:00",
          "2019-02-24T23:00:00",
          "2019-03-03T23:00:00",
          "2019-03-10T23:00:00",
          "2019-03-17T23:00:00",
          "2019-03-24T23:00:00",
          "2019-04-01T00:00:00",
          "2019-04-08T00:00:00",
          "2019-04-15T00:00:00",
          "2019-04-22T00:00:00",
          "2019-04-29T00:00:00",
          "2019-05-06T00:00:00",
          "2019-05-13T00:00:00",
          "2019-05-20T00:00:00",
          "2019-05-27T00:00:00",
          "2019-06-03T00:00:00",
          "2019-06-10T00:00:00",
          "2019-06-17T00:00:00",
          "2019-06-24T00:00:00",
          "2019-07-01T00:00:00",
          "2019-07-08T00:00:00",
          "2019-07-15T00:00:00",
          "2019-07-22T00:00:00",
          "2019-07-29T00:00:00",
          "2019-08-05T00:00:00",
          "2019-08-12T00:00:00",
          "2019-08-19T00:00:00",
          "2019-08-26T00:00:00",
          "2019-09-02T00:00:00",
          "2019-09-09T00:00:00",
          "2019-09-16T00:00:00",
          "2019-09-23T00:00:00"
         ],
         "y": [
          null,
          -0.011968481819598087,
          -0.12941059227943197,
          0.06829561281496899,
          -0.24691184698728297,
          0.11892815081937269,
          0.025590315481264003,
          0.11501140151660105,
          0.021397287422991962,
          -0.2104409347006735,
          -0.2358511248763806,
          0.09208504427551345,
          0.090807453778321,
          -0.04137957209250964,
          0.33076544193482227,
          0.8559725779615783,
          0.4592546583509045,
          -0.15951934472480722,
          -0.4262720180777194,
          -0.06433292814819302,
          0.20626070653236805,
          -0.09762847830845345,
          -0.025048406185516736,
          0.08606372536054208,
          0.01298030411044837,
          -0.1826243856200992,
          0.05145621817659962,
          0.09625677192300341,
          0.5557041154989404,
          -0.18792564907313025,
          -0.252741660584769,
          -0.16657815528779452,
          -0.02898717060719569,
          0.3181748221268099,
          0.3182838093277678,
          -0.13633396057929303,
          -0.07997926775203679,
          -0.03674145524363648,
          -0.07845799726843705,
          0.0021521208998631636,
          0.12266847148005677,
          0.014969826237617001,
          -0.14875771202237453,
          0.2783999162601489,
          -0.229734299145121,
          -0.010706429719846922,
          0.27955477521078365,
          0.033226013146433475,
          -0.13535613921755896,
          0.16967924593873485,
          -0.22381255745103734,
          0.17709908073610814,
          0.30045924064030594,
          -0.02113015718869915,
          0.06306449447658902,
          0.0036097075507603993,
          -0.06993129132337117,
          0.005868207794909486,
          0.21479663365374768,
          -0.1695675930364613,
          -0.15133180148887926,
          0.30514989396568337,
          0.020132266095503448,
          0.19346090002424354,
          0.3773791287337729,
          0.0958753101588623,
          -0.3041159095917607,
          -0.016341640317202755,
          -0.185930374627838,
          -0.21262009134901783,
          -0.15786354199665953,
          -0.05170603410199803,
          0.135040053867584,
          0.3922876888217184,
          -0.19627462265695228,
          -0.0605993754431009,
          0.06233465216649048,
          -0.06347401622760929,
          -0.13930310919416578,
          -0.13029235357877966,
          -0.08235562465459734,
          -0.12525503765585577,
          0.4659949265799366,
          0.9464415256469818,
          -0.025222661247919942,
          -0.03405531328858924,
          0.0302501388620664,
          0.35799605178427707,
          0.1842271694540667,
          -0.31750530404944854,
          0.012955558486315244,
          -0.33272460175727603,
          0.6078412313775547,
          0.15490736149397177,
          -0.08139281386601904,
          -0.05508454735855195,
          0.2268240153356309,
          0.3227690751992851,
          -0.25624736937546067,
          0.062121633167017576,
          -0.12423303836788646,
          -0.11523654261533478,
          0.1261952755682203,
          0.07637229057123185,
          -0.07042473973158503,
          -0.0077869651010610275,
          -0.21183628046322367,
          0.34892502014768434,
          -0.19846109364065667,
          -0.12099576934242007,
          -0.05736831841928469,
          0.00747531128954626,
          0.06629318676245011,
          0.08890197457654225
         ]
        },
        {
         "line": {
          "color": "#EF553B"
         },
         "mode": "lines",
         "name": "FIFA",
         "type": "scatter",
         "x": [
          "2017-07-24T00:00:00",
          "2017-07-31T00:00:00",
          "2017-08-07T00:00:00",
          "2017-08-14T00:00:00",
          "2017-08-21T00:00:00",
          "2017-08-28T00:00:00",
          "2017-09-04T00:00:00",
          "2017-09-11T00:00:00",
          "2017-09-18T00:00:00",
          "2017-09-25T00:00:00",
          "2017-10-02T00:00:00",
          "2017-10-09T00:00:00",
          "2017-10-16T00:00:00",
          "2017-10-23T00:00:00",
          "2017-10-29T23:00:00",
          "2017-11-05T23:00:00",
          "2017-11-12T23:00:00",
          "2017-11-19T23:00:00",
          "2017-11-26T23:00:00",
          "2017-12-03T23:00:00",
          "2017-12-10T23:00:00",
          "2017-12-17T23:00:00",
          "2017-12-24T23:00:00",
          "2017-12-31T23:00:00",
          "2018-01-07T23:00:00",
          "2018-01-14T23:00:00",
          "2018-01-21T23:00:00",
          "2018-01-28T23:00:00",
          "2018-02-04T23:00:00",
          "2018-02-11T23:00:00",
          "2018-02-18T23:00:00",
          "2018-02-25T23:00:00",
          "2018-03-04T23:00:00",
          "2018-03-11T23:00:00",
          "2018-03-18T23:00:00",
          "2018-03-26T00:00:00",
          "2018-04-02T00:00:00",
          "2018-04-09T00:00:00",
          "2018-04-16T00:00:00",
          "2018-04-23T00:00:00",
          "2018-04-30T00:00:00",
          "2018-05-07T00:00:00",
          "2018-05-14T00:00:00",
          "2018-05-21T00:00:00",
          "2018-05-28T00:00:00",
          "2018-06-04T00:00:00",
          "2018-06-11T00:00:00",
          "2018-06-18T00:00:00",
          "2018-06-25T00:00:00",
          "2018-07-02T00:00:00",
          "2018-07-09T00:00:00",
          "2018-07-16T00:00:00",
          "2018-07-23T00:00:00",
          "2018-07-30T00:00:00",
          "2018-08-06T00:00:00",
          "2018-08-13T00:00:00",
          "2018-08-20T00:00:00",
          "2018-08-27T00:00:00",
          "2018-09-03T00:00:00",
          "2018-09-10T00:00:00",
          "2018-09-17T00:00:00",
          "2018-09-24T00:00:00",
          "2018-10-01T00:00:00",
          "2018-10-08T00:00:00",
          "2018-10-15T00:00:00",
          "2018-10-22T00:00:00",
          "2018-10-28T23:00:00",
          "2018-11-04T23:00:00",
          "2018-11-11T23:00:00",
          "2018-11-18T23:00:00",
          "2018-11-25T23:00:00",
          "2018-12-02T23:00:00",
          "2018-12-09T23:00:00",
          "2018-12-16T23:00:00",
          "2018-12-23T23:00:00",
          "2018-12-30T23:00:00",
          "2019-01-06T23:00:00",
          "2019-01-13T23:00:00",
          "2019-01-20T23:00:00",
          "2019-01-27T23:00:00",
          "2019-02-03T23:00:00",
          "2019-02-10T23:00:00",
          "2019-02-17T23:00:00",
          "2019-02-24T23:00:00",
          "2019-03-03T23:00:00",
          "2019-03-10T23:00:00",
          "2019-03-17T23:00:00",
          "2019-03-24T23:00:00",
          "2019-04-01T00:00:00",
          "2019-04-08T00:00:00",
          "2019-04-15T00:00:00",
          "2019-04-22T00:00:00",
          "2019-04-29T00:00:00",
          "2019-05-06T00:00:00",
          "2019-05-13T00:00:00",
          "2019-05-20T00:00:00",
          "2019-05-27T00:00:00",
          "2019-06-03T00:00:00",
          "2019-06-10T00:00:00",
          "2019-06-17T00:00:00",
          "2019-06-24T00:00:00",
          "2019-07-01T00:00:00",
          "2019-07-08T00:00:00",
          "2019-07-15T00:00:00",
          "2019-07-22T00:00:00",
          "2019-07-29T00:00:00",
          "2019-08-05T00:00:00",
          "2019-08-12T00:00:00",
          "2019-08-19T00:00:00",
          "2019-08-26T00:00:00",
          "2019-09-02T00:00:00",
          "2019-09-09T00:00:00",
          "2019-09-16T00:00:00",
          "2019-09-23T00:00:00"
         ],
         "y": [
          null,
          0.009682886713266114,
          0.09973106430620637,
          0.6261758576447034,
          0.2628618064956776,
          -0.0716662739270768,
          -0.23658844157845826,
          -0.02250200505934985,
          -0.11849561675346654,
          0.0110802757313202,
          -0.03631136201179841,
          -0.07478813404377793,
          -0.05920360699456573,
          0.01913811170125035,
          0.03620585720618008,
          -0.12495124002087243,
          0.008481219471369705,
          0.07251851373944018,
          -0.07413850795707255,
          0.027346782060995167,
          -0.0339977192407348,
          0.023145164181708422,
          0.1140058396772885,
          -0.08549095203128976,
          -0.025044871777202493,
          -0.03641899888051359,
          -0.006399530552671839,
          -0.06936738172454371,
          0.0030136686286397207,
          0.16787370747903307,
          0.09869750255637033,
          -0.16295339313118495,
          0.016674040803051238,
          -0.23581972638695825,
          0.08871132909361035,
          -0.049922642881518375,
          -0.09076777055421104,
          0.04630125563796317,
          -0.01347330717545947,
          -0.09074481978883853,
          0.06352429714562713,
          0.09742028242390632,
          -0.011977341010919629,
          0.025978746242457218,
          0.06274605965980684,
          0.15687908052674793,
          -0.009054472058835916,
          -0.264590319237512,
          -0.0001430045750289155,
          0.16465379006862935,
          -0.026010559213857865,
          0.15196797818254115,
          0.13094740662173177,
          0.021108788991927474,
          0.004577071609186856,
          -0.004275063302394244,
          0.06726659752136288,
          0.21972604418850783,
          -0.2281560852061737,
          -0.16470604133344968,
          -0.006857423847305144,
          0.026212366973577428,
          -0.12220058186406535,
          -0.035976324730509046,
          0.10565250611445043,
          0.054613664640583925,
          -0.08745900995457745,
          -0.06885413215514091,
          0.0006935169517694462,
          0.32612120602457617,
          0.3207677539479459,
          -0.06187793036842815,
          -0.11857089012716071,
          -0.031423904471943986,
          -0.14111712528578313,
          -0.04479770440311548,
          0.2156437053128497,
          0.1400184269420628,
          -0.23601698187824005,
          -0.02616125918383949,
          -0.08997007798129908,
          -0.010431184890111411,
          0.12386279989636861,
          0.10658952540864286,
          -0.1193386057037581,
          -0.03529501400969026,
          -0.05832587591902294,
          0.11076355546991379,
          -0.07975797024341758,
          -0.06493461622518926,
          0.11873131702043738,
          0.01485179009104809,
          -0.09117174389949334,
          -0.05890711282351957,
          0.01767675897126142,
          0.0623263759805428,
          -0.24864159440749145,
          0.24259777596117504,
          0.1483003072131237,
          0.10766166508430586,
          -0.06977624597069731,
          -0.13062168384536432,
          -0.09879528060151077,
          0.10358963534286603,
          0.13916968562797027,
          0.058936836334360754,
          -0.06325358307605167,
          -0.050867299520287124,
          -0.03021985215040035,
          -0.03709712505057072,
          -0.11089078925636875,
          -0.017625693374563656,
          0.1249959156642868,
          -0.14066408285933618
         ]
        },
        {
         "line": {
          "color": "#00CC96"
         },
         "mode": "lines",
         "name": "Fortnite",
         "type": "scatter",
         "x": [
          "2017-07-24T00:00:00",
          "2017-07-31T00:00:00",
          "2017-08-07T00:00:00",
          "2017-08-14T00:00:00",
          "2017-08-21T00:00:00",
          "2017-08-28T00:00:00",
          "2017-09-04T00:00:00",
          "2017-09-11T00:00:00",
          "2017-09-18T00:00:00",
          "2017-09-25T00:00:00",
          "2017-10-02T00:00:00",
          "2017-10-09T00:00:00",
          "2017-10-16T00:00:00",
          "2017-10-23T00:00:00",
          "2017-10-29T23:00:00",
          "2017-11-05T23:00:00",
          "2017-11-12T23:00:00",
          "2017-11-19T23:00:00",
          "2017-11-26T23:00:00",
          "2017-12-03T23:00:00",
          "2017-12-10T23:00:00",
          "2017-12-17T23:00:00",
          "2017-12-24T23:00:00",
          "2017-12-31T23:00:00",
          "2018-01-07T23:00:00",
          "2018-01-14T23:00:00",
          "2018-01-21T23:00:00",
          "2018-01-28T23:00:00",
          "2018-02-04T23:00:00",
          "2018-02-11T23:00:00",
          "2018-02-18T23:00:00",
          "2018-02-25T23:00:00",
          "2018-03-04T23:00:00",
          "2018-03-11T23:00:00",
          "2018-03-18T23:00:00",
          "2018-03-26T00:00:00",
          "2018-04-02T00:00:00",
          "2018-04-09T00:00:00",
          "2018-04-16T00:00:00",
          "2018-04-23T00:00:00",
          "2018-04-30T00:00:00",
          "2018-05-07T00:00:00",
          "2018-05-14T00:00:00",
          "2018-05-21T00:00:00",
          "2018-05-28T00:00:00",
          "2018-06-04T00:00:00",
          "2018-06-11T00:00:00",
          "2018-06-18T00:00:00",
          "2018-06-25T00:00:00",
          "2018-07-02T00:00:00",
          "2018-07-09T00:00:00",
          "2018-07-16T00:00:00",
          "2018-07-23T00:00:00",
          "2018-07-30T00:00:00",
          "2018-08-06T00:00:00",
          "2018-08-13T00:00:00",
          "2018-08-20T00:00:00",
          "2018-08-27T00:00:00",
          "2018-09-03T00:00:00",
          "2018-09-10T00:00:00",
          "2018-09-17T00:00:00",
          "2018-09-24T00:00:00",
          "2018-10-01T00:00:00",
          "2018-10-08T00:00:00",
          "2018-10-15T00:00:00",
          "2018-10-22T00:00:00",
          "2018-10-28T23:00:00",
          "2018-11-04T23:00:00",
          "2018-11-11T23:00:00",
          "2018-11-18T23:00:00",
          "2018-11-25T23:00:00",
          "2018-12-02T23:00:00",
          "2018-12-09T23:00:00",
          "2018-12-16T23:00:00",
          "2018-12-23T23:00:00",
          "2018-12-30T23:00:00",
          "2019-01-06T23:00:00",
          "2019-01-13T23:00:00",
          "2019-01-20T23:00:00",
          "2019-01-27T23:00:00",
          "2019-02-03T23:00:00",
          "2019-02-10T23:00:00",
          "2019-02-17T23:00:00",
          "2019-02-24T23:00:00",
          "2019-03-03T23:00:00",
          "2019-03-10T23:00:00",
          "2019-03-17T23:00:00",
          "2019-03-24T23:00:00",
          "2019-04-01T00:00:00",
          "2019-04-08T00:00:00",
          "2019-04-15T00:00:00",
          "2019-04-22T00:00:00",
          "2019-04-29T00:00:00",
          "2019-05-06T00:00:00",
          "2019-05-13T00:00:00",
          "2019-05-20T00:00:00",
          "2019-05-27T00:00:00",
          "2019-06-03T00:00:00",
          "2019-06-10T00:00:00",
          "2019-06-17T00:00:00",
          "2019-06-24T00:00:00",
          "2019-07-01T00:00:00",
          "2019-07-08T00:00:00",
          "2019-07-15T00:00:00",
          "2019-07-22T00:00:00",
          "2019-07-29T00:00:00",
          "2019-08-05T00:00:00",
          "2019-08-12T00:00:00",
          "2019-08-19T00:00:00",
          "2019-08-26T00:00:00",
          "2019-09-02T00:00:00",
          "2019-09-09T00:00:00",
          "2019-09-16T00:00:00",
          "2019-09-23T00:00:00"
         ],
         "y": [
          null,
          0.1474826371587361,
          -0.10404413890023256,
          0.016032337296201904,
          0.05434280672927061,
          0.05923047924280089,
          -0.013672285627447045,
          -0.2502175656091662,
          0.02107566665243832,
          -0.08751698059452317,
          0.00913319339431995,
          0.030561897457529907,
          -0.059555001992714796,
          0.07089497540054102,
          0.4052946821366228,
          0.6609987427387174,
          0.10336575841195184,
          -0.1676479018149265,
          -0.06381034982325073,
          0.0795318139073089,
          0.08666089279218192,
          0.06862585833980583,
          0.20634442614068016,
          0.21776900746199113,
          0.20837198376856203,
          0.11596787206030679,
          0.1623185058564236,
          0.16129084754852951,
          0.06346865464771168,
          0.08299486129022693,
          0.11330890256717963,
          0.06168130567179775,
          -0.015180704456331906,
          0.15604234839065634,
          0.05294931542483816,
          0.08479194316850158,
          0.04577738557118183,
          -0.01569300198931589,
          0.09718413350582278,
          0.027040280863157573,
          -0.0013330696464203262,
          -0.02517911804415629,
          0.034772120074151314,
          -0.04626176279077987,
          -0.10960472030766932,
          -0.0418205898928945,
          0.1401028769739654,
          -0.011172735287301006,
          -0.05620919128794122,
          0.23593257770363318,
          0.282775288856457,
          0.018747331410751134,
          0.009648726131721741,
          0.02114685426206031,
          -0.02835782747610549,
          0.1459104924282657,
          -0.02905496023980869,
          -0.08629211355202993,
          -0.10570176536523024,
          -0.020206143471897642,
          0.016419552273711835,
          -0.008274624183465584,
          0.0166293719127526,
          -0.014282303191846535,
          -0.11244322165964649,
          -0.05409290001138556,
          -0.04008736032244575,
          -0.000048023372933192476,
          0.04677035630472237,
          -0.013399950641125313,
          -0.13566927153286212,
          -0.10462846722667252,
          0.17264045074067114,
          0.006774818899645707,
          0.036490611761909264,
          0.05613437249112141,
          -0.0013722461118397256,
          -0.03557896289473106,
          -0.043364521670754,
          -0.07982235697960949,
          0.06248500555827685,
          0.02788776142938132,
          0.08754800897793302,
          0.1547862538770033,
          -0.022621840526441894,
          -0.12891518135977187,
          0.10500218108791892,
          -0.07344740758748103,
          -0.015995238322501826,
          -0.10638036288845099,
          -0.05360704719041154,
          -0.04720681949241623,
          -0.0892459239169695,
          0.02618743455495043,
          0.18165551130372148,
          -0.1958613485256413,
          0.06371158354750794,
          -0.01587514781739663,
          -0.01816222369455278,
          -0.07919525754378365,
          -0.08900289435343967,
          0.026765946939370844,
          0.010644151290243986,
          0.1689535910728377,
          0.043140317484267054,
          -0.06801215310202868,
          -0.3003129117752815,
          -0.13152221023255106,
          0.46021381379155635,
          0.05080274580519273,
          0.053869160307559616,
          -0.16067771481133697,
          -0.1062655100789126,
          -0.1543353807683242
         ]
        },
        {
         "line": {
          "color": "#AB63FA"
         },
         "mode": "lines",
         "name": "GTA",
         "type": "scatter",
         "x": [
          "2017-07-24T00:00:00",
          "2017-07-31T00:00:00",
          "2017-08-07T00:00:00",
          "2017-08-14T00:00:00",
          "2017-08-21T00:00:00",
          "2017-08-28T00:00:00",
          "2017-09-04T00:00:00",
          "2017-09-11T00:00:00",
          "2017-09-18T00:00:00",
          "2017-09-25T00:00:00",
          "2017-10-02T00:00:00",
          "2017-10-09T00:00:00",
          "2017-10-16T00:00:00",
          "2017-10-23T00:00:00",
          "2017-10-29T23:00:00",
          "2017-11-05T23:00:00",
          "2017-11-12T23:00:00",
          "2017-11-19T23:00:00",
          "2017-11-26T23:00:00",
          "2017-12-03T23:00:00",
          "2017-12-10T23:00:00",
          "2017-12-17T23:00:00",
          "2017-12-24T23:00:00",
          "2017-12-31T23:00:00",
          "2018-01-07T23:00:00",
          "2018-01-14T23:00:00",
          "2018-01-21T23:00:00",
          "2018-01-28T23:00:00",
          "2018-02-04T23:00:00",
          "2018-02-11T23:00:00",
          "2018-02-18T23:00:00",
          "2018-02-25T23:00:00",
          "2018-03-04T23:00:00",
          "2018-03-11T23:00:00",
          "2018-03-18T23:00:00",
          "2018-03-26T00:00:00",
          "2018-04-02T00:00:00",
          "2018-04-09T00:00:00",
          "2018-04-16T00:00:00",
          "2018-04-23T00:00:00",
          "2018-04-30T00:00:00",
          "2018-05-07T00:00:00",
          "2018-05-14T00:00:00",
          "2018-05-21T00:00:00",
          "2018-05-28T00:00:00",
          "2018-06-04T00:00:00",
          "2018-06-11T00:00:00",
          "2018-06-18T00:00:00",
          "2018-06-25T00:00:00",
          "2018-07-02T00:00:00",
          "2018-07-09T00:00:00",
          "2018-07-16T00:00:00",
          "2018-07-23T00:00:00",
          "2018-07-30T00:00:00",
          "2018-08-06T00:00:00",
          "2018-08-13T00:00:00",
          "2018-08-20T00:00:00",
          "2018-08-27T00:00:00",
          "2018-09-03T00:00:00",
          "2018-09-10T00:00:00",
          "2018-09-17T00:00:00",
          "2018-09-24T00:00:00",
          "2018-10-01T00:00:00",
          "2018-10-08T00:00:00",
          "2018-10-15T00:00:00",
          "2018-10-22T00:00:00",
          "2018-10-28T23:00:00",
          "2018-11-04T23:00:00",
          "2018-11-11T23:00:00",
          "2018-11-18T23:00:00",
          "2018-11-25T23:00:00",
          "2018-12-02T23:00:00",
          "2018-12-09T23:00:00",
          "2018-12-16T23:00:00",
          "2018-12-23T23:00:00",
          "2018-12-30T23:00:00",
          "2019-01-06T23:00:00",
          "2019-01-13T23:00:00",
          "2019-01-20T23:00:00",
          "2019-01-27T23:00:00",
          "2019-02-03T23:00:00",
          "2019-02-10T23:00:00",
          "2019-02-17T23:00:00",
          "2019-02-24T23:00:00",
          "2019-03-03T23:00:00",
          "2019-03-10T23:00:00",
          "2019-03-17T23:00:00",
          "2019-03-24T23:00:00",
          "2019-04-01T00:00:00",
          "2019-04-08T00:00:00",
          "2019-04-15T00:00:00",
          "2019-04-22T00:00:00",
          "2019-04-29T00:00:00",
          "2019-05-06T00:00:00",
          "2019-05-13T00:00:00",
          "2019-05-20T00:00:00",
          "2019-05-27T00:00:00",
          "2019-06-03T00:00:00",
          "2019-06-10T00:00:00",
          "2019-06-17T00:00:00",
          "2019-06-24T00:00:00",
          "2019-07-01T00:00:00",
          "2019-07-08T00:00:00",
          "2019-07-15T00:00:00",
          "2019-07-22T00:00:00",
          "2019-07-29T00:00:00",
          "2019-08-05T00:00:00",
          "2019-08-12T00:00:00",
          "2019-08-19T00:00:00",
          "2019-08-26T00:00:00",
          "2019-09-02T00:00:00",
          "2019-09-09T00:00:00",
          "2019-09-16T00:00:00",
          "2019-09-23T00:00:00"
         ],
         "y": [
          null,
          -0.07626514567282561,
          0.054290601558291574,
          0.04328452547054629,
          -0.04809993301736726,
          0.1323150206256345,
          -0.23026287741242113,
          0.16317451968475427,
          -0.31914478525740375,
          0.05271840306648512,
          0.014825741869330278,
          0.04397229344200526,
          0.041954153497734126,
          -0.16010457908216047,
          -0.050498937017006806,
          0.14505856256693916,
          0.11530167510057465,
          -0.049808814049353556,
          -0.08307600647642432,
          0.011015378053840896,
          0.0922159313596671,
          0.04136793999168198,
          0.2110470345947406,
          0.12718213405782253,
          0.21460151331797261,
          -0.1400611462432605,
          0.029432800974177553,
          0.08379324201442229,
          -0.037882843288300605,
          -0.0687524238218441,
          0.058591349149676564,
          -0.03941621841433951,
          -0.030070591933917812,
          -0.02505371533706313,
          -0.08128392970663012,
          0.1267480018799898,
          0.07230232380032309,
          -0.2334087666350012,
          -0.1230635047672175,
          0.20376035510878987,
          0.17514559665014673,
          0.05699311534480089,
          -0.1192372757371788,
          -0.011654082267557375,
          0.13678767562523908,
          0.10280050328741441,
          0.012458319896976322,
          -0.012392349536197278,
          -0.17211906592474557,
          -0.0660880215673505,
          -0.0429636203500553,
          0.17905665879232968,
          0.10586294327760415,
          0.08809301664030622,
          -0.030850297007018468,
          0.06600078130310671,
          -0.20179965374418518,
          0.1265795220458299,
          -0.0961457444471423,
          -0.16656265793612723,
          -0.04021429348951144,
          0.08665372522145298,
          -0.03607856646855745,
          -0.08442729104438007,
          0.048613390043326765,
          0.014261520214384094,
          0.04912078613684279,
          0.10515798508373875,
          -0.06450429876162622,
          -0.23061176321217702,
          0.024620535794756426,
          0.10334781944478699,
          0.10605313673900807,
          0.006887518609393073,
          0.11160273874901261,
          0.13191127989050289,
          -0.08014456190312358,
          -0.0663062842062293,
          0.05366331061444085,
          0.005220481975193536,
          0.057476766381161726,
          -0.1209914048033508,
          -0.09674577937220463,
          0.10584798857554834,
          0.1290374814692845,
          -0.08975628600213992,
          -0.011770718948918568,
          -0.06142857392204348,
          0.05761403340508098,
          -0.01961453703632876,
          -0.09276353687101402,
          0.08613505556115952,
          0.02639595611045009,
          0.05310372559987098,
          0.12577935841568588,
          -0.021987392178738796,
          -0.009184188652098801,
          -0.008627018148527177,
          -0.09597501296180766,
          0.04346543837112349,
          -0.014236659299672882,
          -0.02838595723273174,
          0.04812590281025653,
          0.03970236097347657,
          0.11508661790483776,
          -0.0038406413659954897,
          -0.033617838747342255,
          -0.035074557341180146,
          0.11362306745118156,
          -0.10039047052483618,
          0.07206250394078473,
          0.07505693994814866,
          -0.05805934144885816,
          -0.06948158435888563
         ]
        },
        {
         "line": {
          "color": "#FFA15A"
         },
         "mode": "lines",
         "name": "LOL",
         "type": "scatter",
         "x": [
          "2017-07-24T00:00:00",
          "2017-07-31T00:00:00",
          "2017-08-07T00:00:00",
          "2017-08-14T00:00:00",
          "2017-08-21T00:00:00",
          "2017-08-28T00:00:00",
          "2017-09-04T00:00:00",
          "2017-09-11T00:00:00",
          "2017-09-18T00:00:00",
          "2017-09-25T00:00:00",
          "2017-10-02T00:00:00",
          "2017-10-09T00:00:00",
          "2017-10-16T00:00:00",
          "2017-10-23T00:00:00",
          "2017-10-29T23:00:00",
          "2017-11-05T23:00:00",
          "2017-11-12T23:00:00",
          "2017-11-19T23:00:00",
          "2017-11-26T23:00:00",
          "2017-12-03T23:00:00",
          "2017-12-10T23:00:00",
          "2017-12-17T23:00:00",
          "2017-12-24T23:00:00",
          "2017-12-31T23:00:00",
          "2018-01-07T23:00:00",
          "2018-01-14T23:00:00",
          "2018-01-21T23:00:00",
          "2018-01-28T23:00:00",
          "2018-02-04T23:00:00",
          "2018-02-11T23:00:00",
          "2018-02-18T23:00:00",
          "2018-02-25T23:00:00",
          "2018-03-04T23:00:00",
          "2018-03-11T23:00:00",
          "2018-03-18T23:00:00",
          "2018-03-26T00:00:00",
          "2018-04-02T00:00:00",
          "2018-04-09T00:00:00",
          "2018-04-16T00:00:00",
          "2018-04-23T00:00:00",
          "2018-04-30T00:00:00",
          "2018-05-07T00:00:00",
          "2018-05-14T00:00:00",
          "2018-05-21T00:00:00",
          "2018-05-28T00:00:00",
          "2018-06-04T00:00:00",
          "2018-06-11T00:00:00",
          "2018-06-18T00:00:00",
          "2018-06-25T00:00:00",
          "2018-07-02T00:00:00",
          "2018-07-09T00:00:00",
          "2018-07-16T00:00:00",
          "2018-07-23T00:00:00",
          "2018-07-30T00:00:00",
          "2018-08-06T00:00:00",
          "2018-08-13T00:00:00",
          "2018-08-20T00:00:00",
          "2018-08-27T00:00:00",
          "2018-09-03T00:00:00",
          "2018-09-10T00:00:00",
          "2018-09-17T00:00:00",
          "2018-09-24T00:00:00",
          "2018-10-01T00:00:00",
          "2018-10-08T00:00:00",
          "2018-10-15T00:00:00",
          "2018-10-22T00:00:00",
          "2018-10-28T23:00:00",
          "2018-11-04T23:00:00",
          "2018-11-11T23:00:00",
          "2018-11-18T23:00:00",
          "2018-11-25T23:00:00",
          "2018-12-02T23:00:00",
          "2018-12-09T23:00:00",
          "2018-12-16T23:00:00",
          "2018-12-23T23:00:00",
          "2018-12-30T23:00:00",
          "2019-01-06T23:00:00",
          "2019-01-13T23:00:00",
          "2019-01-20T23:00:00",
          "2019-01-27T23:00:00",
          "2019-02-03T23:00:00",
          "2019-02-10T23:00:00",
          "2019-02-17T23:00:00",
          "2019-02-24T23:00:00",
          "2019-03-03T23:00:00",
          "2019-03-10T23:00:00",
          "2019-03-17T23:00:00",
          "2019-03-24T23:00:00",
          "2019-04-01T00:00:00",
          "2019-04-08T00:00:00",
          "2019-04-15T00:00:00",
          "2019-04-22T00:00:00",
          "2019-04-29T00:00:00",
          "2019-05-06T00:00:00",
          "2019-05-13T00:00:00",
          "2019-05-20T00:00:00",
          "2019-05-27T00:00:00",
          "2019-06-03T00:00:00",
          "2019-06-10T00:00:00",
          "2019-06-17T00:00:00",
          "2019-06-24T00:00:00",
          "2019-07-01T00:00:00",
          "2019-07-08T00:00:00",
          "2019-07-15T00:00:00",
          "2019-07-22T00:00:00",
          "2019-07-29T00:00:00",
          "2019-08-05T00:00:00",
          "2019-08-12T00:00:00",
          "2019-08-19T00:00:00",
          "2019-08-26T00:00:00",
          "2019-09-02T00:00:00",
          "2019-09-09T00:00:00",
          "2019-09-16T00:00:00",
          "2019-09-23T00:00:00"
         ],
         "y": [
          null,
          0.7551815072758656,
          0.4357923758665705,
          -0.09036509321121922,
          -0.23892761667737072,
          0.20269591934711073,
          -0.23166800319432002,
          -0.24743942417092823,
          1.093949459934319,
          -0.08032319965279211,
          -0.1387576176148302,
          -0.018196998958902588,
          0.03373619156570973,
          -0.1034035704250793,
          0.19770820605190287,
          -0.08586592612592114,
          1.0006769783239893,
          -0.3115863675951015,
          -0.3869878634825218,
          -0.15410825947482476,
          -0.008125556173569803,
          -0.09704098945123318,
          -0.012636080712108977,
          0.11040694953705166,
          0.5046005303368992,
          -0.16495634708857043,
          0.1063901652438779,
          -0.06228883123590612,
          -0.11792224882601432,
          0.4644885550888793,
          -0.39704938875840345,
          0.5751455574455238,
          -0.11691858026176938,
          -0.059732110389230764,
          0.09550926976641771,
          -0.1333755332311778,
          -0.2803011334384724,
          0.1240110657080784,
          -0.31596095995616924,
          0.22116853842246353,
          0.478229338225991,
          -0.2920585358215023,
          0.21860672150927596,
          -0.0386577433731875,
          -0.2854391031083999,
          0.36213449750834203,
          -0.23754974204795642,
          1.2788711231517111,
          -0.3747509352204025,
          0.021803855644585868,
          -0.06323067480438382,
          0.0914721856817009,
          0.11361558474373634,
          -0.2942944786388412,
          0.432240975871631,
          -0.010093531696689473,
          0.2792360302889496,
          -0.3228316240661899,
          -0.2933934557707961,
          0.431921988444961,
          0.2463099654792027,
          -0.351309318643933,
          0.7218955706100931,
          -0.33916679095452607,
          0.44871467073914184,
          -0.03837197008966797,
          -0.1574125161953429,
          0.12452591991599093,
          0.21880803097159185,
          -0.1518343602348461,
          0.45703234662816516,
          -0.3827545019602189,
          0.03630060058678053,
          -0.15355685282856668,
          -0.03665506253602935,
          0.05617885013939583,
          0.17180679673686106,
          0.2778776691546494,
          -0.422696462958156,
          0.050898382850581125,
          0.1630264630426841,
          0.08946780414612454,
          0.44048049972569636,
          -0.05718001376181192,
          -0.3090004565517922,
          0.14383274775708377,
          -0.2655558436146406,
          0.0776959560385444,
          0.26686924023636016,
          -0.031404288338088726,
          -0.14918464654477248,
          -0.05846409048171752,
          0.29546130708573193,
          0.3578986043952992,
          -0.45501872694861634,
          0.08209137160041124,
          0.1087507990224803,
          0.39824518006546406,
          0.2366045886220276,
          -0.1214349037724397,
          -0.35037254667675133,
          -0.14534228046372122,
          0.10920640967078565,
          -0.022561712758690566,
          0.22808119406923644,
          0.18206331775530482,
          -0.14240910106474436,
          -0.039501091021306056,
          0.06755640212304836,
          -0.14599435082876544,
          0.33348741254552183,
          -0.3001009076111868,
          0.10249677311013072,
          -0.041966973453467116
         ]
        },
        {
         "line": {
          "color": "#19D3F3"
         },
         "mode": "lines",
         "name": "Minecraft",
         "type": "scatter",
         "x": [
          "2017-07-24T00:00:00",
          "2017-07-31T00:00:00",
          "2017-08-07T00:00:00",
          "2017-08-14T00:00:00",
          "2017-08-21T00:00:00",
          "2017-08-28T00:00:00",
          "2017-09-04T00:00:00",
          "2017-09-11T00:00:00",
          "2017-09-18T00:00:00",
          "2017-09-25T00:00:00",
          "2017-10-02T00:00:00",
          "2017-10-09T00:00:00",
          "2017-10-16T00:00:00",
          "2017-10-23T00:00:00",
          "2017-10-29T23:00:00",
          "2017-11-05T23:00:00",
          "2017-11-12T23:00:00",
          "2017-11-19T23:00:00",
          "2017-11-26T23:00:00",
          "2017-12-03T23:00:00",
          "2017-12-10T23:00:00",
          "2017-12-17T23:00:00",
          "2017-12-24T23:00:00",
          "2017-12-31T23:00:00",
          "2018-01-07T23:00:00",
          "2018-01-14T23:00:00",
          "2018-01-21T23:00:00",
          "2018-01-28T23:00:00",
          "2018-02-04T23:00:00",
          "2018-02-11T23:00:00",
          "2018-02-18T23:00:00",
          "2018-02-25T23:00:00",
          "2018-03-04T23:00:00",
          "2018-03-11T23:00:00",
          "2018-03-18T23:00:00",
          "2018-03-26T00:00:00",
          "2018-04-02T00:00:00",
          "2018-04-09T00:00:00",
          "2018-04-16T00:00:00",
          "2018-04-23T00:00:00",
          "2018-04-30T00:00:00",
          "2018-05-07T00:00:00",
          "2018-05-14T00:00:00",
          "2018-05-21T00:00:00",
          "2018-05-28T00:00:00",
          "2018-06-04T00:00:00",
          "2018-06-11T00:00:00",
          "2018-06-18T00:00:00",
          "2018-06-25T00:00:00",
          "2018-07-02T00:00:00",
          "2018-07-09T00:00:00",
          "2018-07-16T00:00:00",
          "2018-07-23T00:00:00",
          "2018-07-30T00:00:00",
          "2018-08-06T00:00:00",
          "2018-08-13T00:00:00",
          "2018-08-20T00:00:00",
          "2018-08-27T00:00:00",
          "2018-09-03T00:00:00",
          "2018-09-10T00:00:00",
          "2018-09-17T00:00:00",
          "2018-09-24T00:00:00",
          "2018-10-01T00:00:00",
          "2018-10-08T00:00:00",
          "2018-10-15T00:00:00",
          "2018-10-22T00:00:00",
          "2018-10-28T23:00:00",
          "2018-11-04T23:00:00",
          "2018-11-11T23:00:00",
          "2018-11-18T23:00:00",
          "2018-11-25T23:00:00",
          "2018-12-02T23:00:00",
          "2018-12-09T23:00:00",
          "2018-12-16T23:00:00",
          "2018-12-23T23:00:00",
          "2018-12-30T23:00:00",
          "2019-01-06T23:00:00",
          "2019-01-13T23:00:00",
          "2019-01-20T23:00:00",
          "2019-01-27T23:00:00",
          "2019-02-03T23:00:00",
          "2019-02-10T23:00:00",
          "2019-02-17T23:00:00",
          "2019-02-24T23:00:00",
          "2019-03-03T23:00:00",
          "2019-03-10T23:00:00",
          "2019-03-17T23:00:00",
          "2019-03-24T23:00:00",
          "2019-04-01T00:00:00",
          "2019-04-08T00:00:00",
          "2019-04-15T00:00:00",
          "2019-04-22T00:00:00",
          "2019-04-29T00:00:00",
          "2019-05-06T00:00:00",
          "2019-05-13T00:00:00",
          "2019-05-20T00:00:00",
          "2019-05-27T00:00:00",
          "2019-06-03T00:00:00",
          "2019-06-10T00:00:00",
          "2019-06-17T00:00:00",
          "2019-06-24T00:00:00",
          "2019-07-01T00:00:00",
          "2019-07-08T00:00:00",
          "2019-07-15T00:00:00",
          "2019-07-22T00:00:00",
          "2019-07-29T00:00:00",
          "2019-08-05T00:00:00",
          "2019-08-12T00:00:00",
          "2019-08-19T00:00:00",
          "2019-08-26T00:00:00",
          "2019-09-02T00:00:00",
          "2019-09-09T00:00:00",
          "2019-09-16T00:00:00",
          "2019-09-23T00:00:00"
         ],
         "y": [
          null,
          0.04434693392186051,
          -0.002990280192670003,
          -0.06468064740729984,
          -0.03030026382811679,
          -0.10673416292338622,
          -0.06624558492112964,
          -0.09938782893860532,
          -0.08373752105491838,
          0.004877260768972214,
          -0.07552102356412627,
          -0.05272472413585305,
          0.12817801828857123,
          0.013721671366706989,
          0.019179890878466388,
          -0.003760819650258651,
          0.05651242571304005,
          0.08574247902427312,
          -0.07569684923206799,
          -0.01335279366394837,
          0.011340666488986129,
          -0.050632575401239,
          0.1896526958250584,
          0.27051306541668874,
          0.057579814641908644,
          -0.11857819877652742,
          -0.0048086523415235005,
          -0.11234522862587781,
          0.0034040933264773976,
          -0.13341041702702927,
          0.04924421561800729,
          0.018003882871554078,
          -0.046627835218706615,
          -0.10761762735775693,
          -0.031246003393541333,
          -0.0732689881429005,
          0.12227663027072655,
          0.003539548038795415,
          -0.02425487846618768,
          0.06142510150142044,
          -0.02078428992823289,
          -0.021639953150193958,
          -0.0051017225967051605,
          -0.06328162503207335,
          0.09577261654022151,
          0.03980166012185604,
          0.01569750850946372,
          0.015893819841753976,
          0.058193455251300596,
          0.05840326363079695,
          -0.01978053639516686,
          0.04333415485288583,
          -0.0009231395561277722,
          -0.014793162434594054,
          -0.11148637893692015,
          0.007922123829774863,
          -0.17691379584814637,
          0.018227419597271588,
          -0.00818317563505544,
          -0.06379292986284846,
          -0.06894638032071498,
          -0.041540393577142454,
          0.02148475693257934,
          0.005341245149449669,
          0.025018377515944268,
          -0.06175163341585799,
          0.033377061571551625,
          -0.09038492734897863,
          0.07264712112477545,
          0.16744619880956702,
          0.02366330132342709,
          -0.003999502202264638,
          -0.11484807186123447,
          0.01545156690454852,
          0.08620192611202127,
          0.13199921114692081,
          -0.0313442588934747,
          -0.014506836614549101,
          -0.02991656390265518,
          0.03413930093705719,
          -0.018231379776490475,
          -0.056946944672683686,
          -0.01742433459540027,
          -0.04968108267603244,
          -0.12297035205360363,
          -0.17563517085263614,
          0.3803410381248389,
          0.04086538868144585,
          0.014828256131571793,
          -0.004364029278359438,
          0.03169198200053569,
          -0.034709639769240797,
          -0.02992289740552312,
          0.04678677916157792,
          0.04705083983220604,
          0.027332351973740954,
          -0.029905421803526067,
          0.037193429009585444,
          0.0487385967649292,
          0.045846847003044644,
          -0.02306101194950949,
          0.03318881342213009,
          0.05951659272489129,
          0.023001961865113385,
          0.012232346142556194,
          -0.033335824999449426,
          0.04615222773223637,
          -0.0582056539248077,
          -0.03736333493525801,
          0.0108839699111698,
          -0.04468668544304166,
          -0.11840544543468479,
          -0.11312018678504432,
          0.0359315148551036
         ]
        },
        {
         "line": {
          "color": "#FF6692"
         },
         "mode": "lines",
         "name": "Mobile Games",
         "type": "scatter",
         "x": [
          "2017-07-24T00:00:00",
          "2017-07-31T00:00:00",
          "2017-08-07T00:00:00",
          "2017-08-14T00:00:00",
          "2017-08-21T00:00:00",
          "2017-08-28T00:00:00",
          "2017-09-04T00:00:00",
          "2017-09-11T00:00:00",
          "2017-09-18T00:00:00",
          "2017-09-25T00:00:00",
          "2017-10-02T00:00:00",
          "2017-10-09T00:00:00",
          "2017-10-16T00:00:00",
          "2017-10-23T00:00:00",
          "2017-10-29T23:00:00",
          "2017-11-05T23:00:00",
          "2017-11-12T23:00:00",
          "2017-11-19T23:00:00",
          "2017-11-26T23:00:00",
          "2017-12-03T23:00:00",
          "2017-12-10T23:00:00",
          "2017-12-17T23:00:00",
          "2017-12-24T23:00:00",
          "2017-12-31T23:00:00",
          "2018-01-07T23:00:00",
          "2018-01-14T23:00:00",
          "2018-01-21T23:00:00",
          "2018-01-28T23:00:00",
          "2018-02-04T23:00:00",
          "2018-02-11T23:00:00",
          "2018-02-18T23:00:00",
          "2018-02-25T23:00:00",
          "2018-03-04T23:00:00",
          "2018-03-11T23:00:00",
          "2018-03-18T23:00:00",
          "2018-03-26T00:00:00",
          "2018-04-02T00:00:00",
          "2018-04-09T00:00:00",
          "2018-04-16T00:00:00",
          "2018-04-23T00:00:00",
          "2018-04-30T00:00:00",
          "2018-05-07T00:00:00",
          "2018-05-14T00:00:00",
          "2018-05-21T00:00:00",
          "2018-05-28T00:00:00",
          "2018-06-04T00:00:00",
          "2018-06-11T00:00:00",
          "2018-06-18T00:00:00",
          "2018-06-25T00:00:00",
          "2018-07-02T00:00:00",
          "2018-07-09T00:00:00",
          "2018-07-16T00:00:00",
          "2018-07-23T00:00:00",
          "2018-07-30T00:00:00",
          "2018-08-06T00:00:00",
          "2018-08-13T00:00:00",
          "2018-08-20T00:00:00",
          "2018-08-27T00:00:00",
          "2018-09-03T00:00:00",
          "2018-09-10T00:00:00",
          "2018-09-17T00:00:00",
          "2018-09-24T00:00:00",
          "2018-10-01T00:00:00",
          "2018-10-08T00:00:00",
          "2018-10-15T00:00:00",
          "2018-10-22T00:00:00",
          "2018-10-28T23:00:00",
          "2018-11-04T23:00:00",
          "2018-11-11T23:00:00",
          "2018-11-18T23:00:00",
          "2018-11-25T23:00:00",
          "2018-12-02T23:00:00",
          "2018-12-09T23:00:00",
          "2018-12-16T23:00:00",
          "2018-12-23T23:00:00",
          "2018-12-30T23:00:00",
          "2019-01-06T23:00:00",
          "2019-01-13T23:00:00",
          "2019-01-20T23:00:00",
          "2019-01-27T23:00:00",
          "2019-02-03T23:00:00",
          "2019-02-10T23:00:00",
          "2019-02-17T23:00:00",
          "2019-02-24T23:00:00",
          "2019-03-03T23:00:00",
          "2019-03-10T23:00:00",
          "2019-03-17T23:00:00",
          "2019-03-24T23:00:00",
          "2019-04-01T00:00:00",
          "2019-04-08T00:00:00",
          "2019-04-15T00:00:00",
          "2019-04-22T00:00:00",
          "2019-04-29T00:00:00",
          "2019-05-06T00:00:00",
          "2019-05-13T00:00:00",
          "2019-05-20T00:00:00",
          "2019-05-27T00:00:00",
          "2019-06-03T00:00:00",
          "2019-06-10T00:00:00",
          "2019-06-17T00:00:00",
          "2019-06-24T00:00:00",
          "2019-07-01T00:00:00",
          "2019-07-08T00:00:00",
          "2019-07-15T00:00:00",
          "2019-07-22T00:00:00",
          "2019-07-29T00:00:00",
          "2019-08-05T00:00:00",
          "2019-08-12T00:00:00",
          "2019-08-19T00:00:00",
          "2019-08-26T00:00:00",
          "2019-09-02T00:00:00",
          "2019-09-09T00:00:00",
          "2019-09-16T00:00:00",
          "2019-09-23T00:00:00"
         ],
         "y": [
          null,
          0.07731331944366637,
          0.2601551661802326,
          0.126007406347165,
          -0.12459513367360875,
          -0.020277671220110594,
          0.05478444339687738,
          -0.27650962861826156,
          0.029641130726976384,
          0.09808008267796997,
          -0.18318198004176256,
          0.3758679591621501,
          -0.09982001898947557,
          -0.27982437431759644,
          -0.17395589376780674,
          0.07526327050787884,
          0.02261885097763794,
          0.23778781627588863,
          -0.3503225559210009,
          -0.12614328713229495,
          0.2500629768992848,
          0.13932540877448862,
          -0.01027269635612571,
          0.07902424078330172,
          -0.026556462824275484,
          -0.27338687992701016,
          -0.0703834402118858,
          0.1093564852386284,
          0.0014768094846380198,
          0.21593892058569342,
          0.19751180868218543,
          -0.1666116084548982,
          0.05788856583333324,
          -0.2712888037943796,
          0.006979591777371397,
          0.16796234401291898,
          0.006181234107166311,
          -0.07865436398221182,
          -0.061562924677975084,
          -0.001990250634607338,
          0.23947390185609074,
          -0.3484900707027059,
          0.43185396108828034,
          0.013032477020185285,
          0.1409784718532925,
          0.5499448445836794,
          0.39919639728135525,
          -0.23363764148283894,
          0.03339626660150663,
          -0.16572869304656235,
          -0.22290157089459794,
          0.03244765956667828,
          0.049021329934664015,
          -0.08709157627945174,
          -0.039251676210925734,
          0.14078641000778713,
          -0.14945163053131727,
          -0.15589854822982596,
          0.237390849675027,
          -0.0014251630471366905,
          0.03609139079778245,
          0.04613960491473179,
          0.017731169202846564,
          -0.0030553016511047915,
          -0.10412358662185695,
          0.31444895326218925,
          0.0899859172911881,
          -0.18351952385844694,
          -0.04721030971765261,
          0.2577318929703476,
          0.14736382751448973,
          -0.16009963973571895,
          0.22833544464250655,
          -0.13078841092073612,
          0.25746628525329074,
          -0.04835650977099215,
          -0.08805457074359857,
          -0.0730660351990432,
          -0.030686916505750284,
          0.06700844581176657,
          0.1145065745646745,
          0.05561884071914491,
          0.05225803916108429,
          -0.04573849823402121,
          -0.08486652760926339,
          -0.029522021707153567,
          0.005278800550326146,
          -0.06851096913415045,
          0.0014098669373321382,
          0.07722484563597543,
          0.07174014410573837,
          0.09835464197158772,
          0.06201395093882356,
          0.010495202594237307,
          0.028456449409139495,
          0.17052144220556342,
          0.019230806465541317,
          0.14885052101665885,
          0.12929046894603258,
          -0.05569639571052942,
          -0.04151759933219201,
          0.06786156788726916,
          0.03953949337948459,
          -0.21606900648073102,
          -0.11868720440191871,
          -0.038896502556764134,
          0.06019521581198872,
          -0.06036288771808329,
          -0.07071381004962551,
          -0.021859452738241525,
          -0.02411029080470317,
          -0.11690799811772767,
          0.01426798917935268,
          0.004336982354726127
         ]
        }
       ],
       "layout": {
        "annotations": [
         {
          "font": {
           "color": "grey",
           "size": 10
          },
          "showarrow": false,
          "text": "Battle-Royale Mode Out",
          "textangle": -90,
          "x": "2017-09-26T00:00:00",
          "xshift": -10,
          "y": 0.8
         }
        ],
        "shapes": [
         {
          "line": {
           "color": "grey",
           "dash": "dash"
          },
          "type": "line",
          "x0": "2017-09-26T00:00:00",
          "x1": "2017-09-26T00:00:00",
          "xref": "x",
          "y0": 0,
          "y1": 1,
          "yref": "y domain"
         }
        ],
        "showlegend": true,
        "template": {
         "data": {
          "bar": [
           {
            "error_x": {
             "color": "#2a3f5f"
            },
            "error_y": {
             "color": "#2a3f5f"
            },
            "marker": {
             "line": {
              "color": "#E5ECF6",
              "width": 0.5
             },
             "pattern": {
              "fillmode": "overlay",
              "size": 10,
              "solidity": 0.2
             }
            },
            "type": "bar"
           }
          ],
          "barpolar": [
           {
            "marker": {
             "line": {
              "color": "#E5ECF6",
              "width": 0.5
             },
             "pattern": {
              "fillmode": "overlay",
              "size": 10,
              "solidity": 0.2
             }
            },
            "type": "barpolar"
           }
          ],
          "carpet": [
           {
            "aaxis": {
             "endlinecolor": "#2a3f5f",
             "gridcolor": "white",
             "linecolor": "white",
             "minorgridcolor": "white",
             "startlinecolor": "#2a3f5f"
            },
            "baxis": {
             "endlinecolor": "#2a3f5f",
             "gridcolor": "white",
             "linecolor": "white",
             "minorgridcolor": "white",
             "startlinecolor": "#2a3f5f"
            },
            "type": "carpet"
           }
          ],
          "choropleth": [
           {
            "colorbar": {
             "outlinewidth": 0,
             "ticks": ""
            },
            "type": "choropleth"
           }
          ],
          "contour": [
           {
            "colorbar": {
             "outlinewidth": 0,
             "ticks": ""
            },
            "colorscale": [
             [
              0,
              "#0d0887"
             ],
             [
              0.1111111111111111,
              "#46039f"
             ],
             [
              0.2222222222222222,
              "#7201a8"
             ],
             [
              0.3333333333333333,
              "#9c179e"
             ],
             [
              0.4444444444444444,
              "#bd3786"
             ],
             [
              0.5555555555555556,
              "#d8576b"
             ],
             [
              0.6666666666666666,
              "#ed7953"
             ],
             [
              0.7777777777777778,
              "#fb9f3a"
             ],
             [
              0.8888888888888888,
              "#fdca26"
             ],
             [
              1,
              "#f0f921"
             ]
            ],
            "type": "contour"
           }
          ],
          "contourcarpet": [
           {
            "colorbar": {
             "outlinewidth": 0,
             "ticks": ""
            },
            "type": "contourcarpet"
           }
          ],
          "heatmap": [
           {
            "colorbar": {
             "outlinewidth": 0,
             "ticks": ""
            },
            "colorscale": [
             [
              0,
              "#0d0887"
             ],
             [
              0.1111111111111111,
              "#46039f"
             ],
             [
              0.2222222222222222,
              "#7201a8"
             ],
             [
              0.3333333333333333,
              "#9c179e"
             ],
             [
              0.4444444444444444,
              "#bd3786"
             ],
             [
              0.5555555555555556,
              "#d8576b"
             ],
             [
              0.6666666666666666,
              "#ed7953"
             ],
             [
              0.7777777777777778,
              "#fb9f3a"
             ],
             [
              0.8888888888888888,
              "#fdca26"
             ],
             [
              1,
              "#f0f921"
             ]
            ],
            "type": "heatmap"
           }
          ],
          "heatmapgl": [
           {
            "colorbar": {
             "outlinewidth": 0,
             "ticks": ""
            },
            "colorscale": [
             [
              0,
              "#0d0887"
             ],
             [
              0.1111111111111111,
              "#46039f"
             ],
             [
              0.2222222222222222,
              "#7201a8"
             ],
             [
              0.3333333333333333,
              "#9c179e"
             ],
             [
              0.4444444444444444,
              "#bd3786"
             ],
             [
              0.5555555555555556,
              "#d8576b"
             ],
             [
              0.6666666666666666,
              "#ed7953"
             ],
             [
              0.7777777777777778,
              "#fb9f3a"
             ],
             [
              0.8888888888888888,
              "#fdca26"
             ],
             [
              1,
              "#f0f921"
             ]
            ],
            "type": "heatmapgl"
           }
          ],
          "histogram": [
           {
            "marker": {
             "pattern": {
              "fillmode": "overlay",
              "size": 10,
              "solidity": 0.2
             }
            },
            "type": "histogram"
           }
          ],
          "histogram2d": [
           {
            "colorbar": {
             "outlinewidth": 0,
             "ticks": ""
            },
            "colorscale": [
             [
              0,
              "#0d0887"
             ],
             [
              0.1111111111111111,
              "#46039f"
             ],
             [
              0.2222222222222222,
              "#7201a8"
             ],
             [
              0.3333333333333333,
              "#9c179e"
             ],
             [
              0.4444444444444444,
              "#bd3786"
             ],
             [
              0.5555555555555556,
              "#d8576b"
             ],
             [
              0.6666666666666666,
              "#ed7953"
             ],
             [
              0.7777777777777778,
              "#fb9f3a"
             ],
             [
              0.8888888888888888,
              "#fdca26"
             ],
             [
              1,
              "#f0f921"
             ]
            ],
            "type": "histogram2d"
           }
          ],
          "histogram2dcontour": [
           {
            "colorbar": {
             "outlinewidth": 0,
             "ticks": ""
            },
            "colorscale": [
             [
              0,
              "#0d0887"
             ],
             [
              0.1111111111111111,
              "#46039f"
             ],
             [
              0.2222222222222222,
              "#7201a8"
             ],
             [
              0.3333333333333333,
              "#9c179e"
             ],
             [
              0.4444444444444444,
              "#bd3786"
             ],
             [
              0.5555555555555556,
              "#d8576b"
             ],
             [
              0.6666666666666666,
              "#ed7953"
             ],
             [
              0.7777777777777778,
              "#fb9f3a"
             ],
             [
              0.8888888888888888,
              "#fdca26"
             ],
             [
              1,
              "#f0f921"
             ]
            ],
            "type": "histogram2dcontour"
           }
          ],
          "mesh3d": [
           {
            "colorbar": {
             "outlinewidth": 0,
             "ticks": ""
            },
            "type": "mesh3d"
           }
          ],
          "parcoords": [
           {
            "line": {
             "colorbar": {
              "outlinewidth": 0,
              "ticks": ""
             }
            },
            "type": "parcoords"
           }
          ],
          "pie": [
           {
            "automargin": true,
            "type": "pie"
           }
          ],
          "scatter": [
           {
            "fillpattern": {
             "fillmode": "overlay",
             "size": 10,
             "solidity": 0.2
            },
            "type": "scatter"
           }
          ],
          "scatter3d": [
           {
            "line": {
             "colorbar": {
              "outlinewidth": 0,
              "ticks": ""
             }
            },
            "marker": {
             "colorbar": {
              "outlinewidth": 0,
              "ticks": ""
             }
            },
            "type": "scatter3d"
           }
          ],
          "scattercarpet": [
           {
            "marker": {
             "colorbar": {
              "outlinewidth": 0,
              "ticks": ""
             }
            },
            "type": "scattercarpet"
           }
          ],
          "scattergeo": [
           {
            "marker": {
             "colorbar": {
              "outlinewidth": 0,
              "ticks": ""
             }
            },
            "type": "scattergeo"
           }
          ],
          "scattergl": [
           {
            "marker": {
             "colorbar": {
              "outlinewidth": 0,
              "ticks": ""
             }
            },
            "type": "scattergl"
           }
          ],
          "scattermapbox": [
           {
            "marker": {
             "colorbar": {
              "outlinewidth": 0,
              "ticks": ""
             }
            },
            "type": "scattermapbox"
           }
          ],
          "scatterpolar": [
           {
            "marker": {
             "colorbar": {
              "outlinewidth": 0,
              "ticks": ""
             }
            },
            "type": "scatterpolar"
           }
          ],
          "scatterpolargl": [
           {
            "marker": {
             "colorbar": {
              "outlinewidth": 0,
              "ticks": ""
             }
            },
            "type": "scatterpolargl"
           }
          ],
          "scatterternary": [
           {
            "marker": {
             "colorbar": {
              "outlinewidth": 0,
              "ticks": ""
             }
            },
            "type": "scatterternary"
           }
          ],
          "surface": [
           {
            "colorbar": {
             "outlinewidth": 0,
             "ticks": ""
            },
            "colorscale": [
             [
              0,
              "#0d0887"
             ],
             [
              0.1111111111111111,
              "#46039f"
             ],
             [
              0.2222222222222222,
              "#7201a8"
             ],
             [
              0.3333333333333333,
              "#9c179e"
             ],
             [
              0.4444444444444444,
              "#bd3786"
             ],
             [
              0.5555555555555556,
              "#d8576b"
             ],
             [
              0.6666666666666666,
              "#ed7953"
             ],
             [
              0.7777777777777778,
              "#fb9f3a"
             ],
             [
              0.8888888888888888,
              "#fdca26"
             ],
             [
              1,
              "#f0f921"
             ]
            ],
            "type": "surface"
           }
          ],
          "table": [
           {
            "cells": {
             "fill": {
              "color": "#EBF0F8"
             },
             "line": {
              "color": "white"
             }
            },
            "header": {
             "fill": {
              "color": "#C8D4E3"
             },
             "line": {
              "color": "white"
             }
            },
            "type": "table"
           }
          ]
         },
         "layout": {
          "annotationdefaults": {
           "arrowcolor": "#2a3f5f",
           "arrowhead": 0,
           "arrowwidth": 1
          },
          "autotypenumbers": "strict",
          "coloraxis": {
           "colorbar": {
            "outlinewidth": 0,
            "ticks": ""
           }
          },
          "colorscale": {
           "diverging": [
            [
             0,
             "#8e0152"
            ],
            [
             0.1,
             "#c51b7d"
            ],
            [
             0.2,
             "#de77ae"
            ],
            [
             0.3,
             "#f1b6da"
            ],
            [
             0.4,
             "#fde0ef"
            ],
            [
             0.5,
             "#f7f7f7"
            ],
            [
             0.6,
             "#e6f5d0"
            ],
            [
             0.7,
             "#b8e186"
            ],
            [
             0.8,
             "#7fbc41"
            ],
            [
             0.9,
             "#4d9221"
            ],
            [
             1,
             "#276419"
            ]
           ],
           "sequential": [
            [
             0,
             "#0d0887"
            ],
            [
             0.1111111111111111,
             "#46039f"
            ],
            [
             0.2222222222222222,
             "#7201a8"
            ],
            [
             0.3333333333333333,
             "#9c179e"
            ],
            [
             0.4444444444444444,
             "#bd3786"
            ],
            [
             0.5555555555555556,
             "#d8576b"
            ],
            [
             0.6666666666666666,
             "#ed7953"
            ],
            [
             0.7777777777777778,
             "#fb9f3a"
            ],
            [
             0.8888888888888888,
             "#fdca26"
            ],
            [
             1,
             "#f0f921"
            ]
           ],
           "sequentialminus": [
            [
             0,
             "#0d0887"
            ],
            [
             0.1111111111111111,
             "#46039f"
            ],
            [
             0.2222222222222222,
             "#7201a8"
            ],
            [
             0.3333333333333333,
             "#9c179e"
            ],
            [
             0.4444444444444444,
             "#bd3786"
            ],
            [
             0.5555555555555556,
             "#d8576b"
            ],
            [
             0.6666666666666666,
             "#ed7953"
            ],
            [
             0.7777777777777778,
             "#fb9f3a"
            ],
            [
             0.8888888888888888,
             "#fdca26"
            ],
            [
             1,
             "#f0f921"
            ]
           ]
          },
          "colorway": [
           "#636efa",
           "#EF553B",
           "#00cc96",
           "#ab63fa",
           "#FFA15A",
           "#19d3f3",
           "#FF6692",
           "#B6E880",
           "#FF97FF",
           "#FECB52"
          ],
          "font": {
           "color": "#2a3f5f"
          },
          "geo": {
           "bgcolor": "white",
           "lakecolor": "white",
           "landcolor": "#E5ECF6",
           "showlakes": true,
           "showland": true,
           "subunitcolor": "white"
          },
          "hoverlabel": {
           "align": "left"
          },
          "hovermode": "closest",
          "mapbox": {
           "style": "light"
          },
          "paper_bgcolor": "white",
          "plot_bgcolor": "#E5ECF6",
          "polar": {
           "angularaxis": {
            "gridcolor": "white",
            "linecolor": "white",
            "ticks": ""
           },
           "bgcolor": "#E5ECF6",
           "radialaxis": {
            "gridcolor": "white",
            "linecolor": "white",
            "ticks": ""
           }
          },
          "scene": {
           "xaxis": {
            "backgroundcolor": "#E5ECF6",
            "gridcolor": "white",
            "gridwidth": 2,
            "linecolor": "white",
            "showbackground": true,
            "ticks": "",
            "zerolinecolor": "white"
           },
           "yaxis": {
            "backgroundcolor": "#E5ECF6",
            "gridcolor": "white",
            "gridwidth": 2,
            "linecolor": "white",
            "showbackground": true,
            "ticks": "",
            "zerolinecolor": "white"
           },
           "zaxis": {
            "backgroundcolor": "#E5ECF6",
            "gridcolor": "white",
            "gridwidth": 2,
            "linecolor": "white",
            "showbackground": true,
            "ticks": "",
            "zerolinecolor": "white"
           }
          },
          "shapedefaults": {
           "line": {
            "color": "#2a3f5f"
           }
          },
          "ternary": {
           "aaxis": {
            "gridcolor": "white",
            "linecolor": "white",
            "ticks": ""
           },
           "baxis": {
            "gridcolor": "white",
            "linecolor": "white",
            "ticks": ""
           },
           "bgcolor": "#E5ECF6",
           "caxis": {
            "gridcolor": "white",
            "linecolor": "white",
            "ticks": ""
           }
          },
          "title": {
           "x": 0.05
          },
          "xaxis": {
           "automargin": true,
           "gridcolor": "white",
           "linecolor": "white",
           "ticks": "",
           "title": {
            "standoff": 15
           },
           "zerolinecolor": "white",
           "zerolinewidth": 2
          },
          "yaxis": {
           "automargin": true,
           "gridcolor": "white",
           "linecolor": "white",
           "ticks": "",
           "title": {
            "standoff": 15
           },
           "zerolinecolor": "white",
           "zerolinewidth": 2
          }
         }
        },
        "title": {
         "text": "Main Games: Weekly Delta Views Timeseries"
        },
        "xaxis": {
         "title": {
          "text": "Date"
         }
        },
        "yaxis": {
         "title": {
          "text": "Delta Views"
         }
        }
       }
      }
     },
     "metadata": {},
     "output_type": "display_data"
    }
   ],
   "source": [
    "fig = go.Figure()\n",
    "\n",
    "for (game, game_df) in sample_withF:\n",
    "    fig.add_trace(go.Scatter(\n",
    "        x=game_df['datetime'],\n",
    "        y=game_df[metric].pct_change(),\n",
    "        mode='lines',\n",
    "        name=game,\n",
    "        line=dict(color=colors[game]),\n",
    "    ))\n",
    "\n",
    "max_y = 1\n",
    "br_out = pd.to_datetime('2017-09-26')\n",
    "\n",
    "# Add a vertical line for Fortnite Battle-Royale Mode\n",
    "fig.add_vline(\n",
    "        x=br_out,\n",
    "        line_dash='dash',\n",
    "        line_color='grey',\n",
    "    )\n",
    "fig.add_annotation(\n",
    "        x=br_out, \n",
    "        y=max_y*0.8,\n",
    "        text=\"Battle-Royale Mode Out\",\n",
    "        font=dict(color='grey', size=10),\n",
    "        showarrow=False,\n",
    "        xshift=-10,\n",
    "        textangle=-90\n",
    "    )\n",
    "\n",
    "# Plot Titles & Axis Settings\n",
    "fig.update_layout(\n",
    "        title=f\"Main Games: Weekly {metric_txt} Timeseries\",\n",
    "        xaxis_title='Date',\n",
    "        yaxis_title=metric_txt,\n",
    "        showlegend=True\n",
    "    )\n",
    "\n",
    "fig.write_html(f\"plots/dviews_withF.html\")\n",
    "\n",
    "fig.show()"
   ]
  },
  {
   "cell_type": "code",
   "execution_count": 219,
   "metadata": {},
   "outputs": [
    {
     "data": {
      "text/html": [
       "<div>\n",
       "<style scoped>\n",
       "    .dataframe tbody tr th:only-of-type {\n",
       "        vertical-align: middle;\n",
       "    }\n",
       "\n",
       "    .dataframe tbody tr th {\n",
       "        vertical-align: top;\n",
       "    }\n",
       "\n",
       "    .dataframe thead th {\n",
       "        text-align: right;\n",
       "    }\n",
       "</style>\n",
       "<table border=\"1\" class=\"dataframe\">\n",
       "  <thead>\n",
       "    <tr style=\"text-align: right;\">\n",
       "      <th>game_category</th>\n",
       "      <th>COD</th>\n",
       "      <th>FIFA</th>\n",
       "      <th>Fortnite</th>\n",
       "      <th>GTA</th>\n",
       "      <th>LOL</th>\n",
       "      <th>Minecraft</th>\n",
       "      <th>Mobile Games</th>\n",
       "    </tr>\n",
       "  </thead>\n",
       "  <tbody>\n",
       "    <tr>\n",
       "      <th>count</th>\n",
       "      <td>1.140000e+02</td>\n",
       "      <td>1.140000e+02</td>\n",
       "      <td>1.140000e+02</td>\n",
       "      <td>1.140000e+02</td>\n",
       "      <td>1.140000e+02</td>\n",
       "      <td>1.140000e+02</td>\n",
       "      <td>1.140000e+02</td>\n",
       "    </tr>\n",
       "    <tr>\n",
       "      <th>mean</th>\n",
       "      <td>1.304813e+06</td>\n",
       "      <td>3.054835e+06</td>\n",
       "      <td>1.989214e+07</td>\n",
       "      <td>4.061399e+06</td>\n",
       "      <td>1.473028e+06</td>\n",
       "      <td>2.200449e+07</td>\n",
       "      <td>8.796160e+05</td>\n",
       "    </tr>\n",
       "    <tr>\n",
       "      <th>std</th>\n",
       "      <td>6.231997e+05</td>\n",
       "      <td>7.506828e+05</td>\n",
       "      <td>1.078392e+07</td>\n",
       "      <td>7.158772e+05</td>\n",
       "      <td>3.769693e+05</td>\n",
       "      <td>4.221552e+06</td>\n",
       "      <td>3.642755e+05</td>\n",
       "    </tr>\n",
       "    <tr>\n",
       "      <th>min</th>\n",
       "      <td>4.318527e+05</td>\n",
       "      <td>1.961598e+06</td>\n",
       "      <td>1.772967e+06</td>\n",
       "      <td>2.357766e+06</td>\n",
       "      <td>7.860623e+05</td>\n",
       "      <td>1.289236e+07</td>\n",
       "      <td>3.497931e+05</td>\n",
       "    </tr>\n",
       "    <tr>\n",
       "      <th>25%</th>\n",
       "      <td>8.290628e+05</td>\n",
       "      <td>2.560916e+06</td>\n",
       "      <td>1.259756e+07</td>\n",
       "      <td>3.688860e+06</td>\n",
       "      <td>1.225581e+06</td>\n",
       "      <td>1.912373e+07</td>\n",
       "      <td>5.966592e+05</td>\n",
       "    </tr>\n",
       "    <tr>\n",
       "      <th>50%</th>\n",
       "      <td>1.069899e+06</td>\n",
       "      <td>2.891925e+06</td>\n",
       "      <td>2.154153e+07</td>\n",
       "      <td>4.144359e+06</td>\n",
       "      <td>1.419759e+06</td>\n",
       "      <td>2.144268e+07</td>\n",
       "      <td>8.458199e+05</td>\n",
       "    </tr>\n",
       "    <tr>\n",
       "      <th>75%</th>\n",
       "      <td>1.731089e+06</td>\n",
       "      <td>3.334220e+06</td>\n",
       "      <td>2.683818e+07</td>\n",
       "      <td>4.583120e+06</td>\n",
       "      <td>1.634407e+06</td>\n",
       "      <td>2.385371e+07</td>\n",
       "      <td>1.051523e+06</td>\n",
       "    </tr>\n",
       "    <tr>\n",
       "      <th>max</th>\n",
       "      <td>3.346936e+06</td>\n",
       "      <td>6.698777e+06</td>\n",
       "      <td>4.241145e+07</td>\n",
       "      <td>5.459258e+06</td>\n",
       "      <td>3.214658e+06</td>\n",
       "      <td>3.467288e+07</td>\n",
       "      <td>1.972783e+06</td>\n",
       "    </tr>\n",
       "  </tbody>\n",
       "</table>\n",
       "</div>"
      ],
      "text/plain": [
       "game_category           COD          FIFA      Fortnite           GTA  \\\n",
       "count          1.140000e+02  1.140000e+02  1.140000e+02  1.140000e+02   \n",
       "mean           1.304813e+06  3.054835e+06  1.989214e+07  4.061399e+06   \n",
       "std            6.231997e+05  7.506828e+05  1.078392e+07  7.158772e+05   \n",
       "min            4.318527e+05  1.961598e+06  1.772967e+06  2.357766e+06   \n",
       "25%            8.290628e+05  2.560916e+06  1.259756e+07  3.688860e+06   \n",
       "50%            1.069899e+06  2.891925e+06  2.154153e+07  4.144359e+06   \n",
       "75%            1.731089e+06  3.334220e+06  2.683818e+07  4.583120e+06   \n",
       "max            3.346936e+06  6.698777e+06  4.241145e+07  5.459258e+06   \n",
       "\n",
       "game_category           LOL     Minecraft  Mobile Games  \n",
       "count          1.140000e+02  1.140000e+02  1.140000e+02  \n",
       "mean           1.473028e+06  2.200449e+07  8.796160e+05  \n",
       "std            3.769693e+05  4.221552e+06  3.642755e+05  \n",
       "min            7.860623e+05  1.289236e+07  3.497931e+05  \n",
       "25%            1.225581e+06  1.912373e+07  5.966592e+05  \n",
       "50%            1.419759e+06  2.144268e+07  8.458199e+05  \n",
       "75%            1.634407e+06  2.385371e+07  1.051523e+06  \n",
       "max            3.214658e+06  3.467288e+07  1.972783e+06  "
      ]
     },
     "execution_count": 219,
     "metadata": {},
     "output_type": "execute_result"
    }
   ],
   "source": [
    "sample_withF['delta_views'].describe().T"
   ]
  },
  {
   "cell_type": "code",
   "execution_count": 220,
   "metadata": {},
   "outputs": [
    {
     "data": {
      "application/vnd.plotly.v1+json": {
       "config": {
        "plotlyServerURL": "https://plot.ly"
       },
       "data": [
        {
         "coloraxis": "coloraxis",
         "hovertemplate": "x: %{x}<br>y: %{y}<br>color: %{z}<extra></extra>",
         "name": "0",
         "texttemplate": "%{z}",
         "type": "heatmap",
         "x": [
          "COD",
          "FIFA",
          "GTA",
          "LOL",
          "Minecraft",
          "Mobile Games"
         ],
         "xaxis": "x",
         "y": [
          "COD",
          "FIFA",
          "GTA",
          "LOL",
          "Minecraft",
          "Mobile Games"
         ],
         "yaxis": "y",
         "z": [
          [
           1,
           0.28,
           0.64,
           0.27,
           0.58,
           0.15
          ],
          [
           0.28,
           1,
           0.58,
           0.77,
           0.68,
           0.39
          ],
          [
           0.64,
           0.58,
           1,
           0.5,
           0.85,
           0.39
          ],
          [
           0.27,
           0.77,
           0.5,
           1,
           0.59,
           0.28
          ],
          [
           0.58,
           0.68,
           0.85,
           0.59,
           1,
           0.4
          ],
          [
           0.15,
           0.39,
           0.39,
           0.28,
           0.4,
           1
          ]
         ]
        }
       ],
       "layout": {
        "coloraxis": {
         "colorscale": [
          [
           0,
           "#0d0887"
          ],
          [
           0.1111111111111111,
           "#46039f"
          ],
          [
           0.2222222222222222,
           "#7201a8"
          ],
          [
           0.3333333333333333,
           "#9c179e"
          ],
          [
           0.4444444444444444,
           "#bd3786"
          ],
          [
           0.5555555555555556,
           "#d8576b"
          ],
          [
           0.6666666666666666,
           "#ed7953"
          ],
          [
           0.7777777777777778,
           "#fb9f3a"
          ],
          [
           0.8888888888888888,
           "#fdca26"
          ],
          [
           1,
           "#f0f921"
          ]
         ]
        },
        "template": {
         "data": {
          "bar": [
           {
            "error_x": {
             "color": "#2a3f5f"
            },
            "error_y": {
             "color": "#2a3f5f"
            },
            "marker": {
             "line": {
              "color": "#E5ECF6",
              "width": 0.5
             },
             "pattern": {
              "fillmode": "overlay",
              "size": 10,
              "solidity": 0.2
             }
            },
            "type": "bar"
           }
          ],
          "barpolar": [
           {
            "marker": {
             "line": {
              "color": "#E5ECF6",
              "width": 0.5
             },
             "pattern": {
              "fillmode": "overlay",
              "size": 10,
              "solidity": 0.2
             }
            },
            "type": "barpolar"
           }
          ],
          "carpet": [
           {
            "aaxis": {
             "endlinecolor": "#2a3f5f",
             "gridcolor": "white",
             "linecolor": "white",
             "minorgridcolor": "white",
             "startlinecolor": "#2a3f5f"
            },
            "baxis": {
             "endlinecolor": "#2a3f5f",
             "gridcolor": "white",
             "linecolor": "white",
             "minorgridcolor": "white",
             "startlinecolor": "#2a3f5f"
            },
            "type": "carpet"
           }
          ],
          "choropleth": [
           {
            "colorbar": {
             "outlinewidth": 0,
             "ticks": ""
            },
            "type": "choropleth"
           }
          ],
          "contour": [
           {
            "colorbar": {
             "outlinewidth": 0,
             "ticks": ""
            },
            "colorscale": [
             [
              0,
              "#0d0887"
             ],
             [
              0.1111111111111111,
              "#46039f"
             ],
             [
              0.2222222222222222,
              "#7201a8"
             ],
             [
              0.3333333333333333,
              "#9c179e"
             ],
             [
              0.4444444444444444,
              "#bd3786"
             ],
             [
              0.5555555555555556,
              "#d8576b"
             ],
             [
              0.6666666666666666,
              "#ed7953"
             ],
             [
              0.7777777777777778,
              "#fb9f3a"
             ],
             [
              0.8888888888888888,
              "#fdca26"
             ],
             [
              1,
              "#f0f921"
             ]
            ],
            "type": "contour"
           }
          ],
          "contourcarpet": [
           {
            "colorbar": {
             "outlinewidth": 0,
             "ticks": ""
            },
            "type": "contourcarpet"
           }
          ],
          "heatmap": [
           {
            "colorbar": {
             "outlinewidth": 0,
             "ticks": ""
            },
            "colorscale": [
             [
              0,
              "#0d0887"
             ],
             [
              0.1111111111111111,
              "#46039f"
             ],
             [
              0.2222222222222222,
              "#7201a8"
             ],
             [
              0.3333333333333333,
              "#9c179e"
             ],
             [
              0.4444444444444444,
              "#bd3786"
             ],
             [
              0.5555555555555556,
              "#d8576b"
             ],
             [
              0.6666666666666666,
              "#ed7953"
             ],
             [
              0.7777777777777778,
              "#fb9f3a"
             ],
             [
              0.8888888888888888,
              "#fdca26"
             ],
             [
              1,
              "#f0f921"
             ]
            ],
            "type": "heatmap"
           }
          ],
          "heatmapgl": [
           {
            "colorbar": {
             "outlinewidth": 0,
             "ticks": ""
            },
            "colorscale": [
             [
              0,
              "#0d0887"
             ],
             [
              0.1111111111111111,
              "#46039f"
             ],
             [
              0.2222222222222222,
              "#7201a8"
             ],
             [
              0.3333333333333333,
              "#9c179e"
             ],
             [
              0.4444444444444444,
              "#bd3786"
             ],
             [
              0.5555555555555556,
              "#d8576b"
             ],
             [
              0.6666666666666666,
              "#ed7953"
             ],
             [
              0.7777777777777778,
              "#fb9f3a"
             ],
             [
              0.8888888888888888,
              "#fdca26"
             ],
             [
              1,
              "#f0f921"
             ]
            ],
            "type": "heatmapgl"
           }
          ],
          "histogram": [
           {
            "marker": {
             "pattern": {
              "fillmode": "overlay",
              "size": 10,
              "solidity": 0.2
             }
            },
            "type": "histogram"
           }
          ],
          "histogram2d": [
           {
            "colorbar": {
             "outlinewidth": 0,
             "ticks": ""
            },
            "colorscale": [
             [
              0,
              "#0d0887"
             ],
             [
              0.1111111111111111,
              "#46039f"
             ],
             [
              0.2222222222222222,
              "#7201a8"
             ],
             [
              0.3333333333333333,
              "#9c179e"
             ],
             [
              0.4444444444444444,
              "#bd3786"
             ],
             [
              0.5555555555555556,
              "#d8576b"
             ],
             [
              0.6666666666666666,
              "#ed7953"
             ],
             [
              0.7777777777777778,
              "#fb9f3a"
             ],
             [
              0.8888888888888888,
              "#fdca26"
             ],
             [
              1,
              "#f0f921"
             ]
            ],
            "type": "histogram2d"
           }
          ],
          "histogram2dcontour": [
           {
            "colorbar": {
             "outlinewidth": 0,
             "ticks": ""
            },
            "colorscale": [
             [
              0,
              "#0d0887"
             ],
             [
              0.1111111111111111,
              "#46039f"
             ],
             [
              0.2222222222222222,
              "#7201a8"
             ],
             [
              0.3333333333333333,
              "#9c179e"
             ],
             [
              0.4444444444444444,
              "#bd3786"
             ],
             [
              0.5555555555555556,
              "#d8576b"
             ],
             [
              0.6666666666666666,
              "#ed7953"
             ],
             [
              0.7777777777777778,
              "#fb9f3a"
             ],
             [
              0.8888888888888888,
              "#fdca26"
             ],
             [
              1,
              "#f0f921"
             ]
            ],
            "type": "histogram2dcontour"
           }
          ],
          "mesh3d": [
           {
            "colorbar": {
             "outlinewidth": 0,
             "ticks": ""
            },
            "type": "mesh3d"
           }
          ],
          "parcoords": [
           {
            "line": {
             "colorbar": {
              "outlinewidth": 0,
              "ticks": ""
             }
            },
            "type": "parcoords"
           }
          ],
          "pie": [
           {
            "automargin": true,
            "type": "pie"
           }
          ],
          "scatter": [
           {
            "fillpattern": {
             "fillmode": "overlay",
             "size": 10,
             "solidity": 0.2
            },
            "type": "scatter"
           }
          ],
          "scatter3d": [
           {
            "line": {
             "colorbar": {
              "outlinewidth": 0,
              "ticks": ""
             }
            },
            "marker": {
             "colorbar": {
              "outlinewidth": 0,
              "ticks": ""
             }
            },
            "type": "scatter3d"
           }
          ],
          "scattercarpet": [
           {
            "marker": {
             "colorbar": {
              "outlinewidth": 0,
              "ticks": ""
             }
            },
            "type": "scattercarpet"
           }
          ],
          "scattergeo": [
           {
            "marker": {
             "colorbar": {
              "outlinewidth": 0,
              "ticks": ""
             }
            },
            "type": "scattergeo"
           }
          ],
          "scattergl": [
           {
            "marker": {
             "colorbar": {
              "outlinewidth": 0,
              "ticks": ""
             }
            },
            "type": "scattergl"
           }
          ],
          "scattermapbox": [
           {
            "marker": {
             "colorbar": {
              "outlinewidth": 0,
              "ticks": ""
             }
            },
            "type": "scattermapbox"
           }
          ],
          "scatterpolar": [
           {
            "marker": {
             "colorbar": {
              "outlinewidth": 0,
              "ticks": ""
             }
            },
            "type": "scatterpolar"
           }
          ],
          "scatterpolargl": [
           {
            "marker": {
             "colorbar": {
              "outlinewidth": 0,
              "ticks": ""
             }
            },
            "type": "scatterpolargl"
           }
          ],
          "scatterternary": [
           {
            "marker": {
             "colorbar": {
              "outlinewidth": 0,
              "ticks": ""
             }
            },
            "type": "scatterternary"
           }
          ],
          "surface": [
           {
            "colorbar": {
             "outlinewidth": 0,
             "ticks": ""
            },
            "colorscale": [
             [
              0,
              "#0d0887"
             ],
             [
              0.1111111111111111,
              "#46039f"
             ],
             [
              0.2222222222222222,
              "#7201a8"
             ],
             [
              0.3333333333333333,
              "#9c179e"
             ],
             [
              0.4444444444444444,
              "#bd3786"
             ],
             [
              0.5555555555555556,
              "#d8576b"
             ],
             [
              0.6666666666666666,
              "#ed7953"
             ],
             [
              0.7777777777777778,
              "#fb9f3a"
             ],
             [
              0.8888888888888888,
              "#fdca26"
             ],
             [
              1,
              "#f0f921"
             ]
            ],
            "type": "surface"
           }
          ],
          "table": [
           {
            "cells": {
             "fill": {
              "color": "#EBF0F8"
             },
             "line": {
              "color": "white"
             }
            },
            "header": {
             "fill": {
              "color": "#C8D4E3"
             },
             "line": {
              "color": "white"
             }
            },
            "type": "table"
           }
          ]
         },
         "layout": {
          "annotationdefaults": {
           "arrowcolor": "#2a3f5f",
           "arrowhead": 0,
           "arrowwidth": 1
          },
          "autotypenumbers": "strict",
          "coloraxis": {
           "colorbar": {
            "outlinewidth": 0,
            "ticks": ""
           }
          },
          "colorscale": {
           "diverging": [
            [
             0,
             "#8e0152"
            ],
            [
             0.1,
             "#c51b7d"
            ],
            [
             0.2,
             "#de77ae"
            ],
            [
             0.3,
             "#f1b6da"
            ],
            [
             0.4,
             "#fde0ef"
            ],
            [
             0.5,
             "#f7f7f7"
            ],
            [
             0.6,
             "#e6f5d0"
            ],
            [
             0.7,
             "#b8e186"
            ],
            [
             0.8,
             "#7fbc41"
            ],
            [
             0.9,
             "#4d9221"
            ],
            [
             1,
             "#276419"
            ]
           ],
           "sequential": [
            [
             0,
             "#0d0887"
            ],
            [
             0.1111111111111111,
             "#46039f"
            ],
            [
             0.2222222222222222,
             "#7201a8"
            ],
            [
             0.3333333333333333,
             "#9c179e"
            ],
            [
             0.4444444444444444,
             "#bd3786"
            ],
            [
             0.5555555555555556,
             "#d8576b"
            ],
            [
             0.6666666666666666,
             "#ed7953"
            ],
            [
             0.7777777777777778,
             "#fb9f3a"
            ],
            [
             0.8888888888888888,
             "#fdca26"
            ],
            [
             1,
             "#f0f921"
            ]
           ],
           "sequentialminus": [
            [
             0,
             "#0d0887"
            ],
            [
             0.1111111111111111,
             "#46039f"
            ],
            [
             0.2222222222222222,
             "#7201a8"
            ],
            [
             0.3333333333333333,
             "#9c179e"
            ],
            [
             0.4444444444444444,
             "#bd3786"
            ],
            [
             0.5555555555555556,
             "#d8576b"
            ],
            [
             0.6666666666666666,
             "#ed7953"
            ],
            [
             0.7777777777777778,
             "#fb9f3a"
            ],
            [
             0.8888888888888888,
             "#fdca26"
            ],
            [
             1,
             "#f0f921"
            ]
           ]
          },
          "colorway": [
           "#636efa",
           "#EF553B",
           "#00cc96",
           "#ab63fa",
           "#FFA15A",
           "#19d3f3",
           "#FF6692",
           "#B6E880",
           "#FF97FF",
           "#FECB52"
          ],
          "font": {
           "color": "#2a3f5f"
          },
          "geo": {
           "bgcolor": "white",
           "lakecolor": "white",
           "landcolor": "#E5ECF6",
           "showlakes": true,
           "showland": true,
           "subunitcolor": "white"
          },
          "hoverlabel": {
           "align": "left"
          },
          "hovermode": "closest",
          "mapbox": {
           "style": "light"
          },
          "paper_bgcolor": "white",
          "plot_bgcolor": "#E5ECF6",
          "polar": {
           "angularaxis": {
            "gridcolor": "white",
            "linecolor": "white",
            "ticks": ""
           },
           "bgcolor": "#E5ECF6",
           "radialaxis": {
            "gridcolor": "white",
            "linecolor": "white",
            "ticks": ""
           }
          },
          "scene": {
           "xaxis": {
            "backgroundcolor": "#E5ECF6",
            "gridcolor": "white",
            "gridwidth": 2,
            "linecolor": "white",
            "showbackground": true,
            "ticks": "",
            "zerolinecolor": "white"
           },
           "yaxis": {
            "backgroundcolor": "#E5ECF6",
            "gridcolor": "white",
            "gridwidth": 2,
            "linecolor": "white",
            "showbackground": true,
            "ticks": "",
            "zerolinecolor": "white"
           },
           "zaxis": {
            "backgroundcolor": "#E5ECF6",
            "gridcolor": "white",
            "gridwidth": 2,
            "linecolor": "white",
            "showbackground": true,
            "ticks": "",
            "zerolinecolor": "white"
           }
          },
          "shapedefaults": {
           "line": {
            "color": "#2a3f5f"
           }
          },
          "ternary": {
           "aaxis": {
            "gridcolor": "white",
            "linecolor": "white",
            "ticks": ""
           },
           "baxis": {
            "gridcolor": "white",
            "linecolor": "white",
            "ticks": ""
           },
           "bgcolor": "#E5ECF6",
           "caxis": {
            "gridcolor": "white",
            "linecolor": "white",
            "ticks": ""
           }
          },
          "title": {
           "x": 0.05
          },
          "xaxis": {
           "automargin": true,
           "gridcolor": "white",
           "linecolor": "white",
           "ticks": "",
           "title": {
            "standoff": 15
           },
           "zerolinecolor": "white",
           "zerolinewidth": 2
          },
          "yaxis": {
           "automargin": true,
           "gridcolor": "white",
           "linecolor": "white",
           "ticks": "",
           "title": {
            "standoff": 15
           },
           "zerolinecolor": "white",
           "zerolinewidth": 2
          }
         }
        },
        "title": {
         "text": "Main Games: Weekly Delta Views Correlation"
        },
        "xaxis": {
         "anchor": "y",
         "constrain": "domain",
         "domain": [
          0,
          1
         ],
         "scaleanchor": "y"
        },
        "yaxis": {
         "anchor": "x",
         "autorange": "reversed",
         "constrain": "domain",
         "domain": [
          0,
          1
         ]
        }
       }
      }
     },
     "metadata": {},
     "output_type": "display_data"
    }
   ],
   "source": [
    "fig = px.imshow(timeseries_correlations(sample_beforeF, games_beforeF, metric), \n",
    "                x=list(games_beforeF),\n",
    "                y=list(games_beforeF),\n",
    "                text_auto=True,\n",
    "                title=f'Main Games: Weekly Delta Views Correlation')\n",
    "\n",
    "fig.write_html('plots/dviews_corr_beforeF.html')\n",
    "\n",
    "fig.show()"
   ]
  },
  {
   "cell_type": "code",
   "execution_count": 221,
   "metadata": {},
   "outputs": [
    {
     "data": {
      "application/vnd.plotly.v1+json": {
       "config": {
        "plotlyServerURL": "https://plot.ly"
       },
       "data": [
        {
         "coloraxis": "coloraxis",
         "hovertemplate": "x: %{x}<br>y: %{y}<br>color: %{z}<extra></extra>",
         "name": "0",
         "texttemplate": "%{z}",
         "type": "heatmap",
         "x": [
          "COD",
          "FIFA",
          "Fortnite",
          "GTA",
          "LOL",
          "Minecraft",
          "Mobile Games"
         ],
         "xaxis": "x",
         "y": [
          "Fortnite"
         ],
         "yaxis": "y",
         "z": [
          [
           0.28,
           -0.39,
           1,
           0.45,
           -0.16,
           -0.47,
           -0.02
          ]
         ]
        }
       ],
       "layout": {
        "coloraxis": {
         "colorscale": [
          [
           0,
           "#0d0887"
          ],
          [
           0.1111111111111111,
           "#46039f"
          ],
          [
           0.2222222222222222,
           "#7201a8"
          ],
          [
           0.3333333333333333,
           "#9c179e"
          ],
          [
           0.4444444444444444,
           "#bd3786"
          ],
          [
           0.5555555555555556,
           "#d8576b"
          ],
          [
           0.6666666666666666,
           "#ed7953"
          ],
          [
           0.7777777777777778,
           "#fb9f3a"
          ],
          [
           0.8888888888888888,
           "#fdca26"
          ],
          [
           1,
           "#f0f921"
          ]
         ]
        },
        "template": {
         "data": {
          "bar": [
           {
            "error_x": {
             "color": "#2a3f5f"
            },
            "error_y": {
             "color": "#2a3f5f"
            },
            "marker": {
             "line": {
              "color": "#E5ECF6",
              "width": 0.5
             },
             "pattern": {
              "fillmode": "overlay",
              "size": 10,
              "solidity": 0.2
             }
            },
            "type": "bar"
           }
          ],
          "barpolar": [
           {
            "marker": {
             "line": {
              "color": "#E5ECF6",
              "width": 0.5
             },
             "pattern": {
              "fillmode": "overlay",
              "size": 10,
              "solidity": 0.2
             }
            },
            "type": "barpolar"
           }
          ],
          "carpet": [
           {
            "aaxis": {
             "endlinecolor": "#2a3f5f",
             "gridcolor": "white",
             "linecolor": "white",
             "minorgridcolor": "white",
             "startlinecolor": "#2a3f5f"
            },
            "baxis": {
             "endlinecolor": "#2a3f5f",
             "gridcolor": "white",
             "linecolor": "white",
             "minorgridcolor": "white",
             "startlinecolor": "#2a3f5f"
            },
            "type": "carpet"
           }
          ],
          "choropleth": [
           {
            "colorbar": {
             "outlinewidth": 0,
             "ticks": ""
            },
            "type": "choropleth"
           }
          ],
          "contour": [
           {
            "colorbar": {
             "outlinewidth": 0,
             "ticks": ""
            },
            "colorscale": [
             [
              0,
              "#0d0887"
             ],
             [
              0.1111111111111111,
              "#46039f"
             ],
             [
              0.2222222222222222,
              "#7201a8"
             ],
             [
              0.3333333333333333,
              "#9c179e"
             ],
             [
              0.4444444444444444,
              "#bd3786"
             ],
             [
              0.5555555555555556,
              "#d8576b"
             ],
             [
              0.6666666666666666,
              "#ed7953"
             ],
             [
              0.7777777777777778,
              "#fb9f3a"
             ],
             [
              0.8888888888888888,
              "#fdca26"
             ],
             [
              1,
              "#f0f921"
             ]
            ],
            "type": "contour"
           }
          ],
          "contourcarpet": [
           {
            "colorbar": {
             "outlinewidth": 0,
             "ticks": ""
            },
            "type": "contourcarpet"
           }
          ],
          "heatmap": [
           {
            "colorbar": {
             "outlinewidth": 0,
             "ticks": ""
            },
            "colorscale": [
             [
              0,
              "#0d0887"
             ],
             [
              0.1111111111111111,
              "#46039f"
             ],
             [
              0.2222222222222222,
              "#7201a8"
             ],
             [
              0.3333333333333333,
              "#9c179e"
             ],
             [
              0.4444444444444444,
              "#bd3786"
             ],
             [
              0.5555555555555556,
              "#d8576b"
             ],
             [
              0.6666666666666666,
              "#ed7953"
             ],
             [
              0.7777777777777778,
              "#fb9f3a"
             ],
             [
              0.8888888888888888,
              "#fdca26"
             ],
             [
              1,
              "#f0f921"
             ]
            ],
            "type": "heatmap"
           }
          ],
          "heatmapgl": [
           {
            "colorbar": {
             "outlinewidth": 0,
             "ticks": ""
            },
            "colorscale": [
             [
              0,
              "#0d0887"
             ],
             [
              0.1111111111111111,
              "#46039f"
             ],
             [
              0.2222222222222222,
              "#7201a8"
             ],
             [
              0.3333333333333333,
              "#9c179e"
             ],
             [
              0.4444444444444444,
              "#bd3786"
             ],
             [
              0.5555555555555556,
              "#d8576b"
             ],
             [
              0.6666666666666666,
              "#ed7953"
             ],
             [
              0.7777777777777778,
              "#fb9f3a"
             ],
             [
              0.8888888888888888,
              "#fdca26"
             ],
             [
              1,
              "#f0f921"
             ]
            ],
            "type": "heatmapgl"
           }
          ],
          "histogram": [
           {
            "marker": {
             "pattern": {
              "fillmode": "overlay",
              "size": 10,
              "solidity": 0.2
             }
            },
            "type": "histogram"
           }
          ],
          "histogram2d": [
           {
            "colorbar": {
             "outlinewidth": 0,
             "ticks": ""
            },
            "colorscale": [
             [
              0,
              "#0d0887"
             ],
             [
              0.1111111111111111,
              "#46039f"
             ],
             [
              0.2222222222222222,
              "#7201a8"
             ],
             [
              0.3333333333333333,
              "#9c179e"
             ],
             [
              0.4444444444444444,
              "#bd3786"
             ],
             [
              0.5555555555555556,
              "#d8576b"
             ],
             [
              0.6666666666666666,
              "#ed7953"
             ],
             [
              0.7777777777777778,
              "#fb9f3a"
             ],
             [
              0.8888888888888888,
              "#fdca26"
             ],
             [
              1,
              "#f0f921"
             ]
            ],
            "type": "histogram2d"
           }
          ],
          "histogram2dcontour": [
           {
            "colorbar": {
             "outlinewidth": 0,
             "ticks": ""
            },
            "colorscale": [
             [
              0,
              "#0d0887"
             ],
             [
              0.1111111111111111,
              "#46039f"
             ],
             [
              0.2222222222222222,
              "#7201a8"
             ],
             [
              0.3333333333333333,
              "#9c179e"
             ],
             [
              0.4444444444444444,
              "#bd3786"
             ],
             [
              0.5555555555555556,
              "#d8576b"
             ],
             [
              0.6666666666666666,
              "#ed7953"
             ],
             [
              0.7777777777777778,
              "#fb9f3a"
             ],
             [
              0.8888888888888888,
              "#fdca26"
             ],
             [
              1,
              "#f0f921"
             ]
            ],
            "type": "histogram2dcontour"
           }
          ],
          "mesh3d": [
           {
            "colorbar": {
             "outlinewidth": 0,
             "ticks": ""
            },
            "type": "mesh3d"
           }
          ],
          "parcoords": [
           {
            "line": {
             "colorbar": {
              "outlinewidth": 0,
              "ticks": ""
             }
            },
            "type": "parcoords"
           }
          ],
          "pie": [
           {
            "automargin": true,
            "type": "pie"
           }
          ],
          "scatter": [
           {
            "fillpattern": {
             "fillmode": "overlay",
             "size": 10,
             "solidity": 0.2
            },
            "type": "scatter"
           }
          ],
          "scatter3d": [
           {
            "line": {
             "colorbar": {
              "outlinewidth": 0,
              "ticks": ""
             }
            },
            "marker": {
             "colorbar": {
              "outlinewidth": 0,
              "ticks": ""
             }
            },
            "type": "scatter3d"
           }
          ],
          "scattercarpet": [
           {
            "marker": {
             "colorbar": {
              "outlinewidth": 0,
              "ticks": ""
             }
            },
            "type": "scattercarpet"
           }
          ],
          "scattergeo": [
           {
            "marker": {
             "colorbar": {
              "outlinewidth": 0,
              "ticks": ""
             }
            },
            "type": "scattergeo"
           }
          ],
          "scattergl": [
           {
            "marker": {
             "colorbar": {
              "outlinewidth": 0,
              "ticks": ""
             }
            },
            "type": "scattergl"
           }
          ],
          "scattermapbox": [
           {
            "marker": {
             "colorbar": {
              "outlinewidth": 0,
              "ticks": ""
             }
            },
            "type": "scattermapbox"
           }
          ],
          "scatterpolar": [
           {
            "marker": {
             "colorbar": {
              "outlinewidth": 0,
              "ticks": ""
             }
            },
            "type": "scatterpolar"
           }
          ],
          "scatterpolargl": [
           {
            "marker": {
             "colorbar": {
              "outlinewidth": 0,
              "ticks": ""
             }
            },
            "type": "scatterpolargl"
           }
          ],
          "scatterternary": [
           {
            "marker": {
             "colorbar": {
              "outlinewidth": 0,
              "ticks": ""
             }
            },
            "type": "scatterternary"
           }
          ],
          "surface": [
           {
            "colorbar": {
             "outlinewidth": 0,
             "ticks": ""
            },
            "colorscale": [
             [
              0,
              "#0d0887"
             ],
             [
              0.1111111111111111,
              "#46039f"
             ],
             [
              0.2222222222222222,
              "#7201a8"
             ],
             [
              0.3333333333333333,
              "#9c179e"
             ],
             [
              0.4444444444444444,
              "#bd3786"
             ],
             [
              0.5555555555555556,
              "#d8576b"
             ],
             [
              0.6666666666666666,
              "#ed7953"
             ],
             [
              0.7777777777777778,
              "#fb9f3a"
             ],
             [
              0.8888888888888888,
              "#fdca26"
             ],
             [
              1,
              "#f0f921"
             ]
            ],
            "type": "surface"
           }
          ],
          "table": [
           {
            "cells": {
             "fill": {
              "color": "#EBF0F8"
             },
             "line": {
              "color": "white"
             }
            },
            "header": {
             "fill": {
              "color": "#C8D4E3"
             },
             "line": {
              "color": "white"
             }
            },
            "type": "table"
           }
          ]
         },
         "layout": {
          "annotationdefaults": {
           "arrowcolor": "#2a3f5f",
           "arrowhead": 0,
           "arrowwidth": 1
          },
          "autotypenumbers": "strict",
          "coloraxis": {
           "colorbar": {
            "outlinewidth": 0,
            "ticks": ""
           }
          },
          "colorscale": {
           "diverging": [
            [
             0,
             "#8e0152"
            ],
            [
             0.1,
             "#c51b7d"
            ],
            [
             0.2,
             "#de77ae"
            ],
            [
             0.3,
             "#f1b6da"
            ],
            [
             0.4,
             "#fde0ef"
            ],
            [
             0.5,
             "#f7f7f7"
            ],
            [
             0.6,
             "#e6f5d0"
            ],
            [
             0.7,
             "#b8e186"
            ],
            [
             0.8,
             "#7fbc41"
            ],
            [
             0.9,
             "#4d9221"
            ],
            [
             1,
             "#276419"
            ]
           ],
           "sequential": [
            [
             0,
             "#0d0887"
            ],
            [
             0.1111111111111111,
             "#46039f"
            ],
            [
             0.2222222222222222,
             "#7201a8"
            ],
            [
             0.3333333333333333,
             "#9c179e"
            ],
            [
             0.4444444444444444,
             "#bd3786"
            ],
            [
             0.5555555555555556,
             "#d8576b"
            ],
            [
             0.6666666666666666,
             "#ed7953"
            ],
            [
             0.7777777777777778,
             "#fb9f3a"
            ],
            [
             0.8888888888888888,
             "#fdca26"
            ],
            [
             1,
             "#f0f921"
            ]
           ],
           "sequentialminus": [
            [
             0,
             "#0d0887"
            ],
            [
             0.1111111111111111,
             "#46039f"
            ],
            [
             0.2222222222222222,
             "#7201a8"
            ],
            [
             0.3333333333333333,
             "#9c179e"
            ],
            [
             0.4444444444444444,
             "#bd3786"
            ],
            [
             0.5555555555555556,
             "#d8576b"
            ],
            [
             0.6666666666666666,
             "#ed7953"
            ],
            [
             0.7777777777777778,
             "#fb9f3a"
            ],
            [
             0.8888888888888888,
             "#fdca26"
            ],
            [
             1,
             "#f0f921"
            ]
           ]
          },
          "colorway": [
           "#636efa",
           "#EF553B",
           "#00cc96",
           "#ab63fa",
           "#FFA15A",
           "#19d3f3",
           "#FF6692",
           "#B6E880",
           "#FF97FF",
           "#FECB52"
          ],
          "font": {
           "color": "#2a3f5f"
          },
          "geo": {
           "bgcolor": "white",
           "lakecolor": "white",
           "landcolor": "#E5ECF6",
           "showlakes": true,
           "showland": true,
           "subunitcolor": "white"
          },
          "hoverlabel": {
           "align": "left"
          },
          "hovermode": "closest",
          "mapbox": {
           "style": "light"
          },
          "paper_bgcolor": "white",
          "plot_bgcolor": "#E5ECF6",
          "polar": {
           "angularaxis": {
            "gridcolor": "white",
            "linecolor": "white",
            "ticks": ""
           },
           "bgcolor": "#E5ECF6",
           "radialaxis": {
            "gridcolor": "white",
            "linecolor": "white",
            "ticks": ""
           }
          },
          "scene": {
           "xaxis": {
            "backgroundcolor": "#E5ECF6",
            "gridcolor": "white",
            "gridwidth": 2,
            "linecolor": "white",
            "showbackground": true,
            "ticks": "",
            "zerolinecolor": "white"
           },
           "yaxis": {
            "backgroundcolor": "#E5ECF6",
            "gridcolor": "white",
            "gridwidth": 2,
            "linecolor": "white",
            "showbackground": true,
            "ticks": "",
            "zerolinecolor": "white"
           },
           "zaxis": {
            "backgroundcolor": "#E5ECF6",
            "gridcolor": "white",
            "gridwidth": 2,
            "linecolor": "white",
            "showbackground": true,
            "ticks": "",
            "zerolinecolor": "white"
           }
          },
          "shapedefaults": {
           "line": {
            "color": "#2a3f5f"
           }
          },
          "ternary": {
           "aaxis": {
            "gridcolor": "white",
            "linecolor": "white",
            "ticks": ""
           },
           "baxis": {
            "gridcolor": "white",
            "linecolor": "white",
            "ticks": ""
           },
           "bgcolor": "#E5ECF6",
           "caxis": {
            "gridcolor": "white",
            "linecolor": "white",
            "ticks": ""
           }
          },
          "title": {
           "x": 0.05
          },
          "xaxis": {
           "automargin": true,
           "gridcolor": "white",
           "linecolor": "white",
           "ticks": "",
           "title": {
            "standoff": 15
           },
           "zerolinecolor": "white",
           "zerolinewidth": 2
          },
          "yaxis": {
           "automargin": true,
           "gridcolor": "white",
           "linecolor": "white",
           "ticks": "",
           "title": {
            "standoff": 15
           },
           "zerolinecolor": "white",
           "zerolinewidth": 2
          }
         }
        },
        "title": {
         "text": "Fortnite - Main Games: Weekly Delta Views Correlation"
        },
        "xaxis": {
         "anchor": "y",
         "constrain": "domain",
         "domain": [
          0,
          1
         ],
         "scaleanchor": "y"
        },
        "yaxis": {
         "anchor": "x",
         "autorange": "reversed",
         "constrain": "domain",
         "domain": [
          0,
          1
         ]
        }
       }
      }
     },
     "metadata": {},
     "output_type": "display_data"
    }
   ],
   "source": [
    "fig = px.imshow(timeseries_correlations(sample_withF, games_withF, metric)[games_withF.index('Fortnite'), np.newaxis], \n",
    "                x=list(games_withF),\n",
    "                y=['Fortnite'],\n",
    "                text_auto=True,\n",
    "                title=f'Fortnite - Main Games: Weekly Delta Views Correlation')\n",
    "\n",
    "fig.write_html('plots/dviews_corr_withF.html')\n",
    "\n",
    "fig.show()"
   ]
  },
  {
   "cell_type": "code",
   "execution_count": 222,
   "metadata": {},
   "outputs": [
    {
     "data": {
      "text/plain": [
       "array(['PopularMMOs', 'Klaus Gaming', 'Sky Does Everything', 'Castro1021',\n",
       "       'AA9skillz', 'KjraGaming', 'LispyJimmy', 'Pianta', 'speedyw03',\n",
       "       'Miniminter', 'Orange Juice Gaming', 'FaZe Clan', 'SSundee',\n",
       "       'TheGamingRevolution', 'Past Amazing', 'NepentheZ', 'Logdotzip',\n",
       "       'Ali-A', 'MrDalekJD', 'KingStix', 'I JACK SPARROW COC',\n",
       "       'MagikarpUsedFly', 'XpertThief', 'Ninja', 'ZwebackHD', 'DanTDM',\n",
       "       'TheXclusiveAce', 'Lachlan', 'Galadon Gaming', 'LazarBeam', 'Tfue',\n",
       "       'Trick2G', 'RaidAway', 'DarkViperAU', 'SkinSpotlights'],\n",
       "      dtype=object)"
      ]
     },
     "execution_count": 222,
     "metadata": {},
     "output_type": "execute_result"
    }
   ],
   "source": [
    "sample_df.channel_name.unique()"
   ]
  },
  {
   "cell_type": "code",
   "execution_count": 239,
   "metadata": {},
   "outputs": [
    {
     "data": {
      "application/vnd.plotly.v1+json": {
       "config": {
        "plotlyServerURL": "https://plot.ly"
       },
       "data": [
        {
         "name": "Minecraft",
         "type": "bar",
         "visible": false,
         "x": [
          "DanTDM",
          "PopularMMOs",
          "SSundee",
          "Sky Does Everything",
          "Logdotzip"
         ],
         "xaxis": "x",
         "y": [
          22100000,
          16900000,
          12200000,
          11600000,
          3390000
         ],
         "yaxis": "y"
        },
        {
         "name": "Minecraft",
         "type": "bar",
         "visible": false,
         "x": [
          "DanTDM",
          "PopularMMOs",
          "SSundee",
          "Sky Does Everything",
          "Logdotzip"
         ],
         "xaxis": "x2",
         "y": [
          3211,
          4521,
          2263,
          1947,
          2867
         ],
         "yaxis": "y2"
        },
        {
         "name": "Minecraft",
         "type": "bar",
         "visible": false,
         "x": [
          "DanTDM",
          "PopularMMOs",
          "SSundee",
          "Sky Does Everything",
          "Logdotzip"
         ],
         "xaxis": "x3",
         "y": [
          109,
          187,
          371,
          400,
          2897
         ],
         "yaxis": "y3"
        },
        {
         "name": "Mobile Games",
         "type": "bar",
         "visible": false,
         "x": [
          "Galadon Gaming",
          "Orange Juice Gaming",
          "Klaus Gaming",
          "Past Amazing",
          "I JACK SPARROW COC"
         ],
         "xaxis": "x",
         "y": [
          1760000,
          1415172,
          427000,
          334000,
          153981
         ],
         "yaxis": "y"
        },
        {
         "name": "Mobile Games",
         "type": "bar",
         "visible": false,
         "x": [
          "Galadon Gaming",
          "Orange Juice Gaming",
          "Klaus Gaming",
          "Past Amazing",
          "I JACK SPARROW COC"
         ],
         "xaxis": "x2",
         "y": [
          2246,
          684,
          1400,
          340,
          841
         ],
         "yaxis": "y2"
        },
        {
         "name": "Mobile Games",
         "type": "bar",
         "visible": false,
         "x": [
          "Galadon Gaming",
          "Orange Juice Gaming",
          "Klaus Gaming",
          "Past Amazing",
          "I JACK SPARROW COC"
         ],
         "xaxis": "x3",
         "y": [
          7716,
          9667,
          40344,
          49692,
          117055
         ],
         "yaxis": "y3"
        },
        {
         "name": "FIFA",
         "type": "bar",
         "visible": false,
         "x": [
          "Miniminter",
          "AA9skillz",
          "NepentheZ",
          "Castro1021",
          "ZwebackHD"
         ],
         "xaxis": "x",
         "y": [
          8210000,
          1850000,
          1810000,
          1450000,
          969000
         ],
         "yaxis": "y"
        },
        {
         "name": "FIFA",
         "type": "bar",
         "visible": false,
         "x": [
          "Miniminter",
          "AA9skillz",
          "NepentheZ",
          "Castro1021",
          "ZwebackHD"
         ],
         "xaxis": "x2",
         "y": [
          1659,
          3273,
          4368,
          602,
          2501
         ],
         "yaxis": "y2"
        },
        {
         "name": "FIFA",
         "type": "bar",
         "visible": false,
         "x": [
          "Miniminter",
          "AA9skillz",
          "NepentheZ",
          "Castro1021",
          "ZwebackHD"
         ],
         "xaxis": "x3",
         "y": [
          734,
          7384,
          7616,
          9074,
          15954
         ],
         "yaxis": "y3"
        },
        {
         "name": "GTA",
         "type": "bar",
         "visible": false,
         "x": [
          "LispyJimmy",
          "speedyw03",
          "KjraGaming",
          "XpertThief",
          "DarkViperAU"
         ],
         "xaxis": "x",
         "y": [
          6250000,
          6400000,
          4480000,
          5000000,
          101000
         ],
         "yaxis": "y"
        },
        {
         "name": "GTA",
         "type": "bar",
         "visible": false,
         "x": [
          "LispyJimmy",
          "speedyw03",
          "KjraGaming",
          "XpertThief",
          "DarkViperAU"
         ],
         "xaxis": "x2",
         "y": [
          2339,
          1872,
          2094,
          1759,
          623
         ],
         "yaxis": "y2"
        },
        {
         "name": "GTA",
         "type": "bar",
         "visible": false,
         "x": [
          "LispyJimmy",
          "speedyw03",
          "KjraGaming",
          "XpertThief",
          "DarkViperAU"
         ],
         "xaxis": "x3",
         "y": [
          1058,
          1186,
          1478,
          1679,
          111703
         ],
         "yaxis": "y3"
        },
        {
         "name": "LOL",
         "type": "bar",
         "visible": false,
         "x": [
          "SkinSpotlights",
          "MagikarpUsedFly",
          "Trick2G",
          "Pianta",
          "KingStix"
         ],
         "xaxis": "x",
         "y": [
          2160000,
          1210000,
          1080000,
          402000,
          104000
         ],
         "yaxis": "y"
        },
        {
         "name": "LOL",
         "type": "bar",
         "visible": false,
         "x": [
          "SkinSpotlights",
          "MagikarpUsedFly",
          "Trick2G",
          "Pianta",
          "KingStix"
         ],
         "xaxis": "x2",
         "y": [
          3045,
          447,
          2025,
          186,
          577
         ],
         "yaxis": "y2"
        },
        {
         "name": "LOL",
         "type": "bar",
         "visible": false,
         "x": [
          "SkinSpotlights",
          "MagikarpUsedFly",
          "Trick2G",
          "Pianta",
          "KingStix"
         ],
         "xaxis": "x3",
         "y": [
          5883,
          13386,
          14445,
          40155,
          137394
         ],
         "yaxis": "y3"
        },
        {
         "name": "COD",
         "type": "bar",
         "visible": false,
         "x": [
          "FaZe Clan",
          "MrDalekJD",
          "RaidAway",
          "TheXclusiveAce",
          "TheGamingRevolution"
         ],
         "xaxis": "x",
         "y": [
          7150000,
          2190000,
          773000,
          470964,
          263000
         ],
         "yaxis": "y"
        },
        {
         "name": "COD",
         "type": "bar",
         "visible": false,
         "x": [
          "FaZe Clan",
          "MrDalekJD",
          "RaidAway",
          "TheXclusiveAce",
          "TheGamingRevolution"
         ],
         "xaxis": "x2",
         "y": [
          1597,
          3145,
          1888,
          2398,
          2156
         ],
         "yaxis": "y2"
        },
        {
         "name": "COD",
         "type": "bar",
         "visible": false,
         "x": [
          "FaZe Clan",
          "MrDalekJD",
          "RaidAway",
          "TheXclusiveAce",
          "TheGamingRevolution"
         ],
         "xaxis": "x3",
         "y": [
          911,
          6036,
          20149,
          31459,
          65376
         ],
         "yaxis": "y3"
        },
        {
         "name": "Fortnite",
         "type": "bar",
         "visible": true,
         "x": [
          "Ninja",
          "Ali-A",
          "Lachlan",
          "LazarBeam",
          "Tfue"
         ],
         "xaxis": "x",
         "y": [
          22400000,
          16500000,
          12100000,
          11500000,
          11323052
         ],
         "yaxis": "y"
        },
        {
         "name": "Fortnite",
         "type": "bar",
         "visible": true,
         "x": [
          "Ninja",
          "Ali-A",
          "Lachlan",
          "LazarBeam",
          "Tfue"
         ],
         "xaxis": "x2",
         "y": [
          929,
          3263,
          3264,
          1107,
          580
         ],
         "yaxis": "y2"
        },
        {
         "name": "Fortnite",
         "type": "bar",
         "visible": true,
         "x": [
          "Ninja",
          "Ali-A",
          "Lachlan",
          "LazarBeam",
          "Tfue"
         ],
         "xaxis": "x3",
         "y": [
          104,
          196,
          368,
          407,
          429
         ],
         "yaxis": "y3"
        }
       ],
       "layout": {
        "annotations": [
         {
          "font": {
           "size": 16
          },
          "showarrow": false,
          "text": "# Subscribers",
          "x": 0.14444444444444446,
          "xanchor": "center",
          "xref": "paper",
          "y": 1,
          "yanchor": "bottom",
          "yref": "paper"
         },
         {
          "font": {
           "size": 16
          },
          "showarrow": false,
          "text": "# Videos",
          "x": 0.5,
          "xanchor": "center",
          "xref": "paper",
          "y": 1,
          "yanchor": "bottom",
          "yref": "paper"
         },
         {
          "font": {
           "size": 16
          },
          "showarrow": false,
          "text": "Rank",
          "x": 0.8555555555555556,
          "xanchor": "center",
          "xref": "paper",
          "y": 1,
          "yanchor": "bottom",
          "yref": "paper"
         }
        ],
        "showlegend": false,
        "template": {
         "data": {
          "bar": [
           {
            "error_x": {
             "color": "#2a3f5f"
            },
            "error_y": {
             "color": "#2a3f5f"
            },
            "marker": {
             "line": {
              "color": "#E5ECF6",
              "width": 0.5
             },
             "pattern": {
              "fillmode": "overlay",
              "size": 10,
              "solidity": 0.2
             }
            },
            "type": "bar"
           }
          ],
          "barpolar": [
           {
            "marker": {
             "line": {
              "color": "#E5ECF6",
              "width": 0.5
             },
             "pattern": {
              "fillmode": "overlay",
              "size": 10,
              "solidity": 0.2
             }
            },
            "type": "barpolar"
           }
          ],
          "carpet": [
           {
            "aaxis": {
             "endlinecolor": "#2a3f5f",
             "gridcolor": "white",
             "linecolor": "white",
             "minorgridcolor": "white",
             "startlinecolor": "#2a3f5f"
            },
            "baxis": {
             "endlinecolor": "#2a3f5f",
             "gridcolor": "white",
             "linecolor": "white",
             "minorgridcolor": "white",
             "startlinecolor": "#2a3f5f"
            },
            "type": "carpet"
           }
          ],
          "choropleth": [
           {
            "colorbar": {
             "outlinewidth": 0,
             "ticks": ""
            },
            "type": "choropleth"
           }
          ],
          "contour": [
           {
            "colorbar": {
             "outlinewidth": 0,
             "ticks": ""
            },
            "colorscale": [
             [
              0,
              "#0d0887"
             ],
             [
              0.1111111111111111,
              "#46039f"
             ],
             [
              0.2222222222222222,
              "#7201a8"
             ],
             [
              0.3333333333333333,
              "#9c179e"
             ],
             [
              0.4444444444444444,
              "#bd3786"
             ],
             [
              0.5555555555555556,
              "#d8576b"
             ],
             [
              0.6666666666666666,
              "#ed7953"
             ],
             [
              0.7777777777777778,
              "#fb9f3a"
             ],
             [
              0.8888888888888888,
              "#fdca26"
             ],
             [
              1,
              "#f0f921"
             ]
            ],
            "type": "contour"
           }
          ],
          "contourcarpet": [
           {
            "colorbar": {
             "outlinewidth": 0,
             "ticks": ""
            },
            "type": "contourcarpet"
           }
          ],
          "heatmap": [
           {
            "colorbar": {
             "outlinewidth": 0,
             "ticks": ""
            },
            "colorscale": [
             [
              0,
              "#0d0887"
             ],
             [
              0.1111111111111111,
              "#46039f"
             ],
             [
              0.2222222222222222,
              "#7201a8"
             ],
             [
              0.3333333333333333,
              "#9c179e"
             ],
             [
              0.4444444444444444,
              "#bd3786"
             ],
             [
              0.5555555555555556,
              "#d8576b"
             ],
             [
              0.6666666666666666,
              "#ed7953"
             ],
             [
              0.7777777777777778,
              "#fb9f3a"
             ],
             [
              0.8888888888888888,
              "#fdca26"
             ],
             [
              1,
              "#f0f921"
             ]
            ],
            "type": "heatmap"
           }
          ],
          "heatmapgl": [
           {
            "colorbar": {
             "outlinewidth": 0,
             "ticks": ""
            },
            "colorscale": [
             [
              0,
              "#0d0887"
             ],
             [
              0.1111111111111111,
              "#46039f"
             ],
             [
              0.2222222222222222,
              "#7201a8"
             ],
             [
              0.3333333333333333,
              "#9c179e"
             ],
             [
              0.4444444444444444,
              "#bd3786"
             ],
             [
              0.5555555555555556,
              "#d8576b"
             ],
             [
              0.6666666666666666,
              "#ed7953"
             ],
             [
              0.7777777777777778,
              "#fb9f3a"
             ],
             [
              0.8888888888888888,
              "#fdca26"
             ],
             [
              1,
              "#f0f921"
             ]
            ],
            "type": "heatmapgl"
           }
          ],
          "histogram": [
           {
            "marker": {
             "pattern": {
              "fillmode": "overlay",
              "size": 10,
              "solidity": 0.2
             }
            },
            "type": "histogram"
           }
          ],
          "histogram2d": [
           {
            "colorbar": {
             "outlinewidth": 0,
             "ticks": ""
            },
            "colorscale": [
             [
              0,
              "#0d0887"
             ],
             [
              0.1111111111111111,
              "#46039f"
             ],
             [
              0.2222222222222222,
              "#7201a8"
             ],
             [
              0.3333333333333333,
              "#9c179e"
             ],
             [
              0.4444444444444444,
              "#bd3786"
             ],
             [
              0.5555555555555556,
              "#d8576b"
             ],
             [
              0.6666666666666666,
              "#ed7953"
             ],
             [
              0.7777777777777778,
              "#fb9f3a"
             ],
             [
              0.8888888888888888,
              "#fdca26"
             ],
             [
              1,
              "#f0f921"
             ]
            ],
            "type": "histogram2d"
           }
          ],
          "histogram2dcontour": [
           {
            "colorbar": {
             "outlinewidth": 0,
             "ticks": ""
            },
            "colorscale": [
             [
              0,
              "#0d0887"
             ],
             [
              0.1111111111111111,
              "#46039f"
             ],
             [
              0.2222222222222222,
              "#7201a8"
             ],
             [
              0.3333333333333333,
              "#9c179e"
             ],
             [
              0.4444444444444444,
              "#bd3786"
             ],
             [
              0.5555555555555556,
              "#d8576b"
             ],
             [
              0.6666666666666666,
              "#ed7953"
             ],
             [
              0.7777777777777778,
              "#fb9f3a"
             ],
             [
              0.8888888888888888,
              "#fdca26"
             ],
             [
              1,
              "#f0f921"
             ]
            ],
            "type": "histogram2dcontour"
           }
          ],
          "mesh3d": [
           {
            "colorbar": {
             "outlinewidth": 0,
             "ticks": ""
            },
            "type": "mesh3d"
           }
          ],
          "parcoords": [
           {
            "line": {
             "colorbar": {
              "outlinewidth": 0,
              "ticks": ""
             }
            },
            "type": "parcoords"
           }
          ],
          "pie": [
           {
            "automargin": true,
            "type": "pie"
           }
          ],
          "scatter": [
           {
            "fillpattern": {
             "fillmode": "overlay",
             "size": 10,
             "solidity": 0.2
            },
            "type": "scatter"
           }
          ],
          "scatter3d": [
           {
            "line": {
             "colorbar": {
              "outlinewidth": 0,
              "ticks": ""
             }
            },
            "marker": {
             "colorbar": {
              "outlinewidth": 0,
              "ticks": ""
             }
            },
            "type": "scatter3d"
           }
          ],
          "scattercarpet": [
           {
            "marker": {
             "colorbar": {
              "outlinewidth": 0,
              "ticks": ""
             }
            },
            "type": "scattercarpet"
           }
          ],
          "scattergeo": [
           {
            "marker": {
             "colorbar": {
              "outlinewidth": 0,
              "ticks": ""
             }
            },
            "type": "scattergeo"
           }
          ],
          "scattergl": [
           {
            "marker": {
             "colorbar": {
              "outlinewidth": 0,
              "ticks": ""
             }
            },
            "type": "scattergl"
           }
          ],
          "scattermapbox": [
           {
            "marker": {
             "colorbar": {
              "outlinewidth": 0,
              "ticks": ""
             }
            },
            "type": "scattermapbox"
           }
          ],
          "scatterpolar": [
           {
            "marker": {
             "colorbar": {
              "outlinewidth": 0,
              "ticks": ""
             }
            },
            "type": "scatterpolar"
           }
          ],
          "scatterpolargl": [
           {
            "marker": {
             "colorbar": {
              "outlinewidth": 0,
              "ticks": ""
             }
            },
            "type": "scatterpolargl"
           }
          ],
          "scatterternary": [
           {
            "marker": {
             "colorbar": {
              "outlinewidth": 0,
              "ticks": ""
             }
            },
            "type": "scatterternary"
           }
          ],
          "surface": [
           {
            "colorbar": {
             "outlinewidth": 0,
             "ticks": ""
            },
            "colorscale": [
             [
              0,
              "#0d0887"
             ],
             [
              0.1111111111111111,
              "#46039f"
             ],
             [
              0.2222222222222222,
              "#7201a8"
             ],
             [
              0.3333333333333333,
              "#9c179e"
             ],
             [
              0.4444444444444444,
              "#bd3786"
             ],
             [
              0.5555555555555556,
              "#d8576b"
             ],
             [
              0.6666666666666666,
              "#ed7953"
             ],
             [
              0.7777777777777778,
              "#fb9f3a"
             ],
             [
              0.8888888888888888,
              "#fdca26"
             ],
             [
              1,
              "#f0f921"
             ]
            ],
            "type": "surface"
           }
          ],
          "table": [
           {
            "cells": {
             "fill": {
              "color": "#EBF0F8"
             },
             "line": {
              "color": "white"
             }
            },
            "header": {
             "fill": {
              "color": "#C8D4E3"
             },
             "line": {
              "color": "white"
             }
            },
            "type": "table"
           }
          ]
         },
         "layout": {
          "annotationdefaults": {
           "arrowcolor": "#2a3f5f",
           "arrowhead": 0,
           "arrowwidth": 1
          },
          "autotypenumbers": "strict",
          "coloraxis": {
           "colorbar": {
            "outlinewidth": 0,
            "ticks": ""
           }
          },
          "colorscale": {
           "diverging": [
            [
             0,
             "#8e0152"
            ],
            [
             0.1,
             "#c51b7d"
            ],
            [
             0.2,
             "#de77ae"
            ],
            [
             0.3,
             "#f1b6da"
            ],
            [
             0.4,
             "#fde0ef"
            ],
            [
             0.5,
             "#f7f7f7"
            ],
            [
             0.6,
             "#e6f5d0"
            ],
            [
             0.7,
             "#b8e186"
            ],
            [
             0.8,
             "#7fbc41"
            ],
            [
             0.9,
             "#4d9221"
            ],
            [
             1,
             "#276419"
            ]
           ],
           "sequential": [
            [
             0,
             "#0d0887"
            ],
            [
             0.1111111111111111,
             "#46039f"
            ],
            [
             0.2222222222222222,
             "#7201a8"
            ],
            [
             0.3333333333333333,
             "#9c179e"
            ],
            [
             0.4444444444444444,
             "#bd3786"
            ],
            [
             0.5555555555555556,
             "#d8576b"
            ],
            [
             0.6666666666666666,
             "#ed7953"
            ],
            [
             0.7777777777777778,
             "#fb9f3a"
            ],
            [
             0.8888888888888888,
             "#fdca26"
            ],
            [
             1,
             "#f0f921"
            ]
           ],
           "sequentialminus": [
            [
             0,
             "#0d0887"
            ],
            [
             0.1111111111111111,
             "#46039f"
            ],
            [
             0.2222222222222222,
             "#7201a8"
            ],
            [
             0.3333333333333333,
             "#9c179e"
            ],
            [
             0.4444444444444444,
             "#bd3786"
            ],
            [
             0.5555555555555556,
             "#d8576b"
            ],
            [
             0.6666666666666666,
             "#ed7953"
            ],
            [
             0.7777777777777778,
             "#fb9f3a"
            ],
            [
             0.8888888888888888,
             "#fdca26"
            ],
            [
             1,
             "#f0f921"
            ]
           ]
          },
          "colorway": [
           "#636efa",
           "#EF553B",
           "#00cc96",
           "#ab63fa",
           "#FFA15A",
           "#19d3f3",
           "#FF6692",
           "#B6E880",
           "#FF97FF",
           "#FECB52"
          ],
          "font": {
           "color": "#2a3f5f"
          },
          "geo": {
           "bgcolor": "white",
           "lakecolor": "white",
           "landcolor": "#E5ECF6",
           "showlakes": true,
           "showland": true,
           "subunitcolor": "white"
          },
          "hoverlabel": {
           "align": "left"
          },
          "hovermode": "closest",
          "mapbox": {
           "style": "light"
          },
          "paper_bgcolor": "white",
          "plot_bgcolor": "#E5ECF6",
          "polar": {
           "angularaxis": {
            "gridcolor": "white",
            "linecolor": "white",
            "ticks": ""
           },
           "bgcolor": "#E5ECF6",
           "radialaxis": {
            "gridcolor": "white",
            "linecolor": "white",
            "ticks": ""
           }
          },
          "scene": {
           "xaxis": {
            "backgroundcolor": "#E5ECF6",
            "gridcolor": "white",
            "gridwidth": 2,
            "linecolor": "white",
            "showbackground": true,
            "ticks": "",
            "zerolinecolor": "white"
           },
           "yaxis": {
            "backgroundcolor": "#E5ECF6",
            "gridcolor": "white",
            "gridwidth": 2,
            "linecolor": "white",
            "showbackground": true,
            "ticks": "",
            "zerolinecolor": "white"
           },
           "zaxis": {
            "backgroundcolor": "#E5ECF6",
            "gridcolor": "white",
            "gridwidth": 2,
            "linecolor": "white",
            "showbackground": true,
            "ticks": "",
            "zerolinecolor": "white"
           }
          },
          "shapedefaults": {
           "line": {
            "color": "#2a3f5f"
           }
          },
          "ternary": {
           "aaxis": {
            "gridcolor": "white",
            "linecolor": "white",
            "ticks": ""
           },
           "baxis": {
            "gridcolor": "white",
            "linecolor": "white",
            "ticks": ""
           },
           "bgcolor": "#E5ECF6",
           "caxis": {
            "gridcolor": "white",
            "linecolor": "white",
            "ticks": ""
           }
          },
          "title": {
           "x": 0.05
          },
          "xaxis": {
           "automargin": true,
           "gridcolor": "white",
           "linecolor": "white",
           "ticks": "",
           "title": {
            "standoff": 15
           },
           "zerolinecolor": "white",
           "zerolinewidth": 2
          },
          "yaxis": {
           "automargin": true,
           "gridcolor": "white",
           "linecolor": "white",
           "ticks": "",
           "title": {
            "standoff": 15
           },
           "zerolinecolor": "white",
           "zerolinewidth": 2
          }
         }
        },
        "title": {
         "text": "Fortnite Top 5 YouTubers Statistics"
        },
        "updatemenus": [
         {
          "active": 6,
          "buttons": [
           {
            "args": [
             {
              "visible": [
               true,
               true,
               true,
               false,
               false,
               false,
               false,
               false,
               false,
               false,
               false,
               false,
               false,
               false,
               false,
               false,
               false,
               false,
               false,
               false,
               false
              ]
             },
             {
              "title": "Minecraft Top 5 YouTubers Statistics"
             }
            ],
            "label": "Minecraft",
            "method": "update"
           },
           {
            "args": [
             {
              "visible": [
               false,
               false,
               false,
               true,
               true,
               true,
               false,
               false,
               false,
               false,
               false,
               false,
               false,
               false,
               false,
               false,
               false,
               false,
               false,
               false,
               false
              ]
             },
             {
              "title": "Mobile Games Top 5 YouTubers Statistics"
             }
            ],
            "label": "Mobile Games",
            "method": "update"
           },
           {
            "args": [
             {
              "visible": [
               false,
               false,
               false,
               false,
               false,
               false,
               true,
               true,
               true,
               false,
               false,
               false,
               false,
               false,
               false,
               false,
               false,
               false,
               false,
               false,
               false
              ]
             },
             {
              "title": "FIFA Top 5 YouTubers Statistics"
             }
            ],
            "label": "FIFA",
            "method": "update"
           },
           {
            "args": [
             {
              "visible": [
               false,
               false,
               false,
               false,
               false,
               false,
               false,
               false,
               false,
               true,
               true,
               true,
               false,
               false,
               false,
               false,
               false,
               false,
               false,
               false,
               false
              ]
             },
             {
              "title": "GTA Top 5 YouTubers Statistics"
             }
            ],
            "label": "GTA",
            "method": "update"
           },
           {
            "args": [
             {
              "visible": [
               false,
               false,
               false,
               false,
               false,
               false,
               false,
               false,
               false,
               false,
               false,
               false,
               true,
               true,
               true,
               false,
               false,
               false,
               false,
               false,
               false
              ]
             },
             {
              "title": "LOL Top 5 YouTubers Statistics"
             }
            ],
            "label": "LOL",
            "method": "update"
           },
           {
            "args": [
             {
              "visible": [
               false,
               false,
               false,
               false,
               false,
               false,
               false,
               false,
               false,
               false,
               false,
               false,
               false,
               false,
               false,
               true,
               true,
               true,
               false,
               false,
               false
              ]
             },
             {
              "title": "COD Top 5 YouTubers Statistics"
             }
            ],
            "label": "COD",
            "method": "update"
           },
           {
            "args": [
             {
              "visible": [
               false,
               false,
               false,
               false,
               false,
               false,
               false,
               false,
               false,
               false,
               false,
               false,
               false,
               false,
               false,
               false,
               false,
               false,
               true,
               true,
               true
              ]
             },
             {
              "title": "Fortnite Top 5 YouTubers Statistics"
             }
            ],
            "label": "Fortnite",
            "method": "update"
           }
          ],
          "type": "dropdown",
          "x": 1,
          "y": 1.27
         }
        ],
        "xaxis": {
         "anchor": "y",
         "domain": [
          0,
          0.2888888888888889
         ]
        },
        "xaxis2": {
         "anchor": "y2",
         "domain": [
          0.35555555555555557,
          0.6444444444444445
         ]
        },
        "xaxis3": {
         "anchor": "y3",
         "domain": [
          0.7111111111111111,
          1
         ]
        },
        "yaxis": {
         "anchor": "x",
         "domain": [
          0,
          1
         ]
        },
        "yaxis2": {
         "anchor": "x2",
         "domain": [
          0,
          1
         ]
        },
        "yaxis3": {
         "anchor": "x3",
         "domain": [
          0,
          1
         ]
        }
       }
      }
     },
     "metadata": {},
     "output_type": "display_data"
    }
   ],
   "source": [
    "games = sample_df.game_category.unique()\n",
    "titles = np.array([['# Subscribers', '# Videos', 'Rank'] for _ in games]).flatten()\n",
    "\n",
    "cols = 3\n",
    "fig = make_subplots(1, cols, subplot_titles=titles)\n",
    "\n",
    "for i, game_category in enumerate(sample_df.game_category.unique()):\n",
    "    subset = sample_df[sample_df['game_category'] == game_category].drop_duplicates(subset=['channel_name']).sort_values(by='subscriber_rank_sb')\n",
    "\n",
    "    # Simple bar plot\n",
    "    fig.add_trace(\n",
    "        go.Bar(\n",
    "            x=subset['channel_name'], \n",
    "            y=subset['subscribers_cc'],\n",
    "            name=game_category,\n",
    "            visible=game_category=='Fortnite'\n",
    "        ),\n",
    "        row=1,\n",
    "        col=1\n",
    "    )\n",
    "\n",
    "    # Simple bar plot\n",
    "    fig.add_trace(\n",
    "        go.Bar(\n",
    "            x=subset['channel_name'], \n",
    "            y=subset['videos_cc'],\n",
    "            name=game_category,\n",
    "            visible=game_category=='Fortnite'\n",
    "        ),\n",
    "        row=1,\n",
    "        col=2,\n",
    "    )\n",
    "\n",
    "    # Simple bar plot\n",
    "    fig.add_trace(\n",
    "        go.Bar(\n",
    "            x=subset['channel_name'], \n",
    "            y=subset['subscriber_rank_sb'],\n",
    "            name=game_category,\n",
    "            visible=game_category=='Fortnite'\n",
    "        ),\n",
    "        row=1,\n",
    "        col=3\n",
    "    )\n",
    "\n",
    "# Update layout to add dropdown button\n",
    "fig.update_layout(\n",
    "    updatemenus=[\n",
    "        dict(\n",
    "            active=list(games).index('Fortnite'),\n",
    "            type='dropdown',\n",
    "            x=1,\n",
    "            y=1.27,\n",
    "            buttons=[\n",
    "                dict(label=game, method='update',\n",
    "                     args=[{'visible': [game == trace.name for trace in fig.data]},\n",
    "                           {'title': f'{game} Top 5 YouTubers Statistics'}])\n",
    "                for game in games\n",
    "            ],\n",
    "        ),\n",
    "    ]\n",
    ")\n",
    "\n",
    "fig.update_layout(\n",
    "    title='Fortnite Top 5 YouTubers Statistics',\n",
    "    showlegend=False\n",
    ")\n",
    "\n",
    "fig.write_html(f\"plots/top5_stats.html\")\n",
    "\n",
    "fig.show()"
   ]
  },
  {
   "cell_type": "code",
   "execution_count": 294,
   "metadata": {},
   "outputs": [
    {
     "data": {
      "application/vnd.plotly.v1+json": {
       "config": {
        "plotlyServerURL": "https://plot.ly"
       },
       "data": [
        {
         "name": "subscriber_rank_sb",
         "type": "bar",
         "width": 0.75,
         "x": [
          "COD",
          "FIFA",
          "Fortnite",
          "GTA",
          "LOL",
          "Minecraft",
          "Mobile Games"
         ],
         "y": [
          24786.2,
          8152.4,
          300.8,
          23420.8,
          42252.6,
          792.8,
          44894.8
         ]
        },
        {
         "name": "subscribers_cc",
         "type": "bar",
         "width": 0.75,
         "x": [
          "COD",
          "FIFA",
          "Fortnite",
          "GTA",
          "LOL",
          "Minecraft",
          "Mobile Games"
         ],
         "y": [
          2169392.8,
          2857800,
          14764610.4,
          4446200,
          991200,
          13238000,
          818030.6
         ]
        },
        {
         "name": "videos_cc",
         "type": "bar",
         "width": 0.75,
         "x": [
          "COD",
          "FIFA",
          "Fortnite",
          "GTA",
          "LOL",
          "Minecraft",
          "Mobile Games"
         ],
         "y": [
          2236.8,
          2480.6,
          1828.6,
          1737.4,
          1256,
          2961.8,
          1102.2
         ]
        }
       ],
       "layout": {
        "showlegend": false,
        "template": {
         "data": {
          "bar": [
           {
            "error_x": {
             "color": "#2a3f5f"
            },
            "error_y": {
             "color": "#2a3f5f"
            },
            "marker": {
             "line": {
              "color": "#E5ECF6",
              "width": 0.5
             },
             "pattern": {
              "fillmode": "overlay",
              "size": 10,
              "solidity": 0.2
             }
            },
            "type": "bar"
           }
          ],
          "barpolar": [
           {
            "marker": {
             "line": {
              "color": "#E5ECF6",
              "width": 0.5
             },
             "pattern": {
              "fillmode": "overlay",
              "size": 10,
              "solidity": 0.2
             }
            },
            "type": "barpolar"
           }
          ],
          "carpet": [
           {
            "aaxis": {
             "endlinecolor": "#2a3f5f",
             "gridcolor": "white",
             "linecolor": "white",
             "minorgridcolor": "white",
             "startlinecolor": "#2a3f5f"
            },
            "baxis": {
             "endlinecolor": "#2a3f5f",
             "gridcolor": "white",
             "linecolor": "white",
             "minorgridcolor": "white",
             "startlinecolor": "#2a3f5f"
            },
            "type": "carpet"
           }
          ],
          "choropleth": [
           {
            "colorbar": {
             "outlinewidth": 0,
             "ticks": ""
            },
            "type": "choropleth"
           }
          ],
          "contour": [
           {
            "colorbar": {
             "outlinewidth": 0,
             "ticks": ""
            },
            "colorscale": [
             [
              0,
              "#0d0887"
             ],
             [
              0.1111111111111111,
              "#46039f"
             ],
             [
              0.2222222222222222,
              "#7201a8"
             ],
             [
              0.3333333333333333,
              "#9c179e"
             ],
             [
              0.4444444444444444,
              "#bd3786"
             ],
             [
              0.5555555555555556,
              "#d8576b"
             ],
             [
              0.6666666666666666,
              "#ed7953"
             ],
             [
              0.7777777777777778,
              "#fb9f3a"
             ],
             [
              0.8888888888888888,
              "#fdca26"
             ],
             [
              1,
              "#f0f921"
             ]
            ],
            "type": "contour"
           }
          ],
          "contourcarpet": [
           {
            "colorbar": {
             "outlinewidth": 0,
             "ticks": ""
            },
            "type": "contourcarpet"
           }
          ],
          "heatmap": [
           {
            "colorbar": {
             "outlinewidth": 0,
             "ticks": ""
            },
            "colorscale": [
             [
              0,
              "#0d0887"
             ],
             [
              0.1111111111111111,
              "#46039f"
             ],
             [
              0.2222222222222222,
              "#7201a8"
             ],
             [
              0.3333333333333333,
              "#9c179e"
             ],
             [
              0.4444444444444444,
              "#bd3786"
             ],
             [
              0.5555555555555556,
              "#d8576b"
             ],
             [
              0.6666666666666666,
              "#ed7953"
             ],
             [
              0.7777777777777778,
              "#fb9f3a"
             ],
             [
              0.8888888888888888,
              "#fdca26"
             ],
             [
              1,
              "#f0f921"
             ]
            ],
            "type": "heatmap"
           }
          ],
          "heatmapgl": [
           {
            "colorbar": {
             "outlinewidth": 0,
             "ticks": ""
            },
            "colorscale": [
             [
              0,
              "#0d0887"
             ],
             [
              0.1111111111111111,
              "#46039f"
             ],
             [
              0.2222222222222222,
              "#7201a8"
             ],
             [
              0.3333333333333333,
              "#9c179e"
             ],
             [
              0.4444444444444444,
              "#bd3786"
             ],
             [
              0.5555555555555556,
              "#d8576b"
             ],
             [
              0.6666666666666666,
              "#ed7953"
             ],
             [
              0.7777777777777778,
              "#fb9f3a"
             ],
             [
              0.8888888888888888,
              "#fdca26"
             ],
             [
              1,
              "#f0f921"
             ]
            ],
            "type": "heatmapgl"
           }
          ],
          "histogram": [
           {
            "marker": {
             "pattern": {
              "fillmode": "overlay",
              "size": 10,
              "solidity": 0.2
             }
            },
            "type": "histogram"
           }
          ],
          "histogram2d": [
           {
            "colorbar": {
             "outlinewidth": 0,
             "ticks": ""
            },
            "colorscale": [
             [
              0,
              "#0d0887"
             ],
             [
              0.1111111111111111,
              "#46039f"
             ],
             [
              0.2222222222222222,
              "#7201a8"
             ],
             [
              0.3333333333333333,
              "#9c179e"
             ],
             [
              0.4444444444444444,
              "#bd3786"
             ],
             [
              0.5555555555555556,
              "#d8576b"
             ],
             [
              0.6666666666666666,
              "#ed7953"
             ],
             [
              0.7777777777777778,
              "#fb9f3a"
             ],
             [
              0.8888888888888888,
              "#fdca26"
             ],
             [
              1,
              "#f0f921"
             ]
            ],
            "type": "histogram2d"
           }
          ],
          "histogram2dcontour": [
           {
            "colorbar": {
             "outlinewidth": 0,
             "ticks": ""
            },
            "colorscale": [
             [
              0,
              "#0d0887"
             ],
             [
              0.1111111111111111,
              "#46039f"
             ],
             [
              0.2222222222222222,
              "#7201a8"
             ],
             [
              0.3333333333333333,
              "#9c179e"
             ],
             [
              0.4444444444444444,
              "#bd3786"
             ],
             [
              0.5555555555555556,
              "#d8576b"
             ],
             [
              0.6666666666666666,
              "#ed7953"
             ],
             [
              0.7777777777777778,
              "#fb9f3a"
             ],
             [
              0.8888888888888888,
              "#fdca26"
             ],
             [
              1,
              "#f0f921"
             ]
            ],
            "type": "histogram2dcontour"
           }
          ],
          "mesh3d": [
           {
            "colorbar": {
             "outlinewidth": 0,
             "ticks": ""
            },
            "type": "mesh3d"
           }
          ],
          "parcoords": [
           {
            "line": {
             "colorbar": {
              "outlinewidth": 0,
              "ticks": ""
             }
            },
            "type": "parcoords"
           }
          ],
          "pie": [
           {
            "automargin": true,
            "type": "pie"
           }
          ],
          "scatter": [
           {
            "fillpattern": {
             "fillmode": "overlay",
             "size": 10,
             "solidity": 0.2
            },
            "type": "scatter"
           }
          ],
          "scatter3d": [
           {
            "line": {
             "colorbar": {
              "outlinewidth": 0,
              "ticks": ""
             }
            },
            "marker": {
             "colorbar": {
              "outlinewidth": 0,
              "ticks": ""
             }
            },
            "type": "scatter3d"
           }
          ],
          "scattercarpet": [
           {
            "marker": {
             "colorbar": {
              "outlinewidth": 0,
              "ticks": ""
             }
            },
            "type": "scattercarpet"
           }
          ],
          "scattergeo": [
           {
            "marker": {
             "colorbar": {
              "outlinewidth": 0,
              "ticks": ""
             }
            },
            "type": "scattergeo"
           }
          ],
          "scattergl": [
           {
            "marker": {
             "colorbar": {
              "outlinewidth": 0,
              "ticks": ""
             }
            },
            "type": "scattergl"
           }
          ],
          "scattermapbox": [
           {
            "marker": {
             "colorbar": {
              "outlinewidth": 0,
              "ticks": ""
             }
            },
            "type": "scattermapbox"
           }
          ],
          "scatterpolar": [
           {
            "marker": {
             "colorbar": {
              "outlinewidth": 0,
              "ticks": ""
             }
            },
            "type": "scatterpolar"
           }
          ],
          "scatterpolargl": [
           {
            "marker": {
             "colorbar": {
              "outlinewidth": 0,
              "ticks": ""
             }
            },
            "type": "scatterpolargl"
           }
          ],
          "scatterternary": [
           {
            "marker": {
             "colorbar": {
              "outlinewidth": 0,
              "ticks": ""
             }
            },
            "type": "scatterternary"
           }
          ],
          "surface": [
           {
            "colorbar": {
             "outlinewidth": 0,
             "ticks": ""
            },
            "colorscale": [
             [
              0,
              "#0d0887"
             ],
             [
              0.1111111111111111,
              "#46039f"
             ],
             [
              0.2222222222222222,
              "#7201a8"
             ],
             [
              0.3333333333333333,
              "#9c179e"
             ],
             [
              0.4444444444444444,
              "#bd3786"
             ],
             [
              0.5555555555555556,
              "#d8576b"
             ],
             [
              0.6666666666666666,
              "#ed7953"
             ],
             [
              0.7777777777777778,
              "#fb9f3a"
             ],
             [
              0.8888888888888888,
              "#fdca26"
             ],
             [
              1,
              "#f0f921"
             ]
            ],
            "type": "surface"
           }
          ],
          "table": [
           {
            "cells": {
             "fill": {
              "color": "#EBF0F8"
             },
             "line": {
              "color": "white"
             }
            },
            "header": {
             "fill": {
              "color": "#C8D4E3"
             },
             "line": {
              "color": "white"
             }
            },
            "type": "table"
           }
          ]
         },
         "layout": {
          "annotationdefaults": {
           "arrowcolor": "#2a3f5f",
           "arrowhead": 0,
           "arrowwidth": 1
          },
          "autotypenumbers": "strict",
          "coloraxis": {
           "colorbar": {
            "outlinewidth": 0,
            "ticks": ""
           }
          },
          "colorscale": {
           "diverging": [
            [
             0,
             "#8e0152"
            ],
            [
             0.1,
             "#c51b7d"
            ],
            [
             0.2,
             "#de77ae"
            ],
            [
             0.3,
             "#f1b6da"
            ],
            [
             0.4,
             "#fde0ef"
            ],
            [
             0.5,
             "#f7f7f7"
            ],
            [
             0.6,
             "#e6f5d0"
            ],
            [
             0.7,
             "#b8e186"
            ],
            [
             0.8,
             "#7fbc41"
            ],
            [
             0.9,
             "#4d9221"
            ],
            [
             1,
             "#276419"
            ]
           ],
           "sequential": [
            [
             0,
             "#0d0887"
            ],
            [
             0.1111111111111111,
             "#46039f"
            ],
            [
             0.2222222222222222,
             "#7201a8"
            ],
            [
             0.3333333333333333,
             "#9c179e"
            ],
            [
             0.4444444444444444,
             "#bd3786"
            ],
            [
             0.5555555555555556,
             "#d8576b"
            ],
            [
             0.6666666666666666,
             "#ed7953"
            ],
            [
             0.7777777777777778,
             "#fb9f3a"
            ],
            [
             0.8888888888888888,
             "#fdca26"
            ],
            [
             1,
             "#f0f921"
            ]
           ],
           "sequentialminus": [
            [
             0,
             "#0d0887"
            ],
            [
             0.1111111111111111,
             "#46039f"
            ],
            [
             0.2222222222222222,
             "#7201a8"
            ],
            [
             0.3333333333333333,
             "#9c179e"
            ],
            [
             0.4444444444444444,
             "#bd3786"
            ],
            [
             0.5555555555555556,
             "#d8576b"
            ],
            [
             0.6666666666666666,
             "#ed7953"
            ],
            [
             0.7777777777777778,
             "#fb9f3a"
            ],
            [
             0.8888888888888888,
             "#fdca26"
            ],
            [
             1,
             "#f0f921"
            ]
           ]
          },
          "colorway": [
           "#636efa",
           "#EF553B",
           "#00cc96",
           "#ab63fa",
           "#FFA15A",
           "#19d3f3",
           "#FF6692",
           "#B6E880",
           "#FF97FF",
           "#FECB52"
          ],
          "font": {
           "color": "#2a3f5f"
          },
          "geo": {
           "bgcolor": "white",
           "lakecolor": "white",
           "landcolor": "#E5ECF6",
           "showlakes": true,
           "showland": true,
           "subunitcolor": "white"
          },
          "hoverlabel": {
           "align": "left"
          },
          "hovermode": "closest",
          "mapbox": {
           "style": "light"
          },
          "paper_bgcolor": "white",
          "plot_bgcolor": "#E5ECF6",
          "polar": {
           "angularaxis": {
            "gridcolor": "white",
            "linecolor": "white",
            "ticks": ""
           },
           "bgcolor": "#E5ECF6",
           "radialaxis": {
            "gridcolor": "white",
            "linecolor": "white",
            "ticks": ""
           }
          },
          "scene": {
           "xaxis": {
            "backgroundcolor": "#E5ECF6",
            "gridcolor": "white",
            "gridwidth": 2,
            "linecolor": "white",
            "showbackground": true,
            "ticks": "",
            "zerolinecolor": "white"
           },
           "yaxis": {
            "backgroundcolor": "#E5ECF6",
            "gridcolor": "white",
            "gridwidth": 2,
            "linecolor": "white",
            "showbackground": true,
            "ticks": "",
            "zerolinecolor": "white"
           },
           "zaxis": {
            "backgroundcolor": "#E5ECF6",
            "gridcolor": "white",
            "gridwidth": 2,
            "linecolor": "white",
            "showbackground": true,
            "ticks": "",
            "zerolinecolor": "white"
           }
          },
          "shapedefaults": {
           "line": {
            "color": "#2a3f5f"
           }
          },
          "ternary": {
           "aaxis": {
            "gridcolor": "white",
            "linecolor": "white",
            "ticks": ""
           },
           "baxis": {
            "gridcolor": "white",
            "linecolor": "white",
            "ticks": ""
           },
           "bgcolor": "#E5ECF6",
           "caxis": {
            "gridcolor": "white",
            "linecolor": "white",
            "ticks": ""
           }
          },
          "title": {
           "x": 0.05
          },
          "xaxis": {
           "automargin": true,
           "gridcolor": "white",
           "linecolor": "white",
           "ticks": "",
           "title": {
            "standoff": 15
           },
           "zerolinecolor": "white",
           "zerolinewidth": 2
          },
          "yaxis": {
           "automargin": true,
           "gridcolor": "white",
           "linecolor": "white",
           "ticks": "",
           "title": {
            "standoff": 15
           },
           "zerolinecolor": "white",
           "zerolinewidth": 2
          }
         }
        },
        "title": {
         "text": "YouTuber Mean # Subscribers Per Game"
        },
        "updatemenus": [
         {
          "active": 1,
          "buttons": [
           {
            "args": [
             {
              "visible": [
               true,
               false,
               false
              ]
             },
             {
              "title": "YouTuber Mean Rank Per Game"
             }
            ],
            "label": "Rank",
            "method": "update"
           },
           {
            "args": [
             {
              "visible": [
               false,
               true,
               false
              ]
             },
             {
              "title": "YouTuber Mean # Subscribers Per Game"
             }
            ],
            "label": "# Subscribers",
            "method": "update"
           },
           {
            "args": [
             {
              "visible": [
               false,
               false,
               true
              ]
             },
             {
              "title": "YouTuber Mean # Videos Per Game"
             }
            ],
            "label": "# Videos",
            "method": "update"
           }
          ],
          "type": "dropdown",
          "x": 1,
          "y": 1.27
         }
        ]
       }
      }
     },
     "metadata": {},
     "output_type": "display_data"
    }
   ],
   "source": [
    "fig = go.Figure()\n",
    "metrics = ['subscriber_rank_sb', 'subscribers_cc', 'videos_cc']\n",
    "metrics_txt = {'subscriber_rank_sb': 'Rank', 'subscribers_cc': '# Subscribers', 'videos_cc': '# Videos'}\n",
    "\n",
    "for i, metric in enumerate(metrics):\n",
    "    fig.add_trace(\n",
    "        go.Bar(\n",
    "            x=games_withF,\n",
    "            y=sample_withF[metric].mean(),\n",
    "            width=0.75,\n",
    "            name=metric,\n",
    "        )\n",
    "    )\n",
    "\n",
    "\n",
    "# Update layout to add dropdown button\n",
    "fig.update_layout(\n",
    "    updatemenus=[\n",
    "        dict(\n",
    "            active=1,\n",
    "            type='dropdown',\n",
    "            x=1,\n",
    "            y=1.27,\n",
    "            buttons=[\n",
    "                dict(label=metrics_txt[metric], method='update',\n",
    "                     args=[{'visible': [metric == trace.name for trace in fig.data]},\n",
    "                           {'title': f'YouTuber Mean {metrics_txt[metric]} Per Game'}])\n",
    "                for metric in metrics\n",
    "            ],\n",
    "        ),\n",
    "    ]\n",
    ")\n",
    "\n",
    "fig.update_layout(\n",
    "    title='YouTuber Mean # Subscribers Per Game',\n",
    "    showlegend=False\n",
    ")\n",
    "\n",
    "fig.write_html(f\"plots/game_mean_stats.html\")\n",
    "\n",
    "fig.show()"
   ]
  },
  {
   "cell_type": "code",
   "execution_count": 296,
   "metadata": {},
   "outputs": [
    {
     "data": {
      "text/html": [
       "<div>\n",
       "<style scoped>\n",
       "    .dataframe tbody tr th:only-of-type {\n",
       "        vertical-align: middle;\n",
       "    }\n",
       "\n",
       "    .dataframe tbody tr th {\n",
       "        vertical-align: top;\n",
       "    }\n",
       "\n",
       "    .dataframe thead th {\n",
       "        text-align: right;\n",
       "    }\n",
       "</style>\n",
       "<table border=\"1\" class=\"dataframe\">\n",
       "  <thead>\n",
       "    <tr style=\"text-align: right;\">\n",
       "      <th></th>\n",
       "      <th>channel</th>\n",
       "      <th>category</th>\n",
       "      <th>datetime</th>\n",
       "      <th>views</th>\n",
       "      <th>delta_views</th>\n",
       "      <th>subs</th>\n",
       "      <th>delta_subs</th>\n",
       "      <th>videos</th>\n",
       "      <th>delta_videos</th>\n",
       "      <th>activity</th>\n",
       "      <th>category_cc</th>\n",
       "      <th>join_date</th>\n",
       "      <th>channel_name</th>\n",
       "      <th>subscribers_cc</th>\n",
       "      <th>videos_cc</th>\n",
       "      <th>subscriber_rank_sb</th>\n",
       "      <th>weights</th>\n",
       "      <th>game_category</th>\n",
       "    </tr>\n",
       "  </thead>\n",
       "  <tbody>\n",
       "    <tr>\n",
       "      <th>1</th>\n",
       "      <td>UCpGdL9Sn3Q5YWUH2DVUW1Ug</td>\n",
       "      <td>Gaming</td>\n",
       "      <td>2016-10-17</td>\n",
       "      <td>6.756017e+09</td>\n",
       "      <td>4.745762e+07</td>\n",
       "      <td>9.224396e+06</td>\n",
       "      <td>73457.375</td>\n",
       "      <td>3266</td>\n",
       "      <td>11</td>\n",
       "      <td>26</td>\n",
       "      <td>Gaming</td>\n",
       "      <td>2012-04-17</td>\n",
       "      <td>PopularMMOs</td>\n",
       "      <td>16900000</td>\n",
       "      <td>4521</td>\n",
       "      <td>187.0</td>\n",
       "      <td>2.0870</td>\n",
       "      <td>Minecraft</td>\n",
       "    </tr>\n",
       "    <tr>\n",
       "      <th>4527</th>\n",
       "      <td>UCN35DM_vPpMz6zPBxeBRWIA</td>\n",
       "      <td>Gaming</td>\n",
       "      <td>2016-10-17</td>\n",
       "      <td>9.580426e+05</td>\n",
       "      <td>4.905162e+04</td>\n",
       "      <td>9.970750e+03</td>\n",
       "      <td>829.500</td>\n",
       "      <td>260</td>\n",
       "      <td>2</td>\n",
       "      <td>5</td>\n",
       "      <td>Gaming</td>\n",
       "      <td>2015-11-03</td>\n",
       "      <td>Klaus Gaming</td>\n",
       "      <td>427000</td>\n",
       "      <td>1400</td>\n",
       "      <td>40344.0</td>\n",
       "      <td>3.3215</td>\n",
       "      <td>Mobile Games</td>\n",
       "    </tr>\n",
       "    <tr>\n",
       "      <th>2971</th>\n",
       "      <td>UCKlhpmbHGxBE6uw9B_uLeqQ</td>\n",
       "      <td>Gaming</td>\n",
       "      <td>2016-10-17</td>\n",
       "      <td>3.388057e+09</td>\n",
       "      <td>2.498308e+06</td>\n",
       "      <td>1.208029e+07</td>\n",
       "      <td>0.000</td>\n",
       "      <td>1692</td>\n",
       "      <td>0</td>\n",
       "      <td>14</td>\n",
       "      <td>Gaming</td>\n",
       "      <td>2011-02-28</td>\n",
       "      <td>Sky Does Everything</td>\n",
       "      <td>11600000</td>\n",
       "      <td>1947</td>\n",
       "      <td>400.0</td>\n",
       "      <td>2.0870</td>\n",
       "      <td>Minecraft</td>\n",
       "    </tr>\n",
       "    <tr>\n",
       "      <th>1250</th>\n",
       "      <td>UCJk0D9no2q29C2FGaPXrG4g</td>\n",
       "      <td>Gaming</td>\n",
       "      <td>2016-10-17</td>\n",
       "      <td>2.468123e+07</td>\n",
       "      <td>2.452740e+05</td>\n",
       "      <td>4.842880e+05</td>\n",
       "      <td>0.000</td>\n",
       "      <td>141</td>\n",
       "      <td>0</td>\n",
       "      <td>3</td>\n",
       "      <td>Gaming</td>\n",
       "      <td>2014-02-08</td>\n",
       "      <td>Castro1021</td>\n",
       "      <td>1450000</td>\n",
       "      <td>602</td>\n",
       "      <td>9074.0</td>\n",
       "      <td>2.5455</td>\n",
       "      <td>FIFA</td>\n",
       "    </tr>\n",
       "    <tr>\n",
       "      <th>941</th>\n",
       "      <td>UCL7vy7MDOq9-tE-r6taQBlw</td>\n",
       "      <td>Gaming</td>\n",
       "      <td>2016-10-17</td>\n",
       "      <td>2.760783e+08</td>\n",
       "      <td>1.830575e+06</td>\n",
       "      <td>1.214710e+06</td>\n",
       "      <td>8924.875</td>\n",
       "      <td>2154</td>\n",
       "      <td>7</td>\n",
       "      <td>16</td>\n",
       "      <td>Gaming</td>\n",
       "      <td>2011-03-08</td>\n",
       "      <td>AA9skillz</td>\n",
       "      <td>1850000</td>\n",
       "      <td>3273</td>\n",
       "      <td>7384.0</td>\n",
       "      <td>2.5350</td>\n",
       "      <td>FIFA</td>\n",
       "    </tr>\n",
       "    <tr>\n",
       "      <th>...</th>\n",
       "      <td>...</td>\n",
       "      <td>...</td>\n",
       "      <td>...</td>\n",
       "      <td>...</td>\n",
       "      <td>...</td>\n",
       "      <td>...</td>\n",
       "      <td>...</td>\n",
       "      <td>...</td>\n",
       "      <td>...</td>\n",
       "      <td>...</td>\n",
       "      <td>...</td>\n",
       "      <td>...</td>\n",
       "      <td>...</td>\n",
       "      <td>...</td>\n",
       "      <td>...</td>\n",
       "      <td>...</td>\n",
       "      <td>...</td>\n",
       "      <td>...</td>\n",
       "    </tr>\n",
       "    <tr>\n",
       "      <th>3903</th>\n",
       "      <td>UCuSrv3qgQA7SSi6R9bWag5A</td>\n",
       "      <td>Gaming</td>\n",
       "      <td>2019-09-23</td>\n",
       "      <td>3.966678e+08</td>\n",
       "      <td>1.728653e+06</td>\n",
       "      <td>1.080000e+06</td>\n",
       "      <td>0.000</td>\n",
       "      <td>2023</td>\n",
       "      <td>4</td>\n",
       "      <td>9</td>\n",
       "      <td>Gaming</td>\n",
       "      <td>2009-03-23</td>\n",
       "      <td>Trick2G</td>\n",
       "      <td>1080000</td>\n",
       "      <td>2025</td>\n",
       "      <td>14445.0</td>\n",
       "      <td>2.8430</td>\n",
       "      <td>LOL</td>\n",
       "    </tr>\n",
       "    <tr>\n",
       "      <th>1559</th>\n",
       "      <td>UCEe076nFuVobN0bAsXK7ICw</td>\n",
       "      <td>Gaming</td>\n",
       "      <td>2019-09-23</td>\n",
       "      <td>1.571503e+09</td>\n",
       "      <td>3.555959e+05</td>\n",
       "      <td>6.400000e+06</td>\n",
       "      <td>0.000</td>\n",
       "      <td>1869</td>\n",
       "      <td>0</td>\n",
       "      <td>0</td>\n",
       "      <td>Gaming</td>\n",
       "      <td>2006-06-11</td>\n",
       "      <td>speedyw03</td>\n",
       "      <td>6400000</td>\n",
       "      <td>1872</td>\n",
       "      <td>1186.0</td>\n",
       "      <td>2.0870</td>\n",
       "      <td>GTA</td>\n",
       "    </tr>\n",
       "    <tr>\n",
       "      <th>3748</th>\n",
       "      <td>UCaMi81Bt9geDCcow-hHrP_Q</td>\n",
       "      <td>Gaming</td>\n",
       "      <td>2019-09-23</td>\n",
       "      <td>1.100189e+08</td>\n",
       "      <td>8.298482e+05</td>\n",
       "      <td>7.745139e+05</td>\n",
       "      <td>3402.875</td>\n",
       "      <td>1889</td>\n",
       "      <td>5</td>\n",
       "      <td>9</td>\n",
       "      <td>Gaming</td>\n",
       "      <td>2013-06-15</td>\n",
       "      <td>RaidAway</td>\n",
       "      <td>773000</td>\n",
       "      <td>1888</td>\n",
       "      <td>20149.0</td>\n",
       "      <td>2.8690</td>\n",
       "      <td>COD</td>\n",
       "    </tr>\n",
       "    <tr>\n",
       "      <th>3592</th>\n",
       "      <td>UCWBQKvXstY4yCLQpGvfB1Ug</td>\n",
       "      <td>Gaming</td>\n",
       "      <td>2019-09-23</td>\n",
       "      <td>4.834162e+07</td>\n",
       "      <td>6.241375e+03</td>\n",
       "      <td>1.531202e+05</td>\n",
       "      <td>0.000</td>\n",
       "      <td>840</td>\n",
       "      <td>0</td>\n",
       "      <td>0</td>\n",
       "      <td>Gaming</td>\n",
       "      <td>2013-11-15</td>\n",
       "      <td>I JACK SPARROW COC</td>\n",
       "      <td>153981</td>\n",
       "      <td>841</td>\n",
       "      <td>117055.0</td>\n",
       "      <td>4.4920</td>\n",
       "      <td>Mobile Games</td>\n",
       "    </tr>\n",
       "    <tr>\n",
       "      <th>5462</th>\n",
       "      <td>UCh7EqOZt7EvO2osuKbIlpGg</td>\n",
       "      <td>Gaming</td>\n",
       "      <td>2019-09-23</td>\n",
       "      <td>3.388684e+09</td>\n",
       "      <td>1.154370e+07</td>\n",
       "      <td>1.210248e+07</td>\n",
       "      <td>0.000</td>\n",
       "      <td>3263</td>\n",
       "      <td>3</td>\n",
       "      <td>8</td>\n",
       "      <td>Gaming</td>\n",
       "      <td>2013-03-19</td>\n",
       "      <td>Lachlan</td>\n",
       "      <td>12100000</td>\n",
       "      <td>3264</td>\n",
       "      <td>368.0</td>\n",
       "      <td>2.0870</td>\n",
       "      <td>Fortnite</td>\n",
       "    </tr>\n",
       "  </tbody>\n",
       "</table>\n",
       "<p>5390 rows × 18 columns</p>\n",
       "</div>"
      ],
      "text/plain": [
       "                       channel category   datetime         views  \\\n",
       "1     UCpGdL9Sn3Q5YWUH2DVUW1Ug   Gaming 2016-10-17  6.756017e+09   \n",
       "4527  UCN35DM_vPpMz6zPBxeBRWIA   Gaming 2016-10-17  9.580426e+05   \n",
       "2971  UCKlhpmbHGxBE6uw9B_uLeqQ   Gaming 2016-10-17  3.388057e+09   \n",
       "1250  UCJk0D9no2q29C2FGaPXrG4g   Gaming 2016-10-17  2.468123e+07   \n",
       "941   UCL7vy7MDOq9-tE-r6taQBlw   Gaming 2016-10-17  2.760783e+08   \n",
       "...                        ...      ...        ...           ...   \n",
       "3903  UCuSrv3qgQA7SSi6R9bWag5A   Gaming 2019-09-23  3.966678e+08   \n",
       "1559  UCEe076nFuVobN0bAsXK7ICw   Gaming 2019-09-23  1.571503e+09   \n",
       "3748  UCaMi81Bt9geDCcow-hHrP_Q   Gaming 2019-09-23  1.100189e+08   \n",
       "3592  UCWBQKvXstY4yCLQpGvfB1Ug   Gaming 2019-09-23  4.834162e+07   \n",
       "5462  UCh7EqOZt7EvO2osuKbIlpGg   Gaming 2019-09-23  3.388684e+09   \n",
       "\n",
       "       delta_views          subs  delta_subs  videos  delta_videos  activity  \\\n",
       "1     4.745762e+07  9.224396e+06   73457.375    3266            11        26   \n",
       "4527  4.905162e+04  9.970750e+03     829.500     260             2         5   \n",
       "2971  2.498308e+06  1.208029e+07       0.000    1692             0        14   \n",
       "1250  2.452740e+05  4.842880e+05       0.000     141             0         3   \n",
       "941   1.830575e+06  1.214710e+06    8924.875    2154             7        16   \n",
       "...            ...           ...         ...     ...           ...       ...   \n",
       "3903  1.728653e+06  1.080000e+06       0.000    2023             4         9   \n",
       "1559  3.555959e+05  6.400000e+06       0.000    1869             0         0   \n",
       "3748  8.298482e+05  7.745139e+05    3402.875    1889             5         9   \n",
       "3592  6.241375e+03  1.531202e+05       0.000     840             0         0   \n",
       "5462  1.154370e+07  1.210248e+07       0.000    3263             3         8   \n",
       "\n",
       "     category_cc   join_date         channel_name  subscribers_cc  videos_cc  \\\n",
       "1         Gaming  2012-04-17          PopularMMOs        16900000       4521   \n",
       "4527      Gaming  2015-11-03         Klaus Gaming          427000       1400   \n",
       "2971      Gaming  2011-02-28  Sky Does Everything        11600000       1947   \n",
       "1250      Gaming  2014-02-08           Castro1021         1450000        602   \n",
       "941       Gaming  2011-03-08            AA9skillz         1850000       3273   \n",
       "...          ...         ...                  ...             ...        ...   \n",
       "3903      Gaming  2009-03-23              Trick2G         1080000       2025   \n",
       "1559      Gaming  2006-06-11            speedyw03         6400000       1872   \n",
       "3748      Gaming  2013-06-15             RaidAway          773000       1888   \n",
       "3592      Gaming  2013-11-15   I JACK SPARROW COC          153981        841   \n",
       "5462      Gaming  2013-03-19              Lachlan        12100000       3264   \n",
       "\n",
       "      subscriber_rank_sb  weights game_category  \n",
       "1                  187.0   2.0870     Minecraft  \n",
       "4527             40344.0   3.3215  Mobile Games  \n",
       "2971               400.0   2.0870     Minecraft  \n",
       "1250              9074.0   2.5455          FIFA  \n",
       "941               7384.0   2.5350          FIFA  \n",
       "...                  ...      ...           ...  \n",
       "3903             14445.0   2.8430           LOL  \n",
       "1559              1186.0   2.0870           GTA  \n",
       "3748             20149.0   2.8690           COD  \n",
       "3592            117055.0   4.4920  Mobile Games  \n",
       "5462               368.0   2.0870      Fortnite  \n",
       "\n",
       "[5390 rows x 18 columns]"
      ]
     },
     "execution_count": 296,
     "metadata": {},
     "output_type": "execute_result"
    }
   ],
   "source": [
    "sample_df"
   ]
  },
  {
   "cell_type": "code",
   "execution_count": 303,
   "metadata": {},
   "outputs": [
    {
     "data": {
      "application/vnd.plotly.v1+json": {
       "config": {
        "plotlyServerURL": "https://plot.ly"
       },
       "data": [
        {
         "alignmentgroup": "True",
         "hovertemplate": "game_category=FIFA<br>Join Year=%{x}<br>Frequency=%{text}<extra></extra>",
         "legendgroup": "FIFA",
         "marker": {
          "color": "#636EFA",
          "pattern": {
           "shape": ""
          }
         },
         "name": "FIFA",
         "offsetgroup": "FIFA",
         "orientation": "v",
         "showlegend": true,
         "text": [
          1,
          1,
          1,
          1,
          1
         ],
         "textposition": "auto",
         "type": "bar",
         "x": [
          2006,
          2008,
          2011,
          2013,
          2014
         ],
         "xaxis": "x",
         "y": [
          1,
          1,
          1,
          1,
          1
         ],
         "yaxis": "y"
        },
        {
         "alignmentgroup": "True",
         "hovertemplate": "game_category=Fortnite<br>Join Year=%{x}<br>Frequency=%{text}<extra></extra>",
         "legendgroup": "Fortnite",
         "marker": {
          "color": "#EF553B",
          "pattern": {
           "shape": ""
          }
         },
         "name": "Fortnite",
         "offsetgroup": "Fortnite",
         "orientation": "v",
         "showlegend": true,
         "text": [
          1,
          1,
          1,
          1,
          1
         ],
         "textposition": "auto",
         "type": "bar",
         "x": [
          2006,
          2011,
          2013,
          2014,
          2015
         ],
         "xaxis": "x",
         "y": [
          1,
          1,
          1,
          1,
          1
         ],
         "yaxis": "y"
        },
        {
         "alignmentgroup": "True",
         "hovertemplate": "game_category=GTA<br>Join Year=%{x}<br>Frequency=%{text}<extra></extra>",
         "legendgroup": "GTA",
         "marker": {
          "color": "#00CC96",
          "pattern": {
           "shape": ""
          }
         },
         "name": "GTA",
         "offsetgroup": "GTA",
         "orientation": "v",
         "showlegend": true,
         "text": [
          2,
          3
         ],
         "textposition": "auto",
         "type": "bar",
         "x": [
          2006,
          2012
         ],
         "xaxis": "x",
         "y": [
          2,
          3
         ],
         "yaxis": "y"
        },
        {
         "alignmentgroup": "True",
         "hovertemplate": "game_category=Minecraft<br>Join Year=%{x}<br>Frequency=%{text}<extra></extra>",
         "legendgroup": "Minecraft",
         "marker": {
          "color": "#AB63FA",
          "pattern": {
           "shape": ""
          }
         },
         "name": "Minecraft",
         "offsetgroup": "Minecraft",
         "orientation": "v",
         "showlegend": true,
         "text": [
          1,
          1,
          1,
          2
         ],
         "textposition": "auto",
         "type": "bar",
         "x": [
          2006,
          2009,
          2011,
          2012
         ],
         "xaxis": "x",
         "y": [
          1,
          1,
          1,
          2
         ],
         "yaxis": "y"
        },
        {
         "alignmentgroup": "True",
         "hovertemplate": "game_category=LOL<br>Join Year=%{x}<br>Frequency=%{text}<extra></extra>",
         "legendgroup": "LOL",
         "marker": {
          "color": "#FFA15A",
          "pattern": {
           "shape": ""
          }
         },
         "name": "LOL",
         "offsetgroup": "LOL",
         "orientation": "v",
         "showlegend": true,
         "text": [
          1,
          1,
          1,
          2
         ],
         "textposition": "auto",
         "type": "bar",
         "x": [
          2008,
          2009,
          2012,
          2014
         ],
         "xaxis": "x",
         "y": [
          1,
          1,
          1,
          2
         ],
         "yaxis": "y"
        },
        {
         "alignmentgroup": "True",
         "hovertemplate": "game_category=COD<br>Join Year=%{x}<br>Frequency=%{text}<extra></extra>",
         "legendgroup": "COD",
         "marker": {
          "color": "#19D3F3",
          "pattern": {
           "shape": ""
          }
         },
         "name": "COD",
         "offsetgroup": "COD",
         "orientation": "v",
         "showlegend": true,
         "text": [
          1,
          1,
          1,
          2
         ],
         "textposition": "auto",
         "type": "bar",
         "x": [
          2009,
          2010,
          2012,
          2013
         ],
         "xaxis": "x",
         "y": [
          1,
          1,
          1,
          2
         ],
         "yaxis": "y"
        },
        {
         "alignmentgroup": "True",
         "hovertemplate": "game_category=Mobile Games<br>Join Year=%{x}<br>Frequency=%{text}<extra></extra>",
         "legendgroup": "Mobile Games",
         "marker": {
          "color": "#FF6692",
          "pattern": {
           "shape": ""
          }
         },
         "name": "Mobile Games",
         "offsetgroup": "Mobile Games",
         "orientation": "v",
         "showlegend": true,
         "text": [
          2,
          2,
          1
         ],
         "textposition": "auto",
         "type": "bar",
         "x": [
          2013,
          2015,
          2016
         ],
         "xaxis": "x",
         "y": [
          2,
          2,
          1
         ],
         "yaxis": "y"
        }
       ],
       "layout": {
        "barmode": "relative",
        "legend": {
         "title": {
          "text": "game_category"
         },
         "tracegroupgap": 0
        },
        "template": {
         "data": {
          "bar": [
           {
            "error_x": {
             "color": "#2a3f5f"
            },
            "error_y": {
             "color": "#2a3f5f"
            },
            "marker": {
             "line": {
              "color": "#E5ECF6",
              "width": 0.5
             },
             "pattern": {
              "fillmode": "overlay",
              "size": 10,
              "solidity": 0.2
             }
            },
            "type": "bar"
           }
          ],
          "barpolar": [
           {
            "marker": {
             "line": {
              "color": "#E5ECF6",
              "width": 0.5
             },
             "pattern": {
              "fillmode": "overlay",
              "size": 10,
              "solidity": 0.2
             }
            },
            "type": "barpolar"
           }
          ],
          "carpet": [
           {
            "aaxis": {
             "endlinecolor": "#2a3f5f",
             "gridcolor": "white",
             "linecolor": "white",
             "minorgridcolor": "white",
             "startlinecolor": "#2a3f5f"
            },
            "baxis": {
             "endlinecolor": "#2a3f5f",
             "gridcolor": "white",
             "linecolor": "white",
             "minorgridcolor": "white",
             "startlinecolor": "#2a3f5f"
            },
            "type": "carpet"
           }
          ],
          "choropleth": [
           {
            "colorbar": {
             "outlinewidth": 0,
             "ticks": ""
            },
            "type": "choropleth"
           }
          ],
          "contour": [
           {
            "colorbar": {
             "outlinewidth": 0,
             "ticks": ""
            },
            "colorscale": [
             [
              0,
              "#0d0887"
             ],
             [
              0.1111111111111111,
              "#46039f"
             ],
             [
              0.2222222222222222,
              "#7201a8"
             ],
             [
              0.3333333333333333,
              "#9c179e"
             ],
             [
              0.4444444444444444,
              "#bd3786"
             ],
             [
              0.5555555555555556,
              "#d8576b"
             ],
             [
              0.6666666666666666,
              "#ed7953"
             ],
             [
              0.7777777777777778,
              "#fb9f3a"
             ],
             [
              0.8888888888888888,
              "#fdca26"
             ],
             [
              1,
              "#f0f921"
             ]
            ],
            "type": "contour"
           }
          ],
          "contourcarpet": [
           {
            "colorbar": {
             "outlinewidth": 0,
             "ticks": ""
            },
            "type": "contourcarpet"
           }
          ],
          "heatmap": [
           {
            "colorbar": {
             "outlinewidth": 0,
             "ticks": ""
            },
            "colorscale": [
             [
              0,
              "#0d0887"
             ],
             [
              0.1111111111111111,
              "#46039f"
             ],
             [
              0.2222222222222222,
              "#7201a8"
             ],
             [
              0.3333333333333333,
              "#9c179e"
             ],
             [
              0.4444444444444444,
              "#bd3786"
             ],
             [
              0.5555555555555556,
              "#d8576b"
             ],
             [
              0.6666666666666666,
              "#ed7953"
             ],
             [
              0.7777777777777778,
              "#fb9f3a"
             ],
             [
              0.8888888888888888,
              "#fdca26"
             ],
             [
              1,
              "#f0f921"
             ]
            ],
            "type": "heatmap"
           }
          ],
          "heatmapgl": [
           {
            "colorbar": {
             "outlinewidth": 0,
             "ticks": ""
            },
            "colorscale": [
             [
              0,
              "#0d0887"
             ],
             [
              0.1111111111111111,
              "#46039f"
             ],
             [
              0.2222222222222222,
              "#7201a8"
             ],
             [
              0.3333333333333333,
              "#9c179e"
             ],
             [
              0.4444444444444444,
              "#bd3786"
             ],
             [
              0.5555555555555556,
              "#d8576b"
             ],
             [
              0.6666666666666666,
              "#ed7953"
             ],
             [
              0.7777777777777778,
              "#fb9f3a"
             ],
             [
              0.8888888888888888,
              "#fdca26"
             ],
             [
              1,
              "#f0f921"
             ]
            ],
            "type": "heatmapgl"
           }
          ],
          "histogram": [
           {
            "marker": {
             "pattern": {
              "fillmode": "overlay",
              "size": 10,
              "solidity": 0.2
             }
            },
            "type": "histogram"
           }
          ],
          "histogram2d": [
           {
            "colorbar": {
             "outlinewidth": 0,
             "ticks": ""
            },
            "colorscale": [
             [
              0,
              "#0d0887"
             ],
             [
              0.1111111111111111,
              "#46039f"
             ],
             [
              0.2222222222222222,
              "#7201a8"
             ],
             [
              0.3333333333333333,
              "#9c179e"
             ],
             [
              0.4444444444444444,
              "#bd3786"
             ],
             [
              0.5555555555555556,
              "#d8576b"
             ],
             [
              0.6666666666666666,
              "#ed7953"
             ],
             [
              0.7777777777777778,
              "#fb9f3a"
             ],
             [
              0.8888888888888888,
              "#fdca26"
             ],
             [
              1,
              "#f0f921"
             ]
            ],
            "type": "histogram2d"
           }
          ],
          "histogram2dcontour": [
           {
            "colorbar": {
             "outlinewidth": 0,
             "ticks": ""
            },
            "colorscale": [
             [
              0,
              "#0d0887"
             ],
             [
              0.1111111111111111,
              "#46039f"
             ],
             [
              0.2222222222222222,
              "#7201a8"
             ],
             [
              0.3333333333333333,
              "#9c179e"
             ],
             [
              0.4444444444444444,
              "#bd3786"
             ],
             [
              0.5555555555555556,
              "#d8576b"
             ],
             [
              0.6666666666666666,
              "#ed7953"
             ],
             [
              0.7777777777777778,
              "#fb9f3a"
             ],
             [
              0.8888888888888888,
              "#fdca26"
             ],
             [
              1,
              "#f0f921"
             ]
            ],
            "type": "histogram2dcontour"
           }
          ],
          "mesh3d": [
           {
            "colorbar": {
             "outlinewidth": 0,
             "ticks": ""
            },
            "type": "mesh3d"
           }
          ],
          "parcoords": [
           {
            "line": {
             "colorbar": {
              "outlinewidth": 0,
              "ticks": ""
             }
            },
            "type": "parcoords"
           }
          ],
          "pie": [
           {
            "automargin": true,
            "type": "pie"
           }
          ],
          "scatter": [
           {
            "fillpattern": {
             "fillmode": "overlay",
             "size": 10,
             "solidity": 0.2
            },
            "type": "scatter"
           }
          ],
          "scatter3d": [
           {
            "line": {
             "colorbar": {
              "outlinewidth": 0,
              "ticks": ""
             }
            },
            "marker": {
             "colorbar": {
              "outlinewidth": 0,
              "ticks": ""
             }
            },
            "type": "scatter3d"
           }
          ],
          "scattercarpet": [
           {
            "marker": {
             "colorbar": {
              "outlinewidth": 0,
              "ticks": ""
             }
            },
            "type": "scattercarpet"
           }
          ],
          "scattergeo": [
           {
            "marker": {
             "colorbar": {
              "outlinewidth": 0,
              "ticks": ""
             }
            },
            "type": "scattergeo"
           }
          ],
          "scattergl": [
           {
            "marker": {
             "colorbar": {
              "outlinewidth": 0,
              "ticks": ""
             }
            },
            "type": "scattergl"
           }
          ],
          "scattermapbox": [
           {
            "marker": {
             "colorbar": {
              "outlinewidth": 0,
              "ticks": ""
             }
            },
            "type": "scattermapbox"
           }
          ],
          "scatterpolar": [
           {
            "marker": {
             "colorbar": {
              "outlinewidth": 0,
              "ticks": ""
             }
            },
            "type": "scatterpolar"
           }
          ],
          "scatterpolargl": [
           {
            "marker": {
             "colorbar": {
              "outlinewidth": 0,
              "ticks": ""
             }
            },
            "type": "scatterpolargl"
           }
          ],
          "scatterternary": [
           {
            "marker": {
             "colorbar": {
              "outlinewidth": 0,
              "ticks": ""
             }
            },
            "type": "scatterternary"
           }
          ],
          "surface": [
           {
            "colorbar": {
             "outlinewidth": 0,
             "ticks": ""
            },
            "colorscale": [
             [
              0,
              "#0d0887"
             ],
             [
              0.1111111111111111,
              "#46039f"
             ],
             [
              0.2222222222222222,
              "#7201a8"
             ],
             [
              0.3333333333333333,
              "#9c179e"
             ],
             [
              0.4444444444444444,
              "#bd3786"
             ],
             [
              0.5555555555555556,
              "#d8576b"
             ],
             [
              0.6666666666666666,
              "#ed7953"
             ],
             [
              0.7777777777777778,
              "#fb9f3a"
             ],
             [
              0.8888888888888888,
              "#fdca26"
             ],
             [
              1,
              "#f0f921"
             ]
            ],
            "type": "surface"
           }
          ],
          "table": [
           {
            "cells": {
             "fill": {
              "color": "#EBF0F8"
             },
             "line": {
              "color": "white"
             }
            },
            "header": {
             "fill": {
              "color": "#C8D4E3"
             },
             "line": {
              "color": "white"
             }
            },
            "type": "table"
           }
          ]
         },
         "layout": {
          "annotationdefaults": {
           "arrowcolor": "#2a3f5f",
           "arrowhead": 0,
           "arrowwidth": 1
          },
          "autotypenumbers": "strict",
          "coloraxis": {
           "colorbar": {
            "outlinewidth": 0,
            "ticks": ""
           }
          },
          "colorscale": {
           "diverging": [
            [
             0,
             "#8e0152"
            ],
            [
             0.1,
             "#c51b7d"
            ],
            [
             0.2,
             "#de77ae"
            ],
            [
             0.3,
             "#f1b6da"
            ],
            [
             0.4,
             "#fde0ef"
            ],
            [
             0.5,
             "#f7f7f7"
            ],
            [
             0.6,
             "#e6f5d0"
            ],
            [
             0.7,
             "#b8e186"
            ],
            [
             0.8,
             "#7fbc41"
            ],
            [
             0.9,
             "#4d9221"
            ],
            [
             1,
             "#276419"
            ]
           ],
           "sequential": [
            [
             0,
             "#0d0887"
            ],
            [
             0.1111111111111111,
             "#46039f"
            ],
            [
             0.2222222222222222,
             "#7201a8"
            ],
            [
             0.3333333333333333,
             "#9c179e"
            ],
            [
             0.4444444444444444,
             "#bd3786"
            ],
            [
             0.5555555555555556,
             "#d8576b"
            ],
            [
             0.6666666666666666,
             "#ed7953"
            ],
            [
             0.7777777777777778,
             "#fb9f3a"
            ],
            [
             0.8888888888888888,
             "#fdca26"
            ],
            [
             1,
             "#f0f921"
            ]
           ],
           "sequentialminus": [
            [
             0,
             "#0d0887"
            ],
            [
             0.1111111111111111,
             "#46039f"
            ],
            [
             0.2222222222222222,
             "#7201a8"
            ],
            [
             0.3333333333333333,
             "#9c179e"
            ],
            [
             0.4444444444444444,
             "#bd3786"
            ],
            [
             0.5555555555555556,
             "#d8576b"
            ],
            [
             0.6666666666666666,
             "#ed7953"
            ],
            [
             0.7777777777777778,
             "#fb9f3a"
            ],
            [
             0.8888888888888888,
             "#fdca26"
            ],
            [
             1,
             "#f0f921"
            ]
           ]
          },
          "colorway": [
           "#636efa",
           "#EF553B",
           "#00cc96",
           "#ab63fa",
           "#FFA15A",
           "#19d3f3",
           "#FF6692",
           "#B6E880",
           "#FF97FF",
           "#FECB52"
          ],
          "font": {
           "color": "#2a3f5f"
          },
          "geo": {
           "bgcolor": "white",
           "lakecolor": "white",
           "landcolor": "#E5ECF6",
           "showlakes": true,
           "showland": true,
           "subunitcolor": "white"
          },
          "hoverlabel": {
           "align": "left"
          },
          "hovermode": "closest",
          "mapbox": {
           "style": "light"
          },
          "paper_bgcolor": "white",
          "plot_bgcolor": "#E5ECF6",
          "polar": {
           "angularaxis": {
            "gridcolor": "white",
            "linecolor": "white",
            "ticks": ""
           },
           "bgcolor": "#E5ECF6",
           "radialaxis": {
            "gridcolor": "white",
            "linecolor": "white",
            "ticks": ""
           }
          },
          "scene": {
           "xaxis": {
            "backgroundcolor": "#E5ECF6",
            "gridcolor": "white",
            "gridwidth": 2,
            "linecolor": "white",
            "showbackground": true,
            "ticks": "",
            "zerolinecolor": "white"
           },
           "yaxis": {
            "backgroundcolor": "#E5ECF6",
            "gridcolor": "white",
            "gridwidth": 2,
            "linecolor": "white",
            "showbackground": true,
            "ticks": "",
            "zerolinecolor": "white"
           },
           "zaxis": {
            "backgroundcolor": "#E5ECF6",
            "gridcolor": "white",
            "gridwidth": 2,
            "linecolor": "white",
            "showbackground": true,
            "ticks": "",
            "zerolinecolor": "white"
           }
          },
          "shapedefaults": {
           "line": {
            "color": "#2a3f5f"
           }
          },
          "ternary": {
           "aaxis": {
            "gridcolor": "white",
            "linecolor": "white",
            "ticks": ""
           },
           "baxis": {
            "gridcolor": "white",
            "linecolor": "white",
            "ticks": ""
           },
           "bgcolor": "#E5ECF6",
           "caxis": {
            "gridcolor": "white",
            "linecolor": "white",
            "ticks": ""
           }
          },
          "title": {
           "x": 0.05
          },
          "xaxis": {
           "automargin": true,
           "gridcolor": "white",
           "linecolor": "white",
           "ticks": "",
           "title": {
            "standoff": 15
           },
           "zerolinecolor": "white",
           "zerolinewidth": 2
          },
          "yaxis": {
           "automargin": true,
           "gridcolor": "white",
           "linecolor": "white",
           "ticks": "",
           "title": {
            "standoff": 15
           },
           "zerolinecolor": "white",
           "zerolinewidth": 2
          }
         }
        },
        "title": {
         "text": "Distribution of Join Dates by Game Category (Per Year)"
        },
        "xaxis": {
         "anchor": "y",
         "categoryarray": [
          2005,
          2006,
          2007,
          2008,
          2009,
          2010,
          2011,
          2012,
          2013,
          2014,
          2015,
          2016
         ],
         "categoryorder": "array",
         "domain": [
          0,
          1
         ],
         "title": {
          "text": "Join Year"
         }
        },
        "yaxis": {
         "anchor": "x",
         "domain": [
          0,
          1
         ],
         "title": {
          "text": "Frequency"
         }
        }
       }
      }
     },
     "metadata": {},
     "output_type": "display_data"
    }
   ],
   "source": [
    "sample_df['join_year'] = pd.to_datetime(sample_df['join_date']).dt.year\n",
    "\n",
    "df_counts = sample_df.drop_duplicates(subset=['channel_name']).groupby(['join_year', 'game_category']).size().reset_index(name='count')\n",
    "\n",
    "all_years = list(range(2005, 2017))\n",
    "\n",
    "color_palette = px.colors.qualitative.Plotly\n",
    "\n",
    "fig = px.bar(df_counts, x='join_year', y='count', color='game_category',\n",
    "             labels={'join_year': 'Join Year', 'count': 'Frequency'},\n",
    "             text='count',\n",
    "             title='Distribution of Join Dates by Game Category (Per Year)',\n",
    "             color_discrete_sequence=color_palette)\n",
    "\n",
    "fig.update_xaxes(categoryorder='array', categoryarray=all_years)\n",
    "\n",
    "fig.write_html(f\"plots/join_dates.html\")\n",
    "\n",
    "fig.show()"
   ]
  },
  {
   "cell_type": "markdown",
   "metadata": {},
   "source": [
    "## Sep"
   ]
  },
  {
   "cell_type": "code",
   "execution_count": 224,
   "metadata": {},
   "outputs": [
    {
     "data": {
      "text/plain": [
       "['Fortnite Official Channel', 'Marshmello']"
      ]
     },
     "execution_count": 224,
     "metadata": {},
     "output_type": "execute_result"
    }
   ],
   "source": [
    "mf, mf_df = group_by_game(pd.read_parquet('data/mf_timeseries.parquet'))\n",
    "mf"
   ]
  },
  {
   "cell_type": "code",
   "execution_count": 225,
   "metadata": {},
   "outputs": [
    {
     "data": {
      "application/vnd.plotly.v1+json": {
       "config": {
        "plotlyServerURL": "https://plot.ly"
       },
       "data": [
        {
         "mode": "lines",
         "name": "Fortnite Official Channel",
         "type": "scatter",
         "x": [
          "2016-10-10T00:00:00",
          "2016-10-17T00:00:00",
          "2016-10-24T00:00:00",
          "2016-10-30T23:00:00",
          "2016-11-06T23:00:00",
          "2016-11-13T23:00:00",
          "2016-11-20T23:00:00",
          "2016-11-27T23:00:00",
          "2016-12-04T23:00:00",
          "2016-12-11T23:00:00",
          "2016-12-18T23:00:00",
          "2016-12-25T23:00:00",
          "2017-01-01T23:00:00",
          "2017-01-08T23:00:00",
          "2017-01-15T23:00:00",
          "2017-01-22T23:00:00",
          "2017-01-29T23:00:00",
          "2017-02-05T23:00:00",
          "2017-02-12T23:00:00",
          "2017-02-19T23:00:00",
          "2017-02-26T23:00:00",
          "2017-03-05T23:00:00",
          "2017-03-12T23:00:00",
          "2017-03-19T23:00:00",
          "2017-03-27T00:00:00",
          "2017-04-03T00:00:00",
          "2017-04-10T00:00:00",
          "2017-04-17T00:00:00",
          "2017-04-24T00:00:00",
          "2017-05-01T00:00:00",
          "2017-05-08T00:00:00",
          "2017-05-15T00:00:00",
          "2017-05-22T00:00:00",
          "2017-05-29T00:00:00",
          "2017-06-05T00:00:00",
          "2017-06-12T00:00:00",
          "2017-06-19T00:00:00",
          "2017-06-26T00:00:00",
          "2017-07-03T00:00:00",
          "2017-07-10T00:00:00",
          "2017-07-17T00:00:00",
          "2017-07-24T00:00:00",
          "2017-07-31T00:00:00",
          "2017-08-07T00:00:00",
          "2017-08-14T00:00:00",
          "2017-08-21T00:00:00",
          "2017-08-28T00:00:00",
          "2017-09-04T00:00:00",
          "2017-09-11T00:00:00",
          "2017-09-18T00:00:00",
          "2017-09-25T00:00:00",
          "2017-10-02T00:00:00",
          "2017-10-09T00:00:00",
          "2017-10-16T00:00:00",
          "2017-10-23T00:00:00",
          "2017-10-29T23:00:00",
          "2017-11-05T23:00:00",
          "2017-11-12T23:00:00",
          "2017-11-19T23:00:00",
          "2017-11-26T23:00:00",
          "2017-12-03T23:00:00",
          "2017-12-10T23:00:00",
          "2017-12-17T23:00:00",
          "2017-12-24T23:00:00",
          "2017-12-31T23:00:00",
          "2018-01-07T23:00:00",
          "2018-01-14T23:00:00",
          "2018-01-21T23:00:00",
          "2018-01-28T23:00:00",
          "2018-02-04T23:00:00",
          "2018-02-11T23:00:00",
          "2018-02-18T23:00:00",
          "2018-02-25T23:00:00",
          "2018-03-04T23:00:00",
          "2018-03-11T23:00:00",
          "2018-03-18T23:00:00",
          "2018-03-26T00:00:00",
          "2018-04-02T00:00:00",
          "2018-04-09T00:00:00",
          "2018-04-16T00:00:00",
          "2018-04-23T00:00:00",
          "2018-04-30T00:00:00",
          "2018-05-07T00:00:00",
          "2018-05-14T00:00:00",
          "2018-05-21T00:00:00",
          "2018-05-28T00:00:00",
          "2018-06-04T00:00:00",
          "2018-06-11T00:00:00",
          "2018-06-18T00:00:00",
          "2018-06-25T00:00:00",
          "2018-07-02T00:00:00",
          "2018-07-09T00:00:00",
          "2018-07-16T00:00:00",
          "2018-07-23T00:00:00",
          "2018-07-30T00:00:00",
          "2018-08-06T00:00:00",
          "2018-08-13T00:00:00",
          "2018-08-20T00:00:00",
          "2018-08-27T00:00:00",
          "2018-09-03T00:00:00",
          "2018-09-10T00:00:00",
          "2018-09-17T00:00:00",
          "2018-09-24T00:00:00",
          "2018-10-01T00:00:00",
          "2018-10-08T00:00:00",
          "2018-10-15T00:00:00",
          "2018-10-22T00:00:00",
          "2018-10-28T23:00:00",
          "2018-11-04T23:00:00",
          "2018-11-11T23:00:00",
          "2018-11-18T23:00:00",
          "2018-11-25T23:00:00",
          "2018-12-02T23:00:00",
          "2018-12-09T23:00:00",
          "2018-12-16T23:00:00",
          "2018-12-23T23:00:00",
          "2018-12-30T23:00:00",
          "2019-01-06T23:00:00",
          "2019-01-13T23:00:00",
          "2019-01-20T23:00:00",
          "2019-01-27T23:00:00",
          "2019-02-03T23:00:00",
          "2019-02-10T23:00:00",
          "2019-02-17T23:00:00",
          "2019-02-24T23:00:00",
          "2019-03-03T23:00:00",
          "2019-03-10T23:00:00",
          "2019-03-17T23:00:00",
          "2019-03-24T23:00:00",
          "2019-04-01T00:00:00",
          "2019-04-08T00:00:00",
          "2019-04-15T00:00:00",
          "2019-04-22T00:00:00",
          "2019-04-29T00:00:00",
          "2019-05-06T00:00:00",
          "2019-05-13T00:00:00",
          "2019-05-20T00:00:00",
          "2019-05-27T00:00:00",
          "2019-06-03T00:00:00",
          "2019-06-10T00:00:00",
          "2019-06-17T00:00:00",
          "2019-06-24T00:00:00",
          "2019-07-01T00:00:00",
          "2019-07-08T00:00:00",
          "2019-07-15T00:00:00",
          "2019-07-22T00:00:00",
          "2019-07-29T00:00:00",
          "2019-08-05T00:00:00",
          "2019-08-12T00:00:00",
          "2019-08-19T00:00:00",
          "2019-08-26T00:00:00",
          "2019-09-02T00:00:00",
          "2019-09-09T00:00:00",
          "2019-09-16T00:00:00",
          "2019-09-23T00:00:00"
         ],
         "y": [
          6852.5,
          6875.5,
          7055.5,
          7051.476683937828,
          6419.257691062172,
          5483.625,
          5960.970909552882,
          5963.82926829264,
          5963.82926829264,
          5963.829268292758,
          5963.82926829264,
          6256.383892276441,
          8100.75,
          16731.692708333256,
          35307.83333333349,
          2667.875,
          1147.8645833332555,
          10380.28125,
          8744.265625,
          8063.53125,
          9219,
          11543.953125,
          8457.307291666744,
          7909.052083333256,
          7448.442081151763,
          9390.620418848235,
          12052,
          10785.875,
          9151.625,
          8241.625,
          7022.125,
          9983.25,
          15574,
          15117.25,
          73735.08333333326,
          232614.66666666677,
          115458,
          95358.5555555555,
          69660.8194444445,
          296798.847222222,
          923503.777777778,
          269049.375,
          200704.875,
          119128.5,
          62825.75,
          54040.625,
          69011.375,
          58658.625,
          19705.875,
          141491.875,
          2454656.125,
          1793060.375,
          956401.625,
          638356.625,
          647750.625,
          665882.708549222,
          540007.7098445613,
          902048.3420228828,
          1317733.520833334,
          1068299.09375,
          1398126.151041666,
          1888866.098958334,
          1902170.052083332,
          1447717.067708336,
          1371237.875,
          1550796.796875,
          3096816.442708332,
          2997954.604166668,
          2837959.09375,
          2768359.291666668,
          2791027.7395833284,
          3380664.119791672,
          5324263,
          3999552.026041664,
          5748893,
          5838777.4375,
          5887845.850376308,
          6514242.602748692,
          13075605.625,
          25324742.125,
          10797637.375,
          8685214.125,
          8587943.625,
          4969671.25,
          3430564,
          4924492.375,
          7738378.375,
          9946981.125,
          12343120.125,
          8304452.625,
          10658562.375,
          21731508.375,
          26308545.125,
          23508397.625,
          20213071.375,
          21486309.5,
          17980697,
          11507675.375,
          9409599.125,
          10273661,
          7565609,
          5461997.75,
          6691752.75,
          8080636.625,
          3798617.375,
          4787704.25,
          5229427.25,
          13575081.266839383,
          13022824.207118928,
          7737753.401041687,
          3923094.369791688,
          2372523.953125,
          3108260.75,
          9081369.755208312,
          3272384.270833313,
          1455059.9947916863,
          1087592.7760416863,
          962885.828125,
          810324.7760416269,
          912537.6927083732,
          1947701,
          1726846.109375,
          1054168.416666627,
          23334989.16145837,
          19454244.385416627,
          10971627.4375,
          11000063.06250006,
          5294888.755208254,
          4042794.875,
          17193867.605993748,
          7698988.649214625,
          3820702.75,
          8918711.25,
          14882391,
          17574086.5,
          18331617.125,
          11608748.375,
          10051090,
          4722439,
          5294509.25,
          7800864.25,
          11234569.375,
          10828942.625,
          3035632.125,
          2200020.375,
          7262942.75,
          34328609.75,
          30740469.25,
          17094041.75,
          8254458.125,
          8140716.875,
          11628897,
          13574326.5,
          3637114.25,
          9804881
         ]
        },
        {
         "mode": "lines",
         "name": "Marshmello",
         "type": "scatter",
         "x": [
          "2016-10-10T00:00:00",
          "2016-10-17T00:00:00",
          "2016-10-24T00:00:00",
          "2016-10-30T23:00:00",
          "2016-11-06T23:00:00",
          "2016-11-13T23:00:00",
          "2016-11-20T23:00:00",
          "2016-11-27T23:00:00",
          "2016-12-04T23:00:00",
          "2016-12-11T23:00:00",
          "2016-12-18T23:00:00",
          "2016-12-25T23:00:00",
          "2017-01-01T23:00:00",
          "2017-01-08T23:00:00",
          "2017-01-15T23:00:00",
          "2017-01-22T23:00:00",
          "2017-01-29T23:00:00",
          "2017-02-05T23:00:00",
          "2017-02-12T23:00:00",
          "2017-02-19T23:00:00",
          "2017-02-26T23:00:00",
          "2017-03-05T23:00:00",
          "2017-03-12T23:00:00",
          "2017-03-19T23:00:00",
          "2017-03-27T00:00:00",
          "2017-04-03T00:00:00",
          "2017-04-10T00:00:00",
          "2017-04-17T00:00:00",
          "2017-04-24T00:00:00",
          "2017-05-01T00:00:00",
          "2017-05-08T00:00:00",
          "2017-05-15T00:00:00",
          "2017-05-22T00:00:00",
          "2017-05-29T00:00:00",
          "2017-06-05T00:00:00",
          "2017-06-12T00:00:00",
          "2017-06-19T00:00:00",
          "2017-06-26T00:00:00",
          "2017-07-03T00:00:00",
          "2017-07-10T00:00:00",
          "2017-07-17T00:00:00",
          "2017-07-24T00:00:00",
          "2017-07-31T00:00:00",
          "2017-08-07T00:00:00",
          "2017-08-14T00:00:00",
          "2017-08-21T00:00:00",
          "2017-08-28T00:00:00",
          "2017-09-04T00:00:00",
          "2017-09-11T00:00:00",
          "2017-09-18T00:00:00",
          "2017-09-25T00:00:00",
          "2017-10-02T00:00:00",
          "2017-10-09T00:00:00",
          "2017-10-16T00:00:00",
          "2017-10-23T00:00:00",
          "2017-10-29T23:00:00",
          "2017-11-05T23:00:00",
          "2017-11-12T23:00:00",
          "2017-11-19T23:00:00",
          "2017-11-26T23:00:00",
          "2017-12-03T23:00:00",
          "2017-12-10T23:00:00",
          "2017-12-17T23:00:00",
          "2017-12-24T23:00:00",
          "2017-12-31T23:00:00",
          "2018-01-07T23:00:00",
          "2018-01-14T23:00:00",
          "2018-01-21T23:00:00",
          "2018-01-28T23:00:00",
          "2018-02-04T23:00:00",
          "2018-02-11T23:00:00",
          "2018-02-18T23:00:00",
          "2018-02-25T23:00:00",
          "2018-03-04T23:00:00",
          "2018-03-11T23:00:00",
          "2018-03-18T23:00:00",
          "2018-03-26T00:00:00",
          "2018-04-02T00:00:00",
          "2018-04-09T00:00:00",
          "2018-04-16T00:00:00",
          "2018-04-23T00:00:00",
          "2018-04-30T00:00:00",
          "2018-05-07T00:00:00",
          "2018-05-14T00:00:00",
          "2018-05-21T00:00:00",
          "2018-05-28T00:00:00",
          "2018-06-04T00:00:00",
          "2018-06-11T00:00:00",
          "2018-06-18T00:00:00",
          "2018-06-25T00:00:00",
          "2018-07-02T00:00:00",
          "2018-07-09T00:00:00",
          "2018-07-16T00:00:00",
          "2018-07-23T00:00:00",
          "2018-07-30T00:00:00",
          "2018-08-06T00:00:00",
          "2018-08-13T00:00:00",
          "2018-08-20T00:00:00",
          "2018-08-27T00:00:00",
          "2018-09-03T00:00:00",
          "2018-09-10T00:00:00",
          "2018-09-17T00:00:00",
          "2018-09-24T00:00:00",
          "2018-10-01T00:00:00",
          "2018-10-08T00:00:00",
          "2018-10-15T00:00:00",
          "2018-10-22T00:00:00",
          "2018-10-28T23:00:00",
          "2018-11-04T23:00:00",
          "2018-11-11T23:00:00",
          "2018-11-18T23:00:00",
          "2018-11-25T23:00:00",
          "2018-12-02T23:00:00",
          "2018-12-09T23:00:00",
          "2018-12-16T23:00:00",
          "2018-12-23T23:00:00",
          "2018-12-30T23:00:00",
          "2019-01-06T23:00:00",
          "2019-01-13T23:00:00",
          "2019-01-20T23:00:00",
          "2019-01-27T23:00:00",
          "2019-02-03T23:00:00",
          "2019-02-10T23:00:00",
          "2019-02-17T23:00:00",
          "2019-02-24T23:00:00",
          "2019-03-03T23:00:00",
          "2019-03-10T23:00:00",
          "2019-03-17T23:00:00",
          "2019-03-24T23:00:00",
          "2019-04-01T00:00:00",
          "2019-04-08T00:00:00",
          "2019-04-15T00:00:00",
          "2019-04-22T00:00:00",
          "2019-04-29T00:00:00",
          "2019-05-06T00:00:00",
          "2019-05-13T00:00:00",
          "2019-05-20T00:00:00",
          "2019-05-27T00:00:00",
          "2019-06-03T00:00:00",
          "2019-06-10T00:00:00",
          "2019-06-17T00:00:00",
          "2019-06-24T00:00:00",
          "2019-07-01T00:00:00",
          "2019-07-08T00:00:00",
          "2019-07-15T00:00:00",
          "2019-07-22T00:00:00",
          "2019-07-29T00:00:00",
          "2019-08-05T00:00:00",
          "2019-08-12T00:00:00",
          "2019-08-19T00:00:00",
          "2019-08-26T00:00:00",
          "2019-09-02T00:00:00",
          "2019-09-09T00:00:00",
          "2019-09-16T00:00:00",
          "2019-09-23T00:00:00"
         ],
         "y": [
          3282343.5,
          11585302.875,
          12167906.625,
          14374291.523316056,
          14465778.945433944,
          13373080,
          14412269.927083343,
          13058855.869791657,
          13260655.770833343,
          21718795.640625,
          16270980.25,
          16596525.005208312,
          15840246.666666688,
          21609959.21874997,
          46774084.6875,
          29944534.65625,
          0,
          18661308.447916687,
          16287629.75,
          11719144.697916629,
          15855394.375,
          16113246.880208371,
          15176038.604166629,
          15402366.177083371,
          15417338.976739705,
          13088316.090968609,
          15718546.375,
          13678746.375,
          12730895.625,
          16010828,
          21114841,
          21713591.5,
          18646523.5,
          18293775.125,
          18225564.875,
          18315084.375,
          18029890.875,
          18082524.875,
          17421321.875,
          17790153.125,
          19327413.375,
          19877362,
          18013817.5,
          23867977.875,
          26425746.375,
          23241055.5,
          23202280.25,
          23023382,
          20638532.5,
          18881212.625,
          19447785.875,
          19900394.5,
          20181256.75,
          20380888.375,
          26544676.875,
          30477034.96632123,
          28709496.65347052,
          28870104.03645825,
          44620143.75,
          34764917.953125,
          39312637.70833325,
          43530419.296875,
          45386258.72395849,
          42677086.77604151,
          38479131.69270849,
          38416384.08333325,
          38402361.375,
          38759299.52083325,
          35852432.5625,
          31183440.057291742,
          40469257.005208254,
          51683424.45833349,
          53331852.16666651,
          49236839.32291674,
          57917960.625,
          60480270.328125,
          63127374.97153139,
          60389228.21596861,
          60210038.25,
          63162231.75,
          64373297.25,
          60011444,
          58216592,
          55085017.75,
          50506951,
          48411438,
          53639308.25,
          57986446.25,
          59242585.25,
          61218774.875,
          54763522.625,
          44290468.25,
          45070401.5,
          46705853.5,
          47735886.25,
          45504820,
          40797745.5,
          37427985.125,
          36776502.875,
          54565682.5,
          51089196.25,
          59667676.875,
          65586588.375,
          60098806.875,
          58088808.875,
          75294850.5,
          65089137.75,
          63239227.64766836,
          62827680.33149815,
          60255559.47395849,
          61565857.60416651,
          60802033.76041698,
          57047763.88541651,
          55890696.69270849,
          52725137.5,
          52993643.92708302,
          51208665.609375,
          50261525.453125,
          53022987.27604151,
          54360254.91666698,
          67743529.25,
          118712504.63020802,
          200970007,
          143351612.203125,
          111387673.44270895,
          89254135.90625,
          80725520.24479103,
          79935550.32291698,
          84579029.5,
          93845863.5894146,
          88197159.8324604,
          79191341.25,
          81910665.75,
          78603251.5,
          75510833,
          69585282.5,
          62287487.75,
          59735541.5,
          59202242.75,
          59818752.875,
          63130299.875,
          57546575.625,
          57826687.125,
          59985376.125,
          59483247.625,
          57599895.625,
          55989926.125,
          57028649.125,
          54005363.125,
          66286807.75,
          80979775,
          78667694.5,
          63215538.5,
          57278869.625,
          63517031.375
         ]
        }
       ],
       "layout": {
        "annotations": [
         {
          "font": {
           "color": "grey",
           "size": 10
          },
          "showarrow": false,
          "text": "Marshmello Concert",
          "textangle": -90,
          "x": "2019-02-02",
          "xshift": -10,
          "y": 150000000
         }
        ],
        "shapes": [
         {
          "line": {
           "color": "grey",
           "dash": "dash"
          },
          "type": "line",
          "x0": "2019-02-02",
          "x1": "2019-02-02",
          "xref": "x",
          "y0": 0,
          "y1": 1,
          "yref": "y domain"
         }
        ],
        "showlegend": true,
        "template": {
         "data": {
          "bar": [
           {
            "error_x": {
             "color": "#2a3f5f"
            },
            "error_y": {
             "color": "#2a3f5f"
            },
            "marker": {
             "line": {
              "color": "#E5ECF6",
              "width": 0.5
             },
             "pattern": {
              "fillmode": "overlay",
              "size": 10,
              "solidity": 0.2
             }
            },
            "type": "bar"
           }
          ],
          "barpolar": [
           {
            "marker": {
             "line": {
              "color": "#E5ECF6",
              "width": 0.5
             },
             "pattern": {
              "fillmode": "overlay",
              "size": 10,
              "solidity": 0.2
             }
            },
            "type": "barpolar"
           }
          ],
          "carpet": [
           {
            "aaxis": {
             "endlinecolor": "#2a3f5f",
             "gridcolor": "white",
             "linecolor": "white",
             "minorgridcolor": "white",
             "startlinecolor": "#2a3f5f"
            },
            "baxis": {
             "endlinecolor": "#2a3f5f",
             "gridcolor": "white",
             "linecolor": "white",
             "minorgridcolor": "white",
             "startlinecolor": "#2a3f5f"
            },
            "type": "carpet"
           }
          ],
          "choropleth": [
           {
            "colorbar": {
             "outlinewidth": 0,
             "ticks": ""
            },
            "type": "choropleth"
           }
          ],
          "contour": [
           {
            "colorbar": {
             "outlinewidth": 0,
             "ticks": ""
            },
            "colorscale": [
             [
              0,
              "#0d0887"
             ],
             [
              0.1111111111111111,
              "#46039f"
             ],
             [
              0.2222222222222222,
              "#7201a8"
             ],
             [
              0.3333333333333333,
              "#9c179e"
             ],
             [
              0.4444444444444444,
              "#bd3786"
             ],
             [
              0.5555555555555556,
              "#d8576b"
             ],
             [
              0.6666666666666666,
              "#ed7953"
             ],
             [
              0.7777777777777778,
              "#fb9f3a"
             ],
             [
              0.8888888888888888,
              "#fdca26"
             ],
             [
              1,
              "#f0f921"
             ]
            ],
            "type": "contour"
           }
          ],
          "contourcarpet": [
           {
            "colorbar": {
             "outlinewidth": 0,
             "ticks": ""
            },
            "type": "contourcarpet"
           }
          ],
          "heatmap": [
           {
            "colorbar": {
             "outlinewidth": 0,
             "ticks": ""
            },
            "colorscale": [
             [
              0,
              "#0d0887"
             ],
             [
              0.1111111111111111,
              "#46039f"
             ],
             [
              0.2222222222222222,
              "#7201a8"
             ],
             [
              0.3333333333333333,
              "#9c179e"
             ],
             [
              0.4444444444444444,
              "#bd3786"
             ],
             [
              0.5555555555555556,
              "#d8576b"
             ],
             [
              0.6666666666666666,
              "#ed7953"
             ],
             [
              0.7777777777777778,
              "#fb9f3a"
             ],
             [
              0.8888888888888888,
              "#fdca26"
             ],
             [
              1,
              "#f0f921"
             ]
            ],
            "type": "heatmap"
           }
          ],
          "heatmapgl": [
           {
            "colorbar": {
             "outlinewidth": 0,
             "ticks": ""
            },
            "colorscale": [
             [
              0,
              "#0d0887"
             ],
             [
              0.1111111111111111,
              "#46039f"
             ],
             [
              0.2222222222222222,
              "#7201a8"
             ],
             [
              0.3333333333333333,
              "#9c179e"
             ],
             [
              0.4444444444444444,
              "#bd3786"
             ],
             [
              0.5555555555555556,
              "#d8576b"
             ],
             [
              0.6666666666666666,
              "#ed7953"
             ],
             [
              0.7777777777777778,
              "#fb9f3a"
             ],
             [
              0.8888888888888888,
              "#fdca26"
             ],
             [
              1,
              "#f0f921"
             ]
            ],
            "type": "heatmapgl"
           }
          ],
          "histogram": [
           {
            "marker": {
             "pattern": {
              "fillmode": "overlay",
              "size": 10,
              "solidity": 0.2
             }
            },
            "type": "histogram"
           }
          ],
          "histogram2d": [
           {
            "colorbar": {
             "outlinewidth": 0,
             "ticks": ""
            },
            "colorscale": [
             [
              0,
              "#0d0887"
             ],
             [
              0.1111111111111111,
              "#46039f"
             ],
             [
              0.2222222222222222,
              "#7201a8"
             ],
             [
              0.3333333333333333,
              "#9c179e"
             ],
             [
              0.4444444444444444,
              "#bd3786"
             ],
             [
              0.5555555555555556,
              "#d8576b"
             ],
             [
              0.6666666666666666,
              "#ed7953"
             ],
             [
              0.7777777777777778,
              "#fb9f3a"
             ],
             [
              0.8888888888888888,
              "#fdca26"
             ],
             [
              1,
              "#f0f921"
             ]
            ],
            "type": "histogram2d"
           }
          ],
          "histogram2dcontour": [
           {
            "colorbar": {
             "outlinewidth": 0,
             "ticks": ""
            },
            "colorscale": [
             [
              0,
              "#0d0887"
             ],
             [
              0.1111111111111111,
              "#46039f"
             ],
             [
              0.2222222222222222,
              "#7201a8"
             ],
             [
              0.3333333333333333,
              "#9c179e"
             ],
             [
              0.4444444444444444,
              "#bd3786"
             ],
             [
              0.5555555555555556,
              "#d8576b"
             ],
             [
              0.6666666666666666,
              "#ed7953"
             ],
             [
              0.7777777777777778,
              "#fb9f3a"
             ],
             [
              0.8888888888888888,
              "#fdca26"
             ],
             [
              1,
              "#f0f921"
             ]
            ],
            "type": "histogram2dcontour"
           }
          ],
          "mesh3d": [
           {
            "colorbar": {
             "outlinewidth": 0,
             "ticks": ""
            },
            "type": "mesh3d"
           }
          ],
          "parcoords": [
           {
            "line": {
             "colorbar": {
              "outlinewidth": 0,
              "ticks": ""
             }
            },
            "type": "parcoords"
           }
          ],
          "pie": [
           {
            "automargin": true,
            "type": "pie"
           }
          ],
          "scatter": [
           {
            "fillpattern": {
             "fillmode": "overlay",
             "size": 10,
             "solidity": 0.2
            },
            "type": "scatter"
           }
          ],
          "scatter3d": [
           {
            "line": {
             "colorbar": {
              "outlinewidth": 0,
              "ticks": ""
             }
            },
            "marker": {
             "colorbar": {
              "outlinewidth": 0,
              "ticks": ""
             }
            },
            "type": "scatter3d"
           }
          ],
          "scattercarpet": [
           {
            "marker": {
             "colorbar": {
              "outlinewidth": 0,
              "ticks": ""
             }
            },
            "type": "scattercarpet"
           }
          ],
          "scattergeo": [
           {
            "marker": {
             "colorbar": {
              "outlinewidth": 0,
              "ticks": ""
             }
            },
            "type": "scattergeo"
           }
          ],
          "scattergl": [
           {
            "marker": {
             "colorbar": {
              "outlinewidth": 0,
              "ticks": ""
             }
            },
            "type": "scattergl"
           }
          ],
          "scattermapbox": [
           {
            "marker": {
             "colorbar": {
              "outlinewidth": 0,
              "ticks": ""
             }
            },
            "type": "scattermapbox"
           }
          ],
          "scatterpolar": [
           {
            "marker": {
             "colorbar": {
              "outlinewidth": 0,
              "ticks": ""
             }
            },
            "type": "scatterpolar"
           }
          ],
          "scatterpolargl": [
           {
            "marker": {
             "colorbar": {
              "outlinewidth": 0,
              "ticks": ""
             }
            },
            "type": "scatterpolargl"
           }
          ],
          "scatterternary": [
           {
            "marker": {
             "colorbar": {
              "outlinewidth": 0,
              "ticks": ""
             }
            },
            "type": "scatterternary"
           }
          ],
          "surface": [
           {
            "colorbar": {
             "outlinewidth": 0,
             "ticks": ""
            },
            "colorscale": [
             [
              0,
              "#0d0887"
             ],
             [
              0.1111111111111111,
              "#46039f"
             ],
             [
              0.2222222222222222,
              "#7201a8"
             ],
             [
              0.3333333333333333,
              "#9c179e"
             ],
             [
              0.4444444444444444,
              "#bd3786"
             ],
             [
              0.5555555555555556,
              "#d8576b"
             ],
             [
              0.6666666666666666,
              "#ed7953"
             ],
             [
              0.7777777777777778,
              "#fb9f3a"
             ],
             [
              0.8888888888888888,
              "#fdca26"
             ],
             [
              1,
              "#f0f921"
             ]
            ],
            "type": "surface"
           }
          ],
          "table": [
           {
            "cells": {
             "fill": {
              "color": "#EBF0F8"
             },
             "line": {
              "color": "white"
             }
            },
            "header": {
             "fill": {
              "color": "#C8D4E3"
             },
             "line": {
              "color": "white"
             }
            },
            "type": "table"
           }
          ]
         },
         "layout": {
          "annotationdefaults": {
           "arrowcolor": "#2a3f5f",
           "arrowhead": 0,
           "arrowwidth": 1
          },
          "autotypenumbers": "strict",
          "coloraxis": {
           "colorbar": {
            "outlinewidth": 0,
            "ticks": ""
           }
          },
          "colorscale": {
           "diverging": [
            [
             0,
             "#8e0152"
            ],
            [
             0.1,
             "#c51b7d"
            ],
            [
             0.2,
             "#de77ae"
            ],
            [
             0.3,
             "#f1b6da"
            ],
            [
             0.4,
             "#fde0ef"
            ],
            [
             0.5,
             "#f7f7f7"
            ],
            [
             0.6,
             "#e6f5d0"
            ],
            [
             0.7,
             "#b8e186"
            ],
            [
             0.8,
             "#7fbc41"
            ],
            [
             0.9,
             "#4d9221"
            ],
            [
             1,
             "#276419"
            ]
           ],
           "sequential": [
            [
             0,
             "#0d0887"
            ],
            [
             0.1111111111111111,
             "#46039f"
            ],
            [
             0.2222222222222222,
             "#7201a8"
            ],
            [
             0.3333333333333333,
             "#9c179e"
            ],
            [
             0.4444444444444444,
             "#bd3786"
            ],
            [
             0.5555555555555556,
             "#d8576b"
            ],
            [
             0.6666666666666666,
             "#ed7953"
            ],
            [
             0.7777777777777778,
             "#fb9f3a"
            ],
            [
             0.8888888888888888,
             "#fdca26"
            ],
            [
             1,
             "#f0f921"
            ]
           ],
           "sequentialminus": [
            [
             0,
             "#0d0887"
            ],
            [
             0.1111111111111111,
             "#46039f"
            ],
            [
             0.2222222222222222,
             "#7201a8"
            ],
            [
             0.3333333333333333,
             "#9c179e"
            ],
            [
             0.4444444444444444,
             "#bd3786"
            ],
            [
             0.5555555555555556,
             "#d8576b"
            ],
            [
             0.6666666666666666,
             "#ed7953"
            ],
            [
             0.7777777777777778,
             "#fb9f3a"
            ],
            [
             0.8888888888888888,
             "#fdca26"
            ],
            [
             1,
             "#f0f921"
            ]
           ]
          },
          "colorway": [
           "#636efa",
           "#EF553B",
           "#00cc96",
           "#ab63fa",
           "#FFA15A",
           "#19d3f3",
           "#FF6692",
           "#B6E880",
           "#FF97FF",
           "#FECB52"
          ],
          "font": {
           "color": "#2a3f5f"
          },
          "geo": {
           "bgcolor": "white",
           "lakecolor": "white",
           "landcolor": "#E5ECF6",
           "showlakes": true,
           "showland": true,
           "subunitcolor": "white"
          },
          "hoverlabel": {
           "align": "left"
          },
          "hovermode": "closest",
          "mapbox": {
           "style": "light"
          },
          "paper_bgcolor": "white",
          "plot_bgcolor": "#E5ECF6",
          "polar": {
           "angularaxis": {
            "gridcolor": "white",
            "linecolor": "white",
            "ticks": ""
           },
           "bgcolor": "#E5ECF6",
           "radialaxis": {
            "gridcolor": "white",
            "linecolor": "white",
            "ticks": ""
           }
          },
          "scene": {
           "xaxis": {
            "backgroundcolor": "#E5ECF6",
            "gridcolor": "white",
            "gridwidth": 2,
            "linecolor": "white",
            "showbackground": true,
            "ticks": "",
            "zerolinecolor": "white"
           },
           "yaxis": {
            "backgroundcolor": "#E5ECF6",
            "gridcolor": "white",
            "gridwidth": 2,
            "linecolor": "white",
            "showbackground": true,
            "ticks": "",
            "zerolinecolor": "white"
           },
           "zaxis": {
            "backgroundcolor": "#E5ECF6",
            "gridcolor": "white",
            "gridwidth": 2,
            "linecolor": "white",
            "showbackground": true,
            "ticks": "",
            "zerolinecolor": "white"
           }
          },
          "shapedefaults": {
           "line": {
            "color": "#2a3f5f"
           }
          },
          "ternary": {
           "aaxis": {
            "gridcolor": "white",
            "linecolor": "white",
            "ticks": ""
           },
           "baxis": {
            "gridcolor": "white",
            "linecolor": "white",
            "ticks": ""
           },
           "bgcolor": "#E5ECF6",
           "caxis": {
            "gridcolor": "white",
            "linecolor": "white",
            "ticks": ""
           }
          },
          "title": {
           "x": 0.05
          },
          "xaxis": {
           "automargin": true,
           "gridcolor": "white",
           "linecolor": "white",
           "ticks": "",
           "title": {
            "standoff": 15
           },
           "zerolinecolor": "white",
           "zerolinewidth": 2
          },
          "yaxis": {
           "automargin": true,
           "gridcolor": "white",
           "linecolor": "white",
           "ticks": "",
           "title": {
            "standoff": 15
           },
           "zerolinecolor": "white",
           "zerolinewidth": 2
          }
         }
        },
        "title": {
         "text": "Marshmello: Weekly Delta Views Timeseries"
        },
        "xaxis": {
         "title": {
          "text": "Date"
         }
        },
        "yaxis": {
         "title": {
          "text": "Delta Views"
         }
        }
       }
      }
     },
     "metadata": {},
     "output_type": "display_data"
    }
   ],
   "source": [
    "fig = go.Figure()\n",
    "\n",
    "for (game, game_df) in mf_df:\n",
    "    fig.add_trace(go.Scatter(\n",
    "        x=game_df['datetime'],\n",
    "        y=game_df[metric],\n",
    "        mode='lines',\n",
    "        name=game,\n",
    "    ))\n",
    "\n",
    "date = '2019-02-02'\n",
    "\n",
    "# Add a vertical line for Fortnite Battle-Royale Mode\n",
    "fig.add_vline(\n",
    "        x=date,\n",
    "        line_dash='dash',\n",
    "        line_color='grey',\n",
    "    )\n",
    "fig.add_annotation(\n",
    "        x=date, \n",
    "        y=150_000_000,\n",
    "        text=\"Marshmello Concert\",\n",
    "        font=dict(color='grey', size=10),\n",
    "        showarrow=False,\n",
    "        xshift=-10,\n",
    "        textangle=-90\n",
    "    )\n",
    "\n",
    "\n",
    "fig.update_layout(\n",
    "        title=f\"Marshmello: Weekly {metric_txt} Timeseries\",\n",
    "        xaxis_title='Date',\n",
    "        yaxis_title=metric_txt,\n",
    "        showlegend=True\n",
    "    )\n",
    "\n",
    "fig.write_html(f\"plots/marshmello.html\")\n",
    "\n",
    "fig.show()"
   ]
  },
  {
   "cell_type": "code",
   "execution_count": 226,
   "metadata": {},
   "outputs": [],
   "source": [
    "pubg, pubg_df = group_by_game(pd.read_parquet('data/pubg_timeseries.parquet'))"
   ]
  },
  {
   "cell_type": "code",
   "execution_count": 227,
   "metadata": {},
   "outputs": [
    {
     "data": {
      "text/html": [
       "<div>\n",
       "<style scoped>\n",
       "    .dataframe tbody tr th:only-of-type {\n",
       "        vertical-align: middle;\n",
       "    }\n",
       "\n",
       "    .dataframe tbody tr th {\n",
       "        vertical-align: top;\n",
       "    }\n",
       "\n",
       "    .dataframe thead th {\n",
       "        text-align: right;\n",
       "    }\n",
       "</style>\n",
       "<table border=\"1\" class=\"dataframe\">\n",
       "  <thead>\n",
       "    <tr style=\"text-align: right;\">\n",
       "      <th></th>\n",
       "      <th>game_category</th>\n",
       "      <th>datetime</th>\n",
       "      <th>views</th>\n",
       "      <th>delta_views</th>\n",
       "      <th>subs</th>\n",
       "      <th>delta_subs</th>\n",
       "      <th>videos</th>\n",
       "      <th>delta_videos</th>\n",
       "      <th>activity</th>\n",
       "      <th>subscribers_cc</th>\n",
       "      <th>videos_cc</th>\n",
       "      <th>subscriber_rank_sb</th>\n",
       "      <th>weights</th>\n",
       "    </tr>\n",
       "  </thead>\n",
       "  <tbody>\n",
       "    <tr>\n",
       "      <th>0</th>\n",
       "      <td>Fortnite</td>\n",
       "      <td>2016-10-10 00:00:00</td>\n",
       "      <td>7.047610e+06</td>\n",
       "      <td>9.470625e+03</td>\n",
       "      <td>5.225712e+04</td>\n",
       "      <td>0.000000</td>\n",
       "      <td>278.0</td>\n",
       "      <td>0.0</td>\n",
       "      <td>0.0</td>\n",
       "      <td>22400000.0</td>\n",
       "      <td>929.0</td>\n",
       "      <td>104.0</td>\n",
       "      <td>2.087</td>\n",
       "    </tr>\n",
       "    <tr>\n",
       "      <th>1</th>\n",
       "      <td>Fortnite</td>\n",
       "      <td>2016-10-17 00:00:00</td>\n",
       "      <td>7.061097e+06</td>\n",
       "      <td>1.348738e+04</td>\n",
       "      <td>5.252300e+04</td>\n",
       "      <td>265.875000</td>\n",
       "      <td>278.0</td>\n",
       "      <td>0.0</td>\n",
       "      <td>0.0</td>\n",
       "      <td>22400000.0</td>\n",
       "      <td>929.0</td>\n",
       "      <td>104.0</td>\n",
       "      <td>2.087</td>\n",
       "    </tr>\n",
       "    <tr>\n",
       "      <th>2</th>\n",
       "      <td>Fortnite</td>\n",
       "      <td>2016-10-24 00:00:00</td>\n",
       "      <td>7.073612e+06</td>\n",
       "      <td>1.251538e+04</td>\n",
       "      <td>5.278850e+04</td>\n",
       "      <td>265.500000</td>\n",
       "      <td>278.0</td>\n",
       "      <td>0.0</td>\n",
       "      <td>0.0</td>\n",
       "      <td>22400000.0</td>\n",
       "      <td>929.0</td>\n",
       "      <td>104.0</td>\n",
       "      <td>2.087</td>\n",
       "    </tr>\n",
       "    <tr>\n",
       "      <th>3</th>\n",
       "      <td>Fortnite</td>\n",
       "      <td>2016-10-30 23:00:00</td>\n",
       "      <td>7.086616e+06</td>\n",
       "      <td>1.300379e+04</td>\n",
       "      <td>5.316472e+04</td>\n",
       "      <td>376.215026</td>\n",
       "      <td>278.0</td>\n",
       "      <td>0.0</td>\n",
       "      <td>0.0</td>\n",
       "      <td>22400000.0</td>\n",
       "      <td>929.0</td>\n",
       "      <td>104.0</td>\n",
       "      <td>2.087</td>\n",
       "    </tr>\n",
       "    <tr>\n",
       "      <th>4</th>\n",
       "      <td>Fortnite</td>\n",
       "      <td>2016-11-06 23:00:00</td>\n",
       "      <td>7.112401e+06</td>\n",
       "      <td>2.578447e+04</td>\n",
       "      <td>5.414773e+04</td>\n",
       "      <td>983.019349</td>\n",
       "      <td>282.0</td>\n",
       "      <td>4.0</td>\n",
       "      <td>4.0</td>\n",
       "      <td>22400000.0</td>\n",
       "      <td>929.0</td>\n",
       "      <td>104.0</td>\n",
       "      <td>2.087</td>\n",
       "    </tr>\n",
       "    <tr>\n",
       "      <th>...</th>\n",
       "      <td>...</td>\n",
       "      <td>...</td>\n",
       "      <td>...</td>\n",
       "      <td>...</td>\n",
       "      <td>...</td>\n",
       "      <td>...</td>\n",
       "      <td>...</td>\n",
       "      <td>...</td>\n",
       "      <td>...</td>\n",
       "      <td>...</td>\n",
       "      <td>...</td>\n",
       "      <td>...</td>\n",
       "      <td>...</td>\n",
       "    </tr>\n",
       "    <tr>\n",
       "      <th>150</th>\n",
       "      <td>Fortnite</td>\n",
       "      <td>2019-08-26 00:00:00</td>\n",
       "      <td>1.925888e+09</td>\n",
       "      <td>6.314353e+06</td>\n",
       "      <td>2.237446e+07</td>\n",
       "      <td>26070.750000</td>\n",
       "      <td>919.0</td>\n",
       "      <td>2.0</td>\n",
       "      <td>6.0</td>\n",
       "      <td>22400000.0</td>\n",
       "      <td>929.0</td>\n",
       "      <td>104.0</td>\n",
       "      <td>2.087</td>\n",
       "    </tr>\n",
       "    <tr>\n",
       "      <th>151</th>\n",
       "      <td>Fortnite</td>\n",
       "      <td>2019-09-02 00:00:00</td>\n",
       "      <td>1.935571e+09</td>\n",
       "      <td>9.682280e+06</td>\n",
       "      <td>2.241391e+07</td>\n",
       "      <td>39453.750000</td>\n",
       "      <td>923.0</td>\n",
       "      <td>4.0</td>\n",
       "      <td>7.0</td>\n",
       "      <td>22400000.0</td>\n",
       "      <td>929.0</td>\n",
       "      <td>104.0</td>\n",
       "      <td>2.087</td>\n",
       "    </tr>\n",
       "    <tr>\n",
       "      <th>152</th>\n",
       "      <td>Fortnite</td>\n",
       "      <td>2019-09-09 00:00:00</td>\n",
       "      <td>1.938905e+09</td>\n",
       "      <td>3.334153e+06</td>\n",
       "      <td>2.241518e+07</td>\n",
       "      <td>1270.500000</td>\n",
       "      <td>924.0</td>\n",
       "      <td>1.0</td>\n",
       "      <td>6.0</td>\n",
       "      <td>22400000.0</td>\n",
       "      <td>929.0</td>\n",
       "      <td>104.0</td>\n",
       "      <td>2.087</td>\n",
       "    </tr>\n",
       "    <tr>\n",
       "      <th>153</th>\n",
       "      <td>Fortnite</td>\n",
       "      <td>2019-09-16 00:00:00</td>\n",
       "      <td>1.941802e+09</td>\n",
       "      <td>2.897669e+06</td>\n",
       "      <td>2.240384e+07</td>\n",
       "      <td>0.000000</td>\n",
       "      <td>925.0</td>\n",
       "      <td>1.0</td>\n",
       "      <td>3.0</td>\n",
       "      <td>22400000.0</td>\n",
       "      <td>929.0</td>\n",
       "      <td>104.0</td>\n",
       "      <td>2.087</td>\n",
       "    </tr>\n",
       "    <tr>\n",
       "      <th>154</th>\n",
       "      <td>Fortnite</td>\n",
       "      <td>2019-09-23 00:00:00</td>\n",
       "      <td>1.945332e+09</td>\n",
       "      <td>3.529308e+06</td>\n",
       "      <td>2.240000e+07</td>\n",
       "      <td>0.000000</td>\n",
       "      <td>928.0</td>\n",
       "      <td>3.0</td>\n",
       "      <td>4.0</td>\n",
       "      <td>22400000.0</td>\n",
       "      <td>929.0</td>\n",
       "      <td>104.0</td>\n",
       "      <td>2.087</td>\n",
       "    </tr>\n",
       "  </tbody>\n",
       "</table>\n",
       "<p>155 rows × 13 columns</p>\n",
       "</div>"
      ],
      "text/plain": [
       "    game_category            datetime         views   delta_views  \\\n",
       "0        Fortnite 2016-10-10 00:00:00  7.047610e+06  9.470625e+03   \n",
       "1        Fortnite 2016-10-17 00:00:00  7.061097e+06  1.348738e+04   \n",
       "2        Fortnite 2016-10-24 00:00:00  7.073612e+06  1.251538e+04   \n",
       "3        Fortnite 2016-10-30 23:00:00  7.086616e+06  1.300379e+04   \n",
       "4        Fortnite 2016-11-06 23:00:00  7.112401e+06  2.578447e+04   \n",
       "..            ...                 ...           ...           ...   \n",
       "150      Fortnite 2019-08-26 00:00:00  1.925888e+09  6.314353e+06   \n",
       "151      Fortnite 2019-09-02 00:00:00  1.935571e+09  9.682280e+06   \n",
       "152      Fortnite 2019-09-09 00:00:00  1.938905e+09  3.334153e+06   \n",
       "153      Fortnite 2019-09-16 00:00:00  1.941802e+09  2.897669e+06   \n",
       "154      Fortnite 2019-09-23 00:00:00  1.945332e+09  3.529308e+06   \n",
       "\n",
       "             subs    delta_subs  videos  delta_videos  activity  \\\n",
       "0    5.225712e+04      0.000000   278.0           0.0       0.0   \n",
       "1    5.252300e+04    265.875000   278.0           0.0       0.0   \n",
       "2    5.278850e+04    265.500000   278.0           0.0       0.0   \n",
       "3    5.316472e+04    376.215026   278.0           0.0       0.0   \n",
       "4    5.414773e+04    983.019349   282.0           4.0       4.0   \n",
       "..            ...           ...     ...           ...       ...   \n",
       "150  2.237446e+07  26070.750000   919.0           2.0       6.0   \n",
       "151  2.241391e+07  39453.750000   923.0           4.0       7.0   \n",
       "152  2.241518e+07   1270.500000   924.0           1.0       6.0   \n",
       "153  2.240384e+07      0.000000   925.0           1.0       3.0   \n",
       "154  2.240000e+07      0.000000   928.0           3.0       4.0   \n",
       "\n",
       "     subscribers_cc  videos_cc  subscriber_rank_sb  weights  \n",
       "0        22400000.0      929.0               104.0    2.087  \n",
       "1        22400000.0      929.0               104.0    2.087  \n",
       "2        22400000.0      929.0               104.0    2.087  \n",
       "3        22400000.0      929.0               104.0    2.087  \n",
       "4        22400000.0      929.0               104.0    2.087  \n",
       "..              ...        ...                 ...      ...  \n",
       "150      22400000.0      929.0               104.0    2.087  \n",
       "151      22400000.0      929.0               104.0    2.087  \n",
       "152      22400000.0      929.0               104.0    2.087  \n",
       "153      22400000.0      929.0               104.0    2.087  \n",
       "154      22400000.0      929.0               104.0    2.087  \n",
       "\n",
       "[155 rows x 13 columns]"
      ]
     },
     "metadata": {},
     "output_type": "display_data"
    },
    {
     "data": {
      "text/html": [
       "<div>\n",
       "<style scoped>\n",
       "    .dataframe tbody tr th:only-of-type {\n",
       "        vertical-align: middle;\n",
       "    }\n",
       "\n",
       "    .dataframe tbody tr th {\n",
       "        vertical-align: top;\n",
       "    }\n",
       "\n",
       "    .dataframe thead th {\n",
       "        text-align: right;\n",
       "    }\n",
       "</style>\n",
       "<table border=\"1\" class=\"dataframe\">\n",
       "  <thead>\n",
       "    <tr style=\"text-align: right;\">\n",
       "      <th></th>\n",
       "      <th>game_category</th>\n",
       "      <th>datetime</th>\n",
       "      <th>views</th>\n",
       "      <th>delta_views</th>\n",
       "      <th>subs</th>\n",
       "      <th>delta_subs</th>\n",
       "      <th>videos</th>\n",
       "      <th>delta_videos</th>\n",
       "      <th>activity</th>\n",
       "      <th>subscribers_cc</th>\n",
       "      <th>videos_cc</th>\n",
       "      <th>subscriber_rank_sb</th>\n",
       "      <th>weights</th>\n",
       "    </tr>\n",
       "  </thead>\n",
       "  <tbody>\n",
       "    <tr>\n",
       "      <th>155</th>\n",
       "      <td>PUBG</td>\n",
       "      <td>2016-10-10 00:00:00</td>\n",
       "      <td>6.480921e+06</td>\n",
       "      <td>5599.125000</td>\n",
       "      <td>164082.375000</td>\n",
       "      <td>0.000000</td>\n",
       "      <td>31.0</td>\n",
       "      <td>0.0</td>\n",
       "      <td>0.0</td>\n",
       "      <td>256000.0</td>\n",
       "      <td>58.0</td>\n",
       "      <td>65935.0</td>\n",
       "      <td>3.999</td>\n",
       "    </tr>\n",
       "    <tr>\n",
       "      <th>156</th>\n",
       "      <td>PUBG</td>\n",
       "      <td>2016-10-17 00:00:00</td>\n",
       "      <td>6.495188e+06</td>\n",
       "      <td>14267.125000</td>\n",
       "      <td>165174.750000</td>\n",
       "      <td>1092.375000</td>\n",
       "      <td>31.0</td>\n",
       "      <td>0.0</td>\n",
       "      <td>0.0</td>\n",
       "      <td>256000.0</td>\n",
       "      <td>58.0</td>\n",
       "      <td>65935.0</td>\n",
       "      <td>3.999</td>\n",
       "    </tr>\n",
       "    <tr>\n",
       "      <th>157</th>\n",
       "      <td>PUBG</td>\n",
       "      <td>2016-10-24 00:00:00</td>\n",
       "      <td>6.512070e+06</td>\n",
       "      <td>16881.439119</td>\n",
       "      <td>166712.658031</td>\n",
       "      <td>1537.908031</td>\n",
       "      <td>31.0</td>\n",
       "      <td>0.0</td>\n",
       "      <td>0.0</td>\n",
       "      <td>256000.0</td>\n",
       "      <td>58.0</td>\n",
       "      <td>65935.0</td>\n",
       "      <td>3.999</td>\n",
       "    </tr>\n",
       "    <tr>\n",
       "      <th>158</th>\n",
       "      <td>PUBG</td>\n",
       "      <td>2016-10-30 23:00:00</td>\n",
       "      <td>6.526600e+06</td>\n",
       "      <td>14529.823834</td>\n",
       "      <td>167676.264249</td>\n",
       "      <td>963.606218</td>\n",
       "      <td>31.0</td>\n",
       "      <td>0.0</td>\n",
       "      <td>0.0</td>\n",
       "      <td>256000.0</td>\n",
       "      <td>58.0</td>\n",
       "      <td>65935.0</td>\n",
       "      <td>3.999</td>\n",
       "    </tr>\n",
       "    <tr>\n",
       "      <th>159</th>\n",
       "      <td>PUBG</td>\n",
       "      <td>2016-11-06 23:00:00</td>\n",
       "      <td>6.541634e+06</td>\n",
       "      <td>15034.726630</td>\n",
       "      <td>168805.770833</td>\n",
       "      <td>1129.506585</td>\n",
       "      <td>31.0</td>\n",
       "      <td>0.0</td>\n",
       "      <td>0.0</td>\n",
       "      <td>256000.0</td>\n",
       "      <td>58.0</td>\n",
       "      <td>65935.0</td>\n",
       "      <td>3.999</td>\n",
       "    </tr>\n",
       "    <tr>\n",
       "      <th>...</th>\n",
       "      <td>...</td>\n",
       "      <td>...</td>\n",
       "      <td>...</td>\n",
       "      <td>...</td>\n",
       "      <td>...</td>\n",
       "      <td>...</td>\n",
       "      <td>...</td>\n",
       "      <td>...</td>\n",
       "      <td>...</td>\n",
       "      <td>...</td>\n",
       "      <td>...</td>\n",
       "      <td>...</td>\n",
       "      <td>...</td>\n",
       "    </tr>\n",
       "    <tr>\n",
       "      <th>305</th>\n",
       "      <td>PUBG</td>\n",
       "      <td>2019-08-26 00:00:00</td>\n",
       "      <td>7.726160e+06</td>\n",
       "      <td>8521.625000</td>\n",
       "      <td>256783.750000</td>\n",
       "      <td>0.000000</td>\n",
       "      <td>54.0</td>\n",
       "      <td>0.0</td>\n",
       "      <td>0.0</td>\n",
       "      <td>256000.0</td>\n",
       "      <td>58.0</td>\n",
       "      <td>65935.0</td>\n",
       "      <td>3.999</td>\n",
       "    </tr>\n",
       "    <tr>\n",
       "      <th>306</th>\n",
       "      <td>PUBG</td>\n",
       "      <td>2019-09-02 00:00:00</td>\n",
       "      <td>7.734498e+06</td>\n",
       "      <td>8337.875000</td>\n",
       "      <td>256641.000000</td>\n",
       "      <td>0.000000</td>\n",
       "      <td>54.0</td>\n",
       "      <td>0.0</td>\n",
       "      <td>0.0</td>\n",
       "      <td>256000.0</td>\n",
       "      <td>58.0</td>\n",
       "      <td>65935.0</td>\n",
       "      <td>3.999</td>\n",
       "    </tr>\n",
       "    <tr>\n",
       "      <th>307</th>\n",
       "      <td>PUBG</td>\n",
       "      <td>2019-09-09 00:00:00</td>\n",
       "      <td>7.743163e+06</td>\n",
       "      <td>8664.875000</td>\n",
       "      <td>256503.500000</td>\n",
       "      <td>0.000000</td>\n",
       "      <td>54.0</td>\n",
       "      <td>0.0</td>\n",
       "      <td>0.0</td>\n",
       "      <td>256000.0</td>\n",
       "      <td>58.0</td>\n",
       "      <td>65935.0</td>\n",
       "      <td>3.999</td>\n",
       "    </tr>\n",
       "    <tr>\n",
       "      <th>308</th>\n",
       "      <td>PUBG</td>\n",
       "      <td>2019-09-16 00:00:00</td>\n",
       "      <td>7.751091e+06</td>\n",
       "      <td>7928.375000</td>\n",
       "      <td>256304.500000</td>\n",
       "      <td>0.000000</td>\n",
       "      <td>54.0</td>\n",
       "      <td>0.0</td>\n",
       "      <td>0.0</td>\n",
       "      <td>256000.0</td>\n",
       "      <td>58.0</td>\n",
       "      <td>65935.0</td>\n",
       "      <td>3.999</td>\n",
       "    </tr>\n",
       "    <tr>\n",
       "      <th>309</th>\n",
       "      <td>PUBG</td>\n",
       "      <td>2019-09-23 00:00:00</td>\n",
       "      <td>7.776039e+06</td>\n",
       "      <td>24947.607143</td>\n",
       "      <td>256142.857143</td>\n",
       "      <td>0.000000</td>\n",
       "      <td>54.0</td>\n",
       "      <td>0.0</td>\n",
       "      <td>0.0</td>\n",
       "      <td>256000.0</td>\n",
       "      <td>58.0</td>\n",
       "      <td>65935.0</td>\n",
       "      <td>3.999</td>\n",
       "    </tr>\n",
       "  </tbody>\n",
       "</table>\n",
       "<p>155 rows × 13 columns</p>\n",
       "</div>"
      ],
      "text/plain": [
       "    game_category            datetime         views   delta_views  \\\n",
       "155          PUBG 2016-10-10 00:00:00  6.480921e+06   5599.125000   \n",
       "156          PUBG 2016-10-17 00:00:00  6.495188e+06  14267.125000   \n",
       "157          PUBG 2016-10-24 00:00:00  6.512070e+06  16881.439119   \n",
       "158          PUBG 2016-10-30 23:00:00  6.526600e+06  14529.823834   \n",
       "159          PUBG 2016-11-06 23:00:00  6.541634e+06  15034.726630   \n",
       "..            ...                 ...           ...           ...   \n",
       "305          PUBG 2019-08-26 00:00:00  7.726160e+06   8521.625000   \n",
       "306          PUBG 2019-09-02 00:00:00  7.734498e+06   8337.875000   \n",
       "307          PUBG 2019-09-09 00:00:00  7.743163e+06   8664.875000   \n",
       "308          PUBG 2019-09-16 00:00:00  7.751091e+06   7928.375000   \n",
       "309          PUBG 2019-09-23 00:00:00  7.776039e+06  24947.607143   \n",
       "\n",
       "              subs   delta_subs  videos  delta_videos  activity  \\\n",
       "155  164082.375000     0.000000    31.0           0.0       0.0   \n",
       "156  165174.750000  1092.375000    31.0           0.0       0.0   \n",
       "157  166712.658031  1537.908031    31.0           0.0       0.0   \n",
       "158  167676.264249   963.606218    31.0           0.0       0.0   \n",
       "159  168805.770833  1129.506585    31.0           0.0       0.0   \n",
       "..             ...          ...     ...           ...       ...   \n",
       "305  256783.750000     0.000000    54.0           0.0       0.0   \n",
       "306  256641.000000     0.000000    54.0           0.0       0.0   \n",
       "307  256503.500000     0.000000    54.0           0.0       0.0   \n",
       "308  256304.500000     0.000000    54.0           0.0       0.0   \n",
       "309  256142.857143     0.000000    54.0           0.0       0.0   \n",
       "\n",
       "     subscribers_cc  videos_cc  subscriber_rank_sb  weights  \n",
       "155        256000.0       58.0             65935.0    3.999  \n",
       "156        256000.0       58.0             65935.0    3.999  \n",
       "157        256000.0       58.0             65935.0    3.999  \n",
       "158        256000.0       58.0             65935.0    3.999  \n",
       "159        256000.0       58.0             65935.0    3.999  \n",
       "..              ...        ...                 ...      ...  \n",
       "305        256000.0       58.0             65935.0    3.999  \n",
       "306        256000.0       58.0             65935.0    3.999  \n",
       "307        256000.0       58.0             65935.0    3.999  \n",
       "308        256000.0       58.0             65935.0    3.999  \n",
       "309        256000.0       58.0             65935.0    3.999  \n",
       "\n",
       "[155 rows x 13 columns]"
      ]
     },
     "metadata": {},
     "output_type": "display_data"
    },
    {
     "data": {
      "application/vnd.plotly.v1+json": {
       "config": {
        "plotlyServerURL": "https://plot.ly"
       },
       "data": [
        {
         "mode": "lines",
         "name": "Fortnite",
         "type": "scatter",
         "x": [
          "2016-10-10T00:00:00",
          "2016-10-17T00:00:00",
          "2016-10-24T00:00:00",
          "2016-10-30T23:00:00",
          "2016-11-06T23:00:00",
          "2016-11-13T23:00:00",
          "2016-11-20T23:00:00",
          "2016-11-27T23:00:00",
          "2016-12-04T23:00:00",
          "2016-12-11T23:00:00",
          "2016-12-18T23:00:00",
          "2016-12-25T23:00:00",
          "2017-01-01T23:00:00",
          "2017-01-08T23:00:00",
          "2017-01-15T23:00:00",
          "2017-01-22T23:00:00",
          "2017-01-29T23:00:00",
          "2017-02-05T23:00:00",
          "2017-02-12T23:00:00",
          "2017-02-19T23:00:00",
          "2017-02-26T23:00:00",
          "2017-03-05T23:00:00",
          "2017-03-12T23:00:00",
          "2017-03-19T23:00:00",
          "2017-03-27T00:00:00",
          "2017-04-03T00:00:00",
          "2017-04-10T00:00:00",
          "2017-04-17T00:00:00",
          "2017-04-24T00:00:00",
          "2017-05-01T00:00:00",
          "2017-05-08T00:00:00",
          "2017-05-15T00:00:00",
          "2017-05-22T00:00:00",
          "2017-05-29T00:00:00",
          "2017-06-05T00:00:00",
          "2017-06-12T00:00:00",
          "2017-06-19T00:00:00",
          "2017-06-26T00:00:00",
          "2017-07-03T00:00:00",
          "2017-07-10T00:00:00",
          "2017-07-17T00:00:00",
          "2017-07-24T00:00:00",
          "2017-07-31T00:00:00",
          "2017-08-07T00:00:00",
          "2017-08-14T00:00:00",
          "2017-08-21T00:00:00",
          "2017-08-28T00:00:00",
          "2017-09-04T00:00:00",
          "2017-09-11T00:00:00",
          "2017-09-18T00:00:00",
          "2017-09-25T00:00:00",
          "2017-10-02T00:00:00",
          "2017-10-09T00:00:00",
          "2017-10-16T00:00:00",
          "2017-10-23T00:00:00",
          "2017-10-29T23:00:00",
          "2017-11-05T23:00:00",
          "2017-11-12T23:00:00",
          "2017-11-19T23:00:00",
          "2017-11-26T23:00:00",
          "2017-12-03T23:00:00",
          "2017-12-10T23:00:00",
          "2017-12-17T23:00:00",
          "2017-12-24T23:00:00",
          "2017-12-31T23:00:00",
          "2018-01-07T23:00:00",
          "2018-01-14T23:00:00",
          "2018-01-21T23:00:00",
          "2018-01-28T23:00:00",
          "2018-02-04T23:00:00",
          "2018-02-11T23:00:00",
          "2018-02-18T23:00:00",
          "2018-02-25T23:00:00",
          "2018-03-04T23:00:00",
          "2018-03-11T23:00:00",
          "2018-03-18T23:00:00",
          "2018-03-26T00:00:00",
          "2018-04-02T00:00:00",
          "2018-04-09T00:00:00",
          "2018-04-16T00:00:00",
          "2018-04-23T00:00:00",
          "2018-04-30T00:00:00",
          "2018-05-07T00:00:00",
          "2018-05-14T00:00:00",
          "2018-05-21T00:00:00",
          "2018-05-28T00:00:00",
          "2018-06-04T00:00:00",
          "2018-06-11T00:00:00",
          "2018-06-18T00:00:00",
          "2018-06-25T00:00:00",
          "2018-07-02T00:00:00",
          "2018-07-09T00:00:00",
          "2018-07-16T00:00:00",
          "2018-07-23T00:00:00",
          "2018-07-30T00:00:00",
          "2018-08-06T00:00:00",
          "2018-08-13T00:00:00",
          "2018-08-20T00:00:00",
          "2018-08-27T00:00:00",
          "2018-09-03T00:00:00",
          "2018-09-10T00:00:00",
          "2018-09-17T00:00:00",
          "2018-09-24T00:00:00",
          "2018-10-01T00:00:00",
          "2018-10-08T00:00:00",
          "2018-10-15T00:00:00",
          "2018-10-22T00:00:00",
          "2018-10-28T23:00:00",
          "2018-11-04T23:00:00",
          "2018-11-11T23:00:00",
          "2018-11-18T23:00:00",
          "2018-11-25T23:00:00",
          "2018-12-02T23:00:00",
          "2018-12-09T23:00:00",
          "2018-12-16T23:00:00",
          "2018-12-23T23:00:00",
          "2018-12-30T23:00:00",
          "2019-01-06T23:00:00",
          "2019-01-13T23:00:00",
          "2019-01-20T23:00:00",
          "2019-01-27T23:00:00",
          "2019-02-03T23:00:00",
          "2019-02-10T23:00:00",
          "2019-02-17T23:00:00",
          "2019-02-24T23:00:00",
          "2019-03-03T23:00:00",
          "2019-03-10T23:00:00",
          "2019-03-17T23:00:00",
          "2019-03-24T23:00:00",
          "2019-04-01T00:00:00",
          "2019-04-08T00:00:00",
          "2019-04-15T00:00:00",
          "2019-04-22T00:00:00",
          "2019-04-29T00:00:00",
          "2019-05-06T00:00:00",
          "2019-05-13T00:00:00",
          "2019-05-20T00:00:00",
          "2019-05-27T00:00:00",
          "2019-06-03T00:00:00",
          "2019-06-10T00:00:00",
          "2019-06-17T00:00:00",
          "2019-06-24T00:00:00",
          "2019-07-01T00:00:00",
          "2019-07-08T00:00:00",
          "2019-07-15T00:00:00",
          "2019-07-22T00:00:00",
          "2019-07-29T00:00:00",
          "2019-08-05T00:00:00",
          "2019-08-12T00:00:00",
          "2019-08-19T00:00:00",
          "2019-08-26T00:00:00",
          "2019-09-02T00:00:00",
          "2019-09-09T00:00:00",
          "2019-09-16T00:00:00",
          "2019-09-23T00:00:00"
         ],
         "y": [
          0,
          265.875,
          265.5,
          376.21502590673487,
          983.0193490932652,
          2795.625,
          1720.5625,
          1300.765625,
          1160.3229166666642,
          1112.953125,
          943.921875,
          708.28125,
          690.9583333333358,
          987,
          683.4427083333285,
          805.2604166666714,
          1671.6510416666715,
          2930.90625,
          4718.807291666657,
          6198.75,
          6048.020833333344,
          5193.125,
          3795.369791666657,
          4000.010416666672,
          3042.2799410994776,
          2213.2513089005224,
          1944.125,
          2000.875,
          1995.25,
          2017.75,
          2226,
          1684.5,
          1536.75,
          1348.75,
          1361.125,
          1559.875,
          1540.75,
          1167.25,
          1252.125,
          1144.875,
          1052.625,
          983.375,
          971.75,
          1083,
          1274.875,
          1117.375,
          1784.125,
          1472.875,
          1039.75,
          813.75,
          835.5,
          972.25,
          1459.25,
          3867.5,
          7623.875,
          11066.90738341969,
          9768.535324913651,
          10795.697916666655,
          10656.421875,
          12124.552083333345,
          22763.005208333318,
          32277.87500000003,
          26071.911458333318,
          44256.822916666686,
          70424.99479166663,
          94655.43229166669,
          132688.02604166663,
          217797.71875,
          344627.6041666666,
          354563.125,
          440637.70833333326,
          492246.578125,
          625955.4583333335,
          640418.5833333335,
          661926.1718749995,
          776449.2083333341,
          891824.4513797994,
          866344.3350785337,
          806731.625,
          683438.375,
          682718.25,
          646410.25,
          671432.125,
          717993.875,
          618353.25,
          486113.25,
          461046.25,
          487654.75,
          489185.125,
          434961.375,
          383890.875,
          375643.125,
          384501.375,
          335887.125,
          305915.75,
          311960,
          305314.25,
          348077,
          380794.625,
          352976.125,
          280483.375,
          229796.875,
          225589.875,
          217397.625,
          211268.5,
          210907,
          207291.625,
          190596.2652077153,
          164769.11572700366,
          160661.619065281,
          147443.4375,
          130777.5,
          126786.89583333208,
          149168.56770833582,
          98326.41145833208,
          131962.58854166788,
          181813.32291666412,
          177568.79166666788,
          140985.06770833212,
          127309,
          114060.33333333582,
          128756.921875,
          78006.43229166418,
          53856.54166666791,
          52375.296875,
          61186.24479166791,
          80132.77083333209,
          61026,
          43612.77083333209,
          42121.90848603845,
          28611.820680629466,
          25287.25,
          28441,
          29711,
          28124.875,
          32895.625,
          31673.25,
          22131.75,
          19207.125,
          23518.375,
          27095.875,
          22946.375,
          12123.625,
          8304.625,
          11665.5,
          19062,
          43598.5,
          45015,
          28502.25,
          17090.25,
          26070.75,
          39453.75,
          1270.5,
          0,
          0
         ]
        },
        {
         "mode": "lines",
         "name": "PUBG",
         "type": "scatter",
         "x": [
          "2016-10-10T00:00:00",
          "2016-10-17T00:00:00",
          "2016-10-24T00:00:00",
          "2016-10-30T23:00:00",
          "2016-11-06T23:00:00",
          "2016-11-13T23:00:00",
          "2016-11-20T23:00:00",
          "2016-11-27T23:00:00",
          "2016-12-04T23:00:00",
          "2016-12-11T23:00:00",
          "2016-12-18T23:00:00",
          "2016-12-25T23:00:00",
          "2017-01-01T23:00:00",
          "2017-01-08T23:00:00",
          "2017-01-15T23:00:00",
          "2017-01-22T23:00:00",
          "2017-01-29T23:00:00",
          "2017-02-05T23:00:00",
          "2017-02-12T23:00:00",
          "2017-02-19T23:00:00",
          "2017-02-26T23:00:00",
          "2017-03-05T23:00:00",
          "2017-03-12T23:00:00",
          "2017-03-19T23:00:00",
          "2017-03-27T00:00:00",
          "2017-04-03T00:00:00",
          "2017-04-10T00:00:00",
          "2017-04-17T00:00:00",
          "2017-04-24T00:00:00",
          "2017-05-01T00:00:00",
          "2017-05-08T00:00:00",
          "2017-05-15T00:00:00",
          "2017-05-22T00:00:00",
          "2017-05-29T00:00:00",
          "2017-06-05T00:00:00",
          "2017-06-12T00:00:00",
          "2017-06-19T00:00:00",
          "2017-06-26T00:00:00",
          "2017-07-03T00:00:00",
          "2017-07-10T00:00:00",
          "2017-07-17T00:00:00",
          "2017-07-24T00:00:00",
          "2017-07-31T00:00:00",
          "2017-08-07T00:00:00",
          "2017-08-14T00:00:00",
          "2017-08-21T00:00:00",
          "2017-08-28T00:00:00",
          "2017-09-04T00:00:00",
          "2017-09-11T00:00:00",
          "2017-09-18T00:00:00",
          "2017-09-25T00:00:00",
          "2017-10-02T00:00:00",
          "2017-10-09T00:00:00",
          "2017-10-16T00:00:00",
          "2017-10-23T00:00:00",
          "2017-10-29T23:00:00",
          "2017-11-05T23:00:00",
          "2017-11-12T23:00:00",
          "2017-11-19T23:00:00",
          "2017-11-26T23:00:00",
          "2017-12-03T23:00:00",
          "2017-12-10T23:00:00",
          "2017-12-17T23:00:00",
          "2017-12-24T23:00:00",
          "2017-12-31T23:00:00",
          "2018-01-07T23:00:00",
          "2018-01-14T23:00:00",
          "2018-01-21T23:00:00",
          "2018-01-28T23:00:00",
          "2018-02-04T23:00:00",
          "2018-02-11T23:00:00",
          "2018-02-18T23:00:00",
          "2018-02-25T23:00:00",
          "2018-03-04T23:00:00",
          "2018-03-11T23:00:00",
          "2018-03-18T23:00:00",
          "2018-03-26T00:00:00",
          "2018-04-02T00:00:00",
          "2018-04-09T00:00:00",
          "2018-04-16T00:00:00",
          "2018-04-23T00:00:00",
          "2018-04-30T00:00:00",
          "2018-05-07T00:00:00",
          "2018-05-14T00:00:00",
          "2018-05-21T00:00:00",
          "2018-05-28T00:00:00",
          "2018-06-04T00:00:00",
          "2018-06-11T00:00:00",
          "2018-06-18T00:00:00",
          "2018-06-25T00:00:00",
          "2018-07-02T00:00:00",
          "2018-07-09T00:00:00",
          "2018-07-16T00:00:00",
          "2018-07-23T00:00:00",
          "2018-07-30T00:00:00",
          "2018-08-06T00:00:00",
          "2018-08-13T00:00:00",
          "2018-08-20T00:00:00",
          "2018-08-27T00:00:00",
          "2018-09-03T00:00:00",
          "2018-09-10T00:00:00",
          "2018-09-17T00:00:00",
          "2018-09-24T00:00:00",
          "2018-10-01T00:00:00",
          "2018-10-08T00:00:00",
          "2018-10-15T00:00:00",
          "2018-10-22T00:00:00",
          "2018-10-28T23:00:00",
          "2018-11-04T23:00:00",
          "2018-11-11T23:00:00",
          "2018-11-18T23:00:00",
          "2018-11-25T23:00:00",
          "2018-12-02T23:00:00",
          "2018-12-09T23:00:00",
          "2018-12-16T23:00:00",
          "2018-12-23T23:00:00",
          "2018-12-30T23:00:00",
          "2019-01-06T23:00:00",
          "2019-01-13T23:00:00",
          "2019-01-20T23:00:00",
          "2019-01-27T23:00:00",
          "2019-02-03T23:00:00",
          "2019-02-10T23:00:00",
          "2019-02-17T23:00:00",
          "2019-02-24T23:00:00",
          "2019-03-03T23:00:00",
          "2019-03-10T23:00:00",
          "2019-03-17T23:00:00",
          "2019-03-24T23:00:00",
          "2019-04-01T00:00:00",
          "2019-04-08T00:00:00",
          "2019-04-15T00:00:00",
          "2019-04-22T00:00:00",
          "2019-04-29T00:00:00",
          "2019-05-06T00:00:00",
          "2019-05-13T00:00:00",
          "2019-05-20T00:00:00",
          "2019-05-27T00:00:00",
          "2019-06-03T00:00:00",
          "2019-06-10T00:00:00",
          "2019-06-17T00:00:00",
          "2019-06-24T00:00:00",
          "2019-07-01T00:00:00",
          "2019-07-08T00:00:00",
          "2019-07-15T00:00:00",
          "2019-07-22T00:00:00",
          "2019-07-29T00:00:00",
          "2019-08-05T00:00:00",
          "2019-08-12T00:00:00",
          "2019-08-19T00:00:00",
          "2019-08-26T00:00:00",
          "2019-09-02T00:00:00",
          "2019-09-09T00:00:00",
          "2019-09-16T00:00:00",
          "2019-09-23T00:00:00"
         ],
         "y": [
          0,
          1092.375,
          1537.9080310880963,
          963.6062176165576,
          1129.5065846286889,
          951.75,
          1088.463541666657,
          1061.140625,
          932.270833333343,
          839.875,
          785.994791666657,
          732.375,
          864.583333333343,
          799.088541666657,
          801.135416666657,
          856.2291666666861,
          752.619791666657,
          585.3177083333429,
          655.1458333333139,
          670.25,
          1146.0260416666858,
          1161.5364583333142,
          1302.583333333343,
          1239.515625,
          996.1396433245972,
          743.4384816754027,
          675.5,
          964.25,
          1464.75,
          918.75,
          784.625,
          699.875,
          754.625,
          867.375,
          807.625,
          865.375,
          735.875,
          730.625,
          779.125,
          792.375,
          875.25,
          1005.5,
          1049.75,
          1116.5,
          1064,
          1021.25,
          799.125,
          779.125,
          825.625,
          782.125,
          673.5,
          614.25,
          1046.5,
          1237.75,
          1127.75,
          1010.6269430051908,
          1137.5761819948093,
          1337.625,
          1235.614583333343,
          1164.625,
          1340.322916666657,
          1263.916666666657,
          1375.572916666686,
          1397.9322916666572,
          1422.8333333333428,
          1488.96875,
          1525.09375,
          1729,
          3163.2864583333144,
          2859.0625,
          1994.307291666686,
          1745.8541666666572,
          1804.2239583333428,
          1718.4947916666572,
          1505.0104166666572,
          1394.75,
          1557.6423974694626,
          1647.659685863881,
          1396.875,
          1777.125,
          1772.625,
          1179.375,
          892.75,
          684.25,
          699.125,
          617.375,
          531.875,
          439.125,
          399.375,
          422.375,
          458.5,
          495.25,
          226.625,
          155.375,
          144.125,
          193.875,
          216.375,
          179.125,
          140.875,
          177.625,
          94.5,
          0,
          15.625,
          42.875,
          0,
          0,
          0,
          0,
          0,
          0,
          0,
          0,
          0,
          0,
          0,
          0,
          0,
          0,
          0,
          0,
          0,
          0,
          0,
          0,
          0,
          0,
          0,
          0,
          0,
          0,
          0,
          0,
          0,
          0,
          0,
          0,
          0,
          0,
          0,
          0,
          0,
          0,
          0,
          0,
          0,
          0,
          0,
          0,
          0,
          0,
          0,
          0,
          0,
          0,
          0
         ]
        }
       ],
       "layout": {
        "showlegend": true,
        "template": {
         "data": {
          "bar": [
           {
            "error_x": {
             "color": "#2a3f5f"
            },
            "error_y": {
             "color": "#2a3f5f"
            },
            "marker": {
             "line": {
              "color": "#E5ECF6",
              "width": 0.5
             },
             "pattern": {
              "fillmode": "overlay",
              "size": 10,
              "solidity": 0.2
             }
            },
            "type": "bar"
           }
          ],
          "barpolar": [
           {
            "marker": {
             "line": {
              "color": "#E5ECF6",
              "width": 0.5
             },
             "pattern": {
              "fillmode": "overlay",
              "size": 10,
              "solidity": 0.2
             }
            },
            "type": "barpolar"
           }
          ],
          "carpet": [
           {
            "aaxis": {
             "endlinecolor": "#2a3f5f",
             "gridcolor": "white",
             "linecolor": "white",
             "minorgridcolor": "white",
             "startlinecolor": "#2a3f5f"
            },
            "baxis": {
             "endlinecolor": "#2a3f5f",
             "gridcolor": "white",
             "linecolor": "white",
             "minorgridcolor": "white",
             "startlinecolor": "#2a3f5f"
            },
            "type": "carpet"
           }
          ],
          "choropleth": [
           {
            "colorbar": {
             "outlinewidth": 0,
             "ticks": ""
            },
            "type": "choropleth"
           }
          ],
          "contour": [
           {
            "colorbar": {
             "outlinewidth": 0,
             "ticks": ""
            },
            "colorscale": [
             [
              0,
              "#0d0887"
             ],
             [
              0.1111111111111111,
              "#46039f"
             ],
             [
              0.2222222222222222,
              "#7201a8"
             ],
             [
              0.3333333333333333,
              "#9c179e"
             ],
             [
              0.4444444444444444,
              "#bd3786"
             ],
             [
              0.5555555555555556,
              "#d8576b"
             ],
             [
              0.6666666666666666,
              "#ed7953"
             ],
             [
              0.7777777777777778,
              "#fb9f3a"
             ],
             [
              0.8888888888888888,
              "#fdca26"
             ],
             [
              1,
              "#f0f921"
             ]
            ],
            "type": "contour"
           }
          ],
          "contourcarpet": [
           {
            "colorbar": {
             "outlinewidth": 0,
             "ticks": ""
            },
            "type": "contourcarpet"
           }
          ],
          "heatmap": [
           {
            "colorbar": {
             "outlinewidth": 0,
             "ticks": ""
            },
            "colorscale": [
             [
              0,
              "#0d0887"
             ],
             [
              0.1111111111111111,
              "#46039f"
             ],
             [
              0.2222222222222222,
              "#7201a8"
             ],
             [
              0.3333333333333333,
              "#9c179e"
             ],
             [
              0.4444444444444444,
              "#bd3786"
             ],
             [
              0.5555555555555556,
              "#d8576b"
             ],
             [
              0.6666666666666666,
              "#ed7953"
             ],
             [
              0.7777777777777778,
              "#fb9f3a"
             ],
             [
              0.8888888888888888,
              "#fdca26"
             ],
             [
              1,
              "#f0f921"
             ]
            ],
            "type": "heatmap"
           }
          ],
          "heatmapgl": [
           {
            "colorbar": {
             "outlinewidth": 0,
             "ticks": ""
            },
            "colorscale": [
             [
              0,
              "#0d0887"
             ],
             [
              0.1111111111111111,
              "#46039f"
             ],
             [
              0.2222222222222222,
              "#7201a8"
             ],
             [
              0.3333333333333333,
              "#9c179e"
             ],
             [
              0.4444444444444444,
              "#bd3786"
             ],
             [
              0.5555555555555556,
              "#d8576b"
             ],
             [
              0.6666666666666666,
              "#ed7953"
             ],
             [
              0.7777777777777778,
              "#fb9f3a"
             ],
             [
              0.8888888888888888,
              "#fdca26"
             ],
             [
              1,
              "#f0f921"
             ]
            ],
            "type": "heatmapgl"
           }
          ],
          "histogram": [
           {
            "marker": {
             "pattern": {
              "fillmode": "overlay",
              "size": 10,
              "solidity": 0.2
             }
            },
            "type": "histogram"
           }
          ],
          "histogram2d": [
           {
            "colorbar": {
             "outlinewidth": 0,
             "ticks": ""
            },
            "colorscale": [
             [
              0,
              "#0d0887"
             ],
             [
              0.1111111111111111,
              "#46039f"
             ],
             [
              0.2222222222222222,
              "#7201a8"
             ],
             [
              0.3333333333333333,
              "#9c179e"
             ],
             [
              0.4444444444444444,
              "#bd3786"
             ],
             [
              0.5555555555555556,
              "#d8576b"
             ],
             [
              0.6666666666666666,
              "#ed7953"
             ],
             [
              0.7777777777777778,
              "#fb9f3a"
             ],
             [
              0.8888888888888888,
              "#fdca26"
             ],
             [
              1,
              "#f0f921"
             ]
            ],
            "type": "histogram2d"
           }
          ],
          "histogram2dcontour": [
           {
            "colorbar": {
             "outlinewidth": 0,
             "ticks": ""
            },
            "colorscale": [
             [
              0,
              "#0d0887"
             ],
             [
              0.1111111111111111,
              "#46039f"
             ],
             [
              0.2222222222222222,
              "#7201a8"
             ],
             [
              0.3333333333333333,
              "#9c179e"
             ],
             [
              0.4444444444444444,
              "#bd3786"
             ],
             [
              0.5555555555555556,
              "#d8576b"
             ],
             [
              0.6666666666666666,
              "#ed7953"
             ],
             [
              0.7777777777777778,
              "#fb9f3a"
             ],
             [
              0.8888888888888888,
              "#fdca26"
             ],
             [
              1,
              "#f0f921"
             ]
            ],
            "type": "histogram2dcontour"
           }
          ],
          "mesh3d": [
           {
            "colorbar": {
             "outlinewidth": 0,
             "ticks": ""
            },
            "type": "mesh3d"
           }
          ],
          "parcoords": [
           {
            "line": {
             "colorbar": {
              "outlinewidth": 0,
              "ticks": ""
             }
            },
            "type": "parcoords"
           }
          ],
          "pie": [
           {
            "automargin": true,
            "type": "pie"
           }
          ],
          "scatter": [
           {
            "fillpattern": {
             "fillmode": "overlay",
             "size": 10,
             "solidity": 0.2
            },
            "type": "scatter"
           }
          ],
          "scatter3d": [
           {
            "line": {
             "colorbar": {
              "outlinewidth": 0,
              "ticks": ""
             }
            },
            "marker": {
             "colorbar": {
              "outlinewidth": 0,
              "ticks": ""
             }
            },
            "type": "scatter3d"
           }
          ],
          "scattercarpet": [
           {
            "marker": {
             "colorbar": {
              "outlinewidth": 0,
              "ticks": ""
             }
            },
            "type": "scattercarpet"
           }
          ],
          "scattergeo": [
           {
            "marker": {
             "colorbar": {
              "outlinewidth": 0,
              "ticks": ""
             }
            },
            "type": "scattergeo"
           }
          ],
          "scattergl": [
           {
            "marker": {
             "colorbar": {
              "outlinewidth": 0,
              "ticks": ""
             }
            },
            "type": "scattergl"
           }
          ],
          "scattermapbox": [
           {
            "marker": {
             "colorbar": {
              "outlinewidth": 0,
              "ticks": ""
             }
            },
            "type": "scattermapbox"
           }
          ],
          "scatterpolar": [
           {
            "marker": {
             "colorbar": {
              "outlinewidth": 0,
              "ticks": ""
             }
            },
            "type": "scatterpolar"
           }
          ],
          "scatterpolargl": [
           {
            "marker": {
             "colorbar": {
              "outlinewidth": 0,
              "ticks": ""
             }
            },
            "type": "scatterpolargl"
           }
          ],
          "scatterternary": [
           {
            "marker": {
             "colorbar": {
              "outlinewidth": 0,
              "ticks": ""
             }
            },
            "type": "scatterternary"
           }
          ],
          "surface": [
           {
            "colorbar": {
             "outlinewidth": 0,
             "ticks": ""
            },
            "colorscale": [
             [
              0,
              "#0d0887"
             ],
             [
              0.1111111111111111,
              "#46039f"
             ],
             [
              0.2222222222222222,
              "#7201a8"
             ],
             [
              0.3333333333333333,
              "#9c179e"
             ],
             [
              0.4444444444444444,
              "#bd3786"
             ],
             [
              0.5555555555555556,
              "#d8576b"
             ],
             [
              0.6666666666666666,
              "#ed7953"
             ],
             [
              0.7777777777777778,
              "#fb9f3a"
             ],
             [
              0.8888888888888888,
              "#fdca26"
             ],
             [
              1,
              "#f0f921"
             ]
            ],
            "type": "surface"
           }
          ],
          "table": [
           {
            "cells": {
             "fill": {
              "color": "#EBF0F8"
             },
             "line": {
              "color": "white"
             }
            },
            "header": {
             "fill": {
              "color": "#C8D4E3"
             },
             "line": {
              "color": "white"
             }
            },
            "type": "table"
           }
          ]
         },
         "layout": {
          "annotationdefaults": {
           "arrowcolor": "#2a3f5f",
           "arrowhead": 0,
           "arrowwidth": 1
          },
          "autotypenumbers": "strict",
          "coloraxis": {
           "colorbar": {
            "outlinewidth": 0,
            "ticks": ""
           }
          },
          "colorscale": {
           "diverging": [
            [
             0,
             "#8e0152"
            ],
            [
             0.1,
             "#c51b7d"
            ],
            [
             0.2,
             "#de77ae"
            ],
            [
             0.3,
             "#f1b6da"
            ],
            [
             0.4,
             "#fde0ef"
            ],
            [
             0.5,
             "#f7f7f7"
            ],
            [
             0.6,
             "#e6f5d0"
            ],
            [
             0.7,
             "#b8e186"
            ],
            [
             0.8,
             "#7fbc41"
            ],
            [
             0.9,
             "#4d9221"
            ],
            [
             1,
             "#276419"
            ]
           ],
           "sequential": [
            [
             0,
             "#0d0887"
            ],
            [
             0.1111111111111111,
             "#46039f"
            ],
            [
             0.2222222222222222,
             "#7201a8"
            ],
            [
             0.3333333333333333,
             "#9c179e"
            ],
            [
             0.4444444444444444,
             "#bd3786"
            ],
            [
             0.5555555555555556,
             "#d8576b"
            ],
            [
             0.6666666666666666,
             "#ed7953"
            ],
            [
             0.7777777777777778,
             "#fb9f3a"
            ],
            [
             0.8888888888888888,
             "#fdca26"
            ],
            [
             1,
             "#f0f921"
            ]
           ],
           "sequentialminus": [
            [
             0,
             "#0d0887"
            ],
            [
             0.1111111111111111,
             "#46039f"
            ],
            [
             0.2222222222222222,
             "#7201a8"
            ],
            [
             0.3333333333333333,
             "#9c179e"
            ],
            [
             0.4444444444444444,
             "#bd3786"
            ],
            [
             0.5555555555555556,
             "#d8576b"
            ],
            [
             0.6666666666666666,
             "#ed7953"
            ],
            [
             0.7777777777777778,
             "#fb9f3a"
            ],
            [
             0.8888888888888888,
             "#fdca26"
            ],
            [
             1,
             "#f0f921"
            ]
           ]
          },
          "colorway": [
           "#636efa",
           "#EF553B",
           "#00cc96",
           "#ab63fa",
           "#FFA15A",
           "#19d3f3",
           "#FF6692",
           "#B6E880",
           "#FF97FF",
           "#FECB52"
          ],
          "font": {
           "color": "#2a3f5f"
          },
          "geo": {
           "bgcolor": "white",
           "lakecolor": "white",
           "landcolor": "#E5ECF6",
           "showlakes": true,
           "showland": true,
           "subunitcolor": "white"
          },
          "hoverlabel": {
           "align": "left"
          },
          "hovermode": "closest",
          "mapbox": {
           "style": "light"
          },
          "paper_bgcolor": "white",
          "plot_bgcolor": "#E5ECF6",
          "polar": {
           "angularaxis": {
            "gridcolor": "white",
            "linecolor": "white",
            "ticks": ""
           },
           "bgcolor": "#E5ECF6",
           "radialaxis": {
            "gridcolor": "white",
            "linecolor": "white",
            "ticks": ""
           }
          },
          "scene": {
           "xaxis": {
            "backgroundcolor": "#E5ECF6",
            "gridcolor": "white",
            "gridwidth": 2,
            "linecolor": "white",
            "showbackground": true,
            "ticks": "",
            "zerolinecolor": "white"
           },
           "yaxis": {
            "backgroundcolor": "#E5ECF6",
            "gridcolor": "white",
            "gridwidth": 2,
            "linecolor": "white",
            "showbackground": true,
            "ticks": "",
            "zerolinecolor": "white"
           },
           "zaxis": {
            "backgroundcolor": "#E5ECF6",
            "gridcolor": "white",
            "gridwidth": 2,
            "linecolor": "white",
            "showbackground": true,
            "ticks": "",
            "zerolinecolor": "white"
           }
          },
          "shapedefaults": {
           "line": {
            "color": "#2a3f5f"
           }
          },
          "ternary": {
           "aaxis": {
            "gridcolor": "white",
            "linecolor": "white",
            "ticks": ""
           },
           "baxis": {
            "gridcolor": "white",
            "linecolor": "white",
            "ticks": ""
           },
           "bgcolor": "#E5ECF6",
           "caxis": {
            "gridcolor": "white",
            "linecolor": "white",
            "ticks": ""
           }
          },
          "title": {
           "x": 0.05
          },
          "xaxis": {
           "automargin": true,
           "gridcolor": "white",
           "linecolor": "white",
           "ticks": "",
           "title": {
            "standoff": 15
           },
           "zerolinecolor": "white",
           "zerolinewidth": 2
          },
          "yaxis": {
           "automargin": true,
           "gridcolor": "white",
           "linecolor": "white",
           "ticks": "",
           "title": {
            "standoff": 15
           },
           "zerolinecolor": "white",
           "zerolinewidth": 2
          }
         }
        },
        "title": {
         "text": "Main Games: Weekly Delta Views Timeseries"
        },
        "xaxis": {
         "title": {
          "text": "Date"
         }
        },
        "yaxis": {
         "title": {
          "text": "Delta Views"
         }
        }
       }
      }
     },
     "metadata": {},
     "output_type": "display_data"
    }
   ],
   "source": [
    "fig = go.Figure()\n",
    "\n",
    "for (game, game_df) in pubg_df:\n",
    "    display(game_df)\n",
    "    fig.add_trace(go.Scatter(\n",
    "        x=game_df['datetime'],\n",
    "        y=game_df['delta_subs'],\n",
    "        mode='lines',\n",
    "        name=game,\n",
    "    ))\n",
    "\n",
    "fig.update_layout(\n",
    "        title=f\"Main Games: Weekly {metric_txt} Timeseries\",\n",
    "        xaxis_title='Date',\n",
    "        yaxis_title=metric_txt,\n",
    "        showlegend=True\n",
    "    )\n",
    "\n",
    "#fig.write_html(f\"plots/dviews_beforeF.html\")\n",
    "\n",
    "fig.show()"
   ]
  },
  {
   "cell_type": "code",
   "execution_count": 228,
   "metadata": {},
   "outputs": [
    {
     "data": {
      "text/plain": [
       "['Ali-A', 'Lachlan', 'LazarBeam', 'Ninja', 'Tfue']"
      ]
     },
     "execution_count": 228,
     "metadata": {},
     "output_type": "execute_result"
    }
   ],
   "source": [
    "fortnite, fortnite_df = group_by_game(pd.read_parquet('data/fortnite_timeseries.parquet'))\n",
    "fortnite"
   ]
  },
  {
   "cell_type": "code",
   "execution_count": 229,
   "metadata": {},
   "outputs": [
    {
     "data": {
      "application/vnd.plotly.v1+json": {
       "config": {
        "plotlyServerURL": "https://plot.ly"
       },
       "data": [
        {
         "mode": "lines",
         "name": "Ali-A",
         "type": "scatter",
         "x": [
          "2016-10-17T00:00:00",
          "2016-10-24T00:00:00",
          "2016-10-30T23:00:00",
          "2016-11-06T23:00:00",
          "2016-11-13T23:00:00",
          "2016-11-20T23:00:00",
          "2016-11-27T23:00:00",
          "2016-12-04T23:00:00",
          "2016-12-11T23:00:00",
          "2016-12-18T23:00:00",
          "2016-12-25T23:00:00",
          "2017-01-01T23:00:00",
          "2017-01-08T23:00:00",
          "2017-01-15T23:00:00",
          "2017-01-22T23:00:00",
          "2017-01-29T23:00:00",
          "2017-02-05T23:00:00",
          "2017-02-12T23:00:00",
          "2017-02-19T23:00:00",
          "2017-02-26T23:00:00",
          "2017-03-05T23:00:00",
          "2017-03-12T23:00:00",
          "2017-03-19T23:00:00",
          "2017-03-27T00:00:00",
          "2017-04-03T00:00:00",
          "2017-04-10T00:00:00",
          "2017-04-17T00:00:00",
          "2017-04-24T00:00:00",
          "2017-05-01T00:00:00",
          "2017-05-08T00:00:00",
          "2017-05-15T00:00:00",
          "2017-05-22T00:00:00",
          "2017-05-29T00:00:00",
          "2017-06-05T00:00:00",
          "2017-06-12T00:00:00",
          "2017-06-19T00:00:00",
          "2017-06-26T00:00:00",
          "2017-07-03T00:00:00",
          "2017-07-10T00:00:00",
          "2017-07-17T00:00:00",
          "2017-07-24T00:00:00",
          "2017-07-31T00:00:00",
          "2017-08-07T00:00:00",
          "2017-08-14T00:00:00",
          "2017-08-21T00:00:00",
          "2017-08-28T00:00:00",
          "2017-09-04T00:00:00",
          "2017-09-11T00:00:00",
          "2017-09-18T00:00:00",
          "2017-09-25T00:00:00",
          "2017-10-02T00:00:00",
          "2017-10-09T00:00:00",
          "2017-10-16T00:00:00",
          "2017-10-23T00:00:00",
          "2017-10-29T23:00:00",
          "2017-11-05T23:00:00",
          "2017-11-12T23:00:00",
          "2017-11-19T23:00:00",
          "2017-11-26T23:00:00",
          "2017-12-03T23:00:00",
          "2017-12-10T23:00:00",
          "2017-12-17T23:00:00",
          "2017-12-24T23:00:00",
          "2017-12-31T23:00:00",
          "2018-01-07T23:00:00",
          "2018-01-14T23:00:00",
          "2018-01-21T23:00:00",
          "2018-01-28T23:00:00",
          "2018-02-04T23:00:00",
          "2018-02-11T23:00:00",
          "2018-02-18T23:00:00",
          "2018-02-25T23:00:00",
          "2018-03-04T23:00:00",
          "2018-03-11T23:00:00",
          "2018-03-18T23:00:00",
          "2018-03-26T00:00:00",
          "2018-04-02T00:00:00",
          "2018-04-09T00:00:00",
          "2018-04-16T00:00:00",
          "2018-04-23T00:00:00",
          "2018-04-30T00:00:00",
          "2018-05-07T00:00:00",
          "2018-05-14T00:00:00",
          "2018-05-21T00:00:00",
          "2018-05-28T00:00:00",
          "2018-06-04T00:00:00",
          "2018-06-11T00:00:00",
          "2018-06-18T00:00:00",
          "2018-06-25T00:00:00",
          "2018-07-02T00:00:00",
          "2018-07-09T00:00:00",
          "2018-07-16T00:00:00",
          "2018-07-23T00:00:00",
          "2018-07-30T00:00:00",
          "2018-08-06T00:00:00",
          "2018-08-13T00:00:00",
          "2018-08-20T00:00:00",
          "2018-08-27T00:00:00",
          "2018-09-03T00:00:00",
          "2018-09-10T00:00:00",
          "2018-09-17T00:00:00",
          "2018-09-24T00:00:00",
          "2018-10-01T00:00:00",
          "2018-10-08T00:00:00",
          "2018-10-15T00:00:00",
          "2018-10-22T00:00:00",
          "2018-10-28T23:00:00",
          "2018-11-04T23:00:00",
          "2018-11-11T23:00:00",
          "2018-11-18T23:00:00",
          "2018-11-25T23:00:00",
          "2018-12-02T23:00:00",
          "2018-12-09T23:00:00",
          "2018-12-16T23:00:00",
          "2018-12-23T23:00:00",
          "2018-12-30T23:00:00",
          "2019-01-06T23:00:00",
          "2019-01-13T23:00:00",
          "2019-01-20T23:00:00",
          "2019-01-27T23:00:00",
          "2019-02-03T23:00:00",
          "2019-02-10T23:00:00",
          "2019-02-17T23:00:00",
          "2019-02-24T23:00:00",
          "2019-03-03T23:00:00",
          "2019-03-10T23:00:00",
          "2019-03-17T23:00:00",
          "2019-03-24T23:00:00",
          "2019-04-01T00:00:00",
          "2019-04-08T00:00:00",
          "2019-04-15T00:00:00",
          "2019-04-22T00:00:00",
          "2019-04-29T00:00:00",
          "2019-05-06T00:00:00",
          "2019-05-13T00:00:00",
          "2019-05-20T00:00:00",
          "2019-05-27T00:00:00",
          "2019-06-03T00:00:00",
          "2019-06-10T00:00:00",
          "2019-06-17T00:00:00",
          "2019-06-24T00:00:00",
          "2019-07-01T00:00:00",
          "2019-07-08T00:00:00",
          "2019-07-15T00:00:00",
          "2019-07-22T00:00:00",
          "2019-07-29T00:00:00",
          "2019-08-05T00:00:00",
          "2019-08-12T00:00:00",
          "2019-08-19T00:00:00",
          "2019-08-26T00:00:00",
          "2019-09-02T00:00:00",
          "2019-09-09T00:00:00",
          "2019-09-16T00:00:00",
          "2019-09-23T00:00:00",
          "2019-09-30T00:00:00"
         ],
         "y": [
          4838577.75,
          5180660.5,
          5716454.428756475,
          7431238.9827017775,
          8412428.505208492,
          6684290.057291508,
          5888467.375,
          4722155.031250238,
          5102052.411458015,
          3544561.1614584923,
          3555665.09375,
          3879441.265625,
          5764378.307291508,
          10868957.390625,
          8045098.25,
          0,
          1957175.848958016,
          4721730.489583492,
          4320031.510416508,
          3722456.666666985,
          3748361.567708016,
          3686042.817708492,
          4224816.75,
          3642692.97529459,
          4754157.24345541,
          4915804.125,
          5439107.375,
          7896725.75,
          9759321.5,
          7219042.5,
          5196182.25,
          5161223.375,
          4840670.375,
          5292205.5,
          5737937.75,
          6083898.875,
          5748802.125,
          4481448.875,
          5166783.125,
          5747046.375,
          5287615.875,
          5451662.875,
          5224919.375,
          5227398.875,
          5875151.625,
          6788818.25,
          7448981.75,
          5832504.125,
          5215417.625,
          4327640.5,
          4227433.25,
          4341925.25,
          4591582.75,
          5822544.753886223,
          8546826.777201653,
          17243340.442870613,
          18940167.859375,
          14784568.09375,
          14008850.489583015,
          15481235.416666985,
          16567277.09375,
          17531522.71875,
          20676323.5,
          23799223.5,
          29554367.01041651,
          33446060.95833349,
          36026673.109375,
          38236100.921875,
          40406236.85416651,
          42591204.22395849,
          46432747.375,
          42463019.94791651,
          41738377.078125,
          47156057.484375,
          48064831.38020849,
          47415881.51565218,
          47742164.74476433,
          47246099.375,
          47689446.875,
          49052614.625,
          52802956.625,
          45365338,
          42745284.75,
          40455292.875,
          35094538.875,
          31809211.125,
          37633462.125,
          34209653.625,
          32738387.625,
          34188773.5,
          37298903.75,
          33067904.375,
          26711821.875,
          29797330.75,
          22553261.5,
          29236564.875,
          25257808.875,
          25239466.625,
          23383310.625,
          22817655.75,
          25861512.75,
          30347238.5,
          32001683,
          23175819.33333349,
          21010830.791666508,
          18035668.875,
          17333973.76165819,
          18217050.5404253,
          16972234.458333015,
          13839334.25,
          17356123.755208492,
          17888294.166666508,
          16344970.614583492,
          14618085.239583492,
          13402262.442708015,
          12885366.40625,
          13079821.484375,
          13704936.875,
          14333491.822916985,
          17034534.286458015,
          17912657.4375,
          16658374.208333492,
          17686344.53125,
          22847808.104166985,
          27144581.25520801,
          17478717.375,
          21038591.140625,
          16372850.375,
          13546309.08131504,
          12854370.88743496,
          14042556.75,
          15788653.5,
          16049088.625,
          13166085.625,
          13997982.25,
          9981070,
          10360125.875,
          11147013.375,
          10914668.625,
          9806389.125,
          8711330.25,
          8606209.5,
          8909408.375,
          13445348.375,
          15570410.875,
          17052523.375,
          14294854,
          9198122.25,
          8064450.875,
          8542758.875,
          10138499,
          9235078.25,
          8037254.375,
          7387395.875,
          7084039.78571415
         ]
        },
        {
         "mode": "lines",
         "name": "Lachlan",
         "type": "scatter",
         "x": [
          "2016-10-17T00:00:00",
          "2016-10-24T00:00:00",
          "2016-10-30T23:00:00",
          "2016-11-06T23:00:00",
          "2016-11-13T23:00:00",
          "2016-11-20T23:00:00",
          "2016-11-27T23:00:00",
          "2016-12-04T23:00:00",
          "2016-12-11T23:00:00",
          "2016-12-18T23:00:00",
          "2016-12-25T23:00:00",
          "2017-01-01T23:00:00",
          "2017-01-08T23:00:00",
          "2017-01-15T23:00:00",
          "2017-01-22T23:00:00",
          "2017-01-29T23:00:00",
          "2017-02-05T23:00:00",
          "2017-02-12T23:00:00",
          "2017-02-19T23:00:00",
          "2017-02-26T23:00:00",
          "2017-03-05T23:00:00",
          "2017-03-12T23:00:00",
          "2017-03-19T23:00:00",
          "2017-03-27T00:00:00",
          "2017-04-03T00:00:00",
          "2017-04-10T00:00:00",
          "2017-04-17T00:00:00",
          "2017-04-24T00:00:00",
          "2017-05-01T00:00:00",
          "2017-05-08T00:00:00",
          "2017-05-15T00:00:00",
          "2017-05-22T00:00:00",
          "2017-05-29T00:00:00",
          "2017-06-05T00:00:00",
          "2017-06-12T00:00:00",
          "2017-06-19T00:00:00",
          "2017-06-26T00:00:00",
          "2017-07-03T00:00:00",
          "2017-07-10T00:00:00",
          "2017-07-17T00:00:00",
          "2017-07-24T00:00:00",
          "2017-07-31T00:00:00",
          "2017-08-07T00:00:00",
          "2017-08-14T00:00:00",
          "2017-08-21T00:00:00",
          "2017-08-28T00:00:00",
          "2017-09-04T00:00:00",
          "2017-09-11T00:00:00",
          "2017-09-18T00:00:00",
          "2017-09-25T00:00:00",
          "2017-10-02T00:00:00",
          "2017-10-09T00:00:00",
          "2017-10-16T00:00:00",
          "2017-10-23T00:00:00",
          "2017-10-29T23:00:00",
          "2017-11-05T23:00:00",
          "2017-11-12T23:00:00",
          "2017-11-19T23:00:00",
          "2017-11-26T23:00:00",
          "2017-12-03T23:00:00",
          "2017-12-10T23:00:00",
          "2017-12-17T23:00:00",
          "2017-12-24T23:00:00",
          "2017-12-31T23:00:00",
          "2018-01-07T23:00:00",
          "2018-01-14T23:00:00",
          "2018-01-21T23:00:00",
          "2018-01-28T23:00:00",
          "2018-02-04T23:00:00",
          "2018-02-11T23:00:00",
          "2018-02-18T23:00:00",
          "2018-02-25T23:00:00",
          "2018-03-04T23:00:00",
          "2018-03-11T23:00:00",
          "2018-03-18T23:00:00",
          "2018-03-26T00:00:00",
          "2018-04-02T00:00:00",
          "2018-04-09T00:00:00",
          "2018-04-16T00:00:00",
          "2018-04-23T00:00:00",
          "2018-04-30T00:00:00",
          "2018-05-07T00:00:00",
          "2018-05-14T00:00:00",
          "2018-05-21T00:00:00",
          "2018-05-28T00:00:00",
          "2018-06-04T00:00:00",
          "2018-06-11T00:00:00",
          "2018-06-18T00:00:00",
          "2018-06-25T00:00:00",
          "2018-07-02T00:00:00",
          "2018-07-09T00:00:00",
          "2018-07-16T00:00:00",
          "2018-07-23T00:00:00",
          "2018-07-30T00:00:00",
          "2018-08-06T00:00:00",
          "2018-08-13T00:00:00",
          "2018-08-20T00:00:00",
          "2018-08-27T00:00:00",
          "2018-09-03T00:00:00",
          "2018-09-10T00:00:00",
          "2018-09-17T00:00:00",
          "2018-09-24T00:00:00",
          "2018-10-01T00:00:00",
          "2018-10-08T00:00:00",
          "2018-10-15T00:00:00",
          "2018-10-22T00:00:00",
          "2018-10-28T23:00:00",
          "2018-11-04T23:00:00",
          "2018-11-11T23:00:00",
          "2018-11-18T23:00:00",
          "2018-11-25T23:00:00",
          "2018-12-02T23:00:00",
          "2018-12-09T23:00:00",
          "2018-12-16T23:00:00",
          "2018-12-23T23:00:00",
          "2018-12-30T23:00:00",
          "2019-01-06T23:00:00",
          "2019-01-13T23:00:00",
          "2019-01-20T23:00:00",
          "2019-01-27T23:00:00",
          "2019-02-03T23:00:00",
          "2019-02-10T23:00:00",
          "2019-02-17T23:00:00",
          "2019-02-24T23:00:00",
          "2019-03-03T23:00:00",
          "2019-03-10T23:00:00",
          "2019-03-17T23:00:00",
          "2019-03-24T23:00:00",
          "2019-04-01T00:00:00",
          "2019-04-08T00:00:00",
          "2019-04-15T00:00:00",
          "2019-04-22T00:00:00",
          "2019-04-29T00:00:00",
          "2019-05-06T00:00:00",
          "2019-05-13T00:00:00",
          "2019-05-20T00:00:00",
          "2019-05-27T00:00:00",
          "2019-06-03T00:00:00",
          "2019-06-10T00:00:00",
          "2019-06-17T00:00:00",
          "2019-06-24T00:00:00",
          "2019-07-01T00:00:00",
          "2019-07-08T00:00:00",
          "2019-07-15T00:00:00",
          "2019-07-22T00:00:00",
          "2019-07-29T00:00:00",
          "2019-08-05T00:00:00",
          "2019-08-12T00:00:00",
          "2019-08-19T00:00:00",
          "2019-08-26T00:00:00",
          "2019-09-02T00:00:00",
          "2019-09-09T00:00:00",
          "2019-09-16T00:00:00",
          "2019-09-23T00:00:00",
          "2019-09-30T00:00:00"
         ],
         "y": [
          4625558.875,
          3531027.5,
          3477825.080310821,
          3611481.310314178,
          3727458.3125,
          3859786.276041627,
          3111827.84375,
          1393444.989583373,
          4657831.5,
          4228298.802083373,
          3923013.625,
          4676858.447916627,
          4697405.041666627,
          10784779.875,
          10896044.088541746,
          0,
          4673676.875,
          4338501.786458373,
          4506984.265625,
          3864960.75,
          3321228.666666627,
          3175784.026041746,
          3335663.760416627,
          3432227.0301047564,
          2772042.219895244,
          3536351.875,
          3353258.125,
          3098571.25,
          3040758.25,
          2872037.875,
          2541132.125,
          2458509.375,
          3074119.125,
          3210458.125,
          3232089.625,
          2759062.375,
          3108313.375,
          3484574.125,
          3210497.125,
          2774550.75,
          3696682.5,
          5045697.125,
          3477670.625,
          3349730.375,
          3371304.375,
          3171595.5,
          2844482,
          2544957.25,
          2137108.75,
          2094829.625,
          2239167.125,
          2515667.125,
          2312322.625,
          1978947.625,
          1821427.683290124,
          1813281.9677515032,
          2035252.625,
          2462931.796875,
          2298502.265625,
          2357646.411458373,
          2862815.322916627,
          3476565.192708373,
          4483394.015625,
          6259977.916666628,
          6740483.75,
          6516734.192708372,
          8752017.901041627,
          10811062.71875,
          11785552.302083371,
          11873527.036458371,
          13033366.734375,
          15962855.5,
          12656203,
          18143021.921875,
          16864158.234375,
          18273130.23881972,
          21224014.14659691,
          24502467.75,
          26179535.75,
          24784117,
          22680269.5,
          24331095.25,
          24972090.25,
          22747479,
          22632757,
          22994439.625,
          23428329.375,
          24821066.5,
          21634963,
          30429497.875,
          45372503.875,
          44227703,
          46107018.25,
          46767866.875,
          49943581.375,
          62308902.75,
          52080546,
          37167287.5,
          35210781.25,
          33372131.875,
          37707190.375,
          41935706.5,
          43957170.5,
          46453005.75,
          41575112.25,
          37780115.625,
          37756736.41126943,
          37410592.33352232,
          38546306.067708254,
          38486290.88541651,
          33693604.401041985,
          26177150.27083301,
          33494517.875,
          32194721.213541985,
          37263748.578125,
          38943099.125,
          33803927.84895801,
          30623470.67708349,
          31219197.80208349,
          29431166.91145801,
          31087786.625,
          34054051.932291985,
          35965084.09895801,
          45220419.015625,
          44214696.666666985,
          39854796.302083015,
          38643946.16145849,
          37310535.48601103,
          31630523.68586397,
          26782217.875,
          26204250.625,
          25035240.875,
          24188947.125,
          26894336.625,
          28510971.625,
          22784027.5,
          24538942.75,
          24572051,
          27507272.75,
          25745380.75,
          23479955,
          21745358.75,
          20433235.25,
          19539066.25,
          19638792.25,
          18915071,
          20871579.5,
          17961754.25,
          16486858.75,
          16588615.375,
          17409840.875,
          17942578.25,
          13563725,
          11543702.625,
          12238680.375
         ]
        },
        {
         "mode": "lines",
         "name": "LazarBeam",
         "type": "scatter",
         "x": [
          "2016-10-17T00:00:00",
          "2016-10-24T00:00:00",
          "2016-10-30T23:00:00",
          "2016-11-06T23:00:00",
          "2016-11-13T23:00:00",
          "2016-11-20T23:00:00",
          "2016-11-27T23:00:00",
          "2016-12-04T23:00:00",
          "2016-12-11T23:00:00",
          "2016-12-18T23:00:00",
          "2016-12-25T23:00:00",
          "2017-01-01T23:00:00",
          "2017-01-08T23:00:00",
          "2017-01-15T23:00:00",
          "2017-01-22T23:00:00",
          "2017-01-29T23:00:00",
          "2017-02-05T23:00:00",
          "2017-02-12T23:00:00",
          "2017-02-19T23:00:00",
          "2017-02-26T23:00:00",
          "2017-03-05T23:00:00",
          "2017-03-12T23:00:00",
          "2017-03-19T23:00:00",
          "2017-03-27T00:00:00",
          "2017-04-03T00:00:00",
          "2017-04-10T00:00:00",
          "2017-04-17T00:00:00",
          "2017-04-24T00:00:00",
          "2017-05-01T00:00:00",
          "2017-05-08T00:00:00",
          "2017-05-15T00:00:00",
          "2017-05-22T00:00:00",
          "2017-05-29T00:00:00",
          "2017-06-05T00:00:00",
          "2017-06-12T00:00:00",
          "2017-06-19T00:00:00",
          "2017-06-26T00:00:00",
          "2017-07-03T00:00:00",
          "2017-07-10T00:00:00",
          "2017-07-17T00:00:00",
          "2017-07-24T00:00:00",
          "2017-07-31T00:00:00",
          "2017-08-07T00:00:00",
          "2017-08-14T00:00:00",
          "2017-08-21T00:00:00",
          "2017-08-28T00:00:00",
          "2017-09-04T00:00:00",
          "2017-09-11T00:00:00",
          "2017-09-18T00:00:00",
          "2017-09-25T00:00:00",
          "2017-10-02T00:00:00",
          "2017-10-09T00:00:00",
          "2017-10-16T00:00:00",
          "2017-10-23T00:00:00",
          "2017-10-29T23:00:00",
          "2017-11-05T23:00:00",
          "2017-11-12T23:00:00",
          "2017-11-19T23:00:00",
          "2017-11-26T23:00:00",
          "2017-12-03T23:00:00",
          "2017-12-10T23:00:00",
          "2017-12-17T23:00:00",
          "2017-12-24T23:00:00",
          "2017-12-31T23:00:00",
          "2018-01-07T23:00:00",
          "2018-01-14T23:00:00",
          "2018-01-21T23:00:00",
          "2018-01-28T23:00:00",
          "2018-02-04T23:00:00",
          "2018-02-11T23:00:00",
          "2018-02-18T23:00:00",
          "2018-02-25T23:00:00",
          "2018-03-04T23:00:00",
          "2018-03-11T23:00:00",
          "2018-03-18T23:00:00",
          "2018-03-26T00:00:00",
          "2018-04-02T00:00:00",
          "2018-04-09T00:00:00",
          "2018-04-16T00:00:00",
          "2018-04-23T00:00:00",
          "2018-04-30T00:00:00",
          "2018-05-07T00:00:00",
          "2018-05-14T00:00:00",
          "2018-05-21T00:00:00",
          "2018-05-28T00:00:00",
          "2018-06-04T00:00:00",
          "2018-06-11T00:00:00",
          "2018-06-18T00:00:00",
          "2018-06-25T00:00:00",
          "2018-07-02T00:00:00",
          "2018-07-09T00:00:00",
          "2018-07-16T00:00:00",
          "2018-07-23T00:00:00",
          "2018-07-30T00:00:00",
          "2018-08-06T00:00:00",
          "2018-08-13T00:00:00",
          "2018-08-20T00:00:00",
          "2018-08-27T00:00:00",
          "2018-09-03T00:00:00",
          "2018-09-10T00:00:00",
          "2018-09-17T00:00:00",
          "2018-09-24T00:00:00",
          "2018-10-01T00:00:00",
          "2018-10-08T00:00:00",
          "2018-10-15T00:00:00",
          "2018-10-22T00:00:00",
          "2018-10-28T23:00:00",
          "2018-11-04T23:00:00",
          "2018-11-11T23:00:00",
          "2018-11-18T23:00:00",
          "2018-11-25T23:00:00",
          "2018-12-02T23:00:00",
          "2018-12-09T23:00:00",
          "2018-12-16T23:00:00",
          "2018-12-23T23:00:00",
          "2018-12-30T23:00:00",
          "2019-01-06T23:00:00",
          "2019-01-13T23:00:00",
          "2019-01-20T23:00:00",
          "2019-01-27T23:00:00",
          "2019-02-03T23:00:00",
          "2019-02-10T23:00:00",
          "2019-02-17T23:00:00",
          "2019-02-24T23:00:00",
          "2019-03-03T23:00:00",
          "2019-03-10T23:00:00",
          "2019-03-17T23:00:00",
          "2019-03-24T23:00:00",
          "2019-04-01T00:00:00",
          "2019-04-08T00:00:00",
          "2019-04-15T00:00:00",
          "2019-04-22T00:00:00",
          "2019-04-29T00:00:00",
          "2019-05-06T00:00:00",
          "2019-05-13T00:00:00",
          "2019-05-20T00:00:00",
          "2019-05-27T00:00:00",
          "2019-06-03T00:00:00",
          "2019-06-10T00:00:00",
          "2019-06-17T00:00:00",
          "2019-06-24T00:00:00",
          "2019-07-01T00:00:00",
          "2019-07-08T00:00:00",
          "2019-07-15T00:00:00",
          "2019-07-22T00:00:00",
          "2019-07-29T00:00:00",
          "2019-08-05T00:00:00",
          "2019-08-12T00:00:00",
          "2019-08-19T00:00:00",
          "2019-08-26T00:00:00",
          "2019-09-02T00:00:00",
          "2019-09-09T00:00:00",
          "2019-09-16T00:00:00",
          "2019-09-23T00:00:00",
          "2019-09-30T00:00:00"
         ],
         "y": [
          1980822.75,
          2043796.75,
          1940825.0440414548,
          1878060.9247085447,
          1838406.645833344,
          1992630.135416657,
          2152038,
          2283144.3072916567,
          2372926.020833344,
          2517408.9791666567,
          2535656.598958344,
          2492999.130208344,
          3597584.0260416567,
          6376671.958333342,
          5616950.5,
          0,
          801098.0416666567,
          1771870.552083343,
          1905977.5677083128,
          2064699.6197916863,
          1909574.822916657,
          1389526.057291657,
          1492812.125,
          1785969.5089714231,
          2262403.5274869204,
          3495591.625,
          5823847.625,
          6566553.5,
          5365271.75,
          4421898.375,
          3635611.875,
          3768222.5,
          3681440,
          3304463.125,
          3180409.375,
          3416329,
          3424713.75,
          2681753.75,
          2502342.5,
          1767565.625,
          2165004.875,
          2304044.125,
          2707710.375,
          2999039.25,
          3037382,
          3007479.375,
          2461302.375,
          1197694.75,
          2412259,
          2477080.125,
          2542012.625,
          2366294.375,
          1726145.625,
          1211209.095854938,
          2409831.170984447,
          2449454.733160615,
          2703785.869791686,
          2423430.84375,
          2167029.385416627,
          1783379.5104166863,
          1475108.890625,
          1735479.59375,
          1963442.25,
          1983078.6666666863,
          2150685.744791627,
          2312186.661458373,
          2321927.552083313,
          2144513.359375,
          1775861.4479166863,
          1476457.7395833137,
          2399982.375,
          2215268.197916686,
          2169934.90625,
          2438039.296875,
          2464911.708333313,
          2651143.4371727705,
          2796603.062827229,
          2277153.625,
          2160400.375,
          2546981.5,
          3208073.5,
          3437583,
          4030751.5,
          4734989.875,
          5871565.375,
          7955097.25,
          9310861,
          6792962.75,
          11274402.5,
          30037132.25,
          48086092.5,
          58854096.375,
          64421762.875,
          68918007.125,
          65101087.625,
          73178597.625,
          77348323.875,
          74649132,
          64550422,
          57113976.625,
          55045564.625,
          52534253.75,
          50879433.5,
          54426778.875,
          42468259.875,
          44472896.5,
          43656633.20595861,
          43171634.75758314,
          45808930.15625,
          46799529.59375,
          39654369.125,
          33837916.55729151,
          42717856.45833349,
          40579151.046875,
          43547661,
          50252561.03645826,
          51541317.703125,
          42309156.24479175,
          35343103.25,
          38486108.484375,
          47593865.875,
          44166110.15104151,
          52388024.19270849,
          58599779.98437476,
          54640329.94791698,
          52284436.36458302,
          64144477.25,
          56242125.09895849,
          58470912.58499671,
          52917843.55562829,
          51585795.625,
          48557873.875,
          41611578.625,
          38823013,
          50002393,
          42526420.125,
          44069135.625,
          47559780.5,
          48290007.25,
          44336922.625,
          40640113.125,
          42886403.75,
          41202350,
          51299503.5,
          56265837,
          48031950.5,
          13660157,
          13989461.75,
          46795732.5,
          51067358.5,
          52396398.25,
          43388755.375,
          38895928.375,
          37376995.75,
          36966362.5
         ]
        },
        {
         "mode": "lines",
         "name": "Ninja",
         "type": "scatter",
         "x": [
          "2016-10-17T00:00:00",
          "2016-10-24T00:00:00",
          "2016-10-30T23:00:00",
          "2016-11-06T23:00:00",
          "2016-11-13T23:00:00",
          "2016-11-20T23:00:00",
          "2016-11-27T23:00:00",
          "2016-12-04T23:00:00",
          "2016-12-11T23:00:00",
          "2016-12-18T23:00:00",
          "2016-12-25T23:00:00",
          "2017-01-01T23:00:00",
          "2017-01-08T23:00:00",
          "2017-01-15T23:00:00",
          "2017-01-22T23:00:00",
          "2017-01-29T23:00:00",
          "2017-02-05T23:00:00",
          "2017-02-12T23:00:00",
          "2017-02-19T23:00:00",
          "2017-02-26T23:00:00",
          "2017-03-05T23:00:00",
          "2017-03-12T23:00:00",
          "2017-03-19T23:00:00",
          "2017-03-27T00:00:00",
          "2017-04-03T00:00:00",
          "2017-04-10T00:00:00",
          "2017-04-17T00:00:00",
          "2017-04-24T00:00:00",
          "2017-05-01T00:00:00",
          "2017-05-08T00:00:00",
          "2017-05-15T00:00:00",
          "2017-05-22T00:00:00",
          "2017-05-29T00:00:00",
          "2017-06-05T00:00:00",
          "2017-06-12T00:00:00",
          "2017-06-19T00:00:00",
          "2017-06-26T00:00:00",
          "2017-07-03T00:00:00",
          "2017-07-10T00:00:00",
          "2017-07-17T00:00:00",
          "2017-07-24T00:00:00",
          "2017-07-31T00:00:00",
          "2017-08-07T00:00:00",
          "2017-08-14T00:00:00",
          "2017-08-21T00:00:00",
          "2017-08-28T00:00:00",
          "2017-09-04T00:00:00",
          "2017-09-11T00:00:00",
          "2017-09-18T00:00:00",
          "2017-09-25T00:00:00",
          "2017-10-02T00:00:00",
          "2017-10-09T00:00:00",
          "2017-10-16T00:00:00",
          "2017-10-23T00:00:00",
          "2017-10-29T23:00:00",
          "2017-11-05T23:00:00",
          "2017-11-12T23:00:00",
          "2017-11-19T23:00:00",
          "2017-11-26T23:00:00",
          "2017-12-03T23:00:00",
          "2017-12-10T23:00:00",
          "2017-12-17T23:00:00",
          "2017-12-24T23:00:00",
          "2017-12-31T23:00:00",
          "2018-01-07T23:00:00",
          "2018-01-14T23:00:00",
          "2018-01-21T23:00:00",
          "2018-01-28T23:00:00",
          "2018-02-04T23:00:00",
          "2018-02-11T23:00:00",
          "2018-02-18T23:00:00",
          "2018-02-25T23:00:00",
          "2018-03-04T23:00:00",
          "2018-03-11T23:00:00",
          "2018-03-18T23:00:00",
          "2018-03-26T00:00:00",
          "2018-04-02T00:00:00",
          "2018-04-09T00:00:00",
          "2018-04-16T00:00:00",
          "2018-04-23T00:00:00",
          "2018-04-30T00:00:00",
          "2018-05-07T00:00:00",
          "2018-05-14T00:00:00",
          "2018-05-21T00:00:00",
          "2018-05-28T00:00:00",
          "2018-06-04T00:00:00",
          "2018-06-11T00:00:00",
          "2018-06-18T00:00:00",
          "2018-06-25T00:00:00",
          "2018-07-02T00:00:00",
          "2018-07-09T00:00:00",
          "2018-07-16T00:00:00",
          "2018-07-23T00:00:00",
          "2018-07-30T00:00:00",
          "2018-08-06T00:00:00",
          "2018-08-13T00:00:00",
          "2018-08-20T00:00:00",
          "2018-08-27T00:00:00",
          "2018-09-03T00:00:00",
          "2018-09-10T00:00:00",
          "2018-09-17T00:00:00",
          "2018-09-24T00:00:00",
          "2018-10-01T00:00:00",
          "2018-10-08T00:00:00",
          "2018-10-15T00:00:00",
          "2018-10-22T00:00:00",
          "2018-10-28T23:00:00",
          "2018-11-04T23:00:00",
          "2018-11-11T23:00:00",
          "2018-11-18T23:00:00",
          "2018-11-25T23:00:00",
          "2018-12-02T23:00:00",
          "2018-12-09T23:00:00",
          "2018-12-16T23:00:00",
          "2018-12-23T23:00:00",
          "2018-12-30T23:00:00",
          "2019-01-06T23:00:00",
          "2019-01-13T23:00:00",
          "2019-01-20T23:00:00",
          "2019-01-27T23:00:00",
          "2019-02-03T23:00:00",
          "2019-02-10T23:00:00",
          "2019-02-17T23:00:00",
          "2019-02-24T23:00:00",
          "2019-03-03T23:00:00",
          "2019-03-10T23:00:00",
          "2019-03-17T23:00:00",
          "2019-03-24T23:00:00",
          "2019-04-01T00:00:00",
          "2019-04-08T00:00:00",
          "2019-04-15T00:00:00",
          "2019-04-22T00:00:00",
          "2019-04-29T00:00:00",
          "2019-05-06T00:00:00",
          "2019-05-13T00:00:00",
          "2019-05-20T00:00:00",
          "2019-05-27T00:00:00",
          "2019-06-03T00:00:00",
          "2019-06-10T00:00:00",
          "2019-06-17T00:00:00",
          "2019-06-24T00:00:00",
          "2019-07-01T00:00:00",
          "2019-07-08T00:00:00",
          "2019-07-15T00:00:00",
          "2019-07-22T00:00:00",
          "2019-07-29T00:00:00",
          "2019-08-05T00:00:00",
          "2019-08-12T00:00:00",
          "2019-08-19T00:00:00",
          "2019-08-26T00:00:00",
          "2019-09-02T00:00:00",
          "2019-09-09T00:00:00",
          "2019-09-16T00:00:00",
          "2019-09-23T00:00:00",
          "2019-09-30T00:00:00"
         ],
         "y": [
          13487.375,
          12515.375,
          13003.785621761344,
          25784.46958657168,
          74633.125,
          121097.39583333394,
          76737.28125,
          102104.625,
          101559.88541666605,
          81288.41666666698,
          63518.70833333303,
          52933.630208333954,
          67124.75,
          187349.09375,
          0,
          48309.625,
          182095.73958333395,
          273223.2187499991,
          306974.72395833395,
          316542.3125,
          258315.75,
          295142.72916666605,
          251144.22395833395,
          213376.95999672823,
          193118.6806282717,
          215848,
          235050.5,
          195463.25,
          242842.25,
          177272.375,
          137548.625,
          128740.5,
          120764.5,
          156600.25,
          195897.75,
          159903.875,
          177708.125,
          121988.125,
          147695.125,
          138843.375,
          114984.875,
          125225.75,
          170589.75,
          192458.75,
          127090.25,
          177314.375,
          205545.125,
          144180.875,
          161801.125,
          157872.25,
          131826.5,
          195412.125,
          228314.625,
          468783,
          518839.507772021,
          578824.533894645,
          643575.2500000019,
          544053.1145833321,
          491362.09375,
          896589.432291668,
          1358732.375,
          1115218.5416666642,
          1674448.479166668,
          3032048.6875,
          3941199.338541668,
          5029914.312499996,
          7885372.692708336,
          12665284.973958336,
          13941759.999999993,
          17603957.796875,
          20001365.140625,
          26274930.57291667,
          29024499.807291657,
          31209174.28125,
          36791868.58854169,
          44669792.44775304,
          46420686.03141362,
          42220549.875,
          51494796.375,
          54150291.625,
          50995292.125,
          51248077,
          53630732.75,
          48630170.5,
          41926375.75,
          39500173.125,
          44181985.125,
          48732047.75,
          42016251,
          36069014.625,
          35896980.875,
          34183100.875,
          30891114.625,
          30686460.875,
          30208121.375,
          36004930,
          45114262.75,
          46978258.75,
          41004091,
          35710281.875,
          29459063.375,
          25023875.625,
          27023125.875,
          22561588,
          22376911.5,
          23635486.875,
          22194531.442507505,
          18729946.61127591,
          20126962.305591583,
          22510677.661458254,
          14864405.5,
          12339874.328125,
          13071701.489583492,
          17440435.177083254,
          20523052.458333254,
          20414329.6875,
          18162339.47395849,
          16034096.848958256,
          13967270.625,
          11605175.65625,
          9340419.171875,
          13992070.822916744,
          15422844.348958256,
          14829123.0625,
          13695496.895833256,
          11005453.177083492,
          10298316.875,
          12079057.880208256,
          7903157.635471105,
          6900230.9895288935,
          8506628,
          8073869.75,
          6285299,
          7893842.125,
          9996482.125,
          8083197.5,
          6902159.75,
          5557438.875,
          5593111.375,
          4678215.25,
          3307111,
          4294115.75,
          5062410.5,
          3341543.625,
          6040070.625,
          5988075.75,
          7035798,
          6767734.5,
          5330791,
          6314353.375,
          9682280.125,
          3334153.375,
          2897669.125,
          3529308,
          3875775.928571463
         ]
        },
        {
         "mode": "lines",
         "name": "Tfue",
         "type": "scatter",
         "x": [
          "2016-10-17T00:00:00",
          "2016-10-24T00:00:00",
          "2016-10-30T23:00:00",
          "2016-11-06T23:00:00",
          "2016-11-13T23:00:00",
          "2016-11-20T23:00:00",
          "2016-11-27T23:00:00",
          "2016-12-04T23:00:00",
          "2016-12-11T23:00:00",
          "2016-12-18T23:00:00",
          "2016-12-25T23:00:00",
          "2017-01-01T23:00:00",
          "2017-01-08T23:00:00",
          "2017-01-15T23:00:00",
          "2017-01-22T23:00:00",
          "2017-01-29T23:00:00",
          "2017-02-05T23:00:00",
          "2017-02-12T23:00:00",
          "2017-02-19T23:00:00",
          "2017-02-26T23:00:00",
          "2017-03-05T23:00:00",
          "2017-03-12T23:00:00",
          "2017-03-19T23:00:00",
          "2017-03-27T00:00:00",
          "2017-04-03T00:00:00",
          "2017-04-10T00:00:00",
          "2017-04-17T00:00:00",
          "2017-04-24T00:00:00",
          "2017-05-01T00:00:00",
          "2017-05-08T00:00:00",
          "2017-05-15T00:00:00",
          "2017-05-22T00:00:00",
          "2017-05-29T00:00:00",
          "2017-06-05T00:00:00",
          "2017-06-12T00:00:00",
          "2017-06-19T00:00:00",
          "2017-06-26T00:00:00",
          "2017-07-03T00:00:00",
          "2017-07-10T00:00:00",
          "2017-07-17T00:00:00",
          "2017-07-24T00:00:00",
          "2017-07-31T00:00:00",
          "2017-08-07T00:00:00",
          "2017-08-14T00:00:00",
          "2017-08-21T00:00:00",
          "2017-08-28T00:00:00",
          "2017-09-04T00:00:00",
          "2017-09-11T00:00:00",
          "2017-09-18T00:00:00",
          "2017-09-25T00:00:00",
          "2017-10-02T00:00:00",
          "2017-10-09T00:00:00",
          "2017-10-16T00:00:00",
          "2017-10-23T00:00:00",
          "2017-10-29T23:00:00",
          "2017-11-05T23:00:00",
          "2017-11-12T23:00:00",
          "2017-11-19T23:00:00",
          "2017-11-26T23:00:00",
          "2017-12-03T23:00:00",
          "2017-12-10T23:00:00",
          "2017-12-17T23:00:00",
          "2017-12-24T23:00:00",
          "2017-12-31T23:00:00",
          "2018-01-07T23:00:00",
          "2018-01-14T23:00:00",
          "2018-01-21T23:00:00",
          "2018-01-28T23:00:00",
          "2018-02-04T23:00:00",
          "2018-02-11T23:00:00",
          "2018-02-18T23:00:00",
          "2018-02-25T23:00:00",
          "2018-03-04T23:00:00",
          "2018-03-11T23:00:00",
          "2018-03-18T23:00:00",
          "2018-03-26T00:00:00",
          "2018-04-02T00:00:00",
          "2018-04-09T00:00:00",
          "2018-04-16T00:00:00",
          "2018-04-23T00:00:00",
          "2018-04-30T00:00:00",
          "2018-05-07T00:00:00",
          "2018-05-14T00:00:00",
          "2018-05-21T00:00:00",
          "2018-05-28T00:00:00",
          "2018-06-04T00:00:00",
          "2018-06-11T00:00:00",
          "2018-06-18T00:00:00",
          "2018-06-25T00:00:00",
          "2018-07-02T00:00:00",
          "2018-07-09T00:00:00",
          "2018-07-16T00:00:00",
          "2018-07-23T00:00:00",
          "2018-07-30T00:00:00",
          "2018-08-06T00:00:00",
          "2018-08-13T00:00:00",
          "2018-08-20T00:00:00",
          "2018-08-27T00:00:00",
          "2018-09-03T00:00:00",
          "2018-09-10T00:00:00",
          "2018-09-17T00:00:00",
          "2018-09-24T00:00:00",
          "2018-10-01T00:00:00",
          "2018-10-08T00:00:00",
          "2018-10-15T00:00:00",
          "2018-10-22T00:00:00",
          "2018-10-28T23:00:00",
          "2018-11-04T23:00:00",
          "2018-11-11T23:00:00",
          "2018-11-18T23:00:00",
          "2018-11-25T23:00:00",
          "2018-12-02T23:00:00",
          "2018-12-09T23:00:00",
          "2018-12-16T23:00:00",
          "2018-12-23T23:00:00",
          "2018-12-30T23:00:00",
          "2019-01-06T23:00:00",
          "2019-01-13T23:00:00",
          "2019-01-20T23:00:00",
          "2019-01-27T23:00:00",
          "2019-02-03T23:00:00",
          "2019-02-10T23:00:00",
          "2019-02-17T23:00:00",
          "2019-02-24T23:00:00",
          "2019-03-03T23:00:00",
          "2019-03-10T23:00:00",
          "2019-03-17T23:00:00",
          "2019-03-24T23:00:00",
          "2019-04-01T00:00:00",
          "2019-04-08T00:00:00",
          "2019-04-15T00:00:00",
          "2019-04-22T00:00:00",
          "2019-04-29T00:00:00",
          "2019-05-06T00:00:00",
          "2019-05-13T00:00:00",
          "2019-05-20T00:00:00",
          "2019-05-27T00:00:00",
          "2019-06-03T00:00:00",
          "2019-06-10T00:00:00",
          "2019-06-17T00:00:00",
          "2019-06-24T00:00:00",
          "2019-07-01T00:00:00",
          "2019-07-08T00:00:00",
          "2019-07-15T00:00:00",
          "2019-07-22T00:00:00",
          "2019-07-29T00:00:00",
          "2019-08-05T00:00:00",
          "2019-08-12T00:00:00",
          "2019-08-19T00:00:00",
          "2019-08-26T00:00:00",
          "2019-09-02T00:00:00",
          "2019-09-09T00:00:00",
          "2019-09-16T00:00:00",
          "2019-09-23T00:00:00",
          "2019-09-30T00:00:00"
         ],
         "y": [
          240678.375,
          284250.75,
          292149.36139896425,
          127424.7948510358,
          84981.75,
          60422.3125,
          42494.09375,
          35634.520833333016,
          28572.578125,
          24055.901041666977,
          22633.21875,
          20031.598958333027,
          20579.125,
          216738.890625,
          0,
          0,
          18792.09375,
          19854.723958333027,
          18885.916666666973,
          16116.317708333025,
          14420.875,
          12374.255208333954,
          12539.260416666046,
          14426.788885253482,
          15880.534031413496,
          16705.75,
          16658.25,
          15507.625,
          15481.375,
          12306.875,
          12169.625,
          14211.75,
          12845.75,
          12380.375,
          12365.625,
          10155.625,
          20689.375,
          9911.125,
          10397.125,
          10898.125,
          11912.125,
          12614.125,
          12101.375,
          10227,
          8022,
          9323.125,
          14366.875,
          8848.75,
          6627.25,
          6466.375,
          6231.625,
          6911.875,
          6467.125,
          11820.375,
          43965.68199481908,
          74301.2034218479,
          126924.08854166606,
          135779.984375,
          86430.23958333302,
          48577.69791666791,
          85886.5,
          24809.72916666605,
          14234.395833333954,
          11840.244791666046,
          10407.8125,
          8954.0625,
          7772.401041666046,
          6792.432291667908,
          7690.375,
          8724.557291666046,
          20718.171875,
          23075.427083333954,
          30337.31770833209,
          33303.895833333954,
          34728.864583333954,
          47609.74585514702,
          49568.79581151904,
          131334.875,
          163482.875,
          606367.75,
          1278961.5,
          3285862.875,
          6728382.375,
          9427795.5,
          6660764.25,
          5235395.375,
          7999941.875,
          6629579,
          6709577.25,
          10633617,
          14676113.5,
          14397254.625,
          18380751.375,
          14286955.375,
          17249633.125,
          11328255.875,
          6094994.625,
          4094595.75,
          4094595.75,
          15829608.25,
          19476982.25,
          16322823.125,
          15065685.875,
          19897238.75,
          20359897.25,
          15872399.375,
          13250617.065414488,
          16656823.267918823,
          19007543.776041687,
          16943960.817708313,
          14210270.833333371,
          17003268.802083313,
          20132542.5,
          21781208.25,
          16497084.203125,
          16105179.927083312,
          21822935.625,
          30814185.0625,
          32834232.35937506,
          20947211.385416627,
          18911718,
          19457527.927083373,
          18100710.588541627,
          19668312.744791627,
          17824479.197916746,
          16589515.010416629,
          17495242.489583373,
          18479866.98538387,
          26686450.80628276,
          24076950.625,
          16570217.875,
          13934887.625,
          13314461.875,
          17328796.75,
          20509687.25,
          15548424.5,
          19355325.5,
          14718932.375,
          9369363.125,
          9055383.25,
          9151126.75,
          10040406.25,
          12897224.75,
          15832342,
          10405895.5,
          10593445.625,
          14512884.875,
          13202289.125,
          12569503.375,
          11268260.125,
          9206250.375,
          9052399.625,
          10743348.875,
          2858418.5,
          2542703.214285612
         ]
        }
       ],
       "layout": {
        "showlegend": true,
        "template": {
         "data": {
          "bar": [
           {
            "error_x": {
             "color": "#2a3f5f"
            },
            "error_y": {
             "color": "#2a3f5f"
            },
            "marker": {
             "line": {
              "color": "#E5ECF6",
              "width": 0.5
             },
             "pattern": {
              "fillmode": "overlay",
              "size": 10,
              "solidity": 0.2
             }
            },
            "type": "bar"
           }
          ],
          "barpolar": [
           {
            "marker": {
             "line": {
              "color": "#E5ECF6",
              "width": 0.5
             },
             "pattern": {
              "fillmode": "overlay",
              "size": 10,
              "solidity": 0.2
             }
            },
            "type": "barpolar"
           }
          ],
          "carpet": [
           {
            "aaxis": {
             "endlinecolor": "#2a3f5f",
             "gridcolor": "white",
             "linecolor": "white",
             "minorgridcolor": "white",
             "startlinecolor": "#2a3f5f"
            },
            "baxis": {
             "endlinecolor": "#2a3f5f",
             "gridcolor": "white",
             "linecolor": "white",
             "minorgridcolor": "white",
             "startlinecolor": "#2a3f5f"
            },
            "type": "carpet"
           }
          ],
          "choropleth": [
           {
            "colorbar": {
             "outlinewidth": 0,
             "ticks": ""
            },
            "type": "choropleth"
           }
          ],
          "contour": [
           {
            "colorbar": {
             "outlinewidth": 0,
             "ticks": ""
            },
            "colorscale": [
             [
              0,
              "#0d0887"
             ],
             [
              0.1111111111111111,
              "#46039f"
             ],
             [
              0.2222222222222222,
              "#7201a8"
             ],
             [
              0.3333333333333333,
              "#9c179e"
             ],
             [
              0.4444444444444444,
              "#bd3786"
             ],
             [
              0.5555555555555556,
              "#d8576b"
             ],
             [
              0.6666666666666666,
              "#ed7953"
             ],
             [
              0.7777777777777778,
              "#fb9f3a"
             ],
             [
              0.8888888888888888,
              "#fdca26"
             ],
             [
              1,
              "#f0f921"
             ]
            ],
            "type": "contour"
           }
          ],
          "contourcarpet": [
           {
            "colorbar": {
             "outlinewidth": 0,
             "ticks": ""
            },
            "type": "contourcarpet"
           }
          ],
          "heatmap": [
           {
            "colorbar": {
             "outlinewidth": 0,
             "ticks": ""
            },
            "colorscale": [
             [
              0,
              "#0d0887"
             ],
             [
              0.1111111111111111,
              "#46039f"
             ],
             [
              0.2222222222222222,
              "#7201a8"
             ],
             [
              0.3333333333333333,
              "#9c179e"
             ],
             [
              0.4444444444444444,
              "#bd3786"
             ],
             [
              0.5555555555555556,
              "#d8576b"
             ],
             [
              0.6666666666666666,
              "#ed7953"
             ],
             [
              0.7777777777777778,
              "#fb9f3a"
             ],
             [
              0.8888888888888888,
              "#fdca26"
             ],
             [
              1,
              "#f0f921"
             ]
            ],
            "type": "heatmap"
           }
          ],
          "heatmapgl": [
           {
            "colorbar": {
             "outlinewidth": 0,
             "ticks": ""
            },
            "colorscale": [
             [
              0,
              "#0d0887"
             ],
             [
              0.1111111111111111,
              "#46039f"
             ],
             [
              0.2222222222222222,
              "#7201a8"
             ],
             [
              0.3333333333333333,
              "#9c179e"
             ],
             [
              0.4444444444444444,
              "#bd3786"
             ],
             [
              0.5555555555555556,
              "#d8576b"
             ],
             [
              0.6666666666666666,
              "#ed7953"
             ],
             [
              0.7777777777777778,
              "#fb9f3a"
             ],
             [
              0.8888888888888888,
              "#fdca26"
             ],
             [
              1,
              "#f0f921"
             ]
            ],
            "type": "heatmapgl"
           }
          ],
          "histogram": [
           {
            "marker": {
             "pattern": {
              "fillmode": "overlay",
              "size": 10,
              "solidity": 0.2
             }
            },
            "type": "histogram"
           }
          ],
          "histogram2d": [
           {
            "colorbar": {
             "outlinewidth": 0,
             "ticks": ""
            },
            "colorscale": [
             [
              0,
              "#0d0887"
             ],
             [
              0.1111111111111111,
              "#46039f"
             ],
             [
              0.2222222222222222,
              "#7201a8"
             ],
             [
              0.3333333333333333,
              "#9c179e"
             ],
             [
              0.4444444444444444,
              "#bd3786"
             ],
             [
              0.5555555555555556,
              "#d8576b"
             ],
             [
              0.6666666666666666,
              "#ed7953"
             ],
             [
              0.7777777777777778,
              "#fb9f3a"
             ],
             [
              0.8888888888888888,
              "#fdca26"
             ],
             [
              1,
              "#f0f921"
             ]
            ],
            "type": "histogram2d"
           }
          ],
          "histogram2dcontour": [
           {
            "colorbar": {
             "outlinewidth": 0,
             "ticks": ""
            },
            "colorscale": [
             [
              0,
              "#0d0887"
             ],
             [
              0.1111111111111111,
              "#46039f"
             ],
             [
              0.2222222222222222,
              "#7201a8"
             ],
             [
              0.3333333333333333,
              "#9c179e"
             ],
             [
              0.4444444444444444,
              "#bd3786"
             ],
             [
              0.5555555555555556,
              "#d8576b"
             ],
             [
              0.6666666666666666,
              "#ed7953"
             ],
             [
              0.7777777777777778,
              "#fb9f3a"
             ],
             [
              0.8888888888888888,
              "#fdca26"
             ],
             [
              1,
              "#f0f921"
             ]
            ],
            "type": "histogram2dcontour"
           }
          ],
          "mesh3d": [
           {
            "colorbar": {
             "outlinewidth": 0,
             "ticks": ""
            },
            "type": "mesh3d"
           }
          ],
          "parcoords": [
           {
            "line": {
             "colorbar": {
              "outlinewidth": 0,
              "ticks": ""
             }
            },
            "type": "parcoords"
           }
          ],
          "pie": [
           {
            "automargin": true,
            "type": "pie"
           }
          ],
          "scatter": [
           {
            "fillpattern": {
             "fillmode": "overlay",
             "size": 10,
             "solidity": 0.2
            },
            "type": "scatter"
           }
          ],
          "scatter3d": [
           {
            "line": {
             "colorbar": {
              "outlinewidth": 0,
              "ticks": ""
             }
            },
            "marker": {
             "colorbar": {
              "outlinewidth": 0,
              "ticks": ""
             }
            },
            "type": "scatter3d"
           }
          ],
          "scattercarpet": [
           {
            "marker": {
             "colorbar": {
              "outlinewidth": 0,
              "ticks": ""
             }
            },
            "type": "scattercarpet"
           }
          ],
          "scattergeo": [
           {
            "marker": {
             "colorbar": {
              "outlinewidth": 0,
              "ticks": ""
             }
            },
            "type": "scattergeo"
           }
          ],
          "scattergl": [
           {
            "marker": {
             "colorbar": {
              "outlinewidth": 0,
              "ticks": ""
             }
            },
            "type": "scattergl"
           }
          ],
          "scattermapbox": [
           {
            "marker": {
             "colorbar": {
              "outlinewidth": 0,
              "ticks": ""
             }
            },
            "type": "scattermapbox"
           }
          ],
          "scatterpolar": [
           {
            "marker": {
             "colorbar": {
              "outlinewidth": 0,
              "ticks": ""
             }
            },
            "type": "scatterpolar"
           }
          ],
          "scatterpolargl": [
           {
            "marker": {
             "colorbar": {
              "outlinewidth": 0,
              "ticks": ""
             }
            },
            "type": "scatterpolargl"
           }
          ],
          "scatterternary": [
           {
            "marker": {
             "colorbar": {
              "outlinewidth": 0,
              "ticks": ""
             }
            },
            "type": "scatterternary"
           }
          ],
          "surface": [
           {
            "colorbar": {
             "outlinewidth": 0,
             "ticks": ""
            },
            "colorscale": [
             [
              0,
              "#0d0887"
             ],
             [
              0.1111111111111111,
              "#46039f"
             ],
             [
              0.2222222222222222,
              "#7201a8"
             ],
             [
              0.3333333333333333,
              "#9c179e"
             ],
             [
              0.4444444444444444,
              "#bd3786"
             ],
             [
              0.5555555555555556,
              "#d8576b"
             ],
             [
              0.6666666666666666,
              "#ed7953"
             ],
             [
              0.7777777777777778,
              "#fb9f3a"
             ],
             [
              0.8888888888888888,
              "#fdca26"
             ],
             [
              1,
              "#f0f921"
             ]
            ],
            "type": "surface"
           }
          ],
          "table": [
           {
            "cells": {
             "fill": {
              "color": "#EBF0F8"
             },
             "line": {
              "color": "white"
             }
            },
            "header": {
             "fill": {
              "color": "#C8D4E3"
             },
             "line": {
              "color": "white"
             }
            },
            "type": "table"
           }
          ]
         },
         "layout": {
          "annotationdefaults": {
           "arrowcolor": "#2a3f5f",
           "arrowhead": 0,
           "arrowwidth": 1
          },
          "autotypenumbers": "strict",
          "coloraxis": {
           "colorbar": {
            "outlinewidth": 0,
            "ticks": ""
           }
          },
          "colorscale": {
           "diverging": [
            [
             0,
             "#8e0152"
            ],
            [
             0.1,
             "#c51b7d"
            ],
            [
             0.2,
             "#de77ae"
            ],
            [
             0.3,
             "#f1b6da"
            ],
            [
             0.4,
             "#fde0ef"
            ],
            [
             0.5,
             "#f7f7f7"
            ],
            [
             0.6,
             "#e6f5d0"
            ],
            [
             0.7,
             "#b8e186"
            ],
            [
             0.8,
             "#7fbc41"
            ],
            [
             0.9,
             "#4d9221"
            ],
            [
             1,
             "#276419"
            ]
           ],
           "sequential": [
            [
             0,
             "#0d0887"
            ],
            [
             0.1111111111111111,
             "#46039f"
            ],
            [
             0.2222222222222222,
             "#7201a8"
            ],
            [
             0.3333333333333333,
             "#9c179e"
            ],
            [
             0.4444444444444444,
             "#bd3786"
            ],
            [
             0.5555555555555556,
             "#d8576b"
            ],
            [
             0.6666666666666666,
             "#ed7953"
            ],
            [
             0.7777777777777778,
             "#fb9f3a"
            ],
            [
             0.8888888888888888,
             "#fdca26"
            ],
            [
             1,
             "#f0f921"
            ]
           ],
           "sequentialminus": [
            [
             0,
             "#0d0887"
            ],
            [
             0.1111111111111111,
             "#46039f"
            ],
            [
             0.2222222222222222,
             "#7201a8"
            ],
            [
             0.3333333333333333,
             "#9c179e"
            ],
            [
             0.4444444444444444,
             "#bd3786"
            ],
            [
             0.5555555555555556,
             "#d8576b"
            ],
            [
             0.6666666666666666,
             "#ed7953"
            ],
            [
             0.7777777777777778,
             "#fb9f3a"
            ],
            [
             0.8888888888888888,
             "#fdca26"
            ],
            [
             1,
             "#f0f921"
            ]
           ]
          },
          "colorway": [
           "#636efa",
           "#EF553B",
           "#00cc96",
           "#ab63fa",
           "#FFA15A",
           "#19d3f3",
           "#FF6692",
           "#B6E880",
           "#FF97FF",
           "#FECB52"
          ],
          "font": {
           "color": "#2a3f5f"
          },
          "geo": {
           "bgcolor": "white",
           "lakecolor": "white",
           "landcolor": "#E5ECF6",
           "showlakes": true,
           "showland": true,
           "subunitcolor": "white"
          },
          "hoverlabel": {
           "align": "left"
          },
          "hovermode": "closest",
          "mapbox": {
           "style": "light"
          },
          "paper_bgcolor": "white",
          "plot_bgcolor": "#E5ECF6",
          "polar": {
           "angularaxis": {
            "gridcolor": "white",
            "linecolor": "white",
            "ticks": ""
           },
           "bgcolor": "#E5ECF6",
           "radialaxis": {
            "gridcolor": "white",
            "linecolor": "white",
            "ticks": ""
           }
          },
          "scene": {
           "xaxis": {
            "backgroundcolor": "#E5ECF6",
            "gridcolor": "white",
            "gridwidth": 2,
            "linecolor": "white",
            "showbackground": true,
            "ticks": "",
            "zerolinecolor": "white"
           },
           "yaxis": {
            "backgroundcolor": "#E5ECF6",
            "gridcolor": "white",
            "gridwidth": 2,
            "linecolor": "white",
            "showbackground": true,
            "ticks": "",
            "zerolinecolor": "white"
           },
           "zaxis": {
            "backgroundcolor": "#E5ECF6",
            "gridcolor": "white",
            "gridwidth": 2,
            "linecolor": "white",
            "showbackground": true,
            "ticks": "",
            "zerolinecolor": "white"
           }
          },
          "shapedefaults": {
           "line": {
            "color": "#2a3f5f"
           }
          },
          "ternary": {
           "aaxis": {
            "gridcolor": "white",
            "linecolor": "white",
            "ticks": ""
           },
           "baxis": {
            "gridcolor": "white",
            "linecolor": "white",
            "ticks": ""
           },
           "bgcolor": "#E5ECF6",
           "caxis": {
            "gridcolor": "white",
            "linecolor": "white",
            "ticks": ""
           }
          },
          "title": {
           "x": 0.05
          },
          "xaxis": {
           "automargin": true,
           "gridcolor": "white",
           "linecolor": "white",
           "ticks": "",
           "title": {
            "standoff": 15
           },
           "zerolinecolor": "white",
           "zerolinewidth": 2
          },
          "yaxis": {
           "automargin": true,
           "gridcolor": "white",
           "linecolor": "white",
           "ticks": "",
           "title": {
            "standoff": 15
           },
           "zerolinecolor": "white",
           "zerolinewidth": 2
          }
         }
        },
        "title": {
         "text": "Top 5 Fortnite YouTubers: Weekly Delta Views Timeseries"
        },
        "xaxis": {
         "title": {
          "text": "Date"
         }
        },
        "yaxis": {
         "title": {
          "text": "Delta Views"
         }
        }
       }
      }
     },
     "metadata": {},
     "output_type": "display_data"
    }
   ],
   "source": [
    "fig = go.Figure()\n",
    "\n",
    "for (game, game_df) in fortnite_df:\n",
    "    fig.add_trace(go.Scatter(\n",
    "        x=game_df['datetime'],\n",
    "        y=game_df['delta_views'],\n",
    "        mode='lines',\n",
    "        name=game,\n",
    "    ))\n",
    "\n",
    "fig.update_layout(\n",
    "        title=f\"Top 5 Fortnite YouTubers: Weekly {metric_txt} Timeseries\",\n",
    "        xaxis_title='Date',\n",
    "        yaxis_title=metric_txt,\n",
    "        showlegend=True\n",
    "    )\n",
    "\n",
    "fig.write_html(f\"plots/fortnite_timeseries.html\")\n",
    "\n",
    "fig.show()"
   ]
  },
  {
   "cell_type": "code",
   "execution_count": null,
   "metadata": {},
   "outputs": [],
   "source": []
  }
 ],
 "metadata": {
  "kernelspec": {
   "display_name": "ds",
   "language": "python",
   "name": "python3"
  },
  "language_info": {
   "codemirror_mode": {
    "name": "ipython",
    "version": 3
   },
   "file_extension": ".py",
   "mimetype": "text/x-python",
   "name": "python",
   "nbconvert_exporter": "python",
   "pygments_lexer": "ipython3",
   "version": "3.10.6"
  }
 },
 "nbformat": 4,
 "nbformat_minor": 2
}
