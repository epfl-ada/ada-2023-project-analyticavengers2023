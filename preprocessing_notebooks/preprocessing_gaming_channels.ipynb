{
 "cells": [
  {
   "cell_type": "code",
   "execution_count": 150,
   "metadata": {},
   "outputs": [],
   "source": [
    "import numpy as np\n",
    "import pandas as pd\n",
    "\n",
    "import statsmodels.formula.api as smf\n",
    "import statsmodels.api as sm\n",
    "from statsmodels.stats import diagnostic\n",
    "\n",
    "from scipy import stats\n",
    "import scipy.fft as sf\n",
    "\n",
    "import matplotlib.pyplot as plt\n"
   ]
  },
  {
   "cell_type": "markdown",
   "metadata": {},
   "source": [
    "# 0 - ***Selecting the Hand-Picked Sample***"
   ]
  },
  {
   "cell_type": "code",
   "execution_count": 151,
   "metadata": {},
   "outputs": [
    {
     "data": {
      "text/html": [
       "<div>\n",
       "<style scoped>\n",
       "    .dataframe tbody tr th:only-of-type {\n",
       "        vertical-align: middle;\n",
       "    }\n",
       "\n",
       "    .dataframe tbody tr th {\n",
       "        vertical-align: top;\n",
       "    }\n",
       "\n",
       "    .dataframe thead th {\n",
       "        text-align: right;\n",
       "    }\n",
       "</style>\n",
       "<table border=\"1\" class=\"dataframe\">\n",
       "  <thead>\n",
       "    <tr style=\"text-align: right;\">\n",
       "      <th></th>\n",
       "      <th>name_cc</th>\n",
       "      <th>game_category</th>\n",
       "    </tr>\n",
       "  </thead>\n",
       "  <tbody>\n",
       "    <tr>\n",
       "      <th>0</th>\n",
       "      <td>Klaus Gaming</td>\n",
       "      <td>Mobile Games</td>\n",
       "    </tr>\n",
       "    <tr>\n",
       "      <th>1</th>\n",
       "      <td>Past Amazing</td>\n",
       "      <td>Mobile Games</td>\n",
       "    </tr>\n",
       "    <tr>\n",
       "      <th>2</th>\n",
       "      <td>I JACK SPARROW COC</td>\n",
       "      <td>Mobile Games</td>\n",
       "    </tr>\n",
       "    <tr>\n",
       "      <th>3</th>\n",
       "      <td>Galadon Gaming</td>\n",
       "      <td>Mobile Games</td>\n",
       "    </tr>\n",
       "    <tr>\n",
       "      <th>4</th>\n",
       "      <td>Orange Juice Gaming</td>\n",
       "      <td>Mobile Games</td>\n",
       "    </tr>\n",
       "  </tbody>\n",
       "</table>\n",
       "</div>"
      ],
      "text/plain": [
       "               name_cc game_category\n",
       "0         Klaus Gaming  Mobile Games\n",
       "1         Past Amazing  Mobile Games\n",
       "2   I JACK SPARROW COC  Mobile Games\n",
       "3       Galadon Gaming  Mobile Games\n",
       "4  Orange Juice Gaming  Mobile Games"
      ]
     },
     "execution_count": 151,
     "metadata": {},
     "output_type": "execute_result"
    }
   ],
   "source": [
    "# Channel names and their respective game categories\n",
    "channels_data = {\n",
    "    'name_cc': ['Klaus Gaming', 'Past Amazing', 'I JACK SPARROW COC', 'Galadon Gaming', 'Orange Juice Gaming',\n",
    "                'IGN', 'The Game Theorists', 'League of Legends', 'Fortnite', 'PlayStation',\n",
    "                'Rockstar Games', 'Clash Royale', 'Clash of Clans',\n",
    "                'LispyJimmy', 'speedyw03', 'KjraGaming', 'XpertThief', 'DarkViperAU',\n",
    "                'Pianta', 'SkinSpotlights', 'KingStix', 'Trick2G', 'MagikarpUsedFly',\n",
    "                'Miniminter', 'Castro1021', 'NepentheZ', 'AA9skillz', 'ZwebackHD', 'bateson87',\n",
    "                'MrDalekJD', 'FaZe Clan', 'RaidAway', 'TheXclusiveAce', 'TheGamingRevolution',\n",
    "                'Ninja', 'Ali-A', 'Lachlan', 'LazarBeam', 'Tfue', 'BCC Trolling', 'Muselk',\n",
    "                'aLexBY11', 'Ceeday', 'Shroud', 'Fitz',\n",
    "                'DanTDM', 'PopularMMOs', 'SSundee', 'Logdotzip', 'Sky Does Everything',\n",
    "                'CaptainSparklez', 'TheSyndicateProject', 'stampylonghead', 'Mumbo Jumbo',\n",
    "                'Bajan Canadian', 'TheAtlanticCraft'],\n",
    "    'game_category': ['Mobile Games'] * 5 +\n",
    "                     ['Gaming News'] * 8 +\n",
    "                     ['GTA'] * 5 +\n",
    "                     ['LOL'] * 5 +\n",
    "                     ['FIFA'] * 6 +\n",
    "                     ['COD'] * 5 +\n",
    "                     ['Fortnite'] * 11 +\n",
    "                     ['Minecraft'] * 11\n",
    "}\n",
    "\n",
    "# Create the DataFrame\n",
    "sample_channels = pd.DataFrame(channels_data)\n",
    "sample_channels.head()"
   ]
  },
  {
   "cell_type": "code",
   "execution_count": 153,
   "metadata": {},
   "outputs": [],
   "source": [
    "# Save it at a parquet file\n",
    "sample_channels.to_parquet('data/sample_channels.parquet')"
   ]
  },
  {
   "cell_type": "markdown",
   "metadata": {},
   "source": [
    "# 1 - ***Channels***"
   ]
  },
  {
   "cell_type": "code",
   "execution_count": 154,
   "metadata": {},
   "outputs": [
    {
     "data": {
      "text/html": [
       "<div>\n",
       "<style scoped>\n",
       "    .dataframe tbody tr th:only-of-type {\n",
       "        vertical-align: middle;\n",
       "    }\n",
       "\n",
       "    .dataframe tbody tr th {\n",
       "        vertical-align: top;\n",
       "    }\n",
       "\n",
       "    .dataframe thead th {\n",
       "        text-align: right;\n",
       "    }\n",
       "</style>\n",
       "<table border=\"1\" class=\"dataframe\">\n",
       "  <thead>\n",
       "    <tr style=\"text-align: right;\">\n",
       "      <th></th>\n",
       "      <th>category_cc</th>\n",
       "      <th>join_date</th>\n",
       "      <th>channel</th>\n",
       "      <th>name_cc</th>\n",
       "      <th>subscribers_cc</th>\n",
       "      <th>videos_cc</th>\n",
       "      <th>subscriber_rank_sb</th>\n",
       "      <th>weights</th>\n",
       "    </tr>\n",
       "  </thead>\n",
       "  <tbody>\n",
       "    <tr>\n",
       "      <th>85694</th>\n",
       "      <td>Comedy</td>\n",
       "      <td>2015-05-30</td>\n",
       "      <td>UCMBtpPE5yfcfQEst1bXE9Qw</td>\n",
       "      <td>AlphaMaleBlake</td>\n",
       "      <td>27500</td>\n",
       "      <td>128</td>\n",
       "      <td>427309.0</td>\n",
       "      <td>8.8650</td>\n",
       "    </tr>\n",
       "    <tr>\n",
       "      <th>111650</th>\n",
       "      <td>Entertainment</td>\n",
       "      <td>2016-04-15</td>\n",
       "      <td>UCYesO8TBChbsbdSafIHHbPg</td>\n",
       "      <td>amare vine</td>\n",
       "      <td>15616</td>\n",
       "      <td>17</td>\n",
       "      <td>659557.0</td>\n",
       "      <td>8.0475</td>\n",
       "    </tr>\n",
       "    <tr>\n",
       "      <th>118090</th>\n",
       "      <td>Music</td>\n",
       "      <td>2017-01-02</td>\n",
       "      <td>UCnP69OBnhoGKXmb646JZG5Q</td>\n",
       "      <td>Damian Castillo</td>\n",
       "      <td>13700</td>\n",
       "      <td>72</td>\n",
       "      <td>722877.0</td>\n",
       "      <td>11.9615</td>\n",
       "    </tr>\n",
       "    <tr>\n",
       "      <th>112601</th>\n",
       "      <td>Music</td>\n",
       "      <td>2008-05-03</td>\n",
       "      <td>UCuRGV-VLazMp3xQf9YTd4uA</td>\n",
       "      <td>Vespa</td>\n",
       "      <td>15800</td>\n",
       "      <td>253</td>\n",
       "      <td>663976.0</td>\n",
       "      <td>9.0535</td>\n",
       "    </tr>\n",
       "    <tr>\n",
       "      <th>92522</th>\n",
       "      <td>Gaming</td>\n",
       "      <td>2011-11-26</td>\n",
       "      <td>UCo3WFJ_lboEYIpJdBfgnTng</td>\n",
       "      <td>Charlie Pryor</td>\n",
       "      <td>23800</td>\n",
       "      <td>1442</td>\n",
       "      <td>485372.0</td>\n",
       "      <td>10.1230</td>\n",
       "    </tr>\n",
       "  </tbody>\n",
       "</table>\n",
       "</div>"
      ],
      "text/plain": [
       "          category_cc   join_date                   channel          name_cc  \\\n",
       "85694          Comedy  2015-05-30  UCMBtpPE5yfcfQEst1bXE9Qw   AlphaMaleBlake   \n",
       "111650  Entertainment  2016-04-15  UCYesO8TBChbsbdSafIHHbPg       amare vine   \n",
       "118090          Music  2017-01-02  UCnP69OBnhoGKXmb646JZG5Q  Damian Castillo   \n",
       "112601          Music  2008-05-03  UCuRGV-VLazMp3xQf9YTd4uA            Vespa   \n",
       "92522          Gaming  2011-11-26  UCo3WFJ_lboEYIpJdBfgnTng    Charlie Pryor   \n",
       "\n",
       "        subscribers_cc  videos_cc  subscriber_rank_sb  weights  \n",
       "85694            27500        128            427309.0   8.8650  \n",
       "111650           15616         17            659557.0   8.0475  \n",
       "118090           13700         72            722877.0  11.9615  \n",
       "112601           15800        253            663976.0   9.0535  \n",
       "92522            23800       1442            485372.0  10.1230  "
      ]
     },
     "execution_count": 154,
     "metadata": {},
     "output_type": "execute_result"
    }
   ],
   "source": [
    "channels_df = pd.read_csv('data/df_channels_en.tsv.gz', sep='\\t', compression='infer')\n",
    "channels_df.sample(5)"
   ]
  },
  {
   "cell_type": "code",
   "execution_count": 155,
   "metadata": {},
   "outputs": [
    {
     "data": {
      "text/html": [
       "<div>\n",
       "<style scoped>\n",
       "    .dataframe tbody tr th:only-of-type {\n",
       "        vertical-align: middle;\n",
       "    }\n",
       "\n",
       "    .dataframe tbody tr th {\n",
       "        vertical-align: top;\n",
       "    }\n",
       "\n",
       "    .dataframe thead th {\n",
       "        text-align: right;\n",
       "    }\n",
       "</style>\n",
       "<table border=\"1\" class=\"dataframe\">\n",
       "  <thead>\n",
       "    <tr style=\"text-align: right;\">\n",
       "      <th></th>\n",
       "      <th>name_cc</th>\n",
       "      <th>game_category</th>\n",
       "    </tr>\n",
       "  </thead>\n",
       "  <tbody>\n",
       "    <tr>\n",
       "      <th>18</th>\n",
       "      <td>Pianta</td>\n",
       "      <td>LOL</td>\n",
       "    </tr>\n",
       "    <tr>\n",
       "      <th>31</th>\n",
       "      <td>RaidAway</td>\n",
       "      <td>COD</td>\n",
       "    </tr>\n",
       "    <tr>\n",
       "      <th>47</th>\n",
       "      <td>SSundee</td>\n",
       "      <td>Minecraft</td>\n",
       "    </tr>\n",
       "    <tr>\n",
       "      <th>43</th>\n",
       "      <td>Shroud</td>\n",
       "      <td>Fortnite</td>\n",
       "    </tr>\n",
       "    <tr>\n",
       "      <th>39</th>\n",
       "      <td>BCC Trolling</td>\n",
       "      <td>Fortnite</td>\n",
       "    </tr>\n",
       "  </tbody>\n",
       "</table>\n",
       "</div>"
      ],
      "text/plain": [
       "         name_cc game_category\n",
       "18        Pianta           LOL\n",
       "31      RaidAway           COD\n",
       "47       SSundee     Minecraft\n",
       "43        Shroud      Fortnite\n",
       "39  BCC Trolling      Fortnite"
      ]
     },
     "execution_count": 155,
     "metadata": {},
     "output_type": "execute_result"
    }
   ],
   "source": [
    "sample_channels = pd.read_parquet('data/gaming_channels_labelized.parquet')\n",
    "sample_channels.sample(5)"
   ]
  },
  {
   "cell_type": "code",
   "execution_count": 156,
   "metadata": {},
   "outputs": [
    {
     "name": "stdout",
     "output_type": "stream",
     "text": [
      "56 channels sampled\n"
     ]
    }
   ],
   "source": [
    "print(f'{len(sample_channels)} channels sampled')"
   ]
  },
  {
   "cell_type": "code",
   "execution_count": 157,
   "metadata": {},
   "outputs": [
    {
     "data": {
      "text/html": [
       "<div>\n",
       "<style scoped>\n",
       "    .dataframe tbody tr th:only-of-type {\n",
       "        vertical-align: middle;\n",
       "    }\n",
       "\n",
       "    .dataframe tbody tr th {\n",
       "        vertical-align: top;\n",
       "    }\n",
       "\n",
       "    .dataframe thead th {\n",
       "        text-align: right;\n",
       "    }\n",
       "</style>\n",
       "<table border=\"1\" class=\"dataframe\">\n",
       "  <thead>\n",
       "    <tr style=\"text-align: right;\">\n",
       "      <th></th>\n",
       "      <th>category_cc</th>\n",
       "      <th>join_date</th>\n",
       "      <th>channel</th>\n",
       "      <th>name_cc</th>\n",
       "      <th>subscribers_cc</th>\n",
       "      <th>videos_cc</th>\n",
       "      <th>subscriber_rank_sb</th>\n",
       "      <th>weights</th>\n",
       "      <th>game_category</th>\n",
       "    </tr>\n",
       "  </thead>\n",
       "  <tbody>\n",
       "    <tr>\n",
       "      <th>24</th>\n",
       "      <td>Gaming</td>\n",
       "      <td>2014-10-26</td>\n",
       "      <td>UCZyxY8Q7xgUCXfFViWkjrSw</td>\n",
       "      <td>Ceeday</td>\n",
       "      <td>6480000</td>\n",
       "      <td>384</td>\n",
       "      <td>1007.0</td>\n",
       "      <td>2.0870</td>\n",
       "      <td>Fortnite</td>\n",
       "    </tr>\n",
       "    <tr>\n",
       "      <th>3</th>\n",
       "      <td>Gaming</td>\n",
       "      <td>2006-09-13</td>\n",
       "      <td>UCYVinkwSX7szARULgYpvhLw</td>\n",
       "      <td>Ali-A</td>\n",
       "      <td>16500000</td>\n",
       "      <td>3263</td>\n",
       "      <td>196.0</td>\n",
       "      <td>2.0870</td>\n",
       "      <td>Fortnite</td>\n",
       "    </tr>\n",
       "    <tr>\n",
       "      <th>48</th>\n",
       "      <td>Gaming</td>\n",
       "      <td>2012-09-18</td>\n",
       "      <td>UCaN1rig0bL7SUod2WN0P8XA</td>\n",
       "      <td>TheXclusiveAce</td>\n",
       "      <td>470964</td>\n",
       "      <td>2398</td>\n",
       "      <td>31459.0</td>\n",
       "      <td>3.1420</td>\n",
       "      <td>COD</td>\n",
       "    </tr>\n",
       "    <tr>\n",
       "      <th>17</th>\n",
       "      <td>Gaming</td>\n",
       "      <td>2011-07-29</td>\n",
       "      <td>UCj5i58mCkAREDqFWlhaQbOw</td>\n",
       "      <td>stampylonghead</td>\n",
       "      <td>9270000</td>\n",
       "      <td>3470</td>\n",
       "      <td>623.0</td>\n",
       "      <td>2.0870</td>\n",
       "      <td>Minecraft</td>\n",
       "    </tr>\n",
       "    <tr>\n",
       "      <th>43</th>\n",
       "      <td>Gaming</td>\n",
       "      <td>2008-12-22</td>\n",
       "      <td>UCJ47W_WzuzbHaONWB5a9i7w</td>\n",
       "      <td>bateson87</td>\n",
       "      <td>1330000</td>\n",
       "      <td>4885</td>\n",
       "      <td>11095.0</td>\n",
       "      <td>2.6335</td>\n",
       "      <td>FIFA</td>\n",
       "    </tr>\n",
       "  </tbody>\n",
       "</table>\n",
       "</div>"
      ],
      "text/plain": [
       "   category_cc   join_date                   channel         name_cc  \\\n",
       "24      Gaming  2014-10-26  UCZyxY8Q7xgUCXfFViWkjrSw          Ceeday   \n",
       "3       Gaming  2006-09-13  UCYVinkwSX7szARULgYpvhLw           Ali-A   \n",
       "48      Gaming  2012-09-18  UCaN1rig0bL7SUod2WN0P8XA  TheXclusiveAce   \n",
       "17      Gaming  2011-07-29  UCj5i58mCkAREDqFWlhaQbOw  stampylonghead   \n",
       "43      Gaming  2008-12-22  UCJ47W_WzuzbHaONWB5a9i7w       bateson87   \n",
       "\n",
       "    subscribers_cc  videos_cc  subscriber_rank_sb  weights game_category  \n",
       "24         6480000        384              1007.0   2.0870      Fortnite  \n",
       "3         16500000       3263               196.0   2.0870      Fortnite  \n",
       "48          470964       2398             31459.0   3.1420           COD  \n",
       "17         9270000       3470               623.0   2.0870     Minecraft  \n",
       "43         1330000       4885             11095.0   2.6335          FIFA  "
      ]
     },
     "execution_count": 157,
     "metadata": {},
     "output_type": "execute_result"
    }
   ],
   "source": [
    "sample_channels_df = pd.merge(channels_df, sample_channels, how='inner')\n",
    "sample_channels_df.sample(5)"
   ]
  },
  {
   "cell_type": "code",
   "execution_count": 158,
   "metadata": {},
   "outputs": [
    {
     "name": "stdout",
     "output_type": "stream",
     "text": [
      "Sampled channels df saved!\n"
     ]
    }
   ],
   "source": [
    "sample_channels.to_parquet('data/df_sample_channels.parquet')\n",
    "print('Sampled channels df saved!')"
   ]
  },
  {
   "cell_type": "markdown",
   "metadata": {},
   "source": [
    "# 2 - ***Timeseries***"
   ]
  },
  {
   "cell_type": "code",
   "execution_count": 159,
   "metadata": {},
   "outputs": [],
   "source": [
    "timeseries_df = pd.read_csv('data/df_timeseries_en.tsv.gz', sep='\\t', compression='infer')\n",
    "timeseries_df['datetime'] = pd.to_datetime(timeseries_df['datetime'])\n",
    "timeseries_df.head()"
   ]
  },
  {
   "cell_type": "code",
   "execution_count": null,
   "metadata": {},
   "outputs": [
    {
     "data": {
      "text/html": [
       "<div>\n",
       "<style scoped>\n",
       "    .dataframe tbody tr th:only-of-type {\n",
       "        vertical-align: middle;\n",
       "    }\n",
       "\n",
       "    .dataframe tbody tr th {\n",
       "        vertical-align: top;\n",
       "    }\n",
       "\n",
       "    .dataframe thead th {\n",
       "        text-align: right;\n",
       "    }\n",
       "</style>\n",
       "<table border=\"1\" class=\"dataframe\">\n",
       "  <thead>\n",
       "    <tr style=\"text-align: right;\">\n",
       "      <th></th>\n",
       "      <th>channel</th>\n",
       "      <th>category</th>\n",
       "      <th>datetime</th>\n",
       "      <th>views</th>\n",
       "      <th>delta_views</th>\n",
       "      <th>subs</th>\n",
       "      <th>delta_subs</th>\n",
       "      <th>videos</th>\n",
       "      <th>delta_videos</th>\n",
       "      <th>activity</th>\n",
       "      <th>channel_name</th>\n",
       "      <th>game_category</th>\n",
       "    </tr>\n",
       "  </thead>\n",
       "  <tbody>\n",
       "    <tr>\n",
       "      <th>0</th>\n",
       "      <td>UCpGdL9Sn3Q5YWUH2DVUW1Ug</td>\n",
       "      <td>Gaming</td>\n",
       "      <td>2016-10-10 00:00:00</td>\n",
       "      <td>6.708559e+09</td>\n",
       "      <td>1.359029e+07</td>\n",
       "      <td>9.150939e+06</td>\n",
       "      <td>0.000000</td>\n",
       "      <td>3255</td>\n",
       "      <td>0</td>\n",
       "      <td>29</td>\n",
       "      <td>PopularMMOs</td>\n",
       "      <td>Minecraft</td>\n",
       "    </tr>\n",
       "    <tr>\n",
       "      <th>1</th>\n",
       "      <td>UCpGdL9Sn3Q5YWUH2DVUW1Ug</td>\n",
       "      <td>Gaming</td>\n",
       "      <td>2016-10-17 00:00:00</td>\n",
       "      <td>6.756017e+09</td>\n",
       "      <td>4.745762e+07</td>\n",
       "      <td>9.224396e+06</td>\n",
       "      <td>73457.375000</td>\n",
       "      <td>3266</td>\n",
       "      <td>11</td>\n",
       "      <td>26</td>\n",
       "      <td>PopularMMOs</td>\n",
       "      <td>Minecraft</td>\n",
       "    </tr>\n",
       "    <tr>\n",
       "      <th>2</th>\n",
       "      <td>UCpGdL9Sn3Q5YWUH2DVUW1Ug</td>\n",
       "      <td>Gaming</td>\n",
       "      <td>2016-10-24 00:00:00</td>\n",
       "      <td>6.802824e+09</td>\n",
       "      <td>4.680721e+07</td>\n",
       "      <td>9.284667e+06</td>\n",
       "      <td>60270.875000</td>\n",
       "      <td>3280</td>\n",
       "      <td>14</td>\n",
       "      <td>29</td>\n",
       "      <td>PopularMMOs</td>\n",
       "      <td>Minecraft</td>\n",
       "    </tr>\n",
       "    <tr>\n",
       "      <th>3</th>\n",
       "      <td>UCpGdL9Sn3Q5YWUH2DVUW1Ug</td>\n",
       "      <td>Gaming</td>\n",
       "      <td>2016-10-30 23:00:00</td>\n",
       "      <td>6.849790e+09</td>\n",
       "      <td>4.696586e+07</td>\n",
       "      <td>9.333509e+06</td>\n",
       "      <td>48841.865285</td>\n",
       "      <td>3292</td>\n",
       "      <td>12</td>\n",
       "      <td>31</td>\n",
       "      <td>PopularMMOs</td>\n",
       "      <td>Minecraft</td>\n",
       "    </tr>\n",
       "    <tr>\n",
       "      <th>4</th>\n",
       "      <td>UCpGdL9Sn3Q5YWUH2DVUW1Ug</td>\n",
       "      <td>Gaming</td>\n",
       "      <td>2016-11-06 23:00:00</td>\n",
       "      <td>6.890571e+09</td>\n",
       "      <td>4.078041e+07</td>\n",
       "      <td>9.375919e+06</td>\n",
       "      <td>42410.384715</td>\n",
       "      <td>3304</td>\n",
       "      <td>12</td>\n",
       "      <td>28</td>\n",
       "      <td>PopularMMOs</td>\n",
       "      <td>Minecraft</td>\n",
       "    </tr>\n",
       "  </tbody>\n",
       "</table>\n",
       "</div>"
      ],
      "text/plain": [
       "                    channel category            datetime         views  \\\n",
       "0  UCpGdL9Sn3Q5YWUH2DVUW1Ug   Gaming 2016-10-10 00:00:00  6.708559e+09   \n",
       "1  UCpGdL9Sn3Q5YWUH2DVUW1Ug   Gaming 2016-10-17 00:00:00  6.756017e+09   \n",
       "2  UCpGdL9Sn3Q5YWUH2DVUW1Ug   Gaming 2016-10-24 00:00:00  6.802824e+09   \n",
       "3  UCpGdL9Sn3Q5YWUH2DVUW1Ug   Gaming 2016-10-30 23:00:00  6.849790e+09   \n",
       "4  UCpGdL9Sn3Q5YWUH2DVUW1Ug   Gaming 2016-11-06 23:00:00  6.890571e+09   \n",
       "\n",
       "    delta_views          subs    delta_subs  videos  delta_videos  activity  \\\n",
       "0  1.359029e+07  9.150939e+06      0.000000    3255             0        29   \n",
       "1  4.745762e+07  9.224396e+06  73457.375000    3266            11        26   \n",
       "2  4.680721e+07  9.284667e+06  60270.875000    3280            14        29   \n",
       "3  4.696586e+07  9.333509e+06  48841.865285    3292            12        31   \n",
       "4  4.078041e+07  9.375919e+06  42410.384715    3304            12        28   \n",
       "\n",
       "  channel_name game_category  \n",
       "0  PopularMMOs     Minecraft  \n",
       "1  PopularMMOs     Minecraft  \n",
       "2  PopularMMOs     Minecraft  \n",
       "3  PopularMMOs     Minecraft  \n",
       "4  PopularMMOs     Minecraft  "
      ]
     },
     "execution_count": 134,
     "metadata": {},
     "output_type": "execute_result"
    }
   ],
   "source": [
    "sample_timeseries_df = pd.merge(left=timeseries_df, right=sample_channels_df[['channel', 'name_cc', 'game_category']])\n",
    "sample_timeseries_df = sample_timeseries_df.rename(columns={'name_cc': 'channel_name'})\n",
    "sample_timeseries_df.head()"
   ]
  },
  {
   "cell_type": "code",
   "execution_count": null,
   "metadata": {},
   "outputs": [
    {
     "data": {
      "text/plain": [
       "154"
      ]
     },
     "execution_count": 135,
     "metadata": {},
     "output_type": "execute_result"
    }
   ],
   "source": [
    "N = sample_channels.shape[0]\n",
    "dt = sample_timeseries_df.datetime.value_counts()\n",
    "valid_dt = dt[dt == N].index\n",
    "len(valid_dt)"
   ]
  },
  {
   "cell_type": "code",
   "execution_count": null,
   "metadata": {},
   "outputs": [
    {
     "data": {
      "text/plain": [
       "(8624, 12)"
      ]
     },
     "execution_count": 136,
     "metadata": {},
     "output_type": "execute_result"
    }
   ],
   "source": [
    "sample_timeseries_df = sample_timeseries_df[sample_timeseries_df.datetime.isin(valid_dt)]\n",
    "sample_timeseries_df.shape"
   ]
  },
  {
   "cell_type": "code",
   "execution_count": null,
   "metadata": {},
   "outputs": [
    {
     "name": "stdout",
     "output_type": "stream",
     "text": [
      "Sampled timeseries df saved!\n"
     ]
    }
   ],
   "source": [
    "sample_timeseries_df.to_parquet('data/df_sample_timeseries.parquet')\n",
    "print('Sampled timeseries df saved!')"
   ]
  }
 ],
 "metadata": {
  "kernelspec": {
   "display_name": "ds",
   "language": "python",
   "name": "python3"
  },
  "language_info": {
   "codemirror_mode": {
    "name": "ipython",
    "version": 3
   },
   "file_extension": ".py",
   "mimetype": "text/x-python",
   "name": "python",
   "nbconvert_exporter": "python",
   "pygments_lexer": "ipython3",
   "version": "3.11.4"
  }
 },
 "nbformat": 4,
 "nbformat_minor": 2
}
