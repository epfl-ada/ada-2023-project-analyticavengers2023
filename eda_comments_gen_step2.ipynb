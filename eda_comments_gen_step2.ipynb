{
 "cells": [
  {
   "cell_type": "code",
   "execution_count": 33,
   "metadata": {},
   "outputs": [],
   "source": [
    "import pandas as pd\n",
    "import numpy as np\n",
    "import matplotlib.pyplot as plt\n",
    "import seaborn as sns\n",
    "\n",
    "sns.set()\n",
    "\n",
    "# Path setting\n",
    "comments_file_path = 'data/youtube_comments.tsv.gz'\n",
    "top_commenters_file_path = 'data/top_commenters.parquet'\n",
    "video_metadata_file_path = 'data/yt_metadata_helper.feather'"
   ]
  },
  {
   "cell_type": "markdown",
   "metadata": {},
   "source": [
    "#### Helper functions"
   ]
  },
  {
   "cell_type": "code",
   "execution_count": 34,
   "metadata": {},
   "outputs": [],
   "source": [
    "def update_category_counts(chunk, top_commenters_df, video_metadata_df, comments_authors_cat_df):\n",
    "    \"\"\"\n",
    "        Function to update the comments_authors_cat_df DataFrame\n",
    "    \"\"\"\n",
    "\n",
    "    # Merge chunk to get author id match and video id match\n",
    "    chunk_merged = pd.merge(chunk, top_commenters_df, on='author', how='inner')\n",
    "    chunk_merged = pd.merge(chunk, video_metadata_df, on='video_id', how='inner')\n",
    "\n",
    "    # Iterate over rows and update comments_authors_cat_df\n",
    "    for _, row in chunk_merged.iterrows():\n",
    "        author_id = row['author']\n",
    "        category = row['categories']\n",
    "        comments_authors_cat_df.loc[comments_authors_cat_df['author'] == author_id, f'{category}_count'] += 1\n",
    "\n",
    "    return comments_authors_cat_df"
   ]
  },
  {
   "cell_type": "markdown",
   "metadata": {},
   "source": [
    "#### Load dataset"
   ]
  },
  {
   "cell_type": "code",
   "execution_count": 35,
   "metadata": {},
   "outputs": [
    {
     "ename": "KeyboardInterrupt",
     "evalue": "",
     "output_type": "error",
     "traceback": [
      "\u001b[0;31m---------------------------------------------------------------------------\u001b[0m",
      "\u001b[0;31mKeyboardInterrupt\u001b[0m                         Traceback (most recent call last)",
      "Cell \u001b[0;32mIn[35], line 3\u001b[0m\n\u001b[1;32m      1\u001b[0m \u001b[39m# Get Top comments and Videos's metadata\u001b[39;00m\n\u001b[1;32m      2\u001b[0m top_commenters_df \u001b[39m=\u001b[39m pd\u001b[39m.\u001b[39mread_parquet(top_commenters_file_path)\n\u001b[0;32m----> 3\u001b[0m video_metadata_df \u001b[39m=\u001b[39m pd\u001b[39m.\u001b[39;49mread_feather(video_metadata_file_path)\n\u001b[1;32m      5\u001b[0m \u001b[39m# Init comments_authors_cat_df \u001b[39;00m\n\u001b[1;32m      6\u001b[0m categories \u001b[39m=\u001b[39m video_metadata_df[\u001b[39m'\u001b[39m\u001b[39mcategory\u001b[39m\u001b[39m'\u001b[39m]\u001b[39m.\u001b[39munique()\n",
      "File \u001b[0;32m~/opt/miniconda3/envs/DataScience/lib/python3.11/site-packages/pandas/io/feather_format.py:148\u001b[0m, in \u001b[0;36mread_feather\u001b[0;34m(path, columns, use_threads, storage_options, dtype_backend)\u001b[0m\n\u001b[1;32m    144\u001b[0m \u001b[39mwith\u001b[39;00m get_handle(\n\u001b[1;32m    145\u001b[0m     path, \u001b[39m\"\u001b[39m\u001b[39mrb\u001b[39m\u001b[39m\"\u001b[39m, storage_options\u001b[39m=\u001b[39mstorage_options, is_text\u001b[39m=\u001b[39m\u001b[39mFalse\u001b[39;00m\n\u001b[1;32m    146\u001b[0m ) \u001b[39mas\u001b[39;00m handles:\n\u001b[1;32m    147\u001b[0m     \u001b[39mif\u001b[39;00m dtype_backend \u001b[39mis\u001b[39;00m lib\u001b[39m.\u001b[39mno_default:\n\u001b[0;32m--> 148\u001b[0m         \u001b[39mreturn\u001b[39;00m feather\u001b[39m.\u001b[39;49mread_feather(\n\u001b[1;32m    149\u001b[0m             handles\u001b[39m.\u001b[39;49mhandle, columns\u001b[39m=\u001b[39;49mcolumns, use_threads\u001b[39m=\u001b[39;49m\u001b[39mbool\u001b[39;49m(use_threads)\n\u001b[1;32m    150\u001b[0m         )\n\u001b[1;32m    152\u001b[0m     pa_table \u001b[39m=\u001b[39m feather\u001b[39m.\u001b[39mread_table(\n\u001b[1;32m    153\u001b[0m         handles\u001b[39m.\u001b[39mhandle, columns\u001b[39m=\u001b[39mcolumns, use_threads\u001b[39m=\u001b[39m\u001b[39mbool\u001b[39m(use_threads)\n\u001b[1;32m    154\u001b[0m     )\n\u001b[1;32m    156\u001b[0m     \u001b[39mif\u001b[39;00m dtype_backend \u001b[39m==\u001b[39m \u001b[39m\"\u001b[39m\u001b[39mnumpy_nullable\u001b[39m\u001b[39m\"\u001b[39m:\n",
      "File \u001b[0;32m~/opt/miniconda3/envs/DataScience/lib/python3.11/site-packages/pyarrow/feather.py:226\u001b[0m, in \u001b[0;36mread_feather\u001b[0;34m(source, columns, use_threads, memory_map, **kwargs)\u001b[0m\n\u001b[1;32m    199\u001b[0m \u001b[39mdef\u001b[39;00m \u001b[39mread_feather\u001b[39m(source, columns\u001b[39m=\u001b[39m\u001b[39mNone\u001b[39;00m, use_threads\u001b[39m=\u001b[39m\u001b[39mTrue\u001b[39;00m,\n\u001b[1;32m    200\u001b[0m                  memory_map\u001b[39m=\u001b[39m\u001b[39mFalse\u001b[39;00m, \u001b[39m*\u001b[39m\u001b[39m*\u001b[39mkwargs):\n\u001b[1;32m    201\u001b[0m \u001b[39m    \u001b[39m\u001b[39m\"\"\"\u001b[39;00m\n\u001b[1;32m    202\u001b[0m \u001b[39m    Read a pandas.DataFrame from Feather format. To read as pyarrow.Table use\u001b[39;00m\n\u001b[1;32m    203\u001b[0m \u001b[39m    feather.read_table.\u001b[39;00m\n\u001b[0;32m   (...)\u001b[0m\n\u001b[1;32m    224\u001b[0m \u001b[39m        The contents of the Feather file as a pandas.DataFrame\u001b[39;00m\n\u001b[1;32m    225\u001b[0m \u001b[39m    \"\"\"\u001b[39;00m\n\u001b[0;32m--> 226\u001b[0m     \u001b[39mreturn\u001b[39;00m (read_table(\n\u001b[1;32m    227\u001b[0m         source, columns\u001b[39m=\u001b[39;49mcolumns, memory_map\u001b[39m=\u001b[39;49mmemory_map,\n\u001b[1;32m    228\u001b[0m         use_threads\u001b[39m=\u001b[39;49muse_threads)\u001b[39m.\u001b[39mto_pandas(use_threads\u001b[39m=\u001b[39muse_threads, \u001b[39m*\u001b[39m\u001b[39m*\u001b[39mkwargs))\n",
      "File \u001b[0;32m~/opt/miniconda3/envs/DataScience/lib/python3.11/site-packages/pyarrow/feather.py:252\u001b[0m, in \u001b[0;36mread_table\u001b[0;34m(source, columns, memory_map, use_threads)\u001b[0m\n\u001b[1;32m    231\u001b[0m \u001b[39mdef\u001b[39;00m \u001b[39mread_table\u001b[39m(source, columns\u001b[39m=\u001b[39m\u001b[39mNone\u001b[39;00m, memory_map\u001b[39m=\u001b[39m\u001b[39mFalse\u001b[39;00m, use_threads\u001b[39m=\u001b[39m\u001b[39mTrue\u001b[39;00m):\n\u001b[1;32m    232\u001b[0m \u001b[39m    \u001b[39m\u001b[39m\"\"\"\u001b[39;00m\n\u001b[1;32m    233\u001b[0m \u001b[39m    Read a pyarrow.Table from Feather format\u001b[39;00m\n\u001b[1;32m    234\u001b[0m \n\u001b[0;32m   (...)\u001b[0m\n\u001b[1;32m    250\u001b[0m \u001b[39m        The contents of the Feather file as a pyarrow.Table\u001b[39;00m\n\u001b[1;32m    251\u001b[0m \u001b[39m    \"\"\"\u001b[39;00m\n\u001b[0;32m--> 252\u001b[0m     reader \u001b[39m=\u001b[39m _feather\u001b[39m.\u001b[39;49mFeatherReader(\n\u001b[1;32m    253\u001b[0m         source, use_memory_map\u001b[39m=\u001b[39;49mmemory_map, use_threads\u001b[39m=\u001b[39;49muse_threads)\n\u001b[1;32m    255\u001b[0m     \u001b[39mif\u001b[39;00m columns \u001b[39mis\u001b[39;00m \u001b[39mNone\u001b[39;00m:\n\u001b[1;32m    256\u001b[0m         \u001b[39mreturn\u001b[39;00m reader\u001b[39m.\u001b[39mread()\n",
      "File \u001b[0;32m~/opt/miniconda3/envs/DataScience/lib/python3.11/site-packages/pyarrow/_feather.pyx:79\u001b[0m, in \u001b[0;36mpyarrow._feather.FeatherReader.__cinit__\u001b[0;34m()\u001b[0m\n",
      "File \u001b[0;32m~/opt/miniconda3/envs/DataScience/lib/python3.11/site-packages/pyarrow/error.pxi:144\u001b[0m, in \u001b[0;36mpyarrow.lib.pyarrow_internal_check_status\u001b[0;34m()\u001b[0m\n",
      "\u001b[0;31mKeyboardInterrupt\u001b[0m: "
     ]
    }
   ],
   "source": [
    "# Get Top comments and Videos's metadata\n",
    "top_commenters_df = pd.read_parquet(top_commenters_file_path)\n",
    "video_metadata_df = pd.read_feather(video_metadata_file_path)[['display_id', 'categories']].rename(columns={'display_id': 'video_id'})\n",
    "\n",
    "# Init comments_authors_cat_df \n",
    "categories = video_metadata_df['categories'].unique()\n",
    "columns = ['author', 'number_comm'] + [f'{cat}_count' for cat in categories]\n",
    "comments_authors_cat_df = pd.DataFrame(0, index=top_commenters_df['author'], columns=columns)\n",
    "\n",
    "display(comments_authors_cat_df.head())"
   ]
  },
  {
   "cell_type": "code",
   "execution_count": null,
   "metadata": {},
   "outputs": [],
   "source": [
    "# Chunk size\n",
    "chunk_size = 10**6  \n",
    "\n",
    "verbose_count = 0\n",
    "# Pass and loop\n",
    "for chunk in pd.read_csv(comments_file_path, sep='\\t', compression='gzip', chunksize=chunk_size):\n",
    "    \n",
    "    comments_authors_cat_df = update_category_counts(chunk, top_commenters_df, video_metadata_df, comments_authors_cat_df)\n",
    "    \n",
    "    # Verbose\n",
    "    verbose_count += chunk\n",
    "    percentage_covered = (verbose_count / 8.6e9) * 100\n",
    "    if percentage_covered % 20 == 0:\n",
    "        print(f\"Percentage of comments covered: {percentage_covered:.2f}%\")\n",
    "\n",
    "# Reset index \n",
    "comments_authors_cat_df.reset_index(inplace=True)"
   ]
  },
  {
   "cell_type": "code",
   "execution_count": null,
   "metadata": {},
   "outputs": [],
   "source": [
    "# Safety check\n",
    "comments_authors_cat_df.info()"
   ]
  },
  {
   "cell_type": "code",
   "execution_count": null,
   "metadata": {},
   "outputs": [],
   "source": [
    "# Save it\n",
    "comments_authors_cat_df.to_parquet(path='data/comments_authors_categories.parquet')"
   ]
  }
 ],
 "metadata": {
  "kernelspec": {
   "display_name": "DataScience",
   "language": "python",
   "name": "python3"
  },
  "language_info": {
   "codemirror_mode": {
    "name": "ipython",
    "version": 3
   },
   "file_extension": ".py",
   "mimetype": "text/x-python",
   "name": "python",
   "nbconvert_exporter": "python",
   "pygments_lexer": "ipython3",
   "version": "3.11.4"
  },
  "orig_nbformat": 4
 },
 "nbformat": 4,
 "nbformat_minor": 2
}
