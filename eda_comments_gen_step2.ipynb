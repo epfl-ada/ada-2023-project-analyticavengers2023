{
 "cells": [
  {
   "cell_type": "code",
   "execution_count": null,
   "metadata": {},
   "outputs": [],
   "source": [
    "import pandas as pd\n",
    "import numpy as np\n",
    "import matplotlib.pyplot as plt\n",
    "import seaborn as sns\n",
    "\n",
    "sns.set()\n",
    "\n",
    "# Path setting\n",
    "comments_file_path = 'data/YouTube_comments.tsv.gz'\n",
    "top_commenters_file_path = 'data/top_commenters.parquet'\n",
    "video_metadata_file_path = 'data/video_metadata.feather'"
   ]
  },
  {
   "cell_type": "markdown",
   "metadata": {},
   "source": [
    "#### Helper functions"
   ]
  },
  {
   "cell_type": "code",
   "execution_count": 31,
   "metadata": {},
   "outputs": [],
   "source": [
    "def update_category_counts(chunk, top_commenters_df, video_metadata_df, comments_authors_cat_df):\n",
    "    \"\"\"\n",
    "        Function to update the comments_authors_cat_df DataFrame\n",
    "    \"\"\"\n",
    "\n",
    "    # Merge chunk to get author id match and video id match\n",
    "    chunk_merged = pd.merge(chunk, top_commenters_df, on='author_id', how='inner')\n",
    "    chunk_merged = pd.merge(chunk, video_metadata_df, on='video_id', how='inner')\n",
    "\n",
    "    # Iterate over rows and update comments_authors_cat_df\n",
    "    for _, row in chunk_merged.iterrows():\n",
    "        author_id = row['author_id']\n",
    "        category = row['category']\n",
    "        comments_authors_cat_df.loc[comments_authors_cat_df['author_id'] == author_id, f'{category}_count'] += 1\n",
    "\n",
    "    return comments_authors_cat_df"
   ]
  },
  {
   "cell_type": "markdown",
   "metadata": {},
   "source": [
    "#### Load dataset"
   ]
  },
  {
   "cell_type": "code",
   "execution_count": null,
   "metadata": {},
   "outputs": [],
   "source": [
    "# Get Top comments and Videos's metadata\n",
    "top_commenters_df = pd.read_parquet(top_commenters_file_path)\n",
    "video_metadata_df = pd.read_feather(video_metadata_file_path)\n",
    "\n",
    "# Init comments_authors_cat_df \n",
    "categories = video_metadata_df['category'].unique()\n",
    "columns = ['author_id', 'number_comm'] + [f'{cat}_count' for cat in categories]\n",
    "comments_authors_cat_df = pd.DataFrame(0, index=top_commenters_df['author_id'], columns=columns)\n",
    "\n",
    "# Chunk size\n",
    "chunk_size = 10**6  \n",
    "\n",
    "verbose_count = 0\n",
    "# Pass and loop\n",
    "for chunk in pd.read_csv(comments_file_path, sep='\\t', compression='gzip', chunksize=chunk_size):\n",
    "    \n",
    "    comments_authors_cat_df = update_category_counts(chunk, top_commenters_df, video_metadata_df, comments_authors_cat_df)\n",
    "    \n",
    "    # Verbose\n",
    "    verbose_count += chunk\n",
    "    percentage_covered = (verbose_count / 8.6e9) * 100\n",
    "    if percentage_covered % 20 == 0:\n",
    "        print(f\"Percentage of comments covered: {percentage_covered:.2f}%\")\n",
    "\n",
    "# Reset index \n",
    "comments_authors_cat_df.reset_index(inplace=True)"
   ]
  },
  {
   "cell_type": "code",
   "execution_count": null,
   "metadata": {},
   "outputs": [],
   "source": [
    "# Safety check\n",
    "comments_authors_cat_df.info()"
   ]
  },
  {
   "cell_type": "code",
   "execution_count": null,
   "metadata": {},
   "outputs": [],
   "source": [
    "# Save it\n",
    "comments_authors_cat_df.to_parquet(path='data/comments_authors_categories.parquet')"
   ]
  }
 ],
 "metadata": {
  "kernelspec": {
   "display_name": "DataScience",
   "language": "python",
   "name": "python3"
  },
  "language_info": {
   "codemirror_mode": {
    "name": "ipython",
    "version": 3
   },
   "file_extension": ".py",
   "mimetype": "text/x-python",
   "name": "python",
   "nbconvert_exporter": "python",
   "pygments_lexer": "ipython3",
   "version": "3.11.4"
  },
  "orig_nbformat": 4
 },
 "nbformat": 4,
 "nbformat_minor": 2
}
