{
 "cells": [
  {
   "cell_type": "code",
   "execution_count": 1,
   "metadata": {},
   "outputs": [],
   "source": [
    "import pandas as pd\n",
    "import numpy as np\n",
    "import matplotlib.pyplot as plt\n",
    "import seaborn as sns\n",
    "\n",
    "sns.set()"
   ]
  },
  {
   "cell_type": "markdown",
   "metadata": {},
   "source": [
    "## Data exploration"
   ]
  },
  {
   "cell_type": "markdown",
   "metadata": {},
   "source": [
    "> Before diving in the huge comments dataset containing more than 1 billions comments we will go through the 2 large dataset containing information about number of comments per author and number of comments per videos "
   ]
  },
  {
   "cell_type": "code",
   "execution_count": 3,
   "metadata": {},
   "outputs": [],
   "source": [
    "# Load the 2 datasets\n",
    "num_comments = pd.read_csv(\"data/num_comments.tsv\", sep=\"\\t\")\n",
    "num_comments_authors = pd.read_csv(\"data/num_comments_authors.tsv\", sep=\"\\t\")"
   ]
  },
  {
   "cell_type": "markdown",
   "metadata": {},
   "source": [
    "### 1. Video comments dataset"
   ]
  },
  {
   "cell_type": "code",
   "execution_count": 4,
   "metadata": {},
   "outputs": [
    {
     "data": {
      "text/html": [
       "<div>\n",
       "<style scoped>\n",
       "    .dataframe tbody tr th:only-of-type {\n",
       "        vertical-align: middle;\n",
       "    }\n",
       "\n",
       "    .dataframe tbody tr th {\n",
       "        vertical-align: top;\n",
       "    }\n",
       "\n",
       "    .dataframe thead th {\n",
       "        text-align: right;\n",
       "    }\n",
       "</style>\n",
       "<table border=\"1\" class=\"dataframe\">\n",
       "  <thead>\n",
       "    <tr style=\"text-align: right;\">\n",
       "      <th></th>\n",
       "      <th>display_id</th>\n",
       "      <th>num_comms</th>\n",
       "    </tr>\n",
       "  </thead>\n",
       "  <tbody>\n",
       "    <tr>\n",
       "      <th>0</th>\n",
       "      <td>SBqSc91Hn9g</td>\n",
       "      <td>0.0</td>\n",
       "    </tr>\n",
       "    <tr>\n",
       "      <th>1</th>\n",
       "      <td>UuugEl86ESY</td>\n",
       "      <td>0.0</td>\n",
       "    </tr>\n",
       "    <tr>\n",
       "      <th>2</th>\n",
       "      <td>oB4c-yvnbjs</td>\n",
       "      <td>48.0</td>\n",
       "    </tr>\n",
       "    <tr>\n",
       "      <th>3</th>\n",
       "      <td>ZaV-gTCMV8E</td>\n",
       "      <td>6.0</td>\n",
       "    </tr>\n",
       "    <tr>\n",
       "      <th>4</th>\n",
       "      <td>cGvL7AvMfM0</td>\n",
       "      <td>5.0</td>\n",
       "    </tr>\n",
       "  </tbody>\n",
       "</table>\n",
       "</div>"
      ],
      "text/plain": [
       "    display_id  num_comms\n",
       "0  SBqSc91Hn9g        0.0\n",
       "1  UuugEl86ESY        0.0\n",
       "2  oB4c-yvnbjs       48.0\n",
       "3  ZaV-gTCMV8E        6.0\n",
       "4  cGvL7AvMfM0        5.0"
      ]
     },
     "execution_count": 4,
     "metadata": {},
     "output_type": "execute_result"
    }
   ],
   "source": [
    "num_comments.head()"
   ]
  },
  {
   "cell_type": "code",
   "execution_count": 5,
   "metadata": {},
   "outputs": [
    {
     "name": "stdout",
     "output_type": "stream",
     "text": [
      "<class 'pandas.core.frame.DataFrame'>\n",
      "RangeIndex: 72924794 entries, 0 to 72924793\n",
      "Data columns (total 2 columns):\n",
      " #   Column      Dtype  \n",
      "---  ------      -----  \n",
      " 0   display_id  object \n",
      " 1   num_comms   float64\n",
      "dtypes: float64(1), object(1)\n",
      "memory usage: 1.1+ GB\n"
     ]
    }
   ],
   "source": [
    "num_comments.info()"
   ]
  },
  {
   "cell_type": "code",
   "execution_count": 6,
   "metadata": {},
   "outputs": [
    {
     "data": {
      "text/html": [
       "<div>\n",
       "<style scoped>\n",
       "    .dataframe tbody tr th:only-of-type {\n",
       "        vertical-align: middle;\n",
       "    }\n",
       "\n",
       "    .dataframe tbody tr th {\n",
       "        vertical-align: top;\n",
       "    }\n",
       "\n",
       "    .dataframe thead th {\n",
       "        text-align: right;\n",
       "    }\n",
       "</style>\n",
       "<table border=\"1\" class=\"dataframe\">\n",
       "  <thead>\n",
       "    <tr style=\"text-align: right;\">\n",
       "      <th></th>\n",
       "      <th>num_comms</th>\n",
       "    </tr>\n",
       "  </thead>\n",
       "  <tbody>\n",
       "    <tr>\n",
       "      <th>count</th>\n",
       "      <td>7.292479e+07</td>\n",
       "    </tr>\n",
       "    <tr>\n",
       "      <th>mean</th>\n",
       "      <td>1.217165e+02</td>\n",
       "    </tr>\n",
       "    <tr>\n",
       "      <th>std</th>\n",
       "      <td>1.343391e+03</td>\n",
       "    </tr>\n",
       "    <tr>\n",
       "      <th>min</th>\n",
       "      <td>0.000000e+00</td>\n",
       "    </tr>\n",
       "    <tr>\n",
       "      <th>25%</th>\n",
       "      <td>0.000000e+00</td>\n",
       "    </tr>\n",
       "    <tr>\n",
       "      <th>50%</th>\n",
       "      <td>5.000000e+00</td>\n",
       "    </tr>\n",
       "    <tr>\n",
       "      <th>75%</th>\n",
       "      <td>3.900000e+01</td>\n",
       "    </tr>\n",
       "    <tr>\n",
       "      <th>max</th>\n",
       "      <td>1.125155e+06</td>\n",
       "    </tr>\n",
       "  </tbody>\n",
       "</table>\n",
       "</div>"
      ],
      "text/plain": [
       "          num_comms\n",
       "count  7.292479e+07\n",
       "mean   1.217165e+02\n",
       "std    1.343391e+03\n",
       "min    0.000000e+00\n",
       "25%    0.000000e+00\n",
       "50%    5.000000e+00\n",
       "75%    3.900000e+01\n",
       "max    1.125155e+06"
      ]
     },
     "execution_count": 6,
     "metadata": {},
     "output_type": "execute_result"
    }
   ],
   "source": [
    "num_comments.describe()"
   ]
  },
  {
   "cell_type": "markdown",
   "metadata": {},
   "source": [
    "> First we note that we have indeed a large dataset with more than 72 millions entries corresponding to the 72,924,794 videos created between 2005-05-24 to 2019-11-20. We may add additionnal this comments information later to the video metadat to enhance our analysis. But for the moment we can spot that these numms of comments are distributed following a heavy taile distribution as most of the mass is contains between 0 comments and 39 comments, pretty low in comparison to the max value of 1.125155e+06.\n",
    "\n",
    "-  Lets visualy look at this distribution using the ccdf on log scale of our data. "
   ]
  },
  {
   "cell_type": "code",
   "execution_count": 7,
   "metadata": {},
   "outputs": [],
   "source": [
    "sample_df = num_comments.sample(int(2e+06))"
   ]
  },
  {
   "cell_type": "code",
   "execution_count": 8,
   "metadata": {},
   "outputs": [
    {
     "name": "stderr",
     "output_type": "stream",
     "text": [
      "/var/folders/gx/b0gl84xd4rjflbpgs2bhddcc0000gp/T/ipykernel_58868/2609893468.py:3: UserWarning: \n",
      "\n",
      "`distplot` is a deprecated function and will be removed in seaborn v0.14.0.\n",
      "\n",
      "Please adapt your code to use either `displot` (a figure-level function with\n",
      "similar flexibility) or `histplot` (an axes-level function for histograms).\n",
      "\n",
      "For a guide to updating your code to use the new functions, please see\n",
      "https://gist.github.com/mwaskom/de44147ed2974457ad6372750bbe5751\n",
      "\n",
      "  sns.distplot(np.log10(num_comments.num_comms + 1), kde=False,\n"
     ]
    },
    {
     "data": {
      "image/png": "[encoded data removed]",
      "text/plain": [
       "<Figure size 640x480 with 1 Axes>"
      ]
     },
     "metadata": {},
     "output_type": "display_data"
    }
   ],
   "source": [
    "# Simple log log hist plot\n",
    "kwargs = {'cumulative': False}\n",
    "sns.distplot(np.log10(num_comments.num_comms + 1), kde=False, \n",
    "             kde_kws=kwargs, norm_hist=True)\n",
    "plt.title(\"Distribution of Log-Transformed Number of Comments\")\n",
    "plt.xlabel(r'$\\log_{10}(nbrcomments + 1)$')\n",
    "plt.ylabel(\"Frequency (Log Scale)\")\n",
    "plt.yscale('log')\n",
    "plt.show()"
   ]
  },
  {
   "cell_type": "markdown",
   "metadata": {},
   "source": [
    "> Looking at the distribution of the comments per videos we can observe that the vast majority of the videos only get a small amount of comments. This is intuitive as the majority of the Youtube video are coming from small channels that generate a small amount of views flow and then a small amount of comments. Note that as the goal of our study is to focus on large communities arount precise topics we will drop these small channels and by implication these videos with small amount of comments. For the moment we are assuming that:\n",
    "$\\textit{Large subscriber channels implies famous videos implies lots of comments.}$"
   ]
  },
  {
   "cell_type": "code",
   "execution_count": 9,
   "metadata": {},
   "outputs": [
    {
     "data": {
      "image/png": "[encoded data removed]",
      "text/plain": [
       "<Figure size 640x480 with 1 Axes>"
      ]
     },
     "metadata": {},
     "output_type": "display_data"
    }
   ],
   "source": [
    "# Visual analysis using seaborn ccdf function\n",
    "sns.ecdfplot(np.log10(num_comments.num_comms + 1), label=\"Number of comments/video\", complementary=True)\n",
    "plt.legend()\n",
    "plt.xlabel(r'$\\log_{10}(nbrcomments + 1)$')\n",
    "plt.ylabel(\"Proportion (Log Scale)\")\n",
    "plt.title(\"CCDF Nbr comments\")\n",
    "plt.show()"
   ]
  },
  {
   "cell_type": "markdown",
   "metadata": {},
   "source": [
    "- Add a ccdf plot but as the distribution is crushed by the large amount of small values this plot is intuitive."
   ]
  },
  {
   "cell_type": "code",
   "execution_count": 23,
   "metadata": {},
   "outputs": [
    {
     "data": {
      "image/png": "[encoded data removed]",
      "text/plain": [
       "<Figure size 1600x500 with 1 Axes>"
      ]
     },
     "metadata": {},
     "output_type": "display_data"
    }
   ],
   "source": [
    "# Visual invistigation of the outliers\n",
    "fig, ax = plt.subplots(figsize=(16, 5))\n",
    "\n",
    "# Create the box plot with data transformation and hiding outliers\n",
    "ax.boxplot(np.log10(num_comments.num_comms + 1), showfliers=True, vert=False)\n",
    "\n",
    "# Customize the plot\n",
    "ax.set_yticks([])\n",
    "ax.set_xlabel(\"Log(Number of Comments, base 10)\")\n",
    "ax.set_title(\"Box Plot of Log-transformed Number of Comments\")\n",
    "\n",
    "# Show the plot\n",
    "plt.show()"
   ]
  },
  {
   "cell_type": "markdown",
   "metadata": {},
   "source": [
    "- Lets see the number of videos with number of comments above $10^4$"
   ]
  },
  {
   "cell_type": "code",
   "execution_count": 24,
   "metadata": {},
   "outputs": [
    {
     "name": "stdout",
     "output_type": "stream",
     "text": [
      "Number of videos with more than 10,000 comments: 83304\n"
     ]
    }
   ],
   "source": [
    "num_videos_with_more_than_10k_comments = len(num_comments[num_comments['num_comms'] > 1e4])\n",
    "\n",
    "print(f\"Number of videos with more than 10,000 comments: {num_videos_with_more_than_10k_comments}\")"
   ]
  },
  {
   "cell_type": "markdown",
   "metadata": {},
   "source": [
    "> Which result in at least 800 millions comments in total but not enough videos and we could inspect their categories but they certainly come from all the same category => music(e.g Luis Fonsi - Despacito ft. Daddy Yankee got 4millions comments)."
   ]
  },
  {
   "cell_type": "code",
   "execution_count": 26,
   "metadata": {},
   "outputs": [
    {
     "name": "stdout",
     "output_type": "stream",
     "text": [
      "Number of videos with more than 30 comments: 15940203\n"
     ]
    }
   ],
   "source": [
    "num_videos_with_more_than_30_comments = len(num_comments[num_comments['num_comms'] > 30])\n",
    "\n",
    "print(f\"Number of videos with more than 30 comments: {num_videos_with_more_than_30_comments}\")"
   ]
  },
  {
   "cell_type": "markdown",
   "metadata": {},
   "source": [
    "> Like in the paper and after further invistigation on youtube comments section we approve the fact that keeping the videos with at least 30 comments is a good threshold as a videos with 50 comments may produce 50k views which is good. "
   ]
  },
  {
   "cell_type": "markdown",
   "metadata": {},
   "source": [
    "> A good research would be to look how the categories the views and num of comments are related."
   ]
  },
  {
   "cell_type": "markdown",
   "metadata": {},
   "source": [
    "### 2. Authors comments dataset"
   ]
  },
  {
   "cell_type": "code",
   "execution_count": 27,
   "metadata": {},
   "outputs": [
    {
     "name": "stdout",
     "output_type": "stream",
     "text": [
      "<class 'pandas.core.frame.DataFrame'>\n",
      "RangeIndex: 448810483 entries, 0 to 448810482\n",
      "Data columns (total 2 columns):\n",
      " #   Column    Dtype\n",
      "---  ------    -----\n",
      " 0   author    int64\n",
      " 1   video_id  int64\n",
      "dtypes: int64(2)\n",
      "memory usage: 6.7 GB\n"
     ]
    }
   ],
   "source": [
    "num_comments_authors.info()"
   ]
  },
  {
   "cell_type": "markdown",
   "metadata": {},
   "source": [
    "> video_id to refer as the numer of comments doesn't have much sense lets replace it simply by \"number_comm\""
   ]
  },
  {
   "cell_type": "code",
   "execution_count": 12,
   "metadata": {},
   "outputs": [
    {
     "data": {
      "text/html": [
       "<div>\n",
       "<style scoped>\n",
       "    .dataframe tbody tr th:only-of-type {\n",
       "        vertical-align: middle;\n",
       "    }\n",
       "\n",
       "    .dataframe tbody tr th {\n",
       "        vertical-align: top;\n",
       "    }\n",
       "\n",
       "    .dataframe thead th {\n",
       "        text-align: right;\n",
       "    }\n",
       "</style>\n",
       "<table border=\"1\" class=\"dataframe\">\n",
       "  <thead>\n",
       "    <tr style=\"text-align: right;\">\n",
       "      <th></th>\n",
       "      <th>author</th>\n",
       "      <th>video_id</th>\n",
       "    </tr>\n",
       "  </thead>\n",
       "  <tbody>\n",
       "    <tr>\n",
       "      <th>count</th>\n",
       "      <td>4.488105e+08</td>\n",
       "      <td>4.488105e+08</td>\n",
       "    </tr>\n",
       "    <tr>\n",
       "      <th>mean</th>\n",
       "      <td>2.882777e+08</td>\n",
       "      <td>1.917428e+01</td>\n",
       "    </tr>\n",
       "    <tr>\n",
       "      <th>std</th>\n",
       "      <td>1.664337e+08</td>\n",
       "      <td>1.406534e+02</td>\n",
       "    </tr>\n",
       "    <tr>\n",
       "      <th>min</th>\n",
       "      <td>1.000000e+00</td>\n",
       "      <td>1.000000e+00</td>\n",
       "    </tr>\n",
       "    <tr>\n",
       "      <th>25%</th>\n",
       "      <td>1.441397e+08</td>\n",
       "      <td>1.000000e+00</td>\n",
       "    </tr>\n",
       "    <tr>\n",
       "      <th>50%</th>\n",
       "      <td>2.882794e+08</td>\n",
       "      <td>2.000000e+00</td>\n",
       "    </tr>\n",
       "    <tr>\n",
       "      <th>75%</th>\n",
       "      <td>4.324085e+08</td>\n",
       "      <td>8.000000e+00</td>\n",
       "    </tr>\n",
       "    <tr>\n",
       "      <th>max</th>\n",
       "      <td>5.765520e+08</td>\n",
       "      <td>3.520200e+05</td>\n",
       "    </tr>\n",
       "  </tbody>\n",
       "</table>\n",
       "</div>"
      ],
      "text/plain": [
       "             author      video_id\n",
       "count  4.488105e+08  4.488105e+08\n",
       "mean   2.882777e+08  1.917428e+01\n",
       "std    1.664337e+08  1.406534e+02\n",
       "min    1.000000e+00  1.000000e+00\n",
       "25%    1.441397e+08  1.000000e+00\n",
       "50%    2.882794e+08  2.000000e+00\n",
       "75%    4.324085e+08  8.000000e+00\n",
       "max    5.765520e+08  3.520200e+05"
      ]
     },
     "execution_count": 12,
     "metadata": {},
     "output_type": "execute_result"
    }
   ],
   "source": [
    "num_comments_authors.describe()"
   ]
  },
  {
   "cell_type": "code",
   "execution_count": 2,
   "metadata": {},
   "outputs": [],
   "source": [
    "sorted_df = pd.read_parquet('data/num_comments_authors_sorted.parquet')"
   ]
  },
  {
   "cell_type": "code",
   "execution_count": 3,
   "metadata": {},
   "outputs": [],
   "source": [
    "sorted_df = sorted_df.rename(columns={'video_id': 'number_comm'})"
   ]
  },
  {
   "cell_type": "code",
   "execution_count": 4,
   "metadata": {},
   "outputs": [
    {
     "name": "stdout",
     "output_type": "stream",
     "text": [
      "<class 'pandas.core.frame.DataFrame'>\n",
      "RangeIndex: 448810483 entries, 0 to 448810482\n",
      "Data columns (total 2 columns):\n",
      " #   Column       Dtype\n",
      "---  ------       -----\n",
      " 0   author       int64\n",
      " 1   number_comm  int64\n",
      "dtypes: int64(2)\n",
      "memory usage: 6.7 GB\n"
     ]
    }
   ],
   "source": [
    "sorted_df.info()"
   ]
  },
  {
   "cell_type": "code",
   "execution_count": 38,
   "metadata": {},
   "outputs": [
    {
     "data": {
      "text/html": [
       "<div>\n",
       "<style scoped>\n",
       "    .dataframe tbody tr th:only-of-type {\n",
       "        vertical-align: middle;\n",
       "    }\n",
       "\n",
       "    .dataframe tbody tr th {\n",
       "        vertical-align: top;\n",
       "    }\n",
       "\n",
       "    .dataframe thead th {\n",
       "        text-align: right;\n",
       "    }\n",
       "</style>\n",
       "<table border=\"1\" class=\"dataframe\">\n",
       "  <thead>\n",
       "    <tr style=\"text-align: right;\">\n",
       "      <th></th>\n",
       "      <th>author</th>\n",
       "      <th>number_comm</th>\n",
       "    </tr>\n",
       "  </thead>\n",
       "  <tbody>\n",
       "    <tr>\n",
       "      <th>0</th>\n",
       "      <td>157898414</td>\n",
       "      <td>352020</td>\n",
       "    </tr>\n",
       "    <tr>\n",
       "      <th>1</th>\n",
       "      <td>309188934</td>\n",
       "      <td>285379</td>\n",
       "    </tr>\n",
       "    <tr>\n",
       "      <th>2</th>\n",
       "      <td>133567048</td>\n",
       "      <td>255775</td>\n",
       "    </tr>\n",
       "    <tr>\n",
       "      <th>3</th>\n",
       "      <td>472447001</td>\n",
       "      <td>202561</td>\n",
       "    </tr>\n",
       "    <tr>\n",
       "      <th>4</th>\n",
       "      <td>224828975</td>\n",
       "      <td>193858</td>\n",
       "    </tr>\n",
       "  </tbody>\n",
       "</table>\n",
       "</div>"
      ],
      "text/plain": [
       "      author  number_comm\n",
       "0  157898414       352020\n",
       "1  309188934       285379\n",
       "2  133567048       255775\n",
       "3  472447001       202561\n",
       "4  224828975       193858"
      ]
     },
     "execution_count": 38,
     "metadata": {},
     "output_type": "execute_result"
    }
   ],
   "source": [
    "sorted_df.head()"
   ]
  },
  {
   "cell_type": "markdown",
   "metadata": {},
   "source": [
    "> Like we did previously lets look at the distribution of the data"
   ]
  },
  {
   "cell_type": "code",
   "execution_count": 5,
   "metadata": {},
   "outputs": [
    {
     "name": "stderr",
     "output_type": "stream",
     "text": [
      "/var/folders/gx/b0gl84xd4rjflbpgs2bhddcc0000gp/T/ipykernel_85559/2885305410.py:3: UserWarning: \n",
      "\n",
      "`distplot` is a deprecated function and will be removed in seaborn v0.14.0.\n",
      "\n",
      "Please adapt your code to use either `displot` (a figure-level function with\n",
      "similar flexibility) or `histplot` (an axes-level function for histograms).\n",
      "\n",
      "For a guide to updating your code to use the new functions, please see\n",
      "https://gist.github.com/mwaskom/de44147ed2974457ad6372750bbe5751\n",
      "\n",
      "  sns.distplot(np.log10(sorted_df.number_comm + 1), kde=False,\n"
     ]
    },
    {
     "data": {
      "image/png": "[encoded data removed]",
      "text/plain": [
       "<Figure size 640x480 with 1 Axes>"
      ]
     },
     "metadata": {},
     "output_type": "display_data"
    }
   ],
   "source": [
    "# Simple log log hist plot\n",
    "kwargs = {'cumulative': False}\n",
    "sns.distplot(np.log10(sorted_df.number_comm + 1), kde=False, \n",
    "             kde_kws=kwargs, norm_hist=True)\n",
    "plt.title(\"Distribution of Log-Transformed Number of Comments\")\n",
    "plt.xlabel(r'$\\log_{10}(nbrcomments + 1)$')\n",
    "plt.ylabel(\"Frequency (Log Scale)\")\n",
    "plt.yscale('log')\n",
    "plt.show()"
   ]
  },
  {
   "cell_type": "code",
   "execution_count": 6,
   "metadata": {},
   "outputs": [
    {
     "data": {
      "image/png": "[encoded data removed]",
      "text/plain": [
       "<Figure size 1600x500 with 1 Axes>"
      ]
     },
     "metadata": {},
     "output_type": "display_data"
    }
   ],
   "source": [
    "# Visual invistigation of the outliers\n",
    "fig, ax = plt.subplots(figsize=(16, 5))\n",
    "\n",
    "# Create the box plot with data transformation and hiding outliers\n",
    "box = ax.boxplot(np.log10(sorted_df.number_comm + 1), showfliers=True, vert=False)\n",
    "\n",
    "# Customize the plot\n",
    "ax.set_yticks([])\n",
    "ax.set_xlabel(\"Log(Number of Comments, base 10)\")\n",
    "ax.set_title(\"Box Plot of Log-transformed Number of Comments\")\n",
    "\n",
    "# Show the plot\n",
    "plt.show()"
   ]
  },
  {
   "cell_type": "markdown",
   "metadata": {},
   "source": [
    "> Here the analysis of the outliers is more interesting. First we can observe that some small group of authors are out on high values (note that in our case as we are using a log scale a small space between points represent a big gap). Moreover the boundary of the flyers on the box plot is lower than what we had with the video. Lets count the number of authors that are represented as flyers, there number of comments (descibe())"
   ]
  },
  {
   "cell_type": "code",
   "execution_count": 29,
   "metadata": {},
   "outputs": [],
   "source": [
    "# Extract the fliers\n",
    "fliers = [10**f.get_xdata() for f in box['fliers']][0]\n",
    "heavy_authors = pd.DataFrame({'num_comms': fliers})"
   ]
  },
  {
   "cell_type": "code",
   "execution_count": 30,
   "metadata": {},
   "outputs": [
    {
     "data": {
      "text/html": [
       "<div>\n",
       "<style scoped>\n",
       "    .dataframe tbody tr th:only-of-type {\n",
       "        vertical-align: middle;\n",
       "    }\n",
       "\n",
       "    .dataframe tbody tr th {\n",
       "        vertical-align: top;\n",
       "    }\n",
       "\n",
       "    .dataframe thead th {\n",
       "        text-align: right;\n",
       "    }\n",
       "</style>\n",
       "<table border=\"1\" class=\"dataframe\">\n",
       "  <thead>\n",
       "    <tr style=\"text-align: right;\">\n",
       "      <th></th>\n",
       "      <th>num_comms</th>\n",
       "    </tr>\n",
       "  </thead>\n",
       "  <tbody>\n",
       "    <tr>\n",
       "      <th>count</th>\n",
       "      <td>1.829860e+07</td>\n",
       "    </tr>\n",
       "    <tr>\n",
       "      <th>mean</th>\n",
       "      <td>2.988613e+02</td>\n",
       "    </tr>\n",
       "    <tr>\n",
       "      <th>std</th>\n",
       "      <td>6.327638e+02</td>\n",
       "    </tr>\n",
       "    <tr>\n",
       "      <th>min</th>\n",
       "      <td>8.600000e+01</td>\n",
       "    </tr>\n",
       "    <tr>\n",
       "      <th>25%</th>\n",
       "      <td>1.130000e+02</td>\n",
       "    </tr>\n",
       "    <tr>\n",
       "      <th>50%</th>\n",
       "      <td>1.640000e+02</td>\n",
       "    </tr>\n",
       "    <tr>\n",
       "      <th>75%</th>\n",
       "      <td>2.910000e+02</td>\n",
       "    </tr>\n",
       "    <tr>\n",
       "      <th>max</th>\n",
       "      <td>3.520210e+05</td>\n",
       "    </tr>\n",
       "  </tbody>\n",
       "</table>\n",
       "</div>"
      ],
      "text/plain": [
       "          num_comms\n",
       "count  1.829860e+07\n",
       "mean   2.988613e+02\n",
       "std    6.327638e+02\n",
       "min    8.600000e+01\n",
       "25%    1.130000e+02\n",
       "50%    1.640000e+02\n",
       "75%    2.910000e+02\n",
       "max    3.520210e+05"
      ]
     },
     "execution_count": 30,
     "metadata": {},
     "output_type": "execute_result"
    }
   ],
   "source": [
    "heavy_authors.describe()"
   ]
  },
  {
   "cell_type": "code",
   "execution_count": 31,
   "metadata": {},
   "outputs": [
    {
     "data": {
      "text/plain": [
       "5468744612.0"
      ]
     },
     "execution_count": 31,
     "metadata": {},
     "output_type": "execute_result"
    }
   ],
   "source": [
    "heavy_authors.num_comms.sum()"
   ]
  },
  {
   "cell_type": "code",
   "execution_count": 40,
   "metadata": {},
   "outputs": [],
   "source": [
    "top_1million = heavy_authors.head(1000000)"
   ]
  },
  {
   "cell_type": "code",
   "execution_count": 41,
   "metadata": {},
   "outputs": [
    {
     "data": {
      "text/plain": [
       "1763726159.0"
      ]
     },
     "execution_count": 41,
     "metadata": {},
     "output_type": "execute_result"
    }
   ],
   "source": [
    "top_1million.num_comms.sum()"
   ]
  },
  {
   "cell_type": "markdown",
   "metadata": {},
   "source": [
    "> We are still with a large amount of comments more than 5billions."
   ]
  },
  {
   "cell_type": "code",
   "execution_count": 32,
   "metadata": {},
   "outputs": [
    {
     "name": "stdout",
     "output_type": "stream",
     "text": [
      "<class 'pandas.core.frame.DataFrame'>\n",
      "RangeIndex: 18298605 entries, 0 to 18298604\n",
      "Data columns (total 1 columns):\n",
      " #   Column     Dtype  \n",
      "---  ------     -----  \n",
      " 0   num_comms  float64\n",
      "dtypes: float64(1)\n",
      "memory usage: 139.6 MB\n"
     ]
    }
   ],
   "source": [
    "heavy_authors.info()"
   ]
  },
  {
   "cell_type": "code",
   "execution_count": 33,
   "metadata": {},
   "outputs": [
    {
     "data": {
      "text/plain": [
       "18298605"
      ]
     },
     "execution_count": 33,
     "metadata": {},
     "output_type": "execute_result"
    }
   ],
   "source": [
    "len(heavy_authors)"
   ]
  },
  {
   "cell_type": "code",
   "execution_count": 34,
   "metadata": {},
   "outputs": [
    {
     "name": "stdout",
     "output_type": "stream",
     "text": [
      "<class 'pandas.core.frame.DataFrame'>\n",
      "RangeIndex: 18298605 entries, 0 to 18298604\n",
      "Data columns (total 2 columns):\n",
      " #   Column       Dtype\n",
      "---  ------       -----\n",
      " 0   author       int64\n",
      " 1   number_comm  int64\n",
      "dtypes: int64(2)\n",
      "memory usage: 279.2 MB\n"
     ]
    }
   ],
   "source": [
    "top_commenters = sorted_df.head(len(heavy_authors))\n",
    "top_commenters.info()"
   ]
  },
  {
   "cell_type": "code",
   "execution_count": 37,
   "metadata": {},
   "outputs": [],
   "source": [
    "# save the top commenters\n",
    "top_commenters.to_parquet(path='data/top_commenters.parquet')"
   ]
  },
  {
   "cell_type": "markdown",
   "metadata": {},
   "source": [
    "> The outliers correspond to 18millions authors which is small in comparison to the 449millions (4% of all the authors), but for our analysis as we want to analyse communities it makes sense to restrict our self to these 18millions users that are the one that comments more so tend to be more active in a communities than authors that just comments once."
   ]
  },
  {
   "cell_type": "code",
   "execution_count": 24,
   "metadata": {},
   "outputs": [
    {
     "name": "stderr",
     "output_type": "stream",
     "text": [
      "/var/folders/gx/b0gl84xd4rjflbpgs2bhddcc0000gp/T/ipykernel_59640/1761025676.py:3: UserWarning: \n",
      "\n",
      "`distplot` is a deprecated function and will be removed in seaborn v0.14.0.\n",
      "\n",
      "Please adapt your code to use either `displot` (a figure-level function with\n",
      "similar flexibility) or `histplot` (an axes-level function for histograms).\n",
      "\n",
      "For a guide to updating your code to use the new functions, please see\n",
      "https://gist.github.com/mwaskom/de44147ed2974457ad6372750bbe5751\n",
      "\n",
      "  sns.distplot(np.log10(heavy_authors.num_comms + 1), kde=False,\n"
     ]
    },
    {
     "data": {
      "image/png": "[encoded data removed]",
      "text/plain": [
       "<Figure size 640x480 with 1 Axes>"
      ]
     },
     "metadata": {},
     "output_type": "display_data"
    }
   ],
   "source": [
    "# Simple log log hist plot\n",
    "kwargs = {'cumulative': False}\n",
    "sns.distplot(np.log10(heavy_authors.num_comms + 1), kde=False, \n",
    "             kde_kws=kwargs, norm_hist=True)\n",
    "plt.title(\"Distribution of Log-Transformed Number of Comments\")\n",
    "plt.xlabel(r'$\\log_{10}(nbrcomments + 1)$')\n",
    "plt.ylabel(\"Frequency\")\n",
    "# plt.y/scale('log')\n",
    "plt.show()"
   ]
  },
  {
   "cell_type": "markdown",
   "metadata": {},
   "source": [
    "> Continuation of the research: take the general comments_df, filter only the 18 millions authors highlighted previously, invistigate users with extreme nbr of comment (more than 10k) to keep only real user and avoir possible bots comments, then build using yt_metadata a df that combine these authors with the videos they commented on, but before we have to reduce the number of comments we have either by filtering the videos that we will use and drop all related comments or reduce the size of authors."
   ]
  }
 ],
 "metadata": {
  "kernelspec": {
   "display_name": "DataScience",
   "language": "python",
   "name": "python3"
  },
  "language_info": {
   "codemirror_mode": {
    "name": "ipython",
    "version": 3
   },
   "file_extension": ".py",
   "mimetype": "text/x-python",
   "name": "python",
   "nbconvert_exporter": "python",
   "pygments_lexer": "ipython3",
   "version": "3.11.4"
  },
  "orig_nbformat": 4
 },
 "nbformat": 4,
 "nbformat_minor": 2
}
